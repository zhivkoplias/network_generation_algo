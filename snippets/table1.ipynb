{
 "cells": [
  {
   "cell_type": "markdown",
   "metadata": {},
   "source": [
    "## Import libs, set paths and load params"
   ]
  },
  {
   "cell_type": "code",
   "execution_count": 1,
   "metadata": {},
   "outputs": [],
   "source": [
    "import os\n",
    "import numpy as np\n",
    "import pandas as pd\n",
    "import sys\n",
    "sys.path.insert(0, \"../src\")\n",
    "\n",
    "import auxilary_functions as f"
   ]
  },
  {
   "cell_type": "markdown",
   "metadata": {},
   "source": [
    "## Convert raw data to adjacency matrices"
   ]
  },
  {
   "cell_type": "code",
   "execution_count": 2,
   "metadata": {},
   "outputs": [],
   "source": [
    "#ecoli\n",
    "df = f.read_ecoli_network(\"../data/ori/ecoli/network_tf_gene.txt\")\n",
    "edges = df[[1, 3]]\n",
    "edges.columns = [\"tf\", \"tg\"]\n",
    "edges.tf = edges.tf.apply(lambda x: x.lower())\n",
    "edges.tg = edges.tg.apply(lambda x: x.lower())\n",
    "nodes = sorted(np.unique(np.concatenate((edges.tf.unique(), edges.tg.unique()))))\n",
    "nodes = pd.DataFrame(data=range(len(nodes)), index=nodes, columns=[\"idx\"])\n",
    "edges_ = edges.join(nodes, on=\"tf\").join(nodes, on=\"tg\", lsuffix=\"_tf\", rsuffix=\"_tg\")\n",
    "np_edges = edges_[[\"idx_tg\", \"idx_tf\"]].values\n",
    "interaction_matrix_ecoli = f.build_Tnet(np_edges, len(nodes))"
   ]
  },
  {
   "cell_type": "code",
   "execution_count": 3,
   "metadata": {},
   "outputs": [],
   "source": [
    "#yeast\n",
    "edges = pd.read_csv(\"../data/ori/yeast/tnet.txt\", sep=\"\\t\")\n",
    "nodes = sorted(np.unique(np.concatenate((edges.Tf.unique(), edges.Tg.unique()))))\n",
    "nodes = pd.DataFrame(data=range(len(nodes)), index=nodes, columns=[\"idx\"])\n",
    "edges_ = edges.join(nodes, on=\"Tf\").join(nodes, on=\"Tg\", lsuffix=\"_tf\", rsuffix=\"_tg\")\n",
    "np_edges = edges_[[\"idx_tg\", \"idx_tf\"]].values\n",
    "interaction_matrix_yeast = f.build_Tnet(np_edges, len(nodes))"
   ]
  },
  {
   "cell_type": "code",
   "execution_count": 4,
   "metadata": {},
   "outputs": [],
   "source": [
    "#mouse\n",
    "edges = pd.read_csv((\"../data/ori/trrust/trrust_rawdata.mouse.tsv\"), sep=\"\\t\", header=None)[[0, 1]]\n",
    "edges.columns = [\"Tf\", \"Tg\"]\n",
    "nodes = sorted(np.unique(np.concatenate((edges.Tf.unique(), edges.Tg.unique()))))\n",
    "nodes = pd.DataFrame(data=range(len(nodes)), index=nodes, columns=[\"idx\"])\n",
    "edges_ = edges.join(nodes, on=\"Tf\").join(nodes, on=\"Tg\", lsuffix=\"_tf\", rsuffix=\"_tg\")\n",
    "np_edges = edges_[[\"idx_tg\", \"idx_tf\"]].values\n",
    "interaction_matrix_mouse = f.build_Tnet(np_edges, len(nodes))"
   ]
  },
  {
   "cell_type": "code",
   "execution_count": 5,
   "metadata": {},
   "outputs": [],
   "source": [
    "#human\n",
    "edges = pd.read_csv((\"../data/ori/trrust/trrust_rawdata.human.tsv\"), sep=\"\\t\", header=None)[[0, 1]]\n",
    "edges.columns = [\"Tf\", \"Tg\"]\n",
    "nodes = sorted(np.unique(np.concatenate((edges.Tf.unique(), edges.Tg.unique()))))\n",
    "nodes = pd.DataFrame(data=range(len(nodes)), index=nodes, columns=[\"idx\"])\n",
    "edges_ = edges.join(nodes, on=\"Tf\").join(nodes, on=\"Tg\", lsuffix=\"_tf\", rsuffix=\"_tg\")\n",
    "np_edges = edges_[[\"idx_tg\", \"idx_tf\"]].values\n",
    "interaction_matrix_human = f.build_Tnet(np_edges, len(nodes))"
   ]
  },
  {
   "cell_type": "markdown",
   "metadata": {},
   "source": [
    "## Create table"
   ]
  },
  {
   "cell_type": "code",
   "execution_count": 6,
   "metadata": {},
   "outputs": [
    {
     "data": {
      "text/html": [
       "<div>\n",
       "<style scoped>\n",
       "    .dataframe tbody tr th:only-of-type {\n",
       "        vertical-align: middle;\n",
       "    }\n",
       "\n",
       "    .dataframe tbody tr th {\n",
       "        vertical-align: top;\n",
       "    }\n",
       "\n",
       "    .dataframe thead th {\n",
       "        text-align: right;\n",
       "    }\n",
       "</style>\n",
       "<table border=\"1\" class=\"dataframe\">\n",
       "  <thead>\n",
       "    <tr style=\"text-align: right;\">\n",
       "      <th></th>\n",
       "      <th>ffl_node_participation</th>\n",
       "      <th>sparsity</th>\n",
       "      <th>in-degree</th>\n",
       "      <th>out-degree</th>\n",
       "      <th>organism</th>\n",
       "    </tr>\n",
       "  </thead>\n",
       "  <tbody>\n",
       "    <tr>\n",
       "      <th>0</th>\n",
       "      <td>1392</td>\n",
       "      <td>2.328</td>\n",
       "      <td>1.106</td>\n",
       "      <td>1.222</td>\n",
       "      <td>e.coli</td>\n",
       "    </tr>\n",
       "    <tr>\n",
       "      <th>1</th>\n",
       "      <td>3370</td>\n",
       "      <td>2.899</td>\n",
       "      <td>1.421</td>\n",
       "      <td>1.477</td>\n",
       "      <td>yeast</td>\n",
       "    </tr>\n",
       "    <tr>\n",
       "      <th>2</th>\n",
       "      <td>1956</td>\n",
       "      <td>2.643</td>\n",
       "      <td>1.274</td>\n",
       "      <td>1.369</td>\n",
       "      <td>mouse</td>\n",
       "    </tr>\n",
       "    <tr>\n",
       "      <th>3</th>\n",
       "      <td>4152</td>\n",
       "      <td>2.944</td>\n",
       "      <td>1.364</td>\n",
       "      <td>1.580</td>\n",
       "      <td>human</td>\n",
       "    </tr>\n",
       "  </tbody>\n",
       "</table>\n",
       "</div>"
      ],
      "text/plain": [
       "   ffl_node_participation  sparsity  in-degree  out-degree organism\n",
       "0                    1392     2.328      1.106       1.222   e.coli\n",
       "1                    3370     2.899      1.421       1.477    yeast\n",
       "2                    1956     2.643      1.274       1.369    mouse\n",
       "3                    4152     2.944      1.364       1.580    human"
      ]
     },
     "execution_count": 6,
     "metadata": {},
     "output_type": "execute_result"
    }
   ],
   "source": [
    "cfg = f.get_actual_parametrization(\"../src/config.json\")\n",
    "table1 = pd.DataFrame([f.collect_topological_parameters(cfg,interaction_matrix_ecoli, 'e.coli'),\n",
    "                      f.collect_topological_parameters(cfg,interaction_matrix_yeast, 'yeast'),\n",
    "                      f.collect_topological_parameters(cfg,interaction_matrix_mouse, 'mouse'),\n",
    "                      f.collect_topological_parameters(cfg,interaction_matrix_human, 'human')], \n",
    "                  columns = ['ffl_node_participation' , 'sparsity', 'in-degree' , 'out-degree', 'organism']) \n",
    "\n",
    "table1.to_csv(\"../results/tables/table1.tsv\", sep=\"\\t\", index=False)\n",
    "table1"
   ]
  },
  {
   "cell_type": "code",
   "execution_count": null,
   "metadata": {},
   "outputs": [],
   "source": []
  }
 ],
 "metadata": {
  "kernelspec": {
   "display_name": "Python 3",
   "language": "python",
   "name": "python3"
  },
  "language_info": {
   "codemirror_mode": {
    "name": "ipython",
    "version": 3
   },
   "file_extension": ".py",
   "mimetype": "text/x-python",
   "name": "python",
   "nbconvert_exporter": "python",
   "pygments_lexer": "ipython3",
   "version": "3.7.10"
  }
 },
 "nbformat": 4,
 "nbformat_minor": 4
}
