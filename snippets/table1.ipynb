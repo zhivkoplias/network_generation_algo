{
 "cells": [
  {
   "cell_type": "markdown",
   "metadata": {},
   "source": [
    "## Import libs, set paths and load params"
   ]
  },
  {
   "cell_type": "code",
   "execution_count": 1,
   "metadata": {},
   "outputs": [],
   "source": [
    "import os\n",
    "import numpy as np\n",
    "import pandas as pd\n",
    "import sys\n",
    "sys.path.insert(0, \"../src\")\n",
    "\n",
    "import auxilary_functions as f"
   ]
  },
  {
   "cell_type": "markdown",
   "metadata": {},
   "source": [
    "## Convert raw data to adjacency matrices"
   ]
  },
  {
   "cell_type": "code",
   "execution_count": 2,
   "metadata": {},
   "outputs": [],
   "source": [
    "#ecoli\n",
    "df = f.read_ecoli_network(\"../data/ori/ecoli/network_tf_gene.txt\")\n",
    "edges = df[[1, 3]]\n",
    "edges.columns = [\"tf\", \"tg\"]\n",
    "edges.tf = edges.tf.apply(lambda x: x.lower())\n",
    "edges.tg = edges.tg.apply(lambda x: x.lower())\n",
    "nodes = sorted(np.unique(np.concatenate((edges.tf.unique(), edges.tg.unique()))))\n",
    "nodes = pd.DataFrame(data=range(len(nodes)), index=nodes, columns=[\"idx\"])\n",
    "edges_ = edges.join(nodes, on=\"tf\").join(nodes, on=\"tg\", lsuffix=\"_tf\", rsuffix=\"_tg\")\n",
    "np_edges = edges_[[\"idx_tg\", \"idx_tf\"]].values\n",
    "interaction_matrix_ecoli = f.build_Tnet(np_edges, len(nodes))"
   ]
  },
  {
   "cell_type": "code",
   "execution_count": 36,
   "metadata": {},
   "outputs": [
    {
     "name": "stdout",
     "output_type": "stream",
     "text": [
      "number of genes with 0 regulators: 370\n",
      "number of genes with 1 regulators: 1075\n",
      "number of genes with 2 regulators: 507\n",
      "number of genes with 3 regulators: 271\n",
      "number of genes with 4 regulators: 181\n",
      "number of genes with 5 regulators: 121\n",
      "number of genes with 6 regulators: 57\n",
      "number of genes with 7 regulators: 57\n",
      "number of genes with 8 regulators: 39\n",
      "number of genes with 9 regulators: 28\n",
      "number of genes with 10 regulators: 23\n",
      "number of genes with 11 regulators: 23\n",
      "number of genes with 12 regulators: 20\n",
      "number of genes with 13 regulators: 10\n",
      "number of genes with 14 regulators: 11\n",
      "number of genes with 15 regulators: 10\n",
      "number of genes with 16 regulators: 7\n",
      "number of genes with 17 regulators: 5\n",
      "number of genes with 18 regulators: 2\n",
      "number of genes with 19 regulators: 3\n"
     ]
    }
   ],
   "source": [
    "import networkx as nx\n",
    "interaction_matrix_graph = nx.DiGraph(interaction_matrix_human)\n",
    "degree_list_test = sorted([d for n, d in interaction_matrix_graph.out_degree], reverse=True)\n",
    "\n",
    "counts = {item:degree_list_test.count(item) for item in degree_list_test}\n",
    "\n",
    "for i in range(20):\n",
    "    print(f\"number of genes with {i} regulators: {counts.get(i)}\")"
   ]
  },
  {
   "cell_type": "code",
   "execution_count": 30,
   "metadata": {},
   "outputs": [],
   "source": [
    "#yeast\n",
    "edges = pd.read_csv(\"../data/ori/yeast/tnet.txt\", sep=\"\\t\")\n",
    "nodes = sorted(np.unique(np.concatenate((edges.Tf.unique(), edges.Tg.unique()))))\n",
    "nodes = pd.DataFrame(data=range(len(nodes)), index=nodes, columns=[\"idx\"])\n",
    "edges_ = edges.join(nodes, on=\"Tf\").join(nodes, on=\"Tg\", lsuffix=\"_tf\", rsuffix=\"_tg\")\n",
    "np_edges = edges_[[\"idx_tg\", \"idx_tf\"]].values\n",
    "interaction_matrix_yeast = f.build_Tnet(np_edges, len(nodes))"
   ]
  },
  {
   "cell_type": "code",
   "execution_count": 31,
   "metadata": {},
   "outputs": [],
   "source": [
    "#mouse\n",
    "edges = pd.read_csv((\"../data/ori/trrust/trrust_rawdata.mouse.tsv\"), sep=\"\\t\", header=None)[[0, 1]]\n",
    "edges.columns = [\"Tf\", \"Tg\"]\n",
    "nodes = sorted(np.unique(np.concatenate((edges.Tf.unique(), edges.Tg.unique()))))\n",
    "nodes = pd.DataFrame(data=range(len(nodes)), index=nodes, columns=[\"idx\"])\n",
    "edges_ = edges.join(nodes, on=\"Tf\").join(nodes, on=\"Tg\", lsuffix=\"_tf\", rsuffix=\"_tg\")\n",
    "np_edges = edges_[[\"idx_tg\", \"idx_tf\"]].values\n",
    "interaction_matrix_mouse = f.build_Tnet(np_edges, len(nodes))"
   ]
  },
  {
   "cell_type": "code",
   "execution_count": 32,
   "metadata": {},
   "outputs": [],
   "source": [
    "#human\n",
    "edges = pd.read_csv((\"../data/ori/trrust/trrust_rawdata.human.tsv\"), sep=\"\\t\", header=None)[[0, 1]]\n",
    "edges.columns = [\"Tf\", \"Tg\"]\n",
    "nodes = sorted(np.unique(np.concatenate((edges.Tf.unique(), edges.Tg.unique()))))\n",
    "nodes = pd.DataFrame(data=range(len(nodes)), index=nodes, columns=[\"idx\"])\n",
    "edges_ = edges.join(nodes, on=\"Tf\").join(nodes, on=\"Tg\", lsuffix=\"_tf\", rsuffix=\"_tg\")\n",
    "np_edges = edges_[[\"idx_tg\", \"idx_tf\"]].values\n",
    "interaction_matrix_human = f.build_Tnet(np_edges, len(nodes))"
   ]
  },
  {
   "cell_type": "markdown",
   "metadata": {},
   "source": [
    "## Create table"
   ]
  },
  {
   "cell_type": "code",
   "execution_count": 6,
   "metadata": {},
   "outputs": [
    {
     "data": {
      "text/html": [
       "<div>\n",
       "<style scoped>\n",
       "    .dataframe tbody tr th:only-of-type {\n",
       "        vertical-align: middle;\n",
       "    }\n",
       "\n",
       "    .dataframe tbody tr th {\n",
       "        vertical-align: top;\n",
       "    }\n",
       "\n",
       "    .dataframe thead th {\n",
       "        text-align: right;\n",
       "    }\n",
       "</style>\n",
       "<table border=\"1\" class=\"dataframe\">\n",
       "  <thead>\n",
       "    <tr style=\"text-align: right;\">\n",
       "      <th></th>\n",
       "      <th>ffl_node_participation</th>\n",
       "      <th>sparsity</th>\n",
       "      <th>in-degree</th>\n",
       "      <th>out-degree</th>\n",
       "      <th>organism</th>\n",
       "    </tr>\n",
       "  </thead>\n",
       "  <tbody>\n",
       "    <tr>\n",
       "      <th>0</th>\n",
       "      <td>1392</td>\n",
       "      <td>2.328</td>\n",
       "      <td>1.106</td>\n",
       "      <td>1.222</td>\n",
       "      <td>e.coli</td>\n",
       "    </tr>\n",
       "    <tr>\n",
       "      <th>1</th>\n",
       "      <td>3370</td>\n",
       "      <td>2.899</td>\n",
       "      <td>1.421</td>\n",
       "      <td>1.477</td>\n",
       "      <td>yeast</td>\n",
       "    </tr>\n",
       "    <tr>\n",
       "      <th>2</th>\n",
       "      <td>1956</td>\n",
       "      <td>2.643</td>\n",
       "      <td>1.274</td>\n",
       "      <td>1.369</td>\n",
       "      <td>mouse</td>\n",
       "    </tr>\n",
       "    <tr>\n",
       "      <th>3</th>\n",
       "      <td>4152</td>\n",
       "      <td>2.944</td>\n",
       "      <td>1.364</td>\n",
       "      <td>1.580</td>\n",
       "      <td>human</td>\n",
       "    </tr>\n",
       "  </tbody>\n",
       "</table>\n",
       "</div>"
      ],
      "text/plain": [
       "   ffl_node_participation  sparsity  in-degree  out-degree organism\n",
       "0                    1392     2.328      1.106       1.222   e.coli\n",
       "1                    3370     2.899      1.421       1.477    yeast\n",
       "2                    1956     2.643      1.274       1.369    mouse\n",
       "3                    4152     2.944      1.364       1.580    human"
      ]
     },
     "execution_count": 6,
     "metadata": {},
     "output_type": "execute_result"
    }
   ],
   "source": [
    "cfg = f.get_actual_parametrization(\"../src/config.json\")\n",
    "table1 = pd.DataFrame([f.collect_topological_parameters(cfg,interaction_matrix_ecoli, 'e.coli'),\n",
    "                      f.collect_topological_parameters(cfg,interaction_matrix_yeast, 'yeast'),\n",
    "                      f.collect_topological_parameters(cfg,interaction_matrix_mouse, 'mouse'),\n",
    "                      f.collect_topological_parameters(cfg,interaction_matrix_human, 'human')], \n",
    "                  columns = ['ffl_node_participation' , 'sparsity', 'in-degree' , 'out-degree', 'organism']) \n",
    "\n",
    "table1.to_csv(\"../results/tables/table1.tsv\", sep=\"\\t\", index=False)\n",
    "table1"
   ]
  },
  {
   "cell_type": "code",
   "execution_count": null,
   "metadata": {},
   "outputs": [],
   "source": []
  }
 ],
 "metadata": {
  "kernelspec": {
   "display_name": "Python 3",
   "language": "python",
   "name": "python3"
  },
  "language_info": {
   "codemirror_mode": {
    "name": "ipython",
    "version": 3
   },
   "file_extension": ".py",
   "mimetype": "text/x-python",
   "name": "python",
   "nbconvert_exporter": "python",
   "pygments_lexer": "ipython3",
   "version": "3.7.10"
  }
 },
 "nbformat": 4,
 "nbformat_minor": 4
}
