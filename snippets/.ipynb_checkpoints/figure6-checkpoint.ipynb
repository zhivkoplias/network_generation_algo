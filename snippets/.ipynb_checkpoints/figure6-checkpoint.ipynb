{
 "cells": [
  {
   "cell_type": "markdown",
   "metadata": {},
   "source": [
    "## Import libs, set paths and load params"
   ]
  },
  {
   "cell_type": "code",
   "execution_count": 2,
   "metadata": {},
   "outputs": [
    {
     "name": "stdout",
     "output_type": "stream",
     "text": [
      "[0.1        0.12105263 0.14210526 0.16315789 0.18421053 0.20526316\n",
      " 0.22631579 0.24736842 0.26842105 0.28947368 0.31052632 0.33157895\n",
      " 0.35263158 0.37368421 0.39473684 0.41578947 0.43684211 0.45789474\n",
      " 0.47894737 0.5       ]\n"
     ]
    }
   ],
   "source": [
    "import os, glob\n",
    "import numpy as np\n",
    "import pandas as pd\n",
    "import sys\n",
    "sys.path.insert(0, \"../src\")\n",
    "import auxilary_functions as f\n",
    "from generation_algorithm import *\n",
    "import subprocess\n",
    "import csv\n",
    "import matplotlib.pyplot as plt\n",
    "\n",
    "cfg = f.get_actual_parametrization(\"../src/config.json\")\n",
    "\n",
    "ffl_percentages = np.linspace(0.1, 0.5, num=20)\n",
    "#ffl_percentages = np.linspace(0.1, 0.5, num=2)\n",
    "sizes = ['250', '500', '750', '1000', '1500', '2000']\n",
    "sizes = ['1500']\n",
    "sizes = ['2000']\n",
    "#sizes = ['250']\n",
    "\n",
    "os.chdir('../networks/')\n",
    "fflattdir = '../snippets/'\n",
    "\n",
    "print(ffl_percentages)"
   ]
  },
  {
   "cell_type": "code",
   "execution_count": 2,
   "metadata": {},
   "outputs": [
    {
     "name": "stdout",
     "output_type": "stream",
     "text": [
      "/home/erik/sweden/sonnhammer/GeneSnake/generation/network_generation_algo/networks\n"
     ]
    }
   ],
   "source": [
    "print(os.getcwd())\n",
    "current_dir = os.path.join(os.getcwd())"
   ]
  },
  {
   "cell_type": "code",
   "execution_count": 1,
   "metadata": {},
   "outputs": [
    {
     "ename": "NameError",
     "evalue": "name 'sizes' is not defined",
     "output_type": "error",
     "traceback": [
      "\u001b[0;31m---------------------------------------------------------------------------\u001b[0m",
      "\u001b[0;31mNameError\u001b[0m                                 Traceback (most recent call last)",
      "\u001b[0;32m<ipython-input-1-6cefdba035bb>\u001b[0m in \u001b[0;36m<module>\u001b[0;34m\u001b[0m\n\u001b[1;32m      1\u001b[0m \u001b[0;31m#collect data\u001b[0m\u001b[0;34m\u001b[0m\u001b[0;34m\u001b[0m\u001b[0;34m\u001b[0m\u001b[0m\n\u001b[1;32m      2\u001b[0m \u001b[0mtime_list\u001b[0m \u001b[0;34m=\u001b[0m \u001b[0;34m[\u001b[0m\u001b[0;34m]\u001b[0m\u001b[0;34m\u001b[0m\u001b[0;34m\u001b[0m\u001b[0m\n\u001b[0;32m----> 3\u001b[0;31m \u001b[0;32mfor\u001b[0m \u001b[0mnetwork_size\u001b[0m \u001b[0;32min\u001b[0m \u001b[0msizes\u001b[0m\u001b[0;34m:\u001b[0m\u001b[0;34m\u001b[0m\u001b[0;34m\u001b[0m\u001b[0m\n\u001b[0m\u001b[1;32m      4\u001b[0m \u001b[0;34m\u001b[0m\u001b[0m\n\u001b[1;32m      5\u001b[0m     \u001b[0;32mfor\u001b[0m \u001b[0mpercentage\u001b[0m \u001b[0;32min\u001b[0m \u001b[0mffl_percentages\u001b[0m\u001b[0;34m:\u001b[0m\u001b[0;34m\u001b[0m\u001b[0;34m\u001b[0m\u001b[0m\n",
      "\u001b[0;31mNameError\u001b[0m: name 'sizes' is not defined"
     ]
    }
   ],
   "source": [
    "#collect data\n",
    "time_list = []\n",
    "for network_size in sizes:\n",
    "    \n",
    "    for percentage in ffl_percentages:\n",
    "                   \n",
    "        sys.path.insert(0, \"../snippets\")\n",
    "            \n",
    "        from test import load_ffl_based_component\n",
    "        yeast_matrix, ffl_motif, ffl_component, ffl_matrix = load_ffl_based_component()\n",
    "        growth_rate = 0.9\n",
    "        core_size = 25\n",
    "        network_size = int(network_size)\n",
    "        print('running fflatt...')\n",
    "        \n",
    "        artificial_matrix_ffl, time_generation, p1_nodes = generate_artificial_network(\n",
    "                        yeast_matrix, motifs=ffl_motif, motifs_network=ffl_component,\n",
    "                        reference_matrix=ffl_matrix, growth_pace=growth_rate,\n",
    "                        network_size=network_size, nucleus_size=core_size,\n",
    "                        growth_barabasi=percentage)\n",
    "            \n",
    "        time_list.append([network_size,time_generation,p1_nodes])"
   ]
  },
  {
   "cell_type": "code",
   "execution_count": 4,
   "metadata": {},
   "outputs": [
    {
     "data": {
      "text/html": [
       "<div>\n",
       "<style scoped>\n",
       "    .dataframe tbody tr th:only-of-type {\n",
       "        vertical-align: middle;\n",
       "    }\n",
       "\n",
       "    .dataframe tbody tr th {\n",
       "        vertical-align: top;\n",
       "    }\n",
       "\n",
       "    .dataframe thead th {\n",
       "        text-align: right;\n",
       "    }\n",
       "</style>\n",
       "<table border=\"1\" class=\"dataframe\">\n",
       "  <thead>\n",
       "    <tr style=\"text-align: right;\">\n",
       "      <th></th>\n",
       "      <th>size</th>\n",
       "      <th>time</th>\n",
       "      <th>p1-nodes</th>\n",
       "    </tr>\n",
       "  </thead>\n",
       "  <tbody>\n",
       "    <tr>\n",
       "      <th>0</th>\n",
       "      <td>1500</td>\n",
       "      <td>112.325065</td>\n",
       "      <td>0.922000</td>\n",
       "    </tr>\n",
       "    <tr>\n",
       "      <th>1</th>\n",
       "      <td>1500</td>\n",
       "      <td>160.054097</td>\n",
       "      <td>0.896000</td>\n",
       "    </tr>\n",
       "    <tr>\n",
       "      <th>2</th>\n",
       "      <td>1500</td>\n",
       "      <td>158.982806</td>\n",
       "      <td>0.896000</td>\n",
       "    </tr>\n",
       "    <tr>\n",
       "      <th>3</th>\n",
       "      <td>1500</td>\n",
       "      <td>169.757724</td>\n",
       "      <td>0.852667</td>\n",
       "    </tr>\n",
       "    <tr>\n",
       "      <th>4</th>\n",
       "      <td>1500</td>\n",
       "      <td>1998.916954</td>\n",
       "      <td>0.920667</td>\n",
       "    </tr>\n",
       "    <tr>\n",
       "      <th>5</th>\n",
       "      <td>1500</td>\n",
       "      <td>212.768062</td>\n",
       "      <td>0.860667</td>\n",
       "    </tr>\n",
       "    <tr>\n",
       "      <th>6</th>\n",
       "      <td>1500</td>\n",
       "      <td>258.209681</td>\n",
       "      <td>0.849333</td>\n",
       "    </tr>\n",
       "    <tr>\n",
       "      <th>7</th>\n",
       "      <td>1500</td>\n",
       "      <td>330.448087</td>\n",
       "      <td>0.825333</td>\n",
       "    </tr>\n",
       "    <tr>\n",
       "      <th>8</th>\n",
       "      <td>1500</td>\n",
       "      <td>312.264462</td>\n",
       "      <td>0.804667</td>\n",
       "    </tr>\n",
       "    <tr>\n",
       "      <th>9</th>\n",
       "      <td>1500</td>\n",
       "      <td>356.284302</td>\n",
       "      <td>0.819333</td>\n",
       "    </tr>\n",
       "    <tr>\n",
       "      <th>10</th>\n",
       "      <td>1500</td>\n",
       "      <td>412.458484</td>\n",
       "      <td>0.800000</td>\n",
       "    </tr>\n",
       "    <tr>\n",
       "      <th>11</th>\n",
       "      <td>1500</td>\n",
       "      <td>542.823656</td>\n",
       "      <td>0.774000</td>\n",
       "    </tr>\n",
       "    <tr>\n",
       "      <th>12</th>\n",
       "      <td>1500</td>\n",
       "      <td>461.993276</td>\n",
       "      <td>0.811333</td>\n",
       "    </tr>\n",
       "    <tr>\n",
       "      <th>13</th>\n",
       "      <td>1500</td>\n",
       "      <td>836.115052</td>\n",
       "      <td>0.716000</td>\n",
       "    </tr>\n",
       "    <tr>\n",
       "      <th>14</th>\n",
       "      <td>1500</td>\n",
       "      <td>830.467992</td>\n",
       "      <td>0.715333</td>\n",
       "    </tr>\n",
       "    <tr>\n",
       "      <th>15</th>\n",
       "      <td>1500</td>\n",
       "      <td>765.167816</td>\n",
       "      <td>0.752000</td>\n",
       "    </tr>\n",
       "    <tr>\n",
       "      <th>16</th>\n",
       "      <td>1500</td>\n",
       "      <td>1066.930160</td>\n",
       "      <td>0.737333</td>\n",
       "    </tr>\n",
       "    <tr>\n",
       "      <th>17</th>\n",
       "      <td>1500</td>\n",
       "      <td>1433.961718</td>\n",
       "      <td>0.640667</td>\n",
       "    </tr>\n",
       "    <tr>\n",
       "      <th>18</th>\n",
       "      <td>1500</td>\n",
       "      <td>1753.057725</td>\n",
       "      <td>0.644667</td>\n",
       "    </tr>\n",
       "    <tr>\n",
       "      <th>19</th>\n",
       "      <td>1500</td>\n",
       "      <td>1536.558495</td>\n",
       "      <td>0.691333</td>\n",
       "    </tr>\n",
       "  </tbody>\n",
       "</table>\n",
       "</div>"
      ],
      "text/plain": [
       "    size         time  p1-nodes\n",
       "0   1500   112.325065  0.922000\n",
       "1   1500   160.054097  0.896000\n",
       "2   1500   158.982806  0.896000\n",
       "3   1500   169.757724  0.852667\n",
       "4   1500  1998.916954  0.920667\n",
       "5   1500   212.768062  0.860667\n",
       "6   1500   258.209681  0.849333\n",
       "7   1500   330.448087  0.825333\n",
       "8   1500   312.264462  0.804667\n",
       "9   1500   356.284302  0.819333\n",
       "10  1500   412.458484  0.800000\n",
       "11  1500   542.823656  0.774000\n",
       "12  1500   461.993276  0.811333\n",
       "13  1500   836.115052  0.716000\n",
       "14  1500   830.467992  0.715333\n",
       "15  1500   765.167816  0.752000\n",
       "16  1500  1066.930160  0.737333\n",
       "17  1500  1433.961718  0.640667\n",
       "18  1500  1753.057725  0.644667\n",
       "19  1500  1536.558495  0.691333"
      ]
     },
     "execution_count": 4,
     "metadata": {},
     "output_type": "execute_result"
    }
   ],
   "source": [
    "time_list = pd.DataFrame(time_list, columns = ['size', 'time', 'p1-nodes'])\n",
    "time_list"
   ]
  },
  {
   "cell_type": "code",
   "execution_count": 5,
   "metadata": {},
   "outputs": [],
   "source": [
    "time_list.to_csv('run_time.csv', mode='a', index=False, header=True)"
   ]
  },
  {
   "cell_type": "code",
   "execution_count": null,
   "metadata": {},
   "outputs": [],
   "source": []
  },
  {
   "cell_type": "markdown",
   "metadata": {},
   "source": [
    "## Plot time"
   ]
  },
  {
   "cell_type": "code",
   "execution_count": 5,
   "metadata": {},
   "outputs": [],
   "source": [
    "runtime_df = pd.read_csv('run_time.csv') "
   ]
  },
  {
   "cell_type": "raw",
   "metadata": {},
   "source": [
    "runtime_df"
   ]
  },
  {
   "cell_type": "code",
   "execution_count": null,
   "metadata": {},
   "outputs": [],
   "source": []
  }
 ],
 "metadata": {
  "kernelspec": {
   "display_name": "Python 3",
   "language": "python",
   "name": "python3"
  },
  "language_info": {
   "codemirror_mode": {
    "name": "ipython",
    "version": 3
   },
   "file_extension": ".py",
   "mimetype": "text/x-python",
   "name": "python",
   "nbconvert_exporter": "python",
   "pygments_lexer": "ipython3",
   "version": "3.7.10"
  }
 },
 "nbformat": 4,
 "nbformat_minor": 4
}
