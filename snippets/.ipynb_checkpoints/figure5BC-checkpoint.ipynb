{
 "cells": [
  {
   "cell_type": "markdown",
   "metadata": {},
   "source": [
    "## Import libs, set paths and load params"
   ]
  },
  {
   "cell_type": "code",
   "execution_count": 2,
   "metadata": {},
   "outputs": [],
   "source": [
    "import os, glob\n",
    "import numpy as np\n",
    "import pandas as pd\n",
    "import sys\n",
    "sys.path.insert(0, \"../src\")\n",
    "import auxilary_functions as f\n",
    "from generation_algorithm import *\n",
    "import subprocess\n",
    "import csv\n",
    "import matplotlib.pyplot as plt\n",
    "\n",
    "cfg = f.get_actual_parametrization(\"../src/config.json\")\n",
    "\n",
    "sizes = ['250', '500', '750', '1000']\n",
    "os.chdir('../networks/')"
   ]
  },
  {
   "cell_type": "code",
   "execution_count": 3,
   "metadata": {},
   "outputs": [],
   "source": [
    "# import networkx as nx\n",
    "\n",
    "# G = nx.path_graph(300)\n",
    "\n",
    "# comp = nx.algorithms.community.centrality.girvan_newman(G)\n",
    "\n",
    "# print(tuple(sorted(c) for c in next(comp)))"
   ]
  },
  {
   "cell_type": "code",
   "execution_count": 4,
   "metadata": {},
   "outputs": [
    {
     "name": "stdout",
     "output_type": "stream",
     "text": [
      "/home/erik/sweden/sonnhammer/GeneSnake/generation/network_generation_algo/networks\n"
     ]
    }
   ],
   "source": [
    "print(os.getcwd())\n",
    "stability_dir = os.path.join(os.getcwd(), 'old_stability_analysis')"
   ]
  },
  {
   "cell_type": "code",
   "execution_count": 132,
   "metadata": {},
   "outputs": [],
   "source": [
    "# np.array(pd.read_csv(os.path.join(stability_dir, 'randg/250/network_randG_N250.csv'), header = None))"
   ]
  },
  {
   "cell_type": "code",
   "execution_count": 133,
   "metadata": {},
   "outputs": [],
   "source": [
    "# df_ex1 = pd.DataFrame({'num_legs': [2, 4, 8, 0],\n",
    "\n",
    "#                    'num_wings': [2, 0, 0, 0],\n",
    "\n",
    "#                    'num_specimen_seen': [10, 2, 1, 8]},\n",
    "\n",
    "#                   index=['falcon', 'dog', 'spider', 'fish'])\n",
    "\n",
    "# df_ex2 = pd.DataFrame({'num_legs': [2, 999, 999, 999],\n",
    "\n",
    "#                    'num_wings': [2, 0, 0, 0],\n",
    "\n",
    "#                    'num_specimen_seen': [10, 2, 1, 8]},\n",
    "\n",
    "#                   index=['falcon', 'dog', 'spider', 'fish'])\n",
    "\n",
    "# lst_dfs = [df_ex1, df_ex2]\n",
    "# sum(lst_dfs) / len(lst_dfs)"
   ]
  },
  {
   "cell_type": "markdown",
   "metadata": {},
   "source": [
    "### Random Graph"
   ]
  },
  {
   "cell_type": "code",
   "execution_count": 30,
   "metadata": {},
   "outputs": [
    {
     "name": "stdout",
     "output_type": "stream",
     "text": [
      "/home/erik/sweden/sonnhammer/GeneSnake/generation/network_generation_algo/networks/old_stability_analysis/randg/250\n",
      "0 /home/erik/sweden/sonnhammer/GeneSnake/generation/network_generation_algo/networks/old_stability_analysis/randg/250/network_randG_N250_test9.tsv\n",
      "[[0 0 0 ... 0 0 0]\n",
      " [0 0 0 ... 0 0 0]\n",
      " [0 0 0 ... 0 0 0]\n",
      " ...\n",
      " [0 0 0 ... 0 0 0]\n",
      " [0 0 0 ... 0 0 0]\n",
      " [0 0 0 ... 0 0 0]]\n"
     ]
    },
    {
     "name": "stderr",
     "output_type": "stream",
     "text": [
      "100%|██████████| 1/1 [00:00<00:00,  1.60it/s]\n",
      "100%|██████████| 1/1 [00:00<00:00,  1.67it/s]\n",
      "100%|██████████| 1/1 [00:00<00:00,  1.67it/s]\n",
      "100%|██████████| 1/1 [00:00<00:00,  1.66it/s]\n",
      "100%|██████████| 1/1 [00:00<00:00,  1.65it/s]\n",
      "100%|██████████| 1/1 [00:00<00:00,  1.65it/s]\n",
      "100%|██████████| 1/1 [00:00<00:00,  1.67it/s]\n",
      "100%|██████████| 1/1 [00:00<00:00,  1.66it/s]\n",
      "100%|██████████| 1/1 [00:00<00:00,  1.67it/s]\n",
      "100%|██████████| 1/1 [00:00<00:00,  1.61it/s]"
     ]
    },
    {
     "name": "stdout",
     "output_type": "stream",
     "text": [
      "<class 'pandas.core.frame.DataFrame'>\n",
      "1 /home/erik/sweden/sonnhammer/GeneSnake/generation/network_generation_algo/networks/old_stability_analysis/randg/250/network_randG_N250_test4.tsv\n",
      "[[0 0 0 ... 0 0 0]\n",
      " [0 0 0 ... 0 0 0]\n",
      " [0 0 0 ... 0 0 0]\n",
      " ...\n",
      " [0 0 0 ... 0 0 0]\n",
      " [0 0 0 ... 0 0 0]\n",
      " [0 0 0 ... 0 0 0]]\n"
     ]
    },
    {
     "name": "stderr",
     "output_type": "stream",
     "text": [
      "\n",
      "100%|██████████| 1/1 [00:00<00:00,  1.66it/s]\n",
      "100%|██████████| 1/1 [00:00<00:00,  1.65it/s]\n",
      "100%|██████████| 1/1 [00:00<00:00,  1.67it/s]\n",
      "100%|██████████| 1/1 [00:00<00:00,  1.66it/s]\n",
      "100%|██████████| 1/1 [00:00<00:00,  1.66it/s]\n",
      "100%|██████████| 1/1 [00:00<00:00,  1.65it/s]\n",
      "100%|██████████| 1/1 [00:00<00:00,  1.65it/s]\n",
      "100%|██████████| 1/1 [00:00<00:00,  1.66it/s]\n",
      "100%|██████████| 1/1 [00:00<00:00,  1.64it/s]\n",
      "100%|██████████| 1/1 [00:00<00:00,  1.63it/s]"
     ]
    },
    {
     "name": "stdout",
     "output_type": "stream",
     "text": [
      "<class 'pandas.core.frame.DataFrame'>\n",
      "2 /home/erik/sweden/sonnhammer/GeneSnake/generation/network_generation_algo/networks/old_stability_analysis/randg/250/network_randG_N250_test5.tsv\n",
      "[[0 0 0 ... 0 0 0]\n",
      " [0 0 0 ... 0 0 0]\n",
      " [0 0 0 ... 0 0 0]\n",
      " ...\n",
      " [0 0 0 ... 0 1 0]\n",
      " [0 0 0 ... 0 0 0]\n",
      " [0 0 0 ... 0 0 0]]\n"
     ]
    },
    {
     "name": "stderr",
     "output_type": "stream",
     "text": [
      "\n",
      "100%|██████████| 1/1 [00:00<00:00,  1.65it/s]\n",
      "100%|██████████| 1/1 [00:00<00:00,  2.00it/s]\n",
      "100%|██████████| 1/1 [00:00<00:00,  1.66it/s]\n",
      "100%|██████████| 1/1 [00:00<00:00,  1.67it/s]\n",
      "100%|██████████| 1/1 [00:00<00:00,  1.66it/s]\n",
      "100%|██████████| 1/1 [00:00<00:00,  1.66it/s]\n",
      "100%|██████████| 1/1 [00:00<00:00,  1.67it/s]\n",
      "100%|██████████| 1/1 [00:00<00:00,  1.99it/s]\n",
      "100%|██████████| 1/1 [00:00<00:00,  1.66it/s]\n",
      "100%|██████████| 1/1 [00:00<00:00,  1.60it/s]"
     ]
    },
    {
     "name": "stdout",
     "output_type": "stream",
     "text": [
      "<class 'pandas.core.frame.DataFrame'>\n",
      "3 /home/erik/sweden/sonnhammer/GeneSnake/generation/network_generation_algo/networks/old_stability_analysis/randg/250/network_randG_N250_test2.tsv\n",
      "[[0 0 0 ... 0 0 0]\n",
      " [0 0 0 ... 0 0 0]\n",
      " [0 0 0 ... 0 0 0]\n",
      " ...\n",
      " [0 0 0 ... 0 0 0]\n",
      " [0 0 0 ... 0 0 0]\n",
      " [0 0 0 ... 0 0 0]]\n"
     ]
    },
    {
     "name": "stderr",
     "output_type": "stream",
     "text": [
      "\n",
      "100%|██████████| 1/1 [00:00<00:00,  1.66it/s]\n",
      "100%|██████████| 1/1 [00:00<00:00,  1.66it/s]\n",
      "100%|██████████| 1/1 [00:00<00:00,  1.61it/s]\n",
      "100%|██████████| 1/1 [00:00<00:00,  1.66it/s]\n",
      "100%|██████████| 1/1 [00:00<00:00,  1.66it/s]\n",
      "100%|██████████| 1/1 [00:00<00:00,  1.66it/s]\n",
      "100%|██████████| 1/1 [00:00<00:00,  1.67it/s]\n",
      "100%|██████████| 1/1 [00:00<00:00,  1.66it/s]\n",
      "100%|██████████| 1/1 [00:00<00:00,  1.68it/s]\n",
      "100%|██████████| 1/1 [00:00<00:00,  1.66it/s]"
     ]
    },
    {
     "name": "stdout",
     "output_type": "stream",
     "text": [
      "<class 'pandas.core.frame.DataFrame'>\n",
      "4 /home/erik/sweden/sonnhammer/GeneSnake/generation/network_generation_algo/networks/old_stability_analysis/randg/250/network_randG_N250_test6.tsv\n",
      "[[0 0 0 ... 0 0 0]\n",
      " [0 0 0 ... 1 0 0]\n",
      " [0 0 0 ... 0 0 0]\n",
      " ...\n",
      " [0 0 0 ... 0 0 0]\n",
      " [0 0 0 ... 0 0 0]\n",
      " [0 0 0 ... 0 0 0]]\n"
     ]
    },
    {
     "name": "stderr",
     "output_type": "stream",
     "text": [
      "\n",
      "100%|██████████| 1/1 [00:00<00:00,  1.62it/s]\n",
      "100%|██████████| 1/1 [00:00<00:00,  1.66it/s]\n",
      "100%|██████████| 1/1 [00:00<00:00,  1.59it/s]\n",
      "100%|██████████| 1/1 [00:00<00:00,  1.36it/s]\n",
      "100%|██████████| 1/1 [00:00<00:00,  1.64it/s]\n",
      "100%|██████████| 1/1 [00:00<00:00,  1.58it/s]\n",
      "100%|██████████| 1/1 [00:00<00:00,  1.64it/s]\n",
      "100%|██████████| 1/1 [00:00<00:00,  1.62it/s]\n",
      "100%|██████████| 1/1 [00:00<00:00,  1.58it/s]\n",
      "100%|██████████| 1/1 [00:00<00:00,  1.66it/s]"
     ]
    },
    {
     "name": "stdout",
     "output_type": "stream",
     "text": [
      "<class 'pandas.core.frame.DataFrame'>\n",
      "5 /home/erik/sweden/sonnhammer/GeneSnake/generation/network_generation_algo/networks/old_stability_analysis/randg/250/network_randG_N250_test3.tsv\n",
      "[[0 0 0 ... 0 0 0]\n",
      " [0 0 0 ... 0 0 0]\n",
      " [0 0 0 ... 0 0 0]\n",
      " ...\n",
      " [0 0 0 ... 0 0 0]\n",
      " [0 0 0 ... 0 0 0]\n",
      " [0 0 0 ... 0 0 0]]\n"
     ]
    },
    {
     "name": "stderr",
     "output_type": "stream",
     "text": [
      "\n",
      "100%|██████████| 1/1 [00:00<00:00,  1.62it/s]\n",
      "100%|██████████| 1/1 [00:00<00:00,  1.60it/s]\n",
      "100%|██████████| 1/1 [00:00<00:00,  1.60it/s]\n",
      "100%|██████████| 1/1 [00:00<00:00,  1.58it/s]\n",
      "100%|██████████| 1/1 [00:00<00:00,  1.66it/s]\n",
      "100%|██████████| 1/1 [00:00<00:00,  1.60it/s]\n",
      "100%|██████████| 1/1 [00:00<00:00,  1.60it/s]\n",
      "100%|██████████| 1/1 [00:00<00:00,  1.58it/s]\n",
      "100%|██████████| 1/1 [00:00<00:00,  1.66it/s]\n",
      "100%|██████████| 1/1 [00:00<00:00,  1.62it/s]"
     ]
    },
    {
     "name": "stdout",
     "output_type": "stream",
     "text": [
      "<class 'pandas.core.frame.DataFrame'>\n",
      "6 /home/erik/sweden/sonnhammer/GeneSnake/generation/network_generation_algo/networks/old_stability_analysis/randg/250/network_randG_N250_test10.tsv\n",
      "[[0 0 0 ... 0 0 0]\n",
      " [0 0 0 ... 0 0 0]\n",
      " [0 0 0 ... 0 0 0]\n",
      " ...\n",
      " [0 0 0 ... 0 0 0]\n",
      " [0 0 0 ... 0 0 0]\n",
      " [0 0 0 ... 0 0 0]]\n"
     ]
    },
    {
     "name": "stderr",
     "output_type": "stream",
     "text": [
      "\n",
      "100%|██████████| 1/1 [00:00<00:00,  1.56it/s]\n",
      "100%|██████████| 1/1 [00:00<00:00,  1.61it/s]\n",
      "100%|██████████| 1/1 [00:00<00:00,  1.62it/s]\n",
      "100%|██████████| 1/1 [00:00<00:00,  1.65it/s]\n",
      "100%|██████████| 1/1 [00:00<00:00,  1.64it/s]\n",
      "100%|██████████| 1/1 [00:00<00:00,  1.65it/s]\n",
      "100%|██████████| 1/1 [00:00<00:00,  1.61it/s]\n",
      "100%|██████████| 1/1 [00:00<00:00,  1.64it/s]\n",
      "100%|██████████| 1/1 [00:00<00:00,  1.66it/s]\n",
      "100%|██████████| 1/1 [00:00<00:00,  1.68it/s]"
     ]
    },
    {
     "name": "stdout",
     "output_type": "stream",
     "text": [
      "<class 'pandas.core.frame.DataFrame'>\n",
      "7 /home/erik/sweden/sonnhammer/GeneSnake/generation/network_generation_algo/networks/old_stability_analysis/randg/250/network_randG_N250_test8.tsv\n",
      "[[0 0 0 ... 0 0 0]\n",
      " [0 0 0 ... 0 0 0]\n",
      " [0 0 0 ... 0 0 0]\n",
      " ...\n",
      " [0 0 0 ... 0 0 0]\n",
      " [0 0 0 ... 0 0 0]\n",
      " [0 0 0 ... 0 0 0]]\n"
     ]
    },
    {
     "name": "stderr",
     "output_type": "stream",
     "text": [
      "\n",
      "100%|██████████| 1/1 [00:00<00:00,  1.66it/s]\n",
      "100%|██████████| 1/1 [00:00<00:00,  1.65it/s]\n",
      "100%|██████████| 1/1 [00:00<00:00,  1.59it/s]\n",
      "100%|██████████| 1/1 [00:00<00:00,  1.63it/s]\n",
      "100%|██████████| 1/1 [00:00<00:00,  1.67it/s]\n",
      "100%|██████████| 1/1 [00:00<00:00,  1.67it/s]\n",
      "100%|██████████| 1/1 [00:00<00:00,  1.61it/s]\n",
      "100%|██████████| 1/1 [00:00<00:00,  1.66it/s]\n",
      "100%|██████████| 1/1 [00:00<00:00,  1.66it/s]\n",
      "100%|██████████| 1/1 [00:00<00:00,  1.66it/s]"
     ]
    },
    {
     "name": "stdout",
     "output_type": "stream",
     "text": [
      "<class 'pandas.core.frame.DataFrame'>\n",
      "8 /home/erik/sweden/sonnhammer/GeneSnake/generation/network_generation_algo/networks/old_stability_analysis/randg/250/network_randG_N250_test7.tsv\n",
      "[[0 0 0 ... 0 0 0]\n",
      " [0 0 0 ... 0 1 0]\n",
      " [0 0 0 ... 0 0 0]\n",
      " ...\n",
      " [0 0 0 ... 0 0 0]\n",
      " [1 0 0 ... 0 0 0]\n",
      " [0 0 0 ... 0 0 0]]\n"
     ]
    },
    {
     "name": "stderr",
     "output_type": "stream",
     "text": [
      "\n",
      "100%|██████████| 1/1 [00:00<00:00,  1.66it/s]\n",
      "100%|██████████| 1/1 [00:00<00:00,  1.66it/s]\n",
      "100%|██████████| 1/1 [00:00<00:00,  1.67it/s]\n",
      "100%|██████████| 1/1 [00:00<00:00,  1.64it/s]\n",
      "100%|██████████| 1/1 [00:00<00:00,  1.65it/s]\n",
      "100%|██████████| 1/1 [00:00<00:00,  1.64it/s]\n",
      "100%|██████████| 1/1 [00:00<00:00,  1.65it/s]\n",
      "100%|██████████| 1/1 [00:00<00:00,  1.66it/s]\n",
      "100%|██████████| 1/1 [00:00<00:00,  1.66it/s]\n",
      "100%|██████████| 1/1 [00:00<00:00,  1.58it/s]"
     ]
    },
    {
     "name": "stdout",
     "output_type": "stream",
     "text": [
      "<class 'pandas.core.frame.DataFrame'>\n",
      "9 /home/erik/sweden/sonnhammer/GeneSnake/generation/network_generation_algo/networks/old_stability_analysis/randg/250/network_randG_N250_test1.tsv\n",
      "[[0 0 0 ... 0 0 0]\n",
      " [0 0 0 ... 0 0 0]\n",
      " [0 0 0 ... 0 0 0]\n",
      " ...\n",
      " [0 0 0 ... 0 0 0]\n",
      " [0 0 0 ... 0 0 0]\n",
      " [0 0 0 ... 0 0 0]]\n"
     ]
    },
    {
     "name": "stderr",
     "output_type": "stream",
     "text": [
      "\n",
      "100%|██████████| 1/1 [00:00<00:00,  1.61it/s]\n",
      "100%|██████████| 1/1 [00:00<00:00,  1.61it/s]\n",
      "100%|██████████| 1/1 [00:00<00:00,  1.57it/s]\n",
      "100%|██████████| 1/1 [00:00<00:00,  1.60it/s]\n",
      "100%|██████████| 1/1 [00:00<00:00,  1.62it/s]\n",
      "100%|██████████| 1/1 [00:00<00:00,  1.65it/s]\n",
      "100%|██████████| 1/1 [00:00<00:00,  1.59it/s]\n",
      "100%|██████████| 1/1 [00:00<00:00,  1.66it/s]\n",
      "100%|██████████| 1/1 [00:00<00:00,  1.66it/s]\n",
      "100%|██████████| 1/1 [00:00<00:00,  1.67it/s]"
     ]
    },
    {
     "name": "stdout",
     "output_type": "stream",
     "text": [
      "<class 'pandas.core.frame.DataFrame'>\n",
      "      N_real  mean(N_rand)  sd(N_rand)   Z-score  P-value network_label size\n",
      "021C  1456.7       1463.80   23.749006 -0.249520     0.25         randg  250\n",
      "021D   715.6        718.50   10.299449 -0.264875     0.26         randg  250\n",
      "021U   744.1        748.03   10.592517 -0.255297     0.25         randg  250\n",
      "030C     4.6          4.67    1.695101  0.149632     0.26         randg  250\n",
      "030T    15.7         14.34    2.852890  0.376703     0.28         randg  250\n",
      "/home/erik/sweden/sonnhammer/GeneSnake/generation/network_generation_algo/networks/old_stability_analysis/randg/500\n",
      "0 /home/erik/sweden/sonnhammer/GeneSnake/generation/network_generation_algo/networks/old_stability_analysis/randg/500/network_randG_N500_test9.tsv\n",
      "[[0 0 0 ... 0 0 0]\n",
      " [0 0 0 ... 0 0 0]\n",
      " [0 0 0 ... 0 0 0]\n",
      " ...\n",
      " [0 0 0 ... 0 0 0]\n",
      " [0 0 0 ... 0 0 0]\n",
      " [0 0 0 ... 0 0 0]]\n"
     ]
    },
    {
     "name": "stderr",
     "output_type": "stream",
     "text": [
      "\n",
      "100%|██████████| 1/1 [00:00<00:00,  1.10it/s]\n",
      "100%|██████████| 1/1 [00:00<00:00,  1.08it/s]\n",
      "100%|██████████| 1/1 [00:01<00:00,  1.04s/it]\n",
      "100%|██████████| 1/1 [00:00<00:00,  1.08it/s]\n",
      "100%|██████████| 1/1 [00:01<00:00,  1.02s/it]\n",
      "100%|██████████| 1/1 [00:00<00:00,  1.05it/s]\n",
      "100%|██████████| 1/1 [00:00<00:00,  1.10it/s]\n",
      "100%|██████████| 1/1 [00:00<00:00,  1.08it/s]\n",
      "100%|██████████| 1/1 [00:00<00:00,  1.07it/s]\n",
      "100%|██████████| 1/1 [00:00<00:00,  1.05it/s]"
     ]
    },
    {
     "name": "stdout",
     "output_type": "stream",
     "text": [
      "<class 'pandas.core.frame.DataFrame'>\n",
      "1 /home/erik/sweden/sonnhammer/GeneSnake/generation/network_generation_algo/networks/old_stability_analysis/randg/500/network_randG_N500_test7.tsv\n",
      "[[0 0 0 ... 0 0 0]\n",
      " [0 0 0 ... 0 0 0]\n",
      " [0 0 0 ... 0 0 0]\n",
      " ...\n",
      " [0 0 0 ... 0 0 0]\n",
      " [0 0 0 ... 0 0 0]\n",
      " [0 0 0 ... 0 0 0]]\n"
     ]
    },
    {
     "name": "stderr",
     "output_type": "stream",
     "text": [
      "\n",
      "100%|██████████| 1/1 [00:01<00:00,  1.03s/it]\n",
      "100%|██████████| 1/1 [00:01<00:00,  1.14s/it]\n",
      "100%|██████████| 1/1 [00:01<00:00,  1.03s/it]\n",
      "100%|██████████| 1/1 [00:01<00:00,  1.01s/it]\n",
      "100%|██████████| 1/1 [00:01<00:00,  1.04s/it]\n",
      "100%|██████████| 1/1 [00:01<00:00,  1.02s/it]\n",
      "100%|██████████| 1/1 [00:01<00:00,  1.04s/it]\n",
      "100%|██████████| 1/1 [00:01<00:00,  1.12s/it]\n",
      "100%|██████████| 1/1 [00:00<00:00,  1.25it/s]\n",
      "100%|██████████| 1/1 [00:01<00:00,  1.01s/it]"
     ]
    },
    {
     "name": "stdout",
     "output_type": "stream",
     "text": [
      "<class 'pandas.core.frame.DataFrame'>\n",
      "2 /home/erik/sweden/sonnhammer/GeneSnake/generation/network_generation_algo/networks/old_stability_analysis/randg/500/network_randG_N500_test10.tsv\n",
      "[[0 0 0 ... 0 0 0]\n",
      " [0 0 0 ... 0 0 0]\n",
      " [0 0 0 ... 0 0 0]\n",
      " ...\n",
      " [0 0 0 ... 0 0 0]\n",
      " [0 0 0 ... 0 0 0]\n",
      " [1 0 0 ... 0 0 0]]\n"
     ]
    },
    {
     "name": "stderr",
     "output_type": "stream",
     "text": [
      "\n",
      "100%|██████████| 1/1 [00:00<00:00,  1.10it/s]\n",
      "100%|██████████| 1/1 [00:01<00:00,  1.02s/it]\n",
      "100%|██████████| 1/1 [00:01<00:00,  1.03s/it]\n",
      "100%|██████████| 1/1 [00:00<00:00,  1.10it/s]\n",
      "100%|██████████| 1/1 [00:00<00:00,  1.25it/s]\n",
      "100%|██████████| 1/1 [00:00<00:00,  1.25it/s]\n",
      "100%|██████████| 1/1 [00:00<00:00,  1.13it/s]\n",
      "100%|██████████| 1/1 [00:00<00:00,  1.23it/s]\n",
      "100%|██████████| 1/1 [00:00<00:00,  1.11it/s]\n",
      "100%|██████████| 1/1 [00:01<00:00,  1.13s/it]"
     ]
    },
    {
     "name": "stdout",
     "output_type": "stream",
     "text": [
      "<class 'pandas.core.frame.DataFrame'>\n",
      "3 /home/erik/sweden/sonnhammer/GeneSnake/generation/network_generation_algo/networks/old_stability_analysis/randg/500/network_randG_N500_test3.tsv\n",
      "[[0 0 0 ... 0 0 0]\n",
      " [0 0 0 ... 0 0 0]\n",
      " [0 0 0 ... 0 0 0]\n",
      " ...\n",
      " [0 0 0 ... 0 0 0]\n",
      " [0 0 0 ... 0 0 0]\n",
      " [0 0 0 ... 0 0 0]]\n"
     ]
    },
    {
     "name": "stderr",
     "output_type": "stream",
     "text": [
      "\n",
      "100%|██████████| 1/1 [00:00<00:00,  1.11it/s]\n",
      "100%|██████████| 1/1 [00:00<00:00,  1.25it/s]\n",
      "100%|██████████| 1/1 [00:00<00:00,  1.25it/s]\n",
      "100%|██████████| 1/1 [00:00<00:00,  1.25it/s]\n",
      "100%|██████████| 1/1 [00:00<00:00,  1.09it/s]\n",
      "100%|██████████| 1/1 [00:00<00:00,  1.25it/s]\n",
      "100%|██████████| 1/1 [00:00<00:00,  1.23it/s]\n",
      "100%|██████████| 1/1 [00:00<00:00,  1.23it/s]\n",
      "100%|██████████| 1/1 [00:00<00:00,  1.23it/s]\n",
      "100%|██████████| 1/1 [00:00<00:00,  1.24it/s]"
     ]
    },
    {
     "name": "stdout",
     "output_type": "stream",
     "text": [
      "<class 'pandas.core.frame.DataFrame'>\n",
      "4 /home/erik/sweden/sonnhammer/GeneSnake/generation/network_generation_algo/networks/old_stability_analysis/randg/500/network_randG_N500_test6.tsv\n",
      "[[0 0 0 ... 0 0 0]\n",
      " [0 0 0 ... 0 0 0]\n",
      " [0 0 0 ... 0 0 0]\n",
      " ...\n",
      " [0 0 0 ... 0 0 0]\n",
      " [1 0 0 ... 0 0 0]\n",
      " [0 0 0 ... 0 0 0]]\n"
     ]
    },
    {
     "name": "stderr",
     "output_type": "stream",
     "text": [
      "\n",
      "100%|██████████| 1/1 [00:00<00:00,  1.23it/s]\n",
      "100%|██████████| 1/1 [00:00<00:00,  1.24it/s]\n",
      "100%|██████████| 1/1 [00:00<00:00,  1.24it/s]\n",
      "100%|██████████| 1/1 [00:00<00:00,  1.10it/s]\n",
      "100%|██████████| 1/1 [00:00<00:00,  1.11it/s]\n",
      "100%|██████████| 1/1 [00:00<00:00,  1.10it/s]\n",
      "100%|██████████| 1/1 [00:00<00:00,  1.10it/s]\n",
      "100%|██████████| 1/1 [00:00<00:00,  1.09it/s]\n",
      "100%|██████████| 1/1 [00:00<00:00,  1.11it/s]\n",
      "100%|██████████| 1/1 [00:00<00:00,  1.07it/s]"
     ]
    },
    {
     "name": "stdout",
     "output_type": "stream",
     "text": [
      "<class 'pandas.core.frame.DataFrame'>\n",
      "5 /home/erik/sweden/sonnhammer/GeneSnake/generation/network_generation_algo/networks/old_stability_analysis/randg/500/network_randG_N500_test4.tsv\n",
      "[[0 0 0 ... 0 0 0]\n",
      " [0 0 0 ... 0 0 0]\n",
      " [0 0 0 ... 0 0 0]\n",
      " ...\n",
      " [0 0 0 ... 0 0 0]\n",
      " [0 0 0 ... 0 0 0]\n",
      " [0 0 0 ... 0 0 0]]\n"
     ]
    },
    {
     "name": "stderr",
     "output_type": "stream",
     "text": [
      "\n",
      "100%|██████████| 1/1 [00:01<00:00,  1.03s/it]\n",
      "100%|██████████| 1/1 [00:01<00:00,  1.02s/it]\n",
      "100%|██████████| 1/1 [00:00<00:00,  1.10it/s]\n",
      "100%|██████████| 1/1 [00:01<00:00,  1.01s/it]\n",
      "100%|██████████| 1/1 [00:01<00:00,  1.02s/it]\n",
      "100%|██████████| 1/1 [00:00<00:00,  1.12it/s]\n",
      "100%|██████████| 1/1 [00:00<00:00,  1.09it/s]\n",
      "100%|██████████| 1/1 [00:01<00:00,  1.03s/it]\n",
      "100%|██████████| 1/1 [00:00<00:00,  1.06it/s]\n",
      "100%|██████████| 1/1 [00:00<00:00,  1.10it/s]"
     ]
    },
    {
     "name": "stdout",
     "output_type": "stream",
     "text": [
      "<class 'pandas.core.frame.DataFrame'>\n",
      "6 /home/erik/sweden/sonnhammer/GeneSnake/generation/network_generation_algo/networks/old_stability_analysis/randg/500/network_randG_N500_test2.tsv\n",
      "[[0 0 0 ... 0 0 0]\n",
      " [0 0 0 ... 0 0 0]\n",
      " [0 0 0 ... 0 0 0]\n",
      " ...\n",
      " [0 0 0 ... 0 0 0]\n",
      " [0 0 0 ... 0 0 0]\n",
      " [0 0 0 ... 0 0 0]]\n"
     ]
    },
    {
     "name": "stderr",
     "output_type": "stream",
     "text": [
      "\n",
      "100%|██████████| 1/1 [00:00<00:00,  1.10it/s]\n",
      "100%|██████████| 1/1 [00:01<00:00,  1.01s/it]\n",
      "100%|██████████| 1/1 [00:00<00:00,  1.08it/s]\n",
      "100%|██████████| 1/1 [00:01<00:00,  1.01s/it]\n",
      "100%|██████████| 1/1 [00:00<00:00,  1.12it/s]\n",
      "100%|██████████| 1/1 [00:01<00:00,  1.01s/it]\n",
      "100%|██████████| 1/1 [00:01<00:00,  1.00s/it]\n",
      "100%|██████████| 1/1 [00:01<00:00,  1.12s/it]\n",
      "100%|██████████| 1/1 [00:01<00:00,  1.02s/it]\n",
      "100%|██████████| 1/1 [00:01<00:00,  1.02s/it]"
     ]
    },
    {
     "name": "stdout",
     "output_type": "stream",
     "text": [
      "<class 'pandas.core.frame.DataFrame'>\n",
      "7 /home/erik/sweden/sonnhammer/GeneSnake/generation/network_generation_algo/networks/old_stability_analysis/randg/500/network_randG_N500_test5.tsv\n",
      "[[0 0 0 ... 0 0 0]\n",
      " [0 0 0 ... 0 0 0]\n",
      " [0 0 0 ... 0 0 0]\n",
      " ...\n",
      " [0 0 0 ... 0 0 0]\n",
      " [0 0 0 ... 0 0 0]\n",
      " [0 0 0 ... 0 0 0]]\n"
     ]
    },
    {
     "name": "stderr",
     "output_type": "stream",
     "text": [
      "\n",
      "100%|██████████| 1/1 [00:01<00:00,  1.02s/it]\n",
      "100%|██████████| 1/1 [00:01<00:00,  1.04s/it]\n",
      "100%|██████████| 1/1 [00:00<00:00,  1.08it/s]\n",
      "100%|██████████| 1/1 [00:00<00:00,  1.08it/s]\n",
      "100%|██████████| 1/1 [00:00<00:00,  1.08it/s]\n",
      "100%|██████████| 1/1 [00:00<00:00,  1.05it/s]\n",
      "100%|██████████| 1/1 [00:00<00:00,  1.08it/s]\n",
      "100%|██████████| 1/1 [00:00<00:00,  1.00it/s]\n",
      "100%|██████████| 1/1 [00:00<00:00,  1.08it/s]\n",
      "100%|██████████| 1/1 [00:00<00:00,  1.08it/s]"
     ]
    },
    {
     "name": "stdout",
     "output_type": "stream",
     "text": [
      "<class 'pandas.core.frame.DataFrame'>\n",
      "8 /home/erik/sweden/sonnhammer/GeneSnake/generation/network_generation_algo/networks/old_stability_analysis/randg/500/network_randG_N500_test8.tsv\n",
      "[[0 0 0 ... 0 0 0]\n",
      " [0 0 0 ... 0 0 0]\n",
      " [0 0 0 ... 0 0 0]\n",
      " ...\n",
      " [0 0 0 ... 0 0 0]\n",
      " [0 0 0 ... 0 0 0]\n",
      " [0 0 0 ... 0 0 0]]\n"
     ]
    },
    {
     "name": "stderr",
     "output_type": "stream",
     "text": [
      "\n",
      "100%|██████████| 1/1 [00:00<00:00,  1.08it/s]\n",
      "100%|██████████| 1/1 [00:01<00:00,  1.00s/it]\n",
      "100%|██████████| 1/1 [00:00<00:00,  1.08it/s]\n",
      "100%|██████████| 1/1 [00:00<00:00,  1.08it/s]\n",
      "100%|██████████| 1/1 [00:00<00:00,  1.11it/s]\n",
      "100%|██████████| 1/1 [00:00<00:00,  1.08it/s]\n",
      "100%|██████████| 1/1 [00:01<00:00,  1.04s/it]\n",
      "100%|██████████| 1/1 [00:01<00:00,  1.19s/it]\n",
      "100%|██████████| 1/1 [00:00<00:00,  1.23it/s]\n",
      "100%|██████████| 1/1 [00:00<00:00,  1.10it/s]"
     ]
    },
    {
     "name": "stdout",
     "output_type": "stream",
     "text": [
      "<class 'pandas.core.frame.DataFrame'>\n",
      "9 /home/erik/sweden/sonnhammer/GeneSnake/generation/network_generation_algo/networks/old_stability_analysis/randg/500/network_randG_N500_test1.tsv\n",
      "[[0 0 0 ... 0 0 0]\n",
      " [0 0 0 ... 1 0 0]\n",
      " [0 0 0 ... 0 0 0]\n",
      " ...\n",
      " [0 0 0 ... 0 0 0]\n",
      " [0 0 0 ... 0 0 0]\n",
      " [0 0 0 ... 0 0 0]]\n"
     ]
    },
    {
     "name": "stderr",
     "output_type": "stream",
     "text": [
      "\n",
      "100%|██████████| 1/1 [00:00<00:00,  1.09it/s]\n",
      "100%|██████████| 1/1 [00:00<00:00,  1.09it/s]\n",
      "100%|██████████| 1/1 [00:00<00:00,  1.23it/s]\n",
      "100%|██████████| 1/1 [00:00<00:00,  1.24it/s]\n",
      "100%|██████████| 1/1 [00:00<00:00,  1.24it/s]\n",
      "100%|██████████| 1/1 [00:00<00:00,  1.24it/s]\n",
      "100%|██████████| 1/1 [00:00<00:00,  1.28it/s]\n",
      "100%|██████████| 1/1 [00:00<00:00,  1.24it/s]\n",
      "100%|██████████| 1/1 [00:00<00:00,  1.24it/s]\n",
      "100%|██████████| 1/1 [00:00<00:00,  1.24it/s]"
     ]
    },
    {
     "name": "stdout",
     "output_type": "stream",
     "text": [
      "<class 'pandas.core.frame.DataFrame'>\n",
      "       N_real  mean(N_rand)  sd(N_rand)   Z-score  P-value network_label size\n",
      "021C  11796.2      11786.10   64.178304  0.036760     0.25         randg  500\n",
      "021D   5909.3       5899.53   32.288594  0.252953     0.25         randg  500\n",
      "021U   5893.4       5883.55   30.763456  0.217119     0.23         randg  500\n",
      "030C     42.9         40.04    5.648020  0.489881     0.27         randg  500\n",
      "030T    118.9        119.59   10.085922  0.087082     0.30         randg  500\n",
      "/home/erik/sweden/sonnhammer/GeneSnake/generation/network_generation_algo/networks/old_stability_analysis/randg/750\n",
      "0 /home/erik/sweden/sonnhammer/GeneSnake/generation/network_generation_algo/networks/old_stability_analysis/randg/750/network_randG_N750_test8.tsv\n",
      "[[0 0 0 ... 0 0 0]\n",
      " [0 0 0 ... 0 0 0]\n",
      " [0 0 0 ... 0 0 0]\n",
      " ...\n",
      " [0 0 0 ... 0 0 0]\n",
      " [0 0 0 ... 0 0 0]\n",
      " [0 0 0 ... 0 0 0]]\n"
     ]
    },
    {
     "name": "stderr",
     "output_type": "stream",
     "text": [
      "\n",
      "100%|██████████| 1/1 [00:01<00:00,  1.32s/it]\n",
      "100%|██████████| 1/1 [00:01<00:00,  1.42s/it]\n",
      "100%|██████████| 1/1 [00:01<00:00,  1.42s/it]\n",
      "100%|██████████| 1/1 [00:01<00:00,  1.43s/it]\n",
      "100%|██████████| 1/1 [00:01<00:00,  1.45s/it]\n",
      "100%|██████████| 1/1 [00:01<00:00,  1.31s/it]\n",
      "100%|██████████| 1/1 [00:01<00:00,  1.54s/it]\n",
      "100%|██████████| 1/1 [00:01<00:00,  1.53s/it]\n",
      "100%|██████████| 1/1 [00:01<00:00,  1.43s/it]\n",
      "100%|██████████| 1/1 [00:01<00:00,  1.43s/it]"
     ]
    },
    {
     "name": "stdout",
     "output_type": "stream",
     "text": [
      "<class 'pandas.core.frame.DataFrame'>\n",
      "1 /home/erik/sweden/sonnhammer/GeneSnake/generation/network_generation_algo/networks/old_stability_analysis/randg/750/network_randG_N750_test6.tsv\n",
      "[[0 0 0 ... 0 0 0]\n",
      " [0 0 0 ... 0 0 0]\n",
      " [0 0 0 ... 0 0 0]\n",
      " ...\n",
      " [0 0 0 ... 0 0 0]\n",
      " [0 0 0 ... 0 0 0]\n",
      " [0 0 0 ... 0 0 0]]\n"
     ]
    },
    {
     "name": "stderr",
     "output_type": "stream",
     "text": [
      "\n",
      "100%|██████████| 1/1 [00:01<00:00,  1.43s/it]\n",
      "100%|██████████| 1/1 [00:01<00:00,  1.45s/it]\n",
      "100%|██████████| 1/1 [00:01<00:00,  1.43s/it]\n",
      "100%|██████████| 1/1 [00:01<00:00,  1.45s/it]\n",
      "100%|██████████| 1/1 [00:01<00:00,  1.54s/it]\n",
      "100%|██████████| 1/1 [00:01<00:00,  1.65s/it]\n",
      "100%|██████████| 1/1 [00:01<00:00,  1.66s/it]\n",
      "100%|██████████| 1/1 [00:01<00:00,  1.66s/it]\n",
      "100%|██████████| 1/1 [00:01<00:00,  1.63s/it]\n",
      "100%|██████████| 1/1 [00:01<00:00,  1.67s/it]"
     ]
    },
    {
     "name": "stdout",
     "output_type": "stream",
     "text": [
      "<class 'pandas.core.frame.DataFrame'>\n",
      "2 /home/erik/sweden/sonnhammer/GeneSnake/generation/network_generation_algo/networks/old_stability_analysis/randg/750/network_randG_N750_test9.tsv\n",
      "[[0 0 0 ... 0 0 0]\n",
      " [0 0 0 ... 0 0 0]\n",
      " [0 0 0 ... 0 0 0]\n",
      " ...\n",
      " [0 0 0 ... 0 0 0]\n",
      " [0 0 0 ... 0 0 0]\n",
      " [0 0 0 ... 0 0 0]]\n"
     ]
    },
    {
     "name": "stderr",
     "output_type": "stream",
     "text": [
      "\n",
      "100%|██████████| 1/1 [00:01<00:00,  1.53s/it]\n",
      "100%|██████████| 1/1 [00:01<00:00,  1.74s/it]\n",
      "100%|██████████| 1/1 [00:01<00:00,  1.55s/it]\n",
      "100%|██████████| 1/1 [00:01<00:00,  1.67s/it]\n",
      "100%|██████████| 1/1 [00:01<00:00,  1.63s/it]\n",
      "100%|██████████| 1/1 [00:01<00:00,  1.65s/it]\n",
      "100%|██████████| 1/1 [00:01<00:00,  1.75s/it]\n",
      "100%|██████████| 1/1 [00:01<00:00,  1.64s/it]\n",
      "100%|██████████| 1/1 [00:01<00:00,  1.75s/it]\n",
      "100%|██████████| 1/1 [00:01<00:00,  1.65s/it]"
     ]
    },
    {
     "name": "stdout",
     "output_type": "stream",
     "text": [
      "<class 'pandas.core.frame.DataFrame'>\n",
      "3 /home/erik/sweden/sonnhammer/GeneSnake/generation/network_generation_algo/networks/old_stability_analysis/randg/750/network_randG_N750_test4.tsv\n",
      "[[0 0 0 ... 0 0 0]\n",
      " [0 0 0 ... 0 0 0]\n",
      " [0 0 0 ... 0 0 0]\n",
      " ...\n",
      " [0 0 0 ... 0 0 0]\n",
      " [0 0 0 ... 0 0 0]\n",
      " [0 0 0 ... 0 0 0]]\n"
     ]
    },
    {
     "name": "stderr",
     "output_type": "stream",
     "text": [
      "\n",
      "100%|██████████| 1/1 [00:01<00:00,  1.57s/it]\n",
      "100%|██████████| 1/1 [00:01<00:00,  1.54s/it]\n",
      "100%|██████████| 1/1 [00:01<00:00,  1.54s/it]\n",
      "100%|██████████| 1/1 [00:01<00:00,  1.55s/it]\n",
      "100%|██████████| 1/1 [00:01<00:00,  1.66s/it]\n",
      "100%|██████████| 1/1 [00:01<00:00,  1.53s/it]\n",
      "100%|██████████| 1/1 [00:01<00:00,  1.65s/it]\n",
      "100%|██████████| 1/1 [00:01<00:00,  1.64s/it]\n",
      "100%|██████████| 1/1 [00:01<00:00,  1.64s/it]\n",
      "100%|██████████| 1/1 [00:01<00:00,  1.55s/it]"
     ]
    },
    {
     "name": "stdout",
     "output_type": "stream",
     "text": [
      "<class 'pandas.core.frame.DataFrame'>\n",
      "4 /home/erik/sweden/sonnhammer/GeneSnake/generation/network_generation_algo/networks/old_stability_analysis/randg/750/network_randG_N750_test2.tsv\n",
      "[[0 0 0 ... 0 0 0]\n",
      " [0 0 0 ... 0 0 0]\n",
      " [0 0 0 ... 0 0 0]\n",
      " ...\n",
      " [0 0 0 ... 0 0 0]\n",
      " [0 0 0 ... 0 0 0]\n",
      " [0 0 0 ... 0 0 0]]\n"
     ]
    },
    {
     "name": "stderr",
     "output_type": "stream",
     "text": [
      "\n",
      "100%|██████████| 1/1 [00:01<00:00,  1.63s/it]\n",
      "100%|██████████| 1/1 [00:01<00:00,  1.56s/it]\n",
      "100%|██████████| 1/1 [00:01<00:00,  1.78s/it]\n",
      "100%|██████████| 1/1 [00:01<00:00,  1.75s/it]\n",
      "100%|██████████| 1/1 [00:01<00:00,  1.68s/it]\n",
      "100%|██████████| 1/1 [00:01<00:00,  1.68s/it]\n",
      "100%|██████████| 1/1 [00:01<00:00,  1.85s/it]\n",
      "100%|██████████| 1/1 [00:01<00:00,  1.85s/it]\n",
      "100%|██████████| 1/1 [00:01<00:00,  1.86s/it]\n",
      "100%|██████████| 1/1 [00:01<00:00,  1.78s/it]"
     ]
    },
    {
     "name": "stdout",
     "output_type": "stream",
     "text": [
      "<class 'pandas.core.frame.DataFrame'>\n",
      "5 /home/erik/sweden/sonnhammer/GeneSnake/generation/network_generation_algo/networks/old_stability_analysis/randg/750/network_randG_N750_test7.tsv\n",
      "[[0 0 0 ... 0 0 0]\n",
      " [0 0 0 ... 0 0 0]\n",
      " [0 0 0 ... 0 0 0]\n",
      " ...\n",
      " [0 0 0 ... 0 0 0]\n",
      " [0 0 0 ... 0 0 0]\n",
      " [0 0 0 ... 0 0 0]]\n"
     ]
    },
    {
     "name": "stderr",
     "output_type": "stream",
     "text": [
      "\n",
      "100%|██████████| 1/1 [00:01<00:00,  1.52s/it]\n",
      "100%|██████████| 1/1 [00:01<00:00,  1.52s/it]\n",
      "100%|██████████| 1/1 [00:01<00:00,  1.50s/it]\n",
      "100%|██████████| 1/1 [00:01<00:00,  1.44s/it]\n",
      "100%|██████████| 1/1 [00:01<00:00,  1.53s/it]\n",
      "100%|██████████| 1/1 [00:01<00:00,  1.43s/it]\n",
      "100%|██████████| 1/1 [00:01<00:00,  1.42s/it]\n",
      "100%|██████████| 1/1 [00:01<00:00,  1.46s/it]\n",
      "100%|██████████| 1/1 [00:01<00:00,  1.44s/it]\n",
      "100%|██████████| 1/1 [00:01<00:00,  1.56s/it]"
     ]
    },
    {
     "name": "stdout",
     "output_type": "stream",
     "text": [
      "<class 'pandas.core.frame.DataFrame'>\n",
      "6 /home/erik/sweden/sonnhammer/GeneSnake/generation/network_generation_algo/networks/old_stability_analysis/randg/750/network_randG_N750_test5.tsv\n",
      "[[0 0 0 ... 0 0 0]\n",
      " [0 0 0 ... 0 0 0]\n",
      " [0 0 0 ... 0 0 0]\n",
      " ...\n",
      " [0 0 0 ... 0 0 0]\n",
      " [0 0 0 ... 0 0 0]\n",
      " [0 0 0 ... 0 0 0]]\n"
     ]
    },
    {
     "name": "stderr",
     "output_type": "stream",
     "text": [
      "\n",
      "100%|██████████| 1/1 [00:01<00:00,  1.64s/it]\n",
      "100%|██████████| 1/1 [00:01<00:00,  1.55s/it]\n",
      "100%|██████████| 1/1 [00:01<00:00,  1.65s/it]\n",
      "100%|██████████| 1/1 [00:01<00:00,  1.53s/it]\n",
      "100%|██████████| 1/1 [00:01<00:00,  1.35s/it]\n",
      "100%|██████████| 1/1 [00:01<00:00,  1.33s/it]\n",
      "100%|██████████| 1/1 [00:01<00:00,  1.53s/it]\n",
      "100%|██████████| 1/1 [00:01<00:00,  1.54s/it]\n",
      "100%|██████████| 1/1 [00:01<00:00,  1.43s/it]\n",
      "100%|██████████| 1/1 [00:01<00:00,  1.44s/it]"
     ]
    },
    {
     "name": "stdout",
     "output_type": "stream",
     "text": [
      "<class 'pandas.core.frame.DataFrame'>\n",
      "7 /home/erik/sweden/sonnhammer/GeneSnake/generation/network_generation_algo/networks/old_stability_analysis/randg/750/network_randG_N750_test10.tsv\n",
      "[[0 0 0 ... 0 0 0]\n",
      " [0 0 0 ... 0 0 0]\n",
      " [0 0 0 ... 0 0 0]\n",
      " ...\n",
      " [0 0 0 ... 0 0 0]\n",
      " [0 0 0 ... 0 0 0]\n",
      " [0 0 0 ... 0 0 0]]\n"
     ]
    },
    {
     "name": "stderr",
     "output_type": "stream",
     "text": [
      "\n",
      "100%|██████████| 1/1 [00:01<00:00,  1.33s/it]\n",
      "100%|██████████| 1/1 [00:01<00:00,  1.44s/it]\n",
      "100%|██████████| 1/1 [00:01<00:00,  1.44s/it]\n",
      "100%|██████████| 1/1 [00:01<00:00,  1.45s/it]\n",
      "100%|██████████| 1/1 [00:01<00:00,  1.33s/it]\n",
      "100%|██████████| 1/1 [00:01<00:00,  1.33s/it]\n",
      "100%|██████████| 1/1 [00:01<00:00,  1.54s/it]\n",
      "100%|██████████| 1/1 [00:01<00:00,  1.44s/it]\n",
      "100%|██████████| 1/1 [00:01<00:00,  1.55s/it]\n",
      "100%|██████████| 1/1 [00:01<00:00,  1.57s/it]"
     ]
    },
    {
     "name": "stdout",
     "output_type": "stream",
     "text": [
      "<class 'pandas.core.frame.DataFrame'>\n",
      "8 /home/erik/sweden/sonnhammer/GeneSnake/generation/network_generation_algo/networks/old_stability_analysis/randg/750/network_randG_N750_test3.tsv\n",
      "[[0 0 0 ... 0 0 0]\n",
      " [0 0 0 ... 0 0 0]\n",
      " [0 0 0 ... 0 0 0]\n",
      " ...\n",
      " [0 0 0 ... 0 0 0]\n",
      " [0 0 0 ... 0 0 0]\n",
      " [0 0 0 ... 0 0 0]]\n"
     ]
    },
    {
     "name": "stderr",
     "output_type": "stream",
     "text": [
      "\n",
      "100%|██████████| 1/1 [00:01<00:00,  1.55s/it]\n",
      "100%|██████████| 1/1 [00:01<00:00,  1.64s/it]\n",
      "100%|██████████| 1/1 [00:01<00:00,  1.56s/it]\n",
      "100%|██████████| 1/1 [00:01<00:00,  1.64s/it]\n",
      "100%|██████████| 1/1 [00:01<00:00,  1.66s/it]\n",
      "100%|██████████| 1/1 [00:01<00:00,  1.64s/it]\n",
      "100%|██████████| 1/1 [00:01<00:00,  1.53s/it]\n",
      "100%|██████████| 1/1 [00:01<00:00,  1.74s/it]\n",
      "100%|██████████| 1/1 [00:01<00:00,  1.64s/it]\n",
      "100%|██████████| 1/1 [00:01<00:00,  1.65s/it]"
     ]
    },
    {
     "name": "stdout",
     "output_type": "stream",
     "text": [
      "<class 'pandas.core.frame.DataFrame'>\n",
      "9 /home/erik/sweden/sonnhammer/GeneSnake/generation/network_generation_algo/networks/old_stability_analysis/randg/750/network_randG_N750_test1.tsv\n",
      "[[0 0 0 ... 0 0 0]\n",
      " [0 0 0 ... 0 0 0]\n",
      " [0 0 0 ... 0 0 0]\n",
      " ...\n",
      " [0 0 0 ... 0 0 0]\n",
      " [0 0 0 ... 0 0 0]\n",
      " [0 0 0 ... 0 0 0]]\n"
     ]
    },
    {
     "name": "stderr",
     "output_type": "stream",
     "text": [
      "\n",
      "100%|██████████| 1/1 [00:01<00:00,  1.76s/it]\n",
      "100%|██████████| 1/1 [00:01<00:00,  1.63s/it]\n",
      "100%|██████████| 1/1 [00:01<00:00,  1.76s/it]\n",
      "100%|██████████| 1/1 [00:01<00:00,  1.65s/it]\n",
      "100%|██████████| 1/1 [00:01<00:00,  1.65s/it]\n",
      "100%|██████████| 1/1 [00:01<00:00,  1.65s/it]\n",
      "100%|██████████| 1/1 [00:01<00:00,  1.56s/it]\n",
      "100%|██████████| 1/1 [00:01<00:00,  1.58s/it]\n",
      "100%|██████████| 1/1 [00:01<00:00,  1.56s/it]\n",
      "100%|██████████| 1/1 [00:01<00:00,  1.83s/it]\n"
     ]
    },
    {
     "name": "stdout",
     "output_type": "stream",
     "text": [
      "<class 'pandas.core.frame.DataFrame'>\n",
      "       N_real  mean(N_rand)  sd(N_rand)   Z-score  P-value network_label size\n",
      "021C  39865.4      39926.67  157.009234 -0.391794     0.21         randg  750\n",
      "021D  19944.9      19962.80   77.581298 -0.270993     0.27         randg  750\n",
      "021U  20014.6      20032.20   74.300724 -0.308835     0.21         randg  750\n",
      "030C    139.4        132.73   10.068955  0.842685     0.25         randg  750\n",
      "030T    395.8        398.15   20.715070 -0.169453     0.29         randg  750\n",
      "/home/erik/sweden/sonnhammer/GeneSnake/generation/network_generation_algo/networks/old_stability_analysis/randg/1000\n",
      "0 /home/erik/sweden/sonnhammer/GeneSnake/generation/network_generation_algo/networks/old_stability_analysis/randg/1000/network_randG_N1000_test1.tsv\n",
      "[[0 0 0 ... 0 0 0]\n",
      " [0 0 0 ... 0 0 0]\n",
      " [1 0 0 ... 0 0 0]\n",
      " ...\n",
      " [0 0 0 ... 0 0 0]\n",
      " [0 0 0 ... 0 0 0]\n",
      " [0 0 0 ... 0 0 0]]\n"
     ]
    },
    {
     "name": "stderr",
     "output_type": "stream",
     "text": [
      "100%|██████████| 1/1 [00:02<00:00,  2.64s/it]\n",
      "100%|██████████| 1/1 [00:02<00:00,  2.56s/it]\n",
      "100%|██████████| 1/1 [00:02<00:00,  2.56s/it]\n",
      "100%|██████████| 1/1 [00:02<00:00,  2.49s/it]\n",
      "100%|██████████| 1/1 [00:02<00:00,  2.65s/it]\n",
      "100%|██████████| 1/1 [00:02<00:00,  2.56s/it]\n",
      "100%|██████████| 1/1 [00:02<00:00,  2.75s/it]\n",
      "100%|██████████| 1/1 [00:02<00:00,  2.51s/it]\n",
      "100%|██████████| 1/1 [00:02<00:00,  2.46s/it]\n",
      "100%|██████████| 1/1 [00:02<00:00,  2.56s/it]\n"
     ]
    },
    {
     "name": "stdout",
     "output_type": "stream",
     "text": [
      "<class 'pandas.core.frame.DataFrame'>\n",
      "1 /home/erik/sweden/sonnhammer/GeneSnake/generation/network_generation_algo/networks/old_stability_analysis/randg/1000/network_randG_N1000_test8.tsv\n",
      "[[0 0 0 ... 0 0 0]\n",
      " [0 0 0 ... 0 0 0]\n",
      " [0 0 0 ... 0 0 0]\n",
      " ...\n",
      " [0 0 0 ... 0 0 0]\n",
      " [0 0 0 ... 0 0 0]\n",
      " [0 0 1 ... 0 0 0]]\n"
     ]
    },
    {
     "name": "stderr",
     "output_type": "stream",
     "text": [
      "100%|██████████| 1/1 [00:02<00:00,  2.68s/it]\n",
      "100%|██████████| 1/1 [00:02<00:00,  2.65s/it]\n",
      "100%|██████████| 1/1 [00:02<00:00,  2.74s/it]\n",
      "100%|██████████| 1/1 [00:02<00:00,  2.51s/it]\n",
      "100%|██████████| 1/1 [00:02<00:00,  2.45s/it]\n",
      "100%|██████████| 1/1 [00:02<00:00,  2.39s/it]\n",
      "100%|██████████| 1/1 [00:02<00:00,  2.39s/it]\n",
      "100%|██████████| 1/1 [00:02<00:00,  2.50s/it]\n",
      "100%|██████████| 1/1 [00:02<00:00,  2.31s/it]\n",
      "100%|██████████| 1/1 [00:02<00:00,  2.33s/it]\n"
     ]
    },
    {
     "name": "stdout",
     "output_type": "stream",
     "text": [
      "<class 'pandas.core.frame.DataFrame'>\n",
      "2 /home/erik/sweden/sonnhammer/GeneSnake/generation/network_generation_algo/networks/old_stability_analysis/randg/1000/network_randG_N1000_test4.tsv\n",
      "[[0 0 0 ... 0 0 0]\n",
      " [0 0 0 ... 0 0 0]\n",
      " [0 0 0 ... 0 0 0]\n",
      " ...\n",
      " [0 0 0 ... 0 0 0]\n",
      " [0 0 0 ... 0 0 0]\n",
      " [0 0 0 ... 0 0 0]]\n"
     ]
    },
    {
     "name": "stderr",
     "output_type": "stream",
     "text": [
      "100%|██████████| 1/1 [00:02<00:00,  2.31s/it]\n",
      "100%|██████████| 1/1 [00:02<00:00,  2.21s/it]\n",
      "100%|██████████| 1/1 [00:02<00:00,  2.21s/it]\n",
      "100%|██████████| 1/1 [00:02<00:00,  2.18s/it]\n",
      "100%|██████████| 1/1 [00:02<00:00,  2.25s/it]\n",
      "100%|██████████| 1/1 [00:02<00:00,  2.19s/it]\n",
      "100%|██████████| 1/1 [00:02<00:00,  2.18s/it]\n",
      "100%|██████████| 1/1 [00:02<00:00,  2.33s/it]\n",
      "100%|██████████| 1/1 [00:02<00:00,  2.33s/it]\n",
      "100%|██████████| 1/1 [00:02<00:00,  2.25s/it]\n"
     ]
    },
    {
     "name": "stdout",
     "output_type": "stream",
     "text": [
      "<class 'pandas.core.frame.DataFrame'>\n",
      "3 /home/erik/sweden/sonnhammer/GeneSnake/generation/network_generation_algo/networks/old_stability_analysis/randg/1000/network_randG_N1000_test2.tsv\n",
      "[[0 0 1 ... 0 0 0]\n",
      " [0 0 0 ... 0 0 0]\n",
      " [0 0 0 ... 0 0 0]\n",
      " ...\n",
      " [1 0 0 ... 0 0 0]\n",
      " [0 0 0 ... 0 0 0]\n",
      " [0 0 0 ... 0 0 0]]\n"
     ]
    },
    {
     "name": "stderr",
     "output_type": "stream",
     "text": [
      "100%|██████████| 1/1 [00:02<00:00,  2.33s/it]\n",
      "100%|██████████| 1/1 [00:02<00:00,  2.34s/it]\n",
      "100%|██████████| 1/1 [00:02<00:00,  2.32s/it]\n",
      "100%|██████████| 1/1 [00:02<00:00,  2.39s/it]\n",
      "100%|██████████| 1/1 [00:02<00:00,  2.46s/it]\n",
      "100%|██████████| 1/1 [00:02<00:00,  2.44s/it]\n",
      "100%|██████████| 1/1 [00:02<00:00,  2.46s/it]\n",
      "100%|██████████| 1/1 [00:02<00:00,  2.56s/it]\n",
      "100%|██████████| 1/1 [00:02<00:00,  2.45s/it]\n",
      "100%|██████████| 1/1 [00:02<00:00,  2.45s/it]\n"
     ]
    },
    {
     "name": "stdout",
     "output_type": "stream",
     "text": [
      "<class 'pandas.core.frame.DataFrame'>\n",
      "4 /home/erik/sweden/sonnhammer/GeneSnake/generation/network_generation_algo/networks/old_stability_analysis/randg/1000/network_randG_N1000_test6.tsv\n",
      "[[0 0 0 ... 0 0 0]\n",
      " [0 0 0 ... 0 0 0]\n",
      " [0 0 0 ... 0 0 0]\n",
      " ...\n",
      " [0 0 0 ... 0 0 0]\n",
      " [0 0 0 ... 0 0 0]\n",
      " [0 0 0 ... 0 0 0]]\n"
     ]
    },
    {
     "name": "stderr",
     "output_type": "stream",
     "text": [
      "100%|██████████| 1/1 [00:02<00:00,  2.46s/it]\n",
      "100%|██████████| 1/1 [00:02<00:00,  2.46s/it]\n",
      "100%|██████████| 1/1 [00:02<00:00,  2.46s/it]\n",
      "100%|██████████| 1/1 [00:02<00:00,  2.46s/it]\n",
      "100%|██████████| 1/1 [00:02<00:00,  2.47s/it]\n",
      "100%|██████████| 1/1 [00:02<00:00,  2.46s/it]\n",
      "100%|██████████| 1/1 [00:02<00:00,  2.44s/it]\n",
      "100%|██████████| 1/1 [00:02<00:00,  2.47s/it]\n",
      "100%|██████████| 1/1 [00:02<00:00,  2.48s/it]\n",
      "100%|██████████| 1/1 [00:02<00:00,  2.44s/it]\n"
     ]
    },
    {
     "name": "stdout",
     "output_type": "stream",
     "text": [
      "<class 'pandas.core.frame.DataFrame'>\n",
      "5 /home/erik/sweden/sonnhammer/GeneSnake/generation/network_generation_algo/networks/old_stability_analysis/randg/1000/network_randG_N1000_test7.tsv\n",
      "[[0 0 0 ... 0 0 0]\n",
      " [0 0 0 ... 0 0 0]\n",
      " [0 0 0 ... 0 0 0]\n",
      " ...\n",
      " [0 0 0 ... 0 0 0]\n",
      " [0 0 0 ... 0 0 0]\n",
      " [0 0 0 ... 0 0 0]]\n"
     ]
    },
    {
     "name": "stderr",
     "output_type": "stream",
     "text": [
      "100%|██████████| 1/1 [00:02<00:00,  2.53s/it]\n",
      "100%|██████████| 1/1 [00:02<00:00,  2.45s/it]\n",
      "100%|██████████| 1/1 [00:02<00:00,  2.52s/it]\n",
      "100%|██████████| 1/1 [00:02<00:00,  2.47s/it]\n",
      "100%|██████████| 1/1 [00:02<00:00,  2.36s/it]\n",
      "100%|██████████| 1/1 [00:02<00:00,  2.36s/it]\n",
      "100%|██████████| 1/1 [00:02<00:00,  2.48s/it]\n",
      "100%|██████████| 1/1 [00:02<00:00,  2.39s/it]\n",
      "100%|██████████| 1/1 [00:02<00:00,  2.47s/it]\n",
      "100%|██████████| 1/1 [00:02<00:00,  2.47s/it]\n"
     ]
    },
    {
     "name": "stdout",
     "output_type": "stream",
     "text": [
      "<class 'pandas.core.frame.DataFrame'>\n",
      "6 /home/erik/sweden/sonnhammer/GeneSnake/generation/network_generation_algo/networks/old_stability_analysis/randg/1000/network_randG_N1000_test5.tsv\n",
      "[[0 0 0 ... 0 0 0]\n",
      " [0 0 0 ... 0 0 0]\n",
      " [0 0 0 ... 0 0 0]\n",
      " ...\n",
      " [0 0 0 ... 0 0 0]\n",
      " [0 0 0 ... 0 0 0]\n",
      " [0 0 0 ... 0 0 0]]\n"
     ]
    },
    {
     "name": "stderr",
     "output_type": "stream",
     "text": [
      "100%|██████████| 1/1 [00:02<00:00,  2.46s/it]\n",
      "100%|██████████| 1/1 [00:02<00:00,  2.46s/it]\n",
      "100%|██████████| 1/1 [00:02<00:00,  2.56s/it]\n",
      "100%|██████████| 1/1 [00:02<00:00,  2.56s/it]\n",
      "100%|██████████| 1/1 [00:02<00:00,  2.48s/it]\n",
      "100%|██████████| 1/1 [00:02<00:00,  2.46s/it]\n",
      "100%|██████████| 1/1 [00:02<00:00,  2.38s/it]\n",
      "100%|██████████| 1/1 [00:02<00:00,  2.60s/it]\n",
      "100%|██████████| 1/1 [00:02<00:00,  2.68s/it]\n",
      "100%|██████████| 1/1 [00:02<00:00,  2.62s/it]\n"
     ]
    },
    {
     "name": "stdout",
     "output_type": "stream",
     "text": [
      "<class 'pandas.core.frame.DataFrame'>\n",
      "7 /home/erik/sweden/sonnhammer/GeneSnake/generation/network_generation_algo/networks/old_stability_analysis/randg/1000/network_randG_N1000_test10.tsv\n",
      "[[0 0 0 ... 0 0 0]\n",
      " [0 0 0 ... 0 1 0]\n",
      " [0 0 0 ... 0 0 0]\n",
      " ...\n",
      " [0 0 0 ... 0 0 0]\n",
      " [0 0 0 ... 0 0 0]\n",
      " [0 0 0 ... 0 0 0]]\n"
     ]
    },
    {
     "name": "stderr",
     "output_type": "stream",
     "text": [
      "100%|██████████| 1/1 [00:02<00:00,  2.45s/it]\n",
      "100%|██████████| 1/1 [00:02<00:00,  2.42s/it]\n",
      "100%|██████████| 1/1 [00:02<00:00,  2.23s/it]\n",
      "100%|██████████| 1/1 [00:02<00:00,  2.33s/it]\n",
      "100%|██████████| 1/1 [00:02<00:00,  2.83s/it]\n",
      "100%|██████████| 1/1 [00:02<00:00,  2.31s/it]\n",
      "100%|██████████| 1/1 [00:03<00:00,  3.26s/it]\n",
      "100%|██████████| 1/1 [00:02<00:00,  2.75s/it]\n",
      "100%|██████████| 1/1 [00:03<00:00,  3.05s/it]\n",
      "100%|██████████| 1/1 [00:02<00:00,  2.75s/it]\n"
     ]
    },
    {
     "name": "stdout",
     "output_type": "stream",
     "text": [
      "<class 'pandas.core.frame.DataFrame'>\n",
      "8 /home/erik/sweden/sonnhammer/GeneSnake/generation/network_generation_algo/networks/old_stability_analysis/randg/1000/network_randG_N1000_test3.tsv\n",
      "[[0 0 0 ... 0 0 0]\n",
      " [0 0 0 ... 0 0 0]\n",
      " [0 0 0 ... 0 0 0]\n",
      " ...\n",
      " [0 0 0 ... 0 0 0]\n",
      " [0 0 0 ... 0 0 0]\n",
      " [0 0 0 ... 0 0 0]]\n"
     ]
    },
    {
     "name": "stderr",
     "output_type": "stream",
     "text": [
      "100%|██████████| 1/1 [00:02<00:00,  2.41s/it]\n",
      "100%|██████████| 1/1 [00:02<00:00,  2.26s/it]\n",
      "100%|██████████| 1/1 [00:02<00:00,  2.34s/it]\n",
      "100%|██████████| 1/1 [00:02<00:00,  2.37s/it]\n",
      "100%|██████████| 1/1 [00:02<00:00,  2.40s/it]\n",
      "100%|██████████| 1/1 [00:02<00:00,  2.30s/it]\n",
      "100%|██████████| 1/1 [00:02<00:00,  2.37s/it]\n",
      "100%|██████████| 1/1 [00:02<00:00,  2.37s/it]\n",
      "100%|██████████| 1/1 [00:02<00:00,  2.21s/it]\n",
      "100%|██████████| 1/1 [00:02<00:00,  2.55s/it]\n"
     ]
    },
    {
     "name": "stdout",
     "output_type": "stream",
     "text": [
      "<class 'pandas.core.frame.DataFrame'>\n",
      "9 /home/erik/sweden/sonnhammer/GeneSnake/generation/network_generation_algo/networks/old_stability_analysis/randg/1000/network_randG_N1000_test9.tsv\n",
      "[[0 0 0 ... 0 0 1]\n",
      " [0 0 0 ... 0 0 0]\n",
      " [0 0 0 ... 0 0 0]\n",
      " ...\n",
      " [0 1 0 ... 0 0 0]\n",
      " [0 0 0 ... 0 0 0]\n",
      " [0 0 0 ... 0 0 0]]\n"
     ]
    },
    {
     "name": "stderr",
     "output_type": "stream",
     "text": [
      "100%|██████████| 1/1 [00:02<00:00,  2.27s/it]\n",
      "100%|██████████| 1/1 [00:02<00:00,  2.53s/it]\n",
      "100%|██████████| 1/1 [00:02<00:00,  2.53s/it]\n",
      "100%|██████████| 1/1 [00:02<00:00,  2.70s/it]\n",
      "100%|██████████| 1/1 [00:02<00:00,  2.55s/it]\n",
      "100%|██████████| 1/1 [00:02<00:00,  2.31s/it]\n",
      "100%|██████████| 1/1 [00:02<00:00,  2.47s/it]\n",
      "100%|██████████| 1/1 [00:02<00:00,  2.43s/it]\n",
      "100%|██████████| 1/1 [00:02<00:00,  2.49s/it]\n",
      "100%|██████████| 1/1 [00:02<00:00,  2.53s/it]"
     ]
    },
    {
     "name": "stdout",
     "output_type": "stream",
     "text": [
      "<class 'pandas.core.frame.DataFrame'>\n",
      "       N_real  mean(N_rand)  sd(N_rand)   Z-score  P-value network_label  size\n",
      "021C  94982.1      94866.79  287.621520  0.429586     0.25         randg  1000\n",
      "021D  47440.9      47394.18  137.695916  0.365258     0.24         randg  1000\n",
      "021U  47470.6      47410.70  136.882886  0.444415     0.25         randg  1000\n",
      "030C    316.6        315.77   15.128714  0.013399     0.16         randg  1000\n",
      "030T    961.3        955.76   25.569307  0.296907     0.25         randg  1000\n"
     ]
    },
    {
     "name": "stderr",
     "output_type": "stream",
     "text": [
      "\n"
     ]
    }
   ],
   "source": [
    "networks = ['randg']\n",
    "\n",
    "for network in networks:\n",
    "    for size in sizes:\n",
    "        current_dir = os.path.join(stability_dir, network, size)\n",
    "        print(current_dir)\n",
    "        pandas_df_lst = []\n",
    "        for rep, file in enumerate(glob.glob(os.path.join(current_dir, '*.tsv'))):\n",
    "            print(rep, file)\n",
    "            report = f.analyze_exctracted_network(cfg, file, network, rep, size, stability_motifs=True)\n",
    "            print(type(report))\n",
    "            pandas_df_lst.append(report)\n",
    "        #enrichment_report = pd.concat(pandas_df_lst)\n",
    "        pandas_df_list = sum(pandas_df_lst)/len(pandas_df_lst)\n",
    "        pandas_df_list['network_label'] = network\n",
    "        pandas_df_list['size'] = size\n",
    "        print(pandas_df_list)                                     \n",
    "        pandas_df_list.to_csv(os.path.join(stability_dir, 'z-scores', network+'_'+str(size)+'_z_score.tsv'))"
   ]
  },
  {
   "cell_type": "markdown",
   "metadata": {},
   "source": [
    "### DAG"
   ]
  },
  {
   "cell_type": "code",
   "execution_count": 53,
   "metadata": {},
   "outputs": [
    {
     "name": "stdout",
     "output_type": "stream",
     "text": [
      "/home/erik/sweden/sonnhammer/GeneSnake/generation/network_generation_algo/networks/old_stability_analysis/dag/250\n",
      "0 /home/erik/sweden/sonnhammer/GeneSnake/generation/network_generation_algo/networks/old_stability_analysis/dag/250/network_DAG_N250.tsv\n",
      "[[0 0 0 ... 0 0 0]\n",
      " [0 0 0 ... 0 0 0]\n",
      " [0 0 0 ... 0 0 0]\n",
      " ...\n",
      " [0 0 0 ... 0 0 0]\n",
      " [0 0 0 ... 0 0 0]\n",
      " [0 0 0 ... 0 0 0]]\n"
     ]
    },
    {
     "name": "stderr",
     "output_type": "stream",
     "text": [
      "100%|██████████| 1/1 [00:00<00:00,  2.00it/s]\n",
      "100%|██████████| 1/1 [00:00<00:00,  2.03it/s]\n",
      "100%|██████████| 1/1 [00:00<00:00,  1.97it/s]\n",
      "100%|██████████| 1/1 [00:00<00:00,  2.02it/s]\n",
      "100%|██████████| 1/1 [00:00<00:00,  1.99it/s]\n",
      "100%|██████████| 1/1 [00:00<00:00,  1.94it/s]\n",
      "100%|██████████| 1/1 [00:00<00:00,  2.00it/s]\n",
      "100%|██████████| 1/1 [00:00<00:00,  2.00it/s]\n",
      "100%|██████████| 1/1 [00:00<00:00,  2.10it/s]\n",
      "100%|██████████| 1/1 [00:00<00:00,  2.02it/s]"
     ]
    },
    {
     "name": "stdout",
     "output_type": "stream",
     "text": [
      "<class 'pandas.core.frame.DataFrame'>\n",
      "1 /home/erik/sweden/sonnhammer/GeneSnake/generation/network_generation_algo/networks/old_stability_analysis/dag/250/network_DAG_N250_test1.tsv\n",
      "[[0 0 0 ... 0 0 0]\n",
      " [0 0 0 ... 0 0 1]\n",
      " [0 0 0 ... 0 0 0]\n",
      " ...\n",
      " [0 0 0 ... 0 0 0]\n",
      " [0 0 0 ... 0 0 0]\n",
      " [0 0 0 ... 0 0 0]]\n"
     ]
    },
    {
     "name": "stderr",
     "output_type": "stream",
     "text": [
      "\n",
      "100%|██████████| 1/1 [00:00<00:00,  2.05it/s]\n",
      "100%|██████████| 1/1 [00:00<00:00,  2.02it/s]\n",
      "100%|██████████| 1/1 [00:00<00:00,  2.01it/s]\n",
      "100%|██████████| 1/1 [00:00<00:00,  2.03it/s]\n",
      "100%|██████████| 1/1 [00:00<00:00,  2.03it/s]\n",
      "100%|██████████| 1/1 [00:00<00:00,  2.01it/s]\n",
      "100%|██████████| 1/1 [00:00<00:00,  2.01it/s]\n",
      "100%|██████████| 1/1 [00:00<00:00,  2.01it/s]\n",
      "100%|██████████| 1/1 [00:00<00:00,  1.96it/s]\n",
      "100%|██████████| 1/1 [00:00<00:00,  2.01it/s]"
     ]
    },
    {
     "name": "stdout",
     "output_type": "stream",
     "text": [
      "<class 'pandas.core.frame.DataFrame'>\n",
      "2 /home/erik/sweden/sonnhammer/GeneSnake/generation/network_generation_algo/networks/old_stability_analysis/dag/250/network_DAG_N250_test7.tsv\n",
      "[[0 0 0 ... 0 0 0]\n",
      " [0 0 0 ... 0 0 0]\n",
      " [0 0 0 ... 0 0 0]\n",
      " ...\n",
      " [0 0 0 ... 0 0 0]\n",
      " [0 0 0 ... 0 0 0]\n",
      " [0 0 0 ... 0 0 0]]\n"
     ]
    },
    {
     "name": "stderr",
     "output_type": "stream",
     "text": [
      "\n",
      "100%|██████████| 1/1 [00:00<00:00,  2.02it/s]\n",
      "100%|██████████| 1/1 [00:00<00:00,  2.08it/s]\n",
      "100%|██████████| 1/1 [00:00<00:00,  1.96it/s]\n",
      "100%|██████████| 1/1 [00:00<00:00,  2.05it/s]\n",
      "100%|██████████| 1/1 [00:00<00:00,  2.01it/s]\n",
      "100%|██████████| 1/1 [00:00<00:00,  2.01it/s]\n",
      "100%|██████████| 1/1 [00:00<00:00,  2.01it/s]\n",
      "100%|██████████| 1/1 [00:00<00:00,  2.00it/s]\n",
      "100%|██████████| 1/1 [00:00<00:00,  2.10it/s]\n",
      "100%|██████████| 1/1 [00:00<00:00,  2.09it/s]"
     ]
    },
    {
     "name": "stdout",
     "output_type": "stream",
     "text": [
      "<class 'pandas.core.frame.DataFrame'>\n",
      "3 /home/erik/sweden/sonnhammer/GeneSnake/generation/network_generation_algo/networks/old_stability_analysis/dag/250/network_DAG_N250_test4.tsv\n",
      "[[0 0 0 ... 0 0 0]\n",
      " [0 0 0 ... 0 0 0]\n",
      " [0 0 0 ... 0 0 0]\n",
      " ...\n",
      " [0 0 0 ... 0 0 0]\n",
      " [0 0 0 ... 0 0 0]\n",
      " [0 0 0 ... 0 0 0]]\n"
     ]
    },
    {
     "name": "stderr",
     "output_type": "stream",
     "text": [
      "\n",
      "100%|██████████| 1/1 [00:00<00:00,  2.07it/s]\n",
      "100%|██████████| 1/1 [00:00<00:00,  2.02it/s]\n",
      "100%|██████████| 1/1 [00:00<00:00,  2.01it/s]\n",
      "100%|██████████| 1/1 [00:00<00:00,  2.09it/s]\n",
      "100%|██████████| 1/1 [00:00<00:00,  2.06it/s]\n",
      "100%|██████████| 1/1 [00:00<00:00,  2.08it/s]\n",
      "100%|██████████| 1/1 [00:00<00:00,  2.01it/s]\n",
      "100%|██████████| 1/1 [00:00<00:00,  2.00it/s]\n",
      "100%|██████████| 1/1 [00:00<00:00,  2.02it/s]\n",
      "100%|██████████| 1/1 [00:00<00:00,  2.01it/s]"
     ]
    },
    {
     "name": "stdout",
     "output_type": "stream",
     "text": [
      "<class 'pandas.core.frame.DataFrame'>\n",
      "4 /home/erik/sweden/sonnhammer/GeneSnake/generation/network_generation_algo/networks/old_stability_analysis/dag/250/network_DAG_N250_test8.tsv\n",
      "[[0 0 0 ... 0 0 0]\n",
      " [0 0 0 ... 0 0 0]\n",
      " [0 0 0 ... 0 0 0]\n",
      " ...\n",
      " [0 0 0 ... 0 0 0]\n",
      " [0 0 0 ... 0 0 0]\n",
      " [0 0 0 ... 0 0 0]]\n"
     ]
    },
    {
     "name": "stderr",
     "output_type": "stream",
     "text": [
      "\n",
      "100%|██████████| 1/1 [00:00<00:00,  2.09it/s]\n",
      "100%|██████████| 1/1 [00:00<00:00,  2.08it/s]\n",
      "100%|██████████| 1/1 [00:00<00:00,  2.08it/s]\n",
      "100%|██████████| 1/1 [00:00<00:00,  2.10it/s]\n",
      "100%|██████████| 1/1 [00:00<00:00,  2.07it/s]\n",
      "100%|██████████| 1/1 [00:00<00:00,  2.03it/s]\n",
      "100%|██████████| 1/1 [00:00<00:00,  2.07it/s]\n",
      "100%|██████████| 1/1 [00:00<00:00,  2.10it/s]\n",
      "100%|██████████| 1/1 [00:00<00:00,  2.08it/s]\n",
      "100%|██████████| 1/1 [00:00<00:00,  2.09it/s]"
     ]
    },
    {
     "name": "stdout",
     "output_type": "stream",
     "text": [
      "<class 'pandas.core.frame.DataFrame'>\n",
      "5 /home/erik/sweden/sonnhammer/GeneSnake/generation/network_generation_algo/networks/old_stability_analysis/dag/250/network_DAG_N250_test6.tsv\n",
      "[[0 0 0 ... 0 0 0]\n",
      " [0 0 0 ... 0 0 0]\n",
      " [0 0 0 ... 0 0 0]\n",
      " ...\n",
      " [0 0 0 ... 0 0 0]\n",
      " [0 0 0 ... 0 0 0]\n",
      " [0 0 0 ... 0 0 0]]\n"
     ]
    },
    {
     "name": "stderr",
     "output_type": "stream",
     "text": [
      "\n",
      "100%|██████████| 1/1 [00:00<00:00,  2.12it/s]\n",
      "100%|██████████| 1/1 [00:00<00:00,  2.03it/s]\n",
      "100%|██████████| 1/1 [00:00<00:00,  2.04it/s]\n",
      "100%|██████████| 1/1 [00:00<00:00,  2.12it/s]\n",
      "100%|██████████| 1/1 [00:00<00:00,  2.10it/s]\n",
      "100%|██████████| 1/1 [00:00<00:00,  2.04it/s]\n",
      "100%|██████████| 1/1 [00:00<00:00,  2.09it/s]\n",
      "100%|██████████| 1/1 [00:00<00:00,  2.10it/s]\n",
      "100%|██████████| 1/1 [00:00<00:00,  2.04it/s]\n",
      "100%|██████████| 1/1 [00:00<00:00,  2.04it/s]"
     ]
    },
    {
     "name": "stdout",
     "output_type": "stream",
     "text": [
      "<class 'pandas.core.frame.DataFrame'>\n",
      "6 /home/erik/sweden/sonnhammer/GeneSnake/generation/network_generation_algo/networks/old_stability_analysis/dag/250/network_DAG_N250_test5.tsv\n",
      "[[0 0 0 ... 0 0 0]\n",
      " [0 0 0 ... 0 0 0]\n",
      " [0 0 0 ... 0 0 0]\n",
      " ...\n",
      " [0 0 0 ... 0 0 0]\n",
      " [0 0 0 ... 0 0 0]\n",
      " [0 0 0 ... 0 0 0]]\n"
     ]
    },
    {
     "name": "stderr",
     "output_type": "stream",
     "text": [
      "\n",
      "100%|██████████| 1/1 [00:00<00:00,  2.04it/s]\n",
      "100%|██████████| 1/1 [00:00<00:00,  1.98it/s]\n",
      "100%|██████████| 1/1 [00:00<00:00,  2.11it/s]\n",
      "100%|██████████| 1/1 [00:00<00:00,  1.97it/s]\n",
      "100%|██████████| 1/1 [00:00<00:00,  2.05it/s]\n",
      "100%|██████████| 1/1 [00:00<00:00,  2.12it/s]\n",
      "100%|██████████| 1/1 [00:00<00:00,  2.09it/s]\n",
      "100%|██████████| 1/1 [00:00<00:00,  2.06it/s]\n",
      "100%|██████████| 1/1 [00:00<00:00,  2.10it/s]\n",
      "100%|██████████| 1/1 [00:00<00:00,  2.09it/s]"
     ]
    },
    {
     "name": "stdout",
     "output_type": "stream",
     "text": [
      "<class 'pandas.core.frame.DataFrame'>\n",
      "7 /home/erik/sweden/sonnhammer/GeneSnake/generation/network_generation_algo/networks/old_stability_analysis/dag/250/network_DAG_N250_test10.tsv\n",
      "[[0 0 0 ... 0 0 0]\n",
      " [0 0 0 ... 0 0 0]\n",
      " [0 0 0 ... 0 0 0]\n",
      " ...\n",
      " [0 0 0 ... 0 0 0]\n",
      " [0 0 0 ... 0 0 0]\n",
      " [0 0 0 ... 0 0 0]]\n"
     ]
    },
    {
     "name": "stderr",
     "output_type": "stream",
     "text": [
      "\n",
      "100%|██████████| 1/1 [00:00<00:00,  2.06it/s]\n",
      "100%|██████████| 1/1 [00:00<00:00,  2.02it/s]\n",
      "100%|██████████| 1/1 [00:00<00:00,  2.11it/s]\n",
      "100%|██████████| 1/1 [00:00<00:00,  2.00it/s]\n",
      "100%|██████████| 1/1 [00:00<00:00,  2.12it/s]\n",
      "100%|██████████| 1/1 [00:00<00:00,  2.04it/s]\n",
      "100%|██████████| 1/1 [00:00<00:00,  2.03it/s]\n",
      "100%|██████████| 1/1 [00:00<00:00,  2.11it/s]\n",
      "100%|██████████| 1/1 [00:00<00:00,  2.03it/s]\n",
      "100%|██████████| 1/1 [00:00<00:00,  2.07it/s]"
     ]
    },
    {
     "name": "stdout",
     "output_type": "stream",
     "text": [
      "<class 'pandas.core.frame.DataFrame'>\n",
      "8 /home/erik/sweden/sonnhammer/GeneSnake/generation/network_generation_algo/networks/old_stability_analysis/dag/250/network_DAG_N250_test9.tsv\n",
      "[[0 0 0 ... 0 0 0]\n",
      " [0 0 0 ... 0 0 0]\n",
      " [0 0 0 ... 0 0 0]\n",
      " ...\n",
      " [0 0 0 ... 0 0 0]\n",
      " [0 0 0 ... 0 0 0]\n",
      " [0 0 0 ... 0 0 0]]\n"
     ]
    },
    {
     "name": "stderr",
     "output_type": "stream",
     "text": [
      "\n",
      "100%|██████████| 1/1 [00:00<00:00,  2.10it/s]\n",
      "100%|██████████| 1/1 [00:00<00:00,  2.02it/s]\n",
      "100%|██████████| 1/1 [00:00<00:00,  1.98it/s]\n",
      "100%|██████████| 1/1 [00:00<00:00,  2.02it/s]\n",
      "100%|██████████| 1/1 [00:00<00:00,  2.03it/s]\n",
      "100%|██████████| 1/1 [00:00<00:00,  2.02it/s]\n",
      "100%|██████████| 1/1 [00:00<00:00,  2.04it/s]\n",
      "100%|██████████| 1/1 [00:00<00:00,  2.03it/s]\n",
      "100%|██████████| 1/1 [00:00<00:00,  2.03it/s]\n",
      "100%|██████████| 1/1 [00:00<00:00,  2.03it/s]"
     ]
    },
    {
     "name": "stdout",
     "output_type": "stream",
     "text": [
      "<class 'pandas.core.frame.DataFrame'>\n",
      "9 /home/erik/sweden/sonnhammer/GeneSnake/generation/network_generation_algo/networks/old_stability_analysis/dag/250/network_DAG_N250_test3.tsv\n",
      "[[0 0 0 ... 0 0 0]\n",
      " [0 0 0 ... 0 0 0]\n",
      " [0 0 0 ... 0 0 0]\n",
      " ...\n",
      " [0 0 0 ... 0 0 0]\n",
      " [0 0 0 ... 0 0 0]\n",
      " [0 0 0 ... 0 0 0]]\n"
     ]
    },
    {
     "name": "stderr",
     "output_type": "stream",
     "text": [
      "\n",
      "100%|██████████| 1/1 [00:00<00:00,  2.04it/s]\n",
      "100%|██████████| 1/1 [00:00<00:00,  2.03it/s]\n",
      "100%|██████████| 1/1 [00:00<00:00,  2.08it/s]\n",
      "100%|██████████| 1/1 [00:00<00:00,  2.04it/s]\n",
      "100%|██████████| 1/1 [00:00<00:00,  2.07it/s]\n",
      "100%|██████████| 1/1 [00:00<00:00,  2.08it/s]\n",
      "100%|██████████| 1/1 [00:00<00:00,  2.04it/s]\n",
      "100%|██████████| 1/1 [00:00<00:00,  2.03it/s]\n",
      "100%|██████████| 1/1 [00:00<00:00,  2.09it/s]\n",
      "100%|██████████| 1/1 [00:00<00:00,  2.01it/s]"
     ]
    },
    {
     "name": "stdout",
     "output_type": "stream",
     "text": [
      "<class 'pandas.core.frame.DataFrame'>\n",
      "10 /home/erik/sweden/sonnhammer/GeneSnake/generation/network_generation_algo/networks/old_stability_analysis/dag/250/network_DAG_N250_test2.tsv\n",
      "[[0 0 0 ... 0 0 0]\n",
      " [0 0 0 ... 0 0 0]\n",
      " [0 0 0 ... 0 0 0]\n",
      " ...\n",
      " [0 0 0 ... 0 0 0]\n",
      " [0 0 0 ... 0 0 0]\n",
      " [0 0 0 ... 0 0 0]]\n"
     ]
    },
    {
     "name": "stderr",
     "output_type": "stream",
     "text": [
      "\n",
      "100%|██████████| 1/1 [00:00<00:00,  2.00it/s]\n",
      "100%|██████████| 1/1 [00:00<00:00,  2.01it/s]\n",
      "100%|██████████| 1/1 [00:00<00:00,  2.02it/s]\n",
      "100%|██████████| 1/1 [00:00<00:00,  2.03it/s]\n",
      "100%|██████████| 1/1 [00:00<00:00,  2.02it/s]\n",
      "100%|██████████| 1/1 [00:00<00:00,  2.05it/s]\n",
      "100%|██████████| 1/1 [00:00<00:00,  2.09it/s]\n",
      "100%|██████████| 1/1 [00:00<00:00,  2.10it/s]\n",
      "100%|██████████| 1/1 [00:00<00:00,  2.02it/s]\n",
      "100%|██████████| 1/1 [00:00<00:00,  2.04it/s]"
     ]
    },
    {
     "name": "stdout",
     "output_type": "stream",
     "text": [
      "<class 'pandas.core.frame.DataFrame'>\n",
      "           N_real  mean(N_rand)  sd(N_rand)   Z-score   P-value network_label  \\\n",
      "021C  1355.545455   1302.218182   19.314344  2.976465  0.000000           dag   \n",
      "021D   792.000000    774.500000    9.548173  1.957152  0.036364           dag   \n",
      "021U   782.727273    765.763636    9.010374  1.898578  0.063636           dag   \n",
      "030C     0.000000      3.645455    1.735978 -2.139348  0.027273           dag   \n",
      "030T    14.818182     14.227273    3.357753  0.277539  0.309091           dag   \n",
      "\n",
      "     size  \n",
      "021C  250  \n",
      "021D  250  \n",
      "021U  250  \n",
      "030C  250  \n",
      "030T  250  \n",
      "/home/erik/sweden/sonnhammer/GeneSnake/generation/network_generation_algo/networks/old_stability_analysis/dag/500\n",
      "0 /home/erik/sweden/sonnhammer/GeneSnake/generation/network_generation_algo/networks/old_stability_analysis/dag/500/network_DAG_N500_test10.tsv\n",
      "[[0 0 0 ... 0 0 0]\n",
      " [0 0 0 ... 0 0 0]\n",
      " [0 0 0 ... 0 0 0]\n",
      " ...\n",
      " [0 0 0 ... 0 0 0]\n",
      " [0 0 0 ... 0 0 0]\n",
      " [0 0 0 ... 0 0 0]]\n"
     ]
    },
    {
     "name": "stderr",
     "output_type": "stream",
     "text": [
      "\n",
      "100%|██████████| 1/1 [00:00<00:00,  1.24it/s]\n",
      "100%|██████████| 1/1 [00:00<00:00,  1.23it/s]\n",
      "100%|██████████| 1/1 [00:00<00:00,  1.27it/s]\n",
      "100%|██████████| 1/1 [00:00<00:00,  1.24it/s]\n",
      "100%|██████████| 1/1 [00:00<00:00,  1.24it/s]\n",
      "100%|██████████| 1/1 [00:00<00:00,  1.27it/s]\n",
      "100%|██████████| 1/1 [00:00<00:00,  1.27it/s]\n",
      "100%|██████████| 1/1 [00:00<00:00,  1.25it/s]\n",
      "100%|██████████| 1/1 [00:00<00:00,  1.22it/s]\n",
      "100%|██████████| 1/1 [00:00<00:00,  1.22it/s]"
     ]
    },
    {
     "name": "stdout",
     "output_type": "stream",
     "text": [
      "<class 'pandas.core.frame.DataFrame'>\n",
      "1 /home/erik/sweden/sonnhammer/GeneSnake/generation/network_generation_algo/networks/old_stability_analysis/dag/500/network_DAG_N500_test5.tsv\n",
      "[[0 0 0 ... 0 0 0]\n",
      " [0 0 0 ... 0 0 0]\n",
      " [0 0 0 ... 0 0 0]\n",
      " ...\n",
      " [0 0 0 ... 0 0 0]\n",
      " [0 0 0 ... 0 0 0]\n",
      " [0 0 0 ... 0 0 0]]\n"
     ]
    },
    {
     "name": "stderr",
     "output_type": "stream",
     "text": [
      "\n",
      "100%|██████████| 1/1 [00:00<00:00,  1.21it/s]\n",
      "100%|██████████| 1/1 [00:00<00:00,  1.26it/s]\n",
      "100%|██████████| 1/1 [00:00<00:00,  1.22it/s]\n",
      "100%|██████████| 1/1 [00:00<00:00,  1.24it/s]\n",
      "100%|██████████| 1/1 [00:00<00:00,  1.23it/s]\n",
      "100%|██████████| 1/1 [00:00<00:00,  1.24it/s]\n",
      "100%|██████████| 1/1 [00:00<00:00,  1.23it/s]\n",
      "100%|██████████| 1/1 [00:00<00:00,  1.24it/s]\n",
      "100%|██████████| 1/1 [00:00<00:00,  1.23it/s]\n",
      "100%|██████████| 1/1 [00:00<00:00,  1.23it/s]"
     ]
    },
    {
     "name": "stdout",
     "output_type": "stream",
     "text": [
      "<class 'pandas.core.frame.DataFrame'>\n",
      "2 /home/erik/sweden/sonnhammer/GeneSnake/generation/network_generation_algo/networks/old_stability_analysis/dag/500/network_DAG_N500_test3.tsv\n",
      "[[0 0 0 ... 0 1 1]\n",
      " [0 0 0 ... 0 0 0]\n",
      " [0 0 0 ... 0 0 0]\n",
      " ...\n",
      " [0 0 0 ... 0 0 0]\n",
      " [0 0 0 ... 0 0 0]\n",
      " [0 0 0 ... 0 0 0]]\n"
     ]
    },
    {
     "name": "stderr",
     "output_type": "stream",
     "text": [
      "\n",
      "100%|██████████| 1/1 [00:00<00:00,  1.24it/s]\n",
      "100%|██████████| 1/1 [00:00<00:00,  1.26it/s]\n",
      "100%|██████████| 1/1 [00:00<00:00,  1.21it/s]\n",
      "100%|██████████| 1/1 [00:00<00:00,  1.23it/s]\n",
      "100%|██████████| 1/1 [00:00<00:00,  1.24it/s]\n",
      "100%|██████████| 1/1 [00:00<00:00,  1.26it/s]\n",
      "100%|██████████| 1/1 [00:00<00:00,  1.21it/s]\n",
      "100%|██████████| 1/1 [00:00<00:00,  1.23it/s]\n",
      "100%|██████████| 1/1 [00:00<00:00,  1.23it/s]\n",
      "100%|██████████| 1/1 [00:00<00:00,  1.21it/s]"
     ]
    },
    {
     "name": "stdout",
     "output_type": "stream",
     "text": [
      "<class 'pandas.core.frame.DataFrame'>\n",
      "3 /home/erik/sweden/sonnhammer/GeneSnake/generation/network_generation_algo/networks/old_stability_analysis/dag/500/network_DAG_N500_test4.tsv\n",
      "[[0 0 0 ... 0 0 0]\n",
      " [0 0 0 ... 0 0 0]\n",
      " [0 0 0 ... 0 0 0]\n",
      " ...\n",
      " [0 0 0 ... 0 0 0]\n",
      " [0 0 0 ... 0 0 0]\n",
      " [0 0 0 ... 0 0 0]]\n"
     ]
    },
    {
     "name": "stderr",
     "output_type": "stream",
     "text": [
      "\n",
      "100%|██████████| 1/1 [00:00<00:00,  1.23it/s]\n",
      "100%|██████████| 1/1 [00:00<00:00,  1.23it/s]\n",
      "100%|██████████| 1/1 [00:00<00:00,  1.22it/s]\n",
      "100%|██████████| 1/1 [00:00<00:00,  1.22it/s]\n",
      "100%|██████████| 1/1 [00:00<00:00,  1.23it/s]\n",
      "100%|██████████| 1/1 [00:00<00:00,  1.22it/s]\n",
      "100%|██████████| 1/1 [00:00<00:00,  1.23it/s]\n",
      "100%|██████████| 1/1 [00:00<00:00,  1.23it/s]\n",
      "100%|██████████| 1/1 [00:00<00:00,  1.21it/s]\n",
      "100%|██████████| 1/1 [00:00<00:00,  1.22it/s]"
     ]
    },
    {
     "name": "stdout",
     "output_type": "stream",
     "text": [
      "<class 'pandas.core.frame.DataFrame'>\n",
      "4 /home/erik/sweden/sonnhammer/GeneSnake/generation/network_generation_algo/networks/old_stability_analysis/dag/500/network_DAG_N500_test1.tsv\n",
      "[[0 0 0 ... 0 0 0]\n",
      " [0 0 0 ... 0 0 0]\n",
      " [0 0 0 ... 0 0 0]\n",
      " ...\n",
      " [0 0 0 ... 0 0 0]\n",
      " [0 0 0 ... 0 0 0]\n",
      " [0 0 0 ... 0 0 0]]\n"
     ]
    },
    {
     "name": "stderr",
     "output_type": "stream",
     "text": [
      "\n",
      "100%|██████████| 1/1 [00:00<00:00,  1.23it/s]\n",
      "100%|██████████| 1/1 [00:00<00:00,  1.24it/s]\n",
      "100%|██████████| 1/1 [00:00<00:00,  1.22it/s]\n",
      "100%|██████████| 1/1 [00:00<00:00,  1.23it/s]\n",
      "100%|██████████| 1/1 [00:00<00:00,  1.22it/s]\n",
      "100%|██████████| 1/1 [00:00<00:00,  1.22it/s]\n",
      "100%|██████████| 1/1 [00:00<00:00,  1.25it/s]\n",
      "100%|██████████| 1/1 [00:00<00:00,  1.22it/s]\n",
      "100%|██████████| 1/1 [00:00<00:00,  1.22it/s]\n",
      "100%|██████████| 1/1 [00:00<00:00,  1.21it/s]"
     ]
    },
    {
     "name": "stdout",
     "output_type": "stream",
     "text": [
      "<class 'pandas.core.frame.DataFrame'>\n",
      "5 /home/erik/sweden/sonnhammer/GeneSnake/generation/network_generation_algo/networks/old_stability_analysis/dag/500/network_DAG_N500.tsv\n",
      "[[0 0 0 ... 0 0 0]\n",
      " [0 0 0 ... 0 0 0]\n",
      " [0 0 0 ... 0 0 0]\n",
      " ...\n",
      " [0 0 0 ... 0 0 0]\n",
      " [0 0 0 ... 0 0 0]\n",
      " [0 0 0 ... 0 0 0]]\n"
     ]
    },
    {
     "name": "stderr",
     "output_type": "stream",
     "text": [
      "\n",
      "100%|██████████| 1/1 [00:00<00:00,  1.23it/s]\n",
      "100%|██████████| 1/1 [00:00<00:00,  1.22it/s]\n",
      "100%|██████████| 1/1 [00:00<00:00,  1.22it/s]\n",
      "100%|██████████| 1/1 [00:00<00:00,  1.23it/s]\n",
      "100%|██████████| 1/1 [00:00<00:00,  1.19it/s]\n",
      "100%|██████████| 1/1 [00:00<00:00,  1.25it/s]\n",
      "100%|██████████| 1/1 [00:00<00:00,  1.23it/s]\n",
      "100%|██████████| 1/1 [00:00<00:00,  1.25it/s]\n",
      "100%|██████████| 1/1 [00:00<00:00,  1.23it/s]\n",
      "100%|██████████| 1/1 [00:00<00:00,  1.21it/s]"
     ]
    },
    {
     "name": "stdout",
     "output_type": "stream",
     "text": [
      "<class 'pandas.core.frame.DataFrame'>\n",
      "6 /home/erik/sweden/sonnhammer/GeneSnake/generation/network_generation_algo/networks/old_stability_analysis/dag/500/network_DAG_N500_test2.tsv\n",
      "[[0 0 0 ... 0 0 0]\n",
      " [0 0 0 ... 0 0 1]\n",
      " [0 0 0 ... 0 0 0]\n",
      " ...\n",
      " [0 1 0 ... 0 1 0]\n",
      " [0 0 0 ... 0 0 0]\n",
      " [0 0 0 ... 0 0 0]]\n"
     ]
    },
    {
     "name": "stderr",
     "output_type": "stream",
     "text": [
      "\n",
      "100%|██████████| 1/1 [00:00<00:00,  1.25it/s]\n",
      "100%|██████████| 1/1 [00:00<00:00,  1.23it/s]\n",
      "100%|██████████| 1/1 [00:00<00:00,  1.25it/s]\n",
      "100%|██████████| 1/1 [00:00<00:00,  1.22it/s]\n",
      "100%|██████████| 1/1 [00:00<00:00,  1.19it/s]\n",
      "100%|██████████| 1/1 [00:00<00:00,  1.25it/s]\n",
      "100%|██████████| 1/1 [00:00<00:00,  1.22it/s]\n",
      "100%|██████████| 1/1 [00:00<00:00,  1.22it/s]\n",
      "100%|██████████| 1/1 [00:00<00:00,  1.22it/s]\n",
      "100%|██████████| 1/1 [00:00<00:00,  1.21it/s]"
     ]
    },
    {
     "name": "stdout",
     "output_type": "stream",
     "text": [
      "<class 'pandas.core.frame.DataFrame'>\n",
      "7 /home/erik/sweden/sonnhammer/GeneSnake/generation/network_generation_algo/networks/old_stability_analysis/dag/500/network_DAG_N500_test9.tsv\n",
      "[[0 0 0 ... 0 0 0]\n",
      " [0 0 0 ... 0 0 0]\n",
      " [0 0 0 ... 0 0 0]\n",
      " ...\n",
      " [0 0 0 ... 0 0 0]\n",
      " [0 0 0 ... 0 0 0]\n",
      " [0 0 0 ... 0 0 0]]\n"
     ]
    },
    {
     "name": "stderr",
     "output_type": "stream",
     "text": [
      "\n",
      "100%|██████████| 1/1 [00:00<00:00,  1.25it/s]\n",
      "100%|██████████| 1/1 [00:00<00:00,  1.21it/s]\n",
      "100%|██████████| 1/1 [00:00<00:00,  1.22it/s]\n",
      "100%|██████████| 1/1 [00:00<00:00,  1.22it/s]\n",
      "100%|██████████| 1/1 [00:00<00:00,  1.21it/s]\n",
      "100%|██████████| 1/1 [00:00<00:00,  1.21it/s]\n",
      "100%|██████████| 1/1 [00:00<00:00,  1.22it/s]\n",
      "100%|██████████| 1/1 [00:00<00:00,  1.22it/s]\n",
      "100%|██████████| 1/1 [00:00<00:00,  1.22it/s]\n",
      "100%|██████████| 1/1 [00:00<00:00,  1.22it/s]"
     ]
    },
    {
     "name": "stdout",
     "output_type": "stream",
     "text": [
      "<class 'pandas.core.frame.DataFrame'>\n",
      "8 /home/erik/sweden/sonnhammer/GeneSnake/generation/network_generation_algo/networks/old_stability_analysis/dag/500/network_DAG_N500_test6.tsv\n",
      "[[0 0 0 ... 0 0 0]\n",
      " [0 0 0 ... 0 0 0]\n",
      " [0 0 0 ... 0 0 0]\n",
      " ...\n",
      " [0 0 0 ... 0 0 0]\n",
      " [0 0 0 ... 0 0 0]\n",
      " [0 0 0 ... 0 0 0]]\n"
     ]
    },
    {
     "name": "stderr",
     "output_type": "stream",
     "text": [
      "\n",
      "100%|██████████| 1/1 [00:00<00:00,  1.22it/s]\n",
      "100%|██████████| 1/1 [00:00<00:00,  1.20it/s]\n",
      "100%|██████████| 1/1 [00:00<00:00,  1.21it/s]\n",
      "100%|██████████| 1/1 [00:00<00:00,  1.20it/s]\n",
      "100%|██████████| 1/1 [00:00<00:00,  1.21it/s]\n",
      "100%|██████████| 1/1 [00:00<00:00,  1.25it/s]\n",
      "100%|██████████| 1/1 [00:01<00:00,  1.02s/it]\n",
      "100%|██████████| 1/1 [00:01<00:00,  1.16s/it]\n",
      "100%|██████████| 1/1 [00:01<00:00,  1.02s/it]\n",
      "100%|██████████| 1/1 [00:01<00:00,  1.05s/it]"
     ]
    },
    {
     "name": "stdout",
     "output_type": "stream",
     "text": [
      "<class 'pandas.core.frame.DataFrame'>\n",
      "9 /home/erik/sweden/sonnhammer/GeneSnake/generation/network_generation_algo/networks/old_stability_analysis/dag/500/network_DAG_N500_test7.tsv\n",
      "[[0 0 0 ... 0 0 0]\n",
      " [0 0 0 ... 0 1 0]\n",
      " [0 0 0 ... 0 0 0]\n",
      " ...\n",
      " [0 0 0 ... 0 0 0]\n",
      " [0 0 0 ... 0 0 0]\n",
      " [0 0 0 ... 0 0 0]]\n"
     ]
    },
    {
     "name": "stderr",
     "output_type": "stream",
     "text": [
      "\n",
      "100%|██████████| 1/1 [00:01<00:00,  1.14s/it]\n",
      "100%|██████████| 1/1 [00:01<00:00,  1.01s/it]\n",
      "100%|██████████| 1/1 [00:01<00:00,  1.03s/it]\n",
      "100%|██████████| 1/1 [00:01<00:00,  1.03s/it]\n",
      "100%|██████████| 1/1 [00:01<00:00,  1.01s/it]\n",
      "100%|██████████| 1/1 [00:01<00:00,  1.14s/it]\n",
      "100%|██████████| 1/1 [00:01<00:00,  1.05s/it]\n",
      "100%|██████████| 1/1 [00:01<00:00,  1.01s/it]\n",
      "100%|██████████| 1/1 [00:01<00:00,  1.01s/it]\n",
      "100%|██████████| 1/1 [00:01<00:00,  1.02s/it]"
     ]
    },
    {
     "name": "stdout",
     "output_type": "stream",
     "text": [
      "<class 'pandas.core.frame.DataFrame'>\n",
      "10 /home/erik/sweden/sonnhammer/GeneSnake/generation/network_generation_algo/networks/old_stability_analysis/dag/500/network_DAG_N500_test8.tsv\n",
      "[[0 0 0 ... 0 0 0]\n",
      " [0 0 0 ... 0 0 0]\n",
      " [0 0 0 ... 0 0 0]\n",
      " ...\n",
      " [0 0 0 ... 0 0 0]\n",
      " [0 0 0 ... 0 0 0]\n",
      " [0 0 0 ... 0 0 0]]\n"
     ]
    },
    {
     "name": "stderr",
     "output_type": "stream",
     "text": [
      "\n",
      "100%|██████████| 1/1 [00:01<00:00,  1.04s/it]\n",
      "100%|██████████| 1/1 [00:01<00:00,  1.02s/it]\n",
      "100%|██████████| 1/1 [00:01<00:00,  1.04s/it]\n",
      "100%|██████████| 1/1 [00:01<00:00,  1.04s/it]\n",
      "100%|██████████| 1/1 [00:01<00:00,  1.06s/it]\n",
      "100%|██████████| 1/1 [00:01<00:00,  1.04s/it]\n",
      "100%|██████████| 1/1 [00:01<00:00,  1.02s/it]\n",
      "100%|██████████| 1/1 [00:01<00:00,  1.02s/it]\n",
      "100%|██████████| 1/1 [00:01<00:00,  1.04s/it]\n",
      "100%|██████████| 1/1 [00:01<00:00,  1.01s/it]"
     ]
    },
    {
     "name": "stdout",
     "output_type": "stream",
     "text": [
      "<class 'pandas.core.frame.DataFrame'>\n",
      "           N_real  mean(N_rand)  sd(N_rand)   Z-score   P-value network_label  \\\n",
      "021C  9853.909091   9597.827273   59.907493  4.340959  0.000000           dag   \n",
      "021D  6980.090909   6908.381818   30.090475  2.414902  0.009091           dag   \n",
      "021U  7085.363636   7010.436364   29.420703  2.609260  0.000000           dag   \n",
      "030C     0.000000     20.763636    4.141221 -5.177596  0.000000           dag   \n",
      "030T   161.454545    134.481818   10.113991  3.096752  0.027273           dag   \n",
      "\n",
      "     size  \n",
      "021C  500  \n",
      "021D  500  \n",
      "021U  500  \n",
      "030C  500  \n",
      "030T  500  \n",
      "/home/erik/sweden/sonnhammer/GeneSnake/generation/network_generation_algo/networks/old_stability_analysis/dag/750\n",
      "0 /home/erik/sweden/sonnhammer/GeneSnake/generation/network_generation_algo/networks/old_stability_analysis/dag/750/network_DAG_N750_test9.tsv\n",
      "[[0 0 0 ... 0 0 1]\n",
      " [0 0 0 ... 0 0 0]\n",
      " [0 0 0 ... 0 0 1]\n",
      " ...\n",
      " [0 0 0 ... 0 0 0]\n",
      " [0 0 0 ... 0 0 0]\n",
      " [0 0 0 ... 0 0 0]]\n"
     ]
    },
    {
     "name": "stderr",
     "output_type": "stream",
     "text": [
      "\n",
      "100%|██████████| 1/1 [00:01<00:00,  1.72s/it]\n",
      "100%|██████████| 1/1 [00:01<00:00,  1.77s/it]\n",
      "100%|██████████| 1/1 [00:01<00:00,  1.76s/it]\n",
      "100%|██████████| 1/1 [00:01<00:00,  1.76s/it]\n",
      "100%|██████████| 1/1 [00:01<00:00,  1.75s/it]\n",
      "100%|██████████| 1/1 [00:01<00:00,  1.78s/it]\n",
      "100%|██████████| 1/1 [00:01<00:00,  1.77s/it]\n",
      "100%|██████████| 1/1 [00:01<00:00,  1.88s/it]\n",
      "100%|██████████| 1/1 [00:01<00:00,  1.85s/it]\n",
      "100%|██████████| 1/1 [00:01<00:00,  1.90s/it]"
     ]
    },
    {
     "name": "stdout",
     "output_type": "stream",
     "text": [
      "<class 'pandas.core.frame.DataFrame'>\n",
      "1 /home/erik/sweden/sonnhammer/GeneSnake/generation/network_generation_algo/networks/old_stability_analysis/dag/750/network_DAG_N750_test1.tsv\n",
      "[[0 0 0 ... 0 0 0]\n",
      " [0 0 0 ... 0 0 0]\n",
      " [0 0 0 ... 0 0 0]\n",
      " ...\n",
      " [0 0 0 ... 0 0 0]\n",
      " [0 0 0 ... 0 0 0]\n",
      " [0 0 0 ... 0 0 0]]\n"
     ]
    },
    {
     "name": "stderr",
     "output_type": "stream",
     "text": [
      "\n",
      "100%|██████████| 1/1 [00:01<00:00,  1.75s/it]\n",
      "100%|██████████| 1/1 [00:01<00:00,  1.78s/it]\n",
      "100%|██████████| 1/1 [00:01<00:00,  1.81s/it]\n",
      "100%|██████████| 1/1 [00:02<00:00,  2.05s/it]\n",
      "100%|██████████| 1/1 [00:01<00:00,  1.82s/it]\n",
      "100%|██████████| 1/1 [00:01<00:00,  1.33s/it]\n",
      "100%|██████████| 1/1 [00:01<00:00,  1.45s/it]\n",
      "100%|██████████| 1/1 [00:01<00:00,  1.38s/it]\n",
      "100%|██████████| 1/1 [00:01<00:00,  1.34s/it]\n",
      "100%|██████████| 1/1 [00:01<00:00,  1.48s/it]"
     ]
    },
    {
     "name": "stdout",
     "output_type": "stream",
     "text": [
      "<class 'pandas.core.frame.DataFrame'>\n",
      "2 /home/erik/sweden/sonnhammer/GeneSnake/generation/network_generation_algo/networks/old_stability_analysis/dag/750/network_DAG_N750.tsv\n",
      "[[0 0 0 ... 0 0 0]\n",
      " [0 0 0 ... 0 0 0]\n",
      " [0 0 0 ... 0 0 0]\n",
      " ...\n",
      " [0 0 0 ... 0 1 0]\n",
      " [0 0 0 ... 0 0 0]\n",
      " [0 0 0 ... 0 0 0]]\n"
     ]
    },
    {
     "name": "stderr",
     "output_type": "stream",
     "text": [
      "\n",
      "100%|██████████| 1/1 [00:01<00:00,  1.45s/it]\n",
      "100%|██████████| 1/1 [00:01<00:00,  1.35s/it]\n",
      "100%|██████████| 1/1 [00:01<00:00,  1.43s/it]\n",
      "100%|██████████| 1/1 [00:01<00:00,  1.36s/it]\n",
      "100%|██████████| 1/1 [00:01<00:00,  1.43s/it]\n",
      "100%|██████████| 1/1 [00:01<00:00,  1.33s/it]\n",
      "100%|██████████| 1/1 [00:01<00:00,  1.33s/it]\n",
      "100%|██████████| 1/1 [00:01<00:00,  1.46s/it]\n",
      "100%|██████████| 1/1 [00:01<00:00,  1.36s/it]\n",
      "100%|██████████| 1/1 [00:01<00:00,  1.40s/it]"
     ]
    },
    {
     "name": "stdout",
     "output_type": "stream",
     "text": [
      "<class 'pandas.core.frame.DataFrame'>\n",
      "3 /home/erik/sweden/sonnhammer/GeneSnake/generation/network_generation_algo/networks/old_stability_analysis/dag/750/network_DAG_N750_test7.tsv\n",
      "[[0 0 0 ... 0 0 0]\n",
      " [0 0 0 ... 0 0 0]\n",
      " [0 0 0 ... 0 0 0]\n",
      " ...\n",
      " [0 0 0 ... 0 0 0]\n",
      " [0 0 0 ... 0 0 0]\n",
      " [0 0 0 ... 0 0 0]]\n"
     ]
    },
    {
     "name": "stderr",
     "output_type": "stream",
     "text": [
      "\n",
      "100%|██████████| 1/1 [00:01<00:00,  1.36s/it]\n",
      "100%|██████████| 1/1 [00:01<00:00,  1.34s/it]\n",
      "100%|██████████| 1/1 [00:01<00:00,  1.45s/it]\n",
      "100%|██████████| 1/1 [00:01<00:00,  1.49s/it]\n",
      "100%|██████████| 1/1 [00:01<00:00,  1.33s/it]\n",
      "100%|██████████| 1/1 [00:01<00:00,  1.40s/it]\n",
      "100%|██████████| 1/1 [00:01<00:00,  1.34s/it]\n",
      "100%|██████████| 1/1 [00:01<00:00,  1.35s/it]\n",
      "100%|██████████| 1/1 [00:01<00:00,  1.44s/it]\n",
      "100%|██████████| 1/1 [00:01<00:00,  1.34s/it]"
     ]
    },
    {
     "name": "stdout",
     "output_type": "stream",
     "text": [
      "<class 'pandas.core.frame.DataFrame'>\n",
      "4 /home/erik/sweden/sonnhammer/GeneSnake/generation/network_generation_algo/networks/old_stability_analysis/dag/750/network_DAG_N750_test2.tsv\n",
      "[[0 0 0 ... 0 0 0]\n",
      " [0 0 0 ... 0 0 0]\n",
      " [0 0 0 ... 0 0 0]\n",
      " ...\n",
      " [0 0 0 ... 0 0 0]\n",
      " [0 0 0 ... 0 0 0]\n",
      " [0 0 0 ... 0 0 0]]\n"
     ]
    },
    {
     "name": "stderr",
     "output_type": "stream",
     "text": [
      "\n",
      "100%|██████████| 1/1 [00:01<00:00,  1.34s/it]\n",
      "100%|██████████| 1/1 [00:01<00:00,  1.37s/it]\n",
      "100%|██████████| 1/1 [00:01<00:00,  1.40s/it]\n",
      "100%|██████████| 1/1 [00:01<00:00,  1.37s/it]\n",
      "100%|██████████| 1/1 [00:01<00:00,  1.38s/it]\n",
      "100%|██████████| 1/1 [00:01<00:00,  1.35s/it]\n",
      "100%|██████████| 1/1 [00:01<00:00,  1.47s/it]\n",
      "100%|██████████| 1/1 [00:01<00:00,  1.38s/it]\n",
      "100%|██████████| 1/1 [00:01<00:00,  1.37s/it]\n",
      "100%|██████████| 1/1 [00:01<00:00,  1.46s/it]"
     ]
    },
    {
     "name": "stdout",
     "output_type": "stream",
     "text": [
      "<class 'pandas.core.frame.DataFrame'>\n",
      "5 /home/erik/sweden/sonnhammer/GeneSnake/generation/network_generation_algo/networks/old_stability_analysis/dag/750/network_DAG_N750_test3.tsv\n",
      "[[0 0 0 ... 0 0 0]\n",
      " [0 0 0 ... 0 0 0]\n",
      " [0 0 0 ... 0 0 0]\n",
      " ...\n",
      " [0 0 0 ... 0 0 0]\n",
      " [0 0 0 ... 0 0 0]\n",
      " [0 0 0 ... 0 0 0]]\n"
     ]
    },
    {
     "name": "stderr",
     "output_type": "stream",
     "text": [
      "\n",
      "100%|██████████| 1/1 [00:01<00:00,  1.38s/it]\n",
      "100%|██████████| 1/1 [00:01<00:00,  1.35s/it]\n",
      "100%|██████████| 1/1 [00:01<00:00,  1.45s/it]\n",
      "100%|██████████| 1/1 [00:01<00:00,  1.34s/it]\n",
      "100%|██████████| 1/1 [00:01<00:00,  1.36s/it]\n",
      "100%|██████████| 1/1 [00:01<00:00,  1.46s/it]\n",
      "100%|██████████| 1/1 [00:01<00:00,  1.46s/it]\n",
      "100%|██████████| 1/1 [00:01<00:00,  1.45s/it]\n",
      "100%|██████████| 1/1 [00:01<00:00,  1.38s/it]\n",
      "100%|██████████| 1/1 [00:01<00:00,  1.36s/it]"
     ]
    },
    {
     "name": "stdout",
     "output_type": "stream",
     "text": [
      "<class 'pandas.core.frame.DataFrame'>\n",
      "6 /home/erik/sweden/sonnhammer/GeneSnake/generation/network_generation_algo/networks/old_stability_analysis/dag/750/network_DAG_N750_test4.tsv\n",
      "[[0 0 0 ... 0 0 0]\n",
      " [0 0 0 ... 0 1 0]\n",
      " [0 0 0 ... 0 0 0]\n",
      " ...\n",
      " [0 0 0 ... 0 0 0]\n",
      " [0 0 0 ... 0 0 0]\n",
      " [0 0 0 ... 0 0 0]]\n"
     ]
    },
    {
     "name": "stderr",
     "output_type": "stream",
     "text": [
      "\n",
      "100%|██████████| 1/1 [00:01<00:00,  1.49s/it]\n",
      "100%|██████████| 1/1 [00:01<00:00,  1.36s/it]\n",
      "100%|██████████| 1/1 [00:01<00:00,  1.35s/it]\n",
      "100%|██████████| 1/1 [00:01<00:00,  1.46s/it]\n",
      "100%|██████████| 1/1 [00:01<00:00,  1.35s/it]\n",
      "100%|██████████| 1/1 [00:01<00:00,  1.36s/it]\n",
      "100%|██████████| 1/1 [00:01<00:00,  1.37s/it]\n",
      "100%|██████████| 1/1 [00:01<00:00,  1.48s/it]\n",
      "100%|██████████| 1/1 [00:01<00:00,  1.37s/it]\n",
      "100%|██████████| 1/1 [00:01<00:00,  1.37s/it]"
     ]
    },
    {
     "name": "stdout",
     "output_type": "stream",
     "text": [
      "<class 'pandas.core.frame.DataFrame'>\n",
      "7 /home/erik/sweden/sonnhammer/GeneSnake/generation/network_generation_algo/networks/old_stability_analysis/dag/750/network_DAG_N750_test8.tsv\n",
      "[[0 0 0 ... 0 0 0]\n",
      " [0 0 0 ... 0 0 0]\n",
      " [0 0 0 ... 0 0 0]\n",
      " ...\n",
      " [0 0 0 ... 0 0 0]\n",
      " [0 0 0 ... 0 0 0]\n",
      " [0 0 0 ... 0 0 0]]\n"
     ]
    },
    {
     "name": "stderr",
     "output_type": "stream",
     "text": [
      "\n",
      "100%|██████████| 1/1 [00:01<00:00,  1.46s/it]\n",
      "100%|██████████| 1/1 [00:01<00:00,  1.38s/it]\n",
      "100%|██████████| 1/1 [00:01<00:00,  1.46s/it]\n",
      "100%|██████████| 1/1 [00:01<00:00,  1.37s/it]\n",
      "100%|██████████| 1/1 [00:01<00:00,  1.39s/it]\n",
      "100%|██████████| 1/1 [00:01<00:00,  1.39s/it]\n",
      "100%|██████████| 1/1 [00:01<00:00,  1.40s/it]\n",
      "100%|██████████| 1/1 [00:01<00:00,  1.38s/it]\n",
      "100%|██████████| 1/1 [00:01<00:00,  1.42s/it]\n",
      "100%|██████████| 1/1 [00:01<00:00,  1.47s/it]"
     ]
    },
    {
     "name": "stdout",
     "output_type": "stream",
     "text": [
      "<class 'pandas.core.frame.DataFrame'>\n",
      "8 /home/erik/sweden/sonnhammer/GeneSnake/generation/network_generation_algo/networks/old_stability_analysis/dag/750/network_DAG_N750_test6.tsv\n",
      "[[0 0 0 ... 0 0 0]\n",
      " [0 0 0 ... 0 0 0]\n",
      " [0 0 0 ... 0 0 0]\n",
      " ...\n",
      " [0 0 0 ... 0 0 0]\n",
      " [0 0 0 ... 0 0 0]\n",
      " [0 0 0 ... 0 0 0]]\n"
     ]
    },
    {
     "name": "stderr",
     "output_type": "stream",
     "text": [
      "\n",
      "100%|██████████| 1/1 [00:01<00:00,  1.46s/it]\n",
      "100%|██████████| 1/1 [00:01<00:00,  1.39s/it]\n",
      "100%|██████████| 1/1 [00:01<00:00,  1.47s/it]\n",
      "100%|██████████| 1/1 [00:01<00:00,  1.49s/it]\n",
      "100%|██████████| 1/1 [00:01<00:00,  1.47s/it]\n",
      "100%|██████████| 1/1 [00:01<00:00,  1.63s/it]\n",
      "100%|██████████| 1/1 [00:01<00:00,  1.40s/it]\n",
      "100%|██████████| 1/1 [00:01<00:00,  1.36s/it]\n",
      "100%|██████████| 1/1 [00:01<00:00,  1.46s/it]\n",
      "100%|██████████| 1/1 [00:01<00:00,  1.43s/it]"
     ]
    },
    {
     "name": "stdout",
     "output_type": "stream",
     "text": [
      "<class 'pandas.core.frame.DataFrame'>\n",
      "9 /home/erik/sweden/sonnhammer/GeneSnake/generation/network_generation_algo/networks/old_stability_analysis/dag/750/network_DAG_N750_test10.tsv\n",
      "[[0 0 0 ... 0 0 0]\n",
      " [0 0 0 ... 0 0 0]\n",
      " [0 0 0 ... 0 0 0]\n",
      " ...\n",
      " [0 0 0 ... 0 0 0]\n",
      " [0 0 0 ... 0 0 0]\n",
      " [0 0 0 ... 0 0 0]]\n"
     ]
    },
    {
     "name": "stderr",
     "output_type": "stream",
     "text": [
      "\n",
      "100%|██████████| 1/1 [00:01<00:00,  1.37s/it]\n",
      "100%|██████████| 1/1 [00:01<00:00,  1.42s/it]\n",
      "100%|██████████| 1/1 [00:01<00:00,  1.47s/it]\n",
      "100%|██████████| 1/1 [00:01<00:00,  1.37s/it]\n",
      "100%|██████████| 1/1 [00:01<00:00,  1.49s/it]\n",
      "100%|██████████| 1/1 [00:01<00:00,  1.47s/it]\n",
      "100%|██████████| 1/1 [00:01<00:00,  1.47s/it]\n",
      "100%|██████████| 1/1 [00:01<00:00,  1.35s/it]\n",
      "100%|██████████| 1/1 [00:01<00:00,  1.50s/it]\n",
      "100%|██████████| 1/1 [00:01<00:00,  1.48s/it]"
     ]
    },
    {
     "name": "stdout",
     "output_type": "stream",
     "text": [
      "<class 'pandas.core.frame.DataFrame'>\n",
      "10 /home/erik/sweden/sonnhammer/GeneSnake/generation/network_generation_algo/networks/old_stability_analysis/dag/750/network_DAG_N750_test5.tsv\n",
      "[[0 0 0 ... 0 0 0]\n",
      " [0 0 0 ... 0 0 0]\n",
      " [0 0 0 ... 0 0 0]\n",
      " ...\n",
      " [0 0 0 ... 0 0 0]\n",
      " [0 0 0 ... 0 0 0]\n",
      " [0 0 0 ... 0 0 0]]\n"
     ]
    },
    {
     "name": "stderr",
     "output_type": "stream",
     "text": [
      "\n",
      "100%|██████████| 1/1 [00:01<00:00,  1.46s/it]\n",
      "100%|██████████| 1/1 [00:01<00:00,  1.47s/it]\n",
      "100%|██████████| 1/1 [00:01<00:00,  1.47s/it]\n",
      "100%|██████████| 1/1 [00:01<00:00,  1.45s/it]\n",
      "100%|██████████| 1/1 [00:01<00:00,  1.43s/it]\n",
      "100%|██████████| 1/1 [00:01<00:00,  1.49s/it]\n",
      "100%|██████████| 1/1 [00:01<00:00,  1.41s/it]\n",
      "100%|██████████| 1/1 [00:01<00:00,  1.78s/it]\n",
      "100%|██████████| 1/1 [00:01<00:00,  1.98s/it]\n",
      "100%|██████████| 1/1 [00:01<00:00,  1.84s/it]\n"
     ]
    },
    {
     "name": "stdout",
     "output_type": "stream",
     "text": [
      "<class 'pandas.core.frame.DataFrame'>\n",
      "            N_real  mean(N_rand)  sd(N_rand)   Z-score   P-value  \\\n",
      "021C  32023.090909  31313.563636  129.355494  5.700566  0.000000   \n",
      "021D  24796.454545  24588.900000   67.587665  3.141882  0.000000   \n",
      "021U  24714.727273  24506.845455   60.719494  3.512123  0.000000   \n",
      "030C      0.000000     62.700000    7.312149 -8.835087  0.000000   \n",
      "030T    535.818182    466.263636   18.908174  3.913189  0.018182   \n",
      "\n",
      "     network_label size  \n",
      "021C           dag  750  \n",
      "021D           dag  750  \n",
      "021U           dag  750  \n",
      "030C           dag  750  \n",
      "030T           dag  750  \n",
      "/home/erik/sweden/sonnhammer/GeneSnake/generation/network_generation_algo/networks/old_stability_analysis/dag/1000\n",
      "0 /home/erik/sweden/sonnhammer/GeneSnake/generation/network_generation_algo/networks/old_stability_analysis/dag/1000/network_DAG_N1000_test3.tsv\n",
      "[[0 0 0 ... 0 0 0]\n",
      " [0 0 0 ... 0 0 0]\n",
      " [0 0 0 ... 0 0 0]\n",
      " ...\n",
      " [0 0 0 ... 0 0 0]\n",
      " [0 0 0 ... 0 0 0]\n",
      " [0 0 0 ... 0 0 0]]\n"
     ]
    },
    {
     "name": "stderr",
     "output_type": "stream",
     "text": [
      "100%|██████████| 1/1 [00:02<00:00,  2.50s/it]\n",
      "100%|██████████| 1/1 [00:02<00:00,  2.40s/it]\n",
      "100%|██████████| 1/1 [00:02<00:00,  2.51s/it]\n",
      "100%|██████████| 1/1 [00:02<00:00,  2.58s/it]\n",
      "100%|██████████| 1/1 [00:02<00:00,  2.62s/it]\n",
      "100%|██████████| 1/1 [00:02<00:00,  2.49s/it]\n",
      "100%|██████████| 1/1 [00:02<00:00,  2.60s/it]\n",
      "100%|██████████| 1/1 [00:02<00:00,  2.60s/it]\n",
      "100%|██████████| 1/1 [00:02<00:00,  2.50s/it]\n",
      "100%|██████████| 1/1 [00:02<00:00,  2.60s/it]\n"
     ]
    },
    {
     "name": "stdout",
     "output_type": "stream",
     "text": [
      "<class 'pandas.core.frame.DataFrame'>\n",
      "1 /home/erik/sweden/sonnhammer/GeneSnake/generation/network_generation_algo/networks/old_stability_analysis/dag/1000/network_DAG_N1000_test5.tsv\n",
      "[[0 0 0 ... 0 0 0]\n",
      " [0 0 0 ... 0 0 0]\n",
      " [0 0 0 ... 0 0 0]\n",
      " ...\n",
      " [0 0 0 ... 0 0 0]\n",
      " [0 0 0 ... 0 0 0]\n",
      " [0 0 0 ... 0 0 0]]\n"
     ]
    },
    {
     "name": "stderr",
     "output_type": "stream",
     "text": [
      "100%|██████████| 1/1 [00:02<00:00,  2.58s/it]\n",
      "100%|██████████| 1/1 [00:02<00:00,  2.57s/it]\n",
      "100%|██████████| 1/1 [00:02<00:00,  2.59s/it]\n",
      "100%|██████████| 1/1 [00:02<00:00,  2.61s/it]\n",
      "100%|██████████| 1/1 [00:02<00:00,  2.59s/it]\n",
      "100%|██████████| 1/1 [00:02<00:00,  2.61s/it]\n",
      "100%|██████████| 1/1 [00:02<00:00,  2.58s/it]\n",
      "100%|██████████| 1/1 [00:02<00:00,  2.61s/it]\n",
      "100%|██████████| 1/1 [00:02<00:00,  2.60s/it]\n",
      "100%|██████████| 1/1 [00:02<00:00,  2.71s/it]\n"
     ]
    },
    {
     "name": "stdout",
     "output_type": "stream",
     "text": [
      "<class 'pandas.core.frame.DataFrame'>\n",
      "2 /home/erik/sweden/sonnhammer/GeneSnake/generation/network_generation_algo/networks/old_stability_analysis/dag/1000/network_DAG_N1000_test1.tsv\n",
      "[[0 0 0 ... 0 0 0]\n",
      " [0 0 0 ... 0 0 0]\n",
      " [0 0 0 ... 0 0 0]\n",
      " ...\n",
      " [0 0 0 ... 0 0 0]\n",
      " [0 0 0 ... 0 0 0]\n",
      " [0 0 0 ... 0 0 0]]\n"
     ]
    },
    {
     "name": "stderr",
     "output_type": "stream",
     "text": [
      "100%|██████████| 1/1 [00:02<00:00,  2.59s/it]\n",
      "100%|██████████| 1/1 [00:02<00:00,  2.59s/it]\n",
      "100%|██████████| 1/1 [00:02<00:00,  2.74s/it]\n",
      "100%|██████████| 1/1 [00:02<00:00,  2.63s/it]\n",
      "100%|██████████| 1/1 [00:02<00:00,  2.46s/it]\n",
      "100%|██████████| 1/1 [00:02<00:00,  2.66s/it]\n",
      "100%|██████████| 1/1 [00:02<00:00,  2.50s/it]\n",
      "100%|██████████| 1/1 [00:02<00:00,  2.70s/it]\n",
      "100%|██████████| 1/1 [00:02<00:00,  2.61s/it]\n",
      "100%|██████████| 1/1 [00:02<00:00,  2.63s/it]\n"
     ]
    },
    {
     "name": "stdout",
     "output_type": "stream",
     "text": [
      "<class 'pandas.core.frame.DataFrame'>\n",
      "3 /home/erik/sweden/sonnhammer/GeneSnake/generation/network_generation_algo/networks/old_stability_analysis/dag/1000/network_DAG_N1000_test2.tsv\n",
      "[[0 0 0 ... 0 0 0]\n",
      " [0 0 0 ... 0 0 0]\n",
      " [0 0 0 ... 0 0 0]\n",
      " ...\n",
      " [0 0 0 ... 0 0 0]\n",
      " [0 0 0 ... 0 0 0]\n",
      " [0 0 0 ... 0 0 0]]\n"
     ]
    },
    {
     "name": "stderr",
     "output_type": "stream",
     "text": [
      "100%|██████████| 1/1 [00:02<00:00,  2.09s/it]\n",
      "100%|██████████| 1/1 [00:02<00:00,  2.04s/it]\n",
      "100%|██████████| 1/1 [00:02<00:00,  2.32s/it]\n",
      "100%|██████████| 1/1 [00:02<00:00,  2.26s/it]\n",
      "100%|██████████| 1/1 [00:02<00:00,  2.16s/it]\n",
      "100%|██████████| 1/1 [00:02<00:00,  2.24s/it]\n",
      "100%|██████████| 1/1 [00:02<00:00,  2.42s/it]\n",
      "100%|██████████| 1/1 [00:02<00:00,  2.25s/it]\n",
      "100%|██████████| 1/1 [00:02<00:00,  2.23s/it]\n",
      "100%|██████████| 1/1 [00:02<00:00,  2.13s/it]\n"
     ]
    },
    {
     "name": "stdout",
     "output_type": "stream",
     "text": [
      "<class 'pandas.core.frame.DataFrame'>\n",
      "4 /home/erik/sweden/sonnhammer/GeneSnake/generation/network_generation_algo/networks/old_stability_analysis/dag/1000/network_DAG_N1000_test10.tsv\n",
      "[[0 0 0 ... 0 0 0]\n",
      " [0 0 0 ... 0 0 0]\n",
      " [0 0 0 ... 0 0 0]\n",
      " ...\n",
      " [0 0 0 ... 0 0 0]\n",
      " [0 0 0 ... 0 0 0]\n",
      " [0 0 0 ... 0 0 0]]\n"
     ]
    },
    {
     "name": "stderr",
     "output_type": "stream",
     "text": [
      "100%|██████████| 1/1 [00:02<00:00,  2.14s/it]\n",
      "100%|██████████| 1/1 [00:02<00:00,  2.23s/it]\n",
      "100%|██████████| 1/1 [00:02<00:00,  2.94s/it]\n",
      "100%|██████████| 1/1 [00:02<00:00,  2.14s/it]\n",
      "100%|██████████| 1/1 [00:02<00:00,  2.15s/it]\n",
      "100%|██████████| 1/1 [00:02<00:00,  2.06s/it]\n",
      "100%|██████████| 1/1 [00:02<00:00,  2.24s/it]\n",
      "100%|██████████| 1/1 [00:02<00:00,  2.23s/it]\n",
      "100%|██████████| 1/1 [00:02<00:00,  2.23s/it]\n",
      "100%|██████████| 1/1 [00:02<00:00,  2.17s/it]\n"
     ]
    },
    {
     "name": "stdout",
     "output_type": "stream",
     "text": [
      "<class 'pandas.core.frame.DataFrame'>\n",
      "5 /home/erik/sweden/sonnhammer/GeneSnake/generation/network_generation_algo/networks/old_stability_analysis/dag/1000/network_DAG_N1000_test7.tsv\n",
      "[[0 0 0 ... 0 0 0]\n",
      " [0 0 0 ... 0 0 0]\n",
      " [0 0 0 ... 0 0 0]\n",
      " ...\n",
      " [0 0 0 ... 0 0 0]\n",
      " [0 0 0 ... 0 0 0]\n",
      " [0 0 0 ... 0 0 0]]\n"
     ]
    },
    {
     "name": "stderr",
     "output_type": "stream",
     "text": [
      "100%|██████████| 1/1 [00:02<00:00,  2.07s/it]\n",
      "100%|██████████| 1/1 [00:02<00:00,  2.24s/it]\n",
      "100%|██████████| 1/1 [00:02<00:00,  2.26s/it]\n",
      "100%|██████████| 1/1 [00:02<00:00,  2.38s/it]\n",
      "100%|██████████| 1/1 [00:02<00:00,  2.36s/it]\n",
      "100%|██████████| 1/1 [00:02<00:00,  2.15s/it]\n",
      "100%|██████████| 1/1 [00:02<00:00,  2.23s/it]\n",
      "100%|██████████| 1/1 [00:02<00:00,  2.24s/it]\n",
      "100%|██████████| 1/1 [00:02<00:00,  2.27s/it]\n",
      "100%|██████████| 1/1 [00:02<00:00,  2.02s/it]\n"
     ]
    },
    {
     "name": "stdout",
     "output_type": "stream",
     "text": [
      "<class 'pandas.core.frame.DataFrame'>\n",
      "6 /home/erik/sweden/sonnhammer/GeneSnake/generation/network_generation_algo/networks/old_stability_analysis/dag/1000/network_DAG_N1000_test6.tsv\n",
      "[[0 0 0 ... 0 0 0]\n",
      " [0 0 0 ... 0 0 0]\n",
      " [0 0 0 ... 0 0 0]\n",
      " ...\n",
      " [0 0 0 ... 0 0 0]\n",
      " [0 0 0 ... 0 0 0]\n",
      " [0 0 0 ... 0 0 0]]\n"
     ]
    },
    {
     "name": "stderr",
     "output_type": "stream",
     "text": [
      "100%|██████████| 1/1 [00:02<00:00,  2.17s/it]\n",
      "100%|██████████| 1/1 [00:02<00:00,  2.16s/it]\n",
      "100%|██████████| 1/1 [00:02<00:00,  2.26s/it]\n",
      "100%|██████████| 1/1 [00:02<00:00,  2.26s/it]\n",
      "100%|██████████| 1/1 [00:02<00:00,  2.30s/it]\n",
      "100%|██████████| 1/1 [00:02<00:00,  2.18s/it]\n",
      "100%|██████████| 1/1 [00:02<00:00,  2.28s/it]\n",
      "100%|██████████| 1/1 [00:02<00:00,  2.26s/it]\n",
      "100%|██████████| 1/1 [00:02<00:00,  2.00s/it]\n",
      "100%|██████████| 1/1 [00:02<00:00,  2.17s/it]\n"
     ]
    },
    {
     "name": "stdout",
     "output_type": "stream",
     "text": [
      "<class 'pandas.core.frame.DataFrame'>\n",
      "7 /home/erik/sweden/sonnhammer/GeneSnake/generation/network_generation_algo/networks/old_stability_analysis/dag/1000/network_DAG_N1000_test4.tsv\n",
      "[[0 0 0 ... 0 0 0]\n",
      " [0 0 0 ... 0 0 0]\n",
      " [0 0 0 ... 0 0 0]\n",
      " ...\n",
      " [0 0 0 ... 0 0 0]\n",
      " [0 0 0 ... 0 0 0]\n",
      " [0 0 0 ... 0 0 0]]\n"
     ]
    },
    {
     "name": "stderr",
     "output_type": "stream",
     "text": [
      "100%|██████████| 1/1 [00:02<00:00,  2.27s/it]\n",
      "100%|██████████| 1/1 [00:02<00:00,  2.26s/it]\n",
      "100%|██████████| 1/1 [00:02<00:00,  2.10s/it]\n",
      "100%|██████████| 1/1 [00:02<00:00,  2.08s/it]\n",
      "100%|██████████| 1/1 [00:02<00:00,  2.16s/it]\n",
      "100%|██████████| 1/1 [00:02<00:00,  2.17s/it]\n",
      "100%|██████████| 1/1 [00:02<00:00,  2.35s/it]\n",
      "100%|██████████| 1/1 [00:02<00:00,  2.27s/it]\n",
      "100%|██████████| 1/1 [00:02<00:00,  2.18s/it]\n",
      "100%|██████████| 1/1 [00:02<00:00,  2.39s/it]\n"
     ]
    },
    {
     "name": "stdout",
     "output_type": "stream",
     "text": [
      "<class 'pandas.core.frame.DataFrame'>\n",
      "8 /home/erik/sweden/sonnhammer/GeneSnake/generation/network_generation_algo/networks/old_stability_analysis/dag/1000/network_DAG_N1000.tsv\n",
      "[[0 0 0 ... 0 0 0]\n",
      " [0 0 0 ... 0 0 0]\n",
      " [0 0 0 ... 0 0 0]\n",
      " ...\n",
      " [0 0 0 ... 0 0 0]\n",
      " [0 0 0 ... 0 0 0]\n",
      " [0 0 0 ... 0 0 0]]\n"
     ]
    },
    {
     "name": "stderr",
     "output_type": "stream",
     "text": [
      "100%|██████████| 1/1 [00:02<00:00,  2.16s/it]\n",
      "100%|██████████| 1/1 [00:02<00:00,  2.29s/it]\n",
      "100%|██████████| 1/1 [00:02<00:00,  2.19s/it]\n",
      "100%|██████████| 1/1 [00:02<00:00,  2.05s/it]\n",
      "100%|██████████| 1/1 [00:02<00:00,  2.26s/it]\n",
      "100%|██████████| 1/1 [00:02<00:00,  2.20s/it]\n",
      "100%|██████████| 1/1 [00:02<00:00,  2.20s/it]\n",
      "100%|██████████| 1/1 [00:02<00:00,  2.17s/it]\n",
      "100%|██████████| 1/1 [00:02<00:00,  2.29s/it]\n",
      "100%|██████████| 1/1 [00:02<00:00,  2.30s/it]\n"
     ]
    },
    {
     "name": "stdout",
     "output_type": "stream",
     "text": [
      "<class 'pandas.core.frame.DataFrame'>\n",
      "9 /home/erik/sweden/sonnhammer/GeneSnake/generation/network_generation_algo/networks/old_stability_analysis/dag/1000/network_DAG_N1000_test9.tsv\n",
      "[[0 0 0 ... 0 0 0]\n",
      " [0 0 0 ... 0 0 0]\n",
      " [0 0 0 ... 0 0 0]\n",
      " ...\n",
      " [0 0 0 ... 0 0 0]\n",
      " [0 0 0 ... 0 0 0]\n",
      " [0 0 0 ... 0 0 0]]\n"
     ]
    },
    {
     "name": "stderr",
     "output_type": "stream",
     "text": [
      "100%|██████████| 1/1 [00:02<00:00,  2.33s/it]\n",
      "100%|██████████| 1/1 [00:02<00:00,  2.27s/it]\n",
      "100%|██████████| 1/1 [00:02<00:00,  2.20s/it]\n",
      "100%|██████████| 1/1 [00:02<00:00,  2.28s/it]\n",
      "100%|██████████| 1/1 [00:02<00:00,  2.29s/it]\n",
      "100%|██████████| 1/1 [00:02<00:00,  2.28s/it]\n",
      "100%|██████████| 1/1 [00:02<00:00,  2.30s/it]\n",
      "100%|██████████| 1/1 [00:02<00:00,  2.32s/it]\n",
      "100%|██████████| 1/1 [00:02<00:00,  2.39s/it]\n",
      "100%|██████████| 1/1 [00:02<00:00,  2.21s/it]\n"
     ]
    },
    {
     "name": "stdout",
     "output_type": "stream",
     "text": [
      "<class 'pandas.core.frame.DataFrame'>\n",
      "10 /home/erik/sweden/sonnhammer/GeneSnake/generation/network_generation_algo/networks/old_stability_analysis/dag/1000/network_DAG_N1000_test8.tsv\n",
      "[[0 0 0 ... 0 0 0]\n",
      " [0 0 0 ... 0 0 0]\n",
      " [0 0 0 ... 1 0 0]\n",
      " ...\n",
      " [0 0 0 ... 0 0 0]\n",
      " [0 0 0 ... 0 0 0]\n",
      " [0 0 0 ... 0 0 0]]\n"
     ]
    },
    {
     "name": "stderr",
     "output_type": "stream",
     "text": [
      "100%|██████████| 1/1 [00:02<00:00,  2.28s/it]\n",
      "100%|██████████| 1/1 [00:02<00:00,  2.23s/it]\n",
      "100%|██████████| 1/1 [00:02<00:00,  2.32s/it]\n",
      "100%|██████████| 1/1 [00:02<00:00,  2.22s/it]\n",
      "100%|██████████| 1/1 [00:02<00:00,  2.10s/it]\n",
      "100%|██████████| 1/1 [00:02<00:00,  2.34s/it]\n",
      "100%|██████████| 1/1 [00:02<00:00,  2.22s/it]\n",
      "100%|██████████| 1/1 [00:02<00:00,  2.21s/it]\n",
      "100%|██████████| 1/1 [00:02<00:00,  2.21s/it]\n",
      "100%|██████████| 1/1 [00:02<00:00,  2.32s/it]"
     ]
    },
    {
     "name": "stdout",
     "output_type": "stream",
     "text": [
      "<class 'pandas.core.frame.DataFrame'>\n",
      "            N_real  mean(N_rand)  sd(N_rand)    Z-score  P-value  \\\n",
      "021C  73805.181818  72264.981818  199.757124   8.069852      0.0   \n",
      "021D  59942.909091  59486.800000   96.485141   5.030755      0.0   \n",
      "021U  59942.909091  59496.363636  102.955170   4.445413      0.0   \n",
      "030C      0.000000    136.545455    9.989133 -14.611530      0.0   \n",
      "030T   1287.909091   1119.345455   29.309902   6.201621      0.0   \n",
      "\n",
      "     network_label  size  \n",
      "021C           dag  1000  \n",
      "021D           dag  1000  \n",
      "021U           dag  1000  \n",
      "030C           dag  1000  \n",
      "030T           dag  1000  \n"
     ]
    },
    {
     "name": "stderr",
     "output_type": "stream",
     "text": [
      "\n"
     ]
    }
   ],
   "source": [
    "networks = ['dag']\n",
    "\n",
    "for network in networks:\n",
    "    for size in sizes:\n",
    "        current_dir = os.path.join(stability_dir, network, size)\n",
    "        print(current_dir)\n",
    "        pandas_df_lst = []\n",
    "        for rep, file in enumerate(glob.glob(os.path.join(current_dir, '*.tsv'))):\n",
    "            print(rep, file)\n",
    "            report = f.analyze_exctracted_network(cfg, file, network, rep, size, stability_motifs=True)\n",
    "            print(type(report))\n",
    "            pandas_df_lst.append(report)\n",
    "        #enrichment_report = pd.concat(pandas_df_lst)\n",
    "        pandas_df_list = sum(pandas_df_lst)/len(pandas_df_lst)\n",
    "        pandas_df_list['network_label'] = network\n",
    "        pandas_df_list['size'] = size\n",
    "        print(pandas_df_list)                                     \n",
    "        pandas_df_list.to_csv(os.path.join(stability_dir, 'z-scores', network+'_'+str(size)+'_z_score.tsv'))"
   ]
  },
  {
   "cell_type": "markdown",
   "metadata": {},
   "source": [
    "## GNW"
   ]
  },
  {
   "cell_type": "code",
   "execution_count": 54,
   "metadata": {},
   "outputs": [
    {
     "name": "stdout",
     "output_type": "stream",
     "text": [
      "/home/erik/sweden/sonnhammer/GeneSnake/generation/network_generation_algo/networks/old_stability_analysis/gnw/250\n",
      "0 /home/erik/sweden/sonnhammer/GeneSnake/generation/network_generation_algo/networks/old_stability_analysis/gnw/250/ecoli_transcriptional_network_regulonDB_6_7-7.tsv\n"
     ]
    },
    {
     "name": "stderr",
     "output_type": "stream",
     "text": [
      "100%|██████████| 1/1 [00:00<00:00,  1.15it/s]\n",
      "100%|██████████| 1/1 [00:00<00:00,  1.13it/s]\n",
      "100%|██████████| 1/1 [00:00<00:00,  1.13it/s]\n",
      "100%|██████████| 1/1 [00:00<00:00,  1.12it/s]\n",
      "100%|██████████| 1/1 [00:00<00:00,  1.16it/s]\n",
      "100%|██████████| 1/1 [00:00<00:00,  1.16it/s]\n",
      "100%|██████████| 1/1 [00:00<00:00,  1.30it/s]\n",
      "100%|██████████| 1/1 [00:00<00:00,  1.28it/s]\n",
      "100%|██████████| 1/1 [00:00<00:00,  1.31it/s]\n",
      "100%|██████████| 1/1 [00:00<00:00,  1.16it/s]"
     ]
    },
    {
     "name": "stdout",
     "output_type": "stream",
     "text": [
      "<class 'pandas.core.frame.DataFrame'>\n",
      "1 /home/erik/sweden/sonnhammer/GeneSnake/generation/network_generation_algo/networks/old_stability_analysis/gnw/250/ecoli_transcriptional_network_regulonDB_6_7-5.tsv\n"
     ]
    },
    {
     "name": "stderr",
     "output_type": "stream",
     "text": [
      "\n",
      "100%|██████████| 1/1 [00:00<00:00,  1.15it/s]\n",
      "100%|██████████| 1/1 [00:00<00:00,  1.16it/s]\n",
      "100%|██████████| 1/1 [00:00<00:00,  1.16it/s]\n",
      "100%|██████████| 1/1 [00:00<00:00,  1.16it/s]\n",
      "100%|██████████| 1/1 [00:00<00:00,  1.16it/s]\n",
      "100%|██████████| 1/1 [00:00<00:00,  1.16it/s]\n",
      "100%|██████████| 1/1 [00:00<00:00,  1.16it/s]\n",
      "100%|██████████| 1/1 [00:00<00:00,  1.17it/s]\n",
      "100%|██████████| 1/1 [00:00<00:00,  1.17it/s]\n",
      "100%|██████████| 1/1 [00:00<00:00,  1.14it/s]"
     ]
    },
    {
     "name": "stdout",
     "output_type": "stream",
     "text": [
      "<class 'pandas.core.frame.DataFrame'>\n",
      "2 /home/erik/sweden/sonnhammer/GeneSnake/generation/network_generation_algo/networks/old_stability_analysis/gnw/250/ecoli_transcriptional_network_regulonDB_6_7-8.tsv\n"
     ]
    },
    {
     "name": "stderr",
     "output_type": "stream",
     "text": [
      "\n",
      "100%|██████████| 1/1 [00:00<00:00,  1.29it/s]\n",
      "100%|██████████| 1/1 [00:00<00:00,  1.28it/s]\n",
      "100%|██████████| 1/1 [00:00<00:00,  1.32it/s]\n",
      "100%|██████████| 1/1 [00:00<00:00,  1.33it/s]\n",
      "100%|██████████| 1/1 [00:00<00:00,  1.16it/s]\n",
      "100%|██████████| 1/1 [00:00<00:00,  1.28it/s]\n",
      "100%|██████████| 1/1 [00:00<00:00,  1.14it/s]\n",
      "100%|██████████| 1/1 [00:00<00:00,  1.33it/s]\n",
      "100%|██████████| 1/1 [00:00<00:00,  1.31it/s]\n",
      "100%|██████████| 1/1 [00:00<00:00,  1.30it/s]"
     ]
    },
    {
     "name": "stdout",
     "output_type": "stream",
     "text": [
      "<class 'pandas.core.frame.DataFrame'>\n",
      "3 /home/erik/sweden/sonnhammer/GeneSnake/generation/network_generation_algo/networks/old_stability_analysis/gnw/250/ecoli_transcriptional_network_regulonDB_6_7-1.tsv\n"
     ]
    },
    {
     "name": "stderr",
     "output_type": "stream",
     "text": [
      "\n",
      "100%|██████████| 1/1 [00:00<00:00,  1.10it/s]\n",
      "100%|██████████| 1/1 [00:00<00:00,  1.16it/s]\n",
      "100%|██████████| 1/1 [00:00<00:00,  1.09it/s]\n",
      "100%|██████████| 1/1 [00:00<00:00,  1.07it/s]\n",
      "100%|██████████| 1/1 [00:00<00:00,  1.09it/s]\n",
      "100%|██████████| 1/1 [00:00<00:00,  1.16it/s]\n",
      "100%|██████████| 1/1 [00:00<00:00,  1.09it/s]\n",
      "100%|██████████| 1/1 [00:00<00:00,  1.16it/s]\n",
      "100%|██████████| 1/1 [00:00<00:00,  1.09it/s]\n",
      "100%|██████████| 1/1 [00:00<00:00,  1.10it/s]"
     ]
    },
    {
     "name": "stdout",
     "output_type": "stream",
     "text": [
      "<class 'pandas.core.frame.DataFrame'>\n",
      "4 /home/erik/sweden/sonnhammer/GeneSnake/generation/network_generation_algo/networks/old_stability_analysis/gnw/250/ecoli_transcriptional_network_regulonDB_6_7-3.tsv\n"
     ]
    },
    {
     "name": "stderr",
     "output_type": "stream",
     "text": [
      "\n",
      "100%|██████████| 1/1 [00:01<00:00,  1.11s/it]\n",
      "100%|██████████| 1/1 [00:00<00:00,  1.84it/s]\n",
      "100%|██████████| 1/1 [00:00<00:00,  1.87it/s]\n",
      "100%|██████████| 1/1 [00:00<00:00,  1.81it/s]\n",
      "100%|██████████| 1/1 [00:00<00:00,  1.92it/s]\n",
      "100%|██████████| 1/1 [00:00<00:00,  1.85it/s]\n",
      "100%|██████████| 1/1 [00:00<00:00,  1.87it/s]\n",
      "100%|██████████| 1/1 [00:00<00:00,  1.88it/s]\n",
      "100%|██████████| 1/1 [00:00<00:00,  1.83it/s]\n",
      "100%|██████████| 1/1 [00:00<00:00,  1.88it/s]"
     ]
    },
    {
     "name": "stdout",
     "output_type": "stream",
     "text": [
      "<class 'pandas.core.frame.DataFrame'>\n",
      "5 /home/erik/sweden/sonnhammer/GeneSnake/generation/network_generation_algo/networks/old_stability_analysis/gnw/250/ecoli_transcriptional_network_regulonDB_6_7-10.tsv\n"
     ]
    },
    {
     "name": "stderr",
     "output_type": "stream",
     "text": [
      "\n",
      "100%|██████████| 1/1 [00:00<00:00,  1.57it/s]\n",
      "100%|██████████| 1/1 [00:00<00:00,  1.58it/s]\n",
      "100%|██████████| 1/1 [00:00<00:00,  1.54it/s]\n",
      "100%|██████████| 1/1 [00:00<00:00,  1.58it/s]\n",
      "100%|██████████| 1/1 [00:00<00:00,  1.54it/s]\n",
      "100%|██████████| 1/1 [00:00<00:00,  1.54it/s]\n",
      "100%|██████████| 1/1 [00:00<00:00,  1.58it/s]\n",
      "100%|██████████| 1/1 [00:00<00:00,  1.53it/s]\n",
      "100%|██████████| 1/1 [00:00<00:00,  1.52it/s]\n",
      "100%|██████████| 1/1 [00:00<00:00,  1.80it/s]"
     ]
    },
    {
     "name": "stdout",
     "output_type": "stream",
     "text": [
      "<class 'pandas.core.frame.DataFrame'>\n",
      "6 /home/erik/sweden/sonnhammer/GeneSnake/generation/network_generation_algo/networks/old_stability_analysis/gnw/250/ecoli_transcriptional_network_regulonDB_6_7-4.tsv\n"
     ]
    },
    {
     "name": "stderr",
     "output_type": "stream",
     "text": [
      "\n",
      "100%|██████████| 1/1 [00:00<00:00,  1.53it/s]\n",
      "100%|██████████| 1/1 [00:00<00:00,  1.87it/s]\n",
      "100%|██████████| 1/1 [00:00<00:00,  1.91it/s]\n",
      "100%|██████████| 1/1 [00:00<00:00,  1.78it/s]\n",
      "100%|██████████| 1/1 [00:00<00:00,  1.59it/s]\n",
      "100%|██████████| 1/1 [00:00<00:00,  1.59it/s]\n",
      "100%|██████████| 1/1 [00:00<00:00,  1.87it/s]\n",
      "100%|██████████| 1/1 [00:00<00:00,  1.91it/s]\n",
      "100%|██████████| 1/1 [00:00<00:00,  1.52it/s]\n",
      "100%|██████████| 1/1 [00:00<00:00,  1.57it/s]"
     ]
    },
    {
     "name": "stdout",
     "output_type": "stream",
     "text": [
      "<class 'pandas.core.frame.DataFrame'>\n",
      "7 /home/erik/sweden/sonnhammer/GeneSnake/generation/network_generation_algo/networks/old_stability_analysis/gnw/250/ecoli_transcriptional_network_regulonDB_6_7-9.tsv\n"
     ]
    },
    {
     "name": "stderr",
     "output_type": "stream",
     "text": [
      "\n",
      "100%|██████████| 1/1 [00:00<00:00,  2.17it/s]\n",
      "100%|██████████| 1/1 [00:00<00:00,  2.22it/s]\n",
      "100%|██████████| 1/1 [00:00<00:00,  1.83it/s]\n",
      "100%|██████████| 1/1 [00:00<00:00,  2.21it/s]\n",
      "100%|██████████| 1/1 [00:00<00:00,  2.24it/s]\n",
      "100%|██████████| 1/1 [00:00<00:00,  2.22it/s]\n",
      "100%|██████████| 1/1 [00:00<00:00,  2.29it/s]\n",
      "100%|██████████| 1/1 [00:00<00:00,  2.37it/s]\n",
      "100%|██████████| 1/1 [00:00<00:00,  2.26it/s]\n",
      "100%|██████████| 1/1 [00:00<00:00,  2.27it/s]"
     ]
    },
    {
     "name": "stdout",
     "output_type": "stream",
     "text": [
      "<class 'pandas.core.frame.DataFrame'>\n",
      "8 /home/erik/sweden/sonnhammer/GeneSnake/generation/network_generation_algo/networks/old_stability_analysis/gnw/250/ecoli_transcriptional_network_regulonDB_6_7-2.tsv\n"
     ]
    },
    {
     "name": "stderr",
     "output_type": "stream",
     "text": [
      "\n",
      "100%|██████████| 1/1 [00:00<00:00,  1.85it/s]\n",
      "100%|██████████| 1/1 [00:00<00:00,  1.91it/s]\n",
      "100%|██████████| 1/1 [00:00<00:00,  1.92it/s]\n",
      "100%|██████████| 1/1 [00:00<00:00,  1.89it/s]\n",
      "100%|██████████| 1/1 [00:00<00:00,  1.92it/s]\n",
      "100%|██████████| 1/1 [00:00<00:00,  1.90it/s]\n",
      "100%|██████████| 1/1 [00:00<00:00,  1.91it/s]\n",
      "100%|██████████| 1/1 [00:00<00:00,  1.89it/s]\n",
      "100%|██████████| 1/1 [00:00<00:00,  1.85it/s]\n",
      "100%|██████████| 1/1 [00:00<00:00,  1.93it/s]"
     ]
    },
    {
     "name": "stdout",
     "output_type": "stream",
     "text": [
      "<class 'pandas.core.frame.DataFrame'>\n",
      "9 /home/erik/sweden/sonnhammer/GeneSnake/generation/network_generation_algo/networks/old_stability_analysis/gnw/250/ecoli_transcriptional_network_regulonDB_6_7-6.tsv\n"
     ]
    },
    {
     "name": "stderr",
     "output_type": "stream",
     "text": [
      "\n",
      "100%|██████████| 1/1 [00:00<00:00,  1.59it/s]\n",
      "100%|██████████| 1/1 [00:00<00:00,  1.47it/s]\n",
      "100%|██████████| 1/1 [00:00<00:00,  1.59it/s]\n",
      "100%|██████████| 1/1 [00:00<00:00,  1.49it/s]\n",
      "100%|██████████| 1/1 [00:00<00:00,  1.49it/s]\n",
      "100%|██████████| 1/1 [00:00<00:00,  1.60it/s]\n",
      "100%|██████████| 1/1 [00:00<00:00,  1.49it/s]\n",
      "100%|██████████| 1/1 [00:00<00:00,  1.50it/s]\n",
      "100%|██████████| 1/1 [00:00<00:00,  1.49it/s]\n",
      "100%|██████████| 1/1 [00:00<00:00,  1.59it/s]"
     ]
    },
    {
     "name": "stdout",
     "output_type": "stream",
     "text": [
      "<class 'pandas.core.frame.DataFrame'>\n",
      "       N_real  mean(N_rand)  sd(N_rand)   Z-score  P-value network_label size\n",
      "021C    281.2        506.08   74.239454 -4.031699     0.05           gnw  250\n",
      "021D  13091.4      13278.90   71.115843 -3.368283     0.05           gnw  250\n",
      "021U    282.3        285.93   18.699871 -0.975294     0.13           gnw  250\n",
      "030C      0.0          0.81    0.865244       NaN     0.71           gnw  250\n",
      "030T     93.8        129.13   23.953743 -1.030131     0.12           gnw  250\n",
      "/home/erik/sweden/sonnhammer/GeneSnake/generation/network_generation_algo/networks/old_stability_analysis/gnw/500\n",
      "0 /home/erik/sweden/sonnhammer/GeneSnake/generation/network_generation_algo/networks/old_stability_analysis/gnw/500/ecoli_transcriptional_network_regulonDB_6_7-7.tsv\n"
     ]
    },
    {
     "name": "stderr",
     "output_type": "stream",
     "text": [
      "\n",
      "100%|██████████| 1/1 [00:00<00:00,  1.60it/s]\n",
      "100%|██████████| 1/1 [00:00<00:00,  1.49it/s]\n",
      "100%|██████████| 1/1 [00:00<00:00,  1.48it/s]\n",
      "100%|██████████| 1/1 [00:00<00:00,  1.50it/s]\n",
      "100%|██████████| 1/1 [00:00<00:00,  1.50it/s]\n",
      "100%|██████████| 1/1 [00:00<00:00,  1.30it/s]\n",
      "100%|██████████| 1/1 [00:00<00:00,  1.47it/s]\n",
      "100%|██████████| 1/1 [00:00<00:00,  1.58it/s]\n",
      "100%|██████████| 1/1 [00:00<00:00,  1.50it/s]\n",
      "100%|██████████| 1/1 [00:00<00:00,  1.33it/s]"
     ]
    },
    {
     "name": "stdout",
     "output_type": "stream",
     "text": [
      "<class 'pandas.core.frame.DataFrame'>\n",
      "1 /home/erik/sweden/sonnhammer/GeneSnake/generation/network_generation_algo/networks/old_stability_analysis/gnw/500/ecoli_transcriptional_network_regulonDB_6_7-5.tsv\n"
     ]
    },
    {
     "name": "stderr",
     "output_type": "stream",
     "text": [
      "\n",
      "100%|██████████| 1/1 [00:00<00:00,  1.48it/s]\n",
      "100%|██████████| 1/1 [00:00<00:00,  1.49it/s]\n",
      "100%|██████████| 1/1 [00:00<00:00,  1.48it/s]\n",
      "100%|██████████| 1/1 [00:00<00:00,  1.47it/s]\n",
      "100%|██████████| 1/1 [00:00<00:00,  1.49it/s]\n",
      "100%|██████████| 1/1 [00:00<00:00,  1.48it/s]\n",
      "100%|██████████| 1/1 [00:00<00:00,  1.49it/s]\n",
      "100%|██████████| 1/1 [00:00<00:00,  1.48it/s]\n",
      "100%|██████████| 1/1 [00:00<00:00,  1.49it/s]\n",
      "100%|██████████| 1/1 [00:00<00:00,  1.49it/s]"
     ]
    },
    {
     "name": "stdout",
     "output_type": "stream",
     "text": [
      "<class 'pandas.core.frame.DataFrame'>\n",
      "2 /home/erik/sweden/sonnhammer/GeneSnake/generation/network_generation_algo/networks/old_stability_analysis/gnw/500/ecoli_transcriptional_network_regulonDB_6_7-8.tsv\n"
     ]
    },
    {
     "name": "stderr",
     "output_type": "stream",
     "text": [
      "\n",
      "100%|██████████| 1/1 [00:00<00:00,  1.17it/s]\n",
      "100%|██████████| 1/1 [00:00<00:00,  1.12it/s]\n",
      "100%|██████████| 1/1 [00:01<00:00,  1.02s/it]\n",
      "100%|██████████| 1/1 [00:00<00:00,  1.10it/s]\n",
      "100%|██████████| 1/1 [00:00<00:00,  1.12it/s]\n",
      "100%|██████████| 1/1 [00:01<00:00,  1.01s/it]\n",
      "100%|██████████| 1/1 [00:00<00:00,  1.12it/s]\n",
      "100%|██████████| 1/1 [00:00<00:00,  1.10it/s]\n",
      "100%|██████████| 1/1 [00:00<00:00,  1.12it/s]\n",
      "100%|██████████| 1/1 [00:00<00:00,  1.11it/s]"
     ]
    },
    {
     "name": "stdout",
     "output_type": "stream",
     "text": [
      "<class 'pandas.core.frame.DataFrame'>\n",
      "3 /home/erik/sweden/sonnhammer/GeneSnake/generation/network_generation_algo/networks/old_stability_analysis/gnw/500/ecoli_transcriptional_network_regulonDB_6_7-1.tsv\n"
     ]
    },
    {
     "name": "stderr",
     "output_type": "stream",
     "text": [
      "\n",
      "100%|██████████| 1/1 [00:00<00:00,  1.48it/s]\n",
      "100%|██████████| 1/1 [00:00<00:00,  1.57it/s]\n",
      "100%|██████████| 1/1 [00:00<00:00,  1.50it/s]\n",
      "100%|██████████| 1/1 [00:00<00:00,  1.48it/s]\n",
      "100%|██████████| 1/1 [00:00<00:00,  1.60it/s]\n",
      "100%|██████████| 1/1 [00:00<00:00,  1.49it/s]\n",
      "100%|██████████| 1/1 [00:00<00:00,  1.58it/s]\n",
      "100%|██████████| 1/1 [00:00<00:00,  1.56it/s]\n",
      "100%|██████████| 1/1 [00:00<00:00,  1.49it/s]\n",
      "100%|██████████| 1/1 [00:00<00:00,  1.58it/s]"
     ]
    },
    {
     "name": "stdout",
     "output_type": "stream",
     "text": [
      "<class 'pandas.core.frame.DataFrame'>\n",
      "4 /home/erik/sweden/sonnhammer/GeneSnake/generation/network_generation_algo/networks/old_stability_analysis/gnw/500/ecoli_transcriptional_network_regulonDB_6_7-3.tsv\n"
     ]
    },
    {
     "name": "stderr",
     "output_type": "stream",
     "text": [
      "\n",
      "100%|██████████| 1/1 [00:00<00:00,  1.49it/s]\n",
      "100%|██████████| 1/1 [00:00<00:00,  1.48it/s]\n",
      "100%|██████████| 1/1 [00:00<00:00,  1.56it/s]\n",
      "100%|██████████| 1/1 [00:00<00:00,  1.48it/s]\n",
      "100%|██████████| 1/1 [00:00<00:00,  1.48it/s]\n",
      "100%|██████████| 1/1 [00:00<00:00,  1.48it/s]\n",
      "100%|██████████| 1/1 [00:00<00:00,  1.45it/s]\n",
      "100%|██████████| 1/1 [00:00<00:00,  1.47it/s]\n",
      "100%|██████████| 1/1 [00:00<00:00,  1.46it/s]\n",
      "100%|██████████| 1/1 [00:00<00:00,  1.48it/s]"
     ]
    },
    {
     "name": "stdout",
     "output_type": "stream",
     "text": [
      "<class 'pandas.core.frame.DataFrame'>\n",
      "5 /home/erik/sweden/sonnhammer/GeneSnake/generation/network_generation_algo/networks/old_stability_analysis/gnw/500/ecoli_transcriptional_network_regulonDB_6_7-10.tsv\n"
     ]
    },
    {
     "name": "stderr",
     "output_type": "stream",
     "text": [
      "\n",
      "100%|██████████| 1/1 [00:00<00:00,  1.01it/s]\n",
      "100%|██████████| 1/1 [00:01<00:00,  1.02s/it]\n",
      "100%|██████████| 1/1 [00:01<00:00,  1.34s/it]\n",
      "100%|██████████| 1/1 [00:01<00:00,  1.35s/it]\n",
      "100%|██████████| 1/1 [00:01<00:00,  1.43s/it]\n",
      "100%|██████████| 1/1 [00:01<00:00,  1.34s/it]\n",
      "100%|██████████| 1/1 [00:01<00:00,  1.33s/it]\n",
      "100%|██████████| 1/1 [00:01<00:00,  1.32s/it]\n",
      "100%|██████████| 1/1 [00:01<00:00,  1.22s/it]\n",
      "100%|██████████| 1/1 [00:01<00:00,  1.33s/it]"
     ]
    },
    {
     "name": "stdout",
     "output_type": "stream",
     "text": [
      "<class 'pandas.core.frame.DataFrame'>\n",
      "6 /home/erik/sweden/sonnhammer/GeneSnake/generation/network_generation_algo/networks/old_stability_analysis/gnw/500/ecoli_transcriptional_network_regulonDB_6_7-4.tsv\n"
     ]
    },
    {
     "name": "stderr",
     "output_type": "stream",
     "text": [
      "\n",
      "100%|██████████| 1/1 [00:01<00:00,  1.58s/it]\n",
      "100%|██████████| 1/1 [00:01<00:00,  1.44s/it]\n",
      "100%|██████████| 1/1 [00:01<00:00,  1.54s/it]\n",
      "100%|██████████| 1/1 [00:01<00:00,  1.64s/it]\n",
      "100%|██████████| 1/1 [00:01<00:00,  1.53s/it]\n",
      "100%|██████████| 1/1 [00:01<00:00,  1.54s/it]\n",
      "100%|██████████| 1/1 [00:01<00:00,  1.67s/it]\n",
      "100%|██████████| 1/1 [00:01<00:00,  1.65s/it]\n",
      "100%|██████████| 1/1 [00:01<00:00,  1.55s/it]\n",
      "100%|██████████| 1/1 [00:01<00:00,  1.56s/it]"
     ]
    },
    {
     "name": "stdout",
     "output_type": "stream",
     "text": [
      "<class 'pandas.core.frame.DataFrame'>\n",
      "7 /home/erik/sweden/sonnhammer/GeneSnake/generation/network_generation_algo/networks/old_stability_analysis/gnw/500/ecoli_transcriptional_network_regulonDB_6_7-9.tsv\n"
     ]
    },
    {
     "name": "stderr",
     "output_type": "stream",
     "text": [
      "\n",
      "100%|██████████| 1/1 [00:00<00:00,  1.06it/s]\n",
      "100%|██████████| 1/1 [00:00<00:00,  1.06it/s]\n",
      "100%|██████████| 1/1 [00:00<00:00,  1.19it/s]\n",
      "100%|██████████| 1/1 [00:00<00:00,  1.01it/s]\n",
      "100%|██████████| 1/1 [00:00<00:00,  1.07it/s]\n",
      "100%|██████████| 1/1 [00:00<00:00,  1.01it/s]\n",
      "100%|██████████| 1/1 [00:00<00:00,  1.07it/s]\n",
      "100%|██████████| 1/1 [00:00<00:00,  1.12it/s]\n",
      "100%|██████████| 1/1 [00:00<00:00,  1.01it/s]\n",
      "100%|██████████| 1/1 [00:00<00:00,  1.01it/s]"
     ]
    },
    {
     "name": "stdout",
     "output_type": "stream",
     "text": [
      "<class 'pandas.core.frame.DataFrame'>\n",
      "8 /home/erik/sweden/sonnhammer/GeneSnake/generation/network_generation_algo/networks/old_stability_analysis/gnw/500/ecoli_transcriptional_network_regulonDB_6_7-2.tsv\n"
     ]
    },
    {
     "name": "stderr",
     "output_type": "stream",
     "text": [
      "\n",
      "100%|██████████| 1/1 [00:00<00:00,  1.12it/s]\n",
      "100%|██████████| 1/1 [00:01<00:00,  1.00s/it]\n",
      "100%|██████████| 1/1 [00:00<00:00,  1.19it/s]\n",
      "100%|██████████| 1/1 [00:00<00:00,  1.20it/s]\n",
      "100%|██████████| 1/1 [00:00<00:00,  1.12it/s]\n",
      "100%|██████████| 1/1 [00:00<00:00,  1.13it/s]\n",
      "100%|██████████| 1/1 [00:00<00:00,  1.11it/s]\n",
      "100%|██████████| 1/1 [00:00<00:00,  1.13it/s]\n",
      "100%|██████████| 1/1 [00:00<00:00,  1.13it/s]\n",
      "100%|██████████| 1/1 [00:00<00:00,  1.06it/s]"
     ]
    },
    {
     "name": "stdout",
     "output_type": "stream",
     "text": [
      "<class 'pandas.core.frame.DataFrame'>\n",
      "9 /home/erik/sweden/sonnhammer/GeneSnake/generation/network_generation_algo/networks/old_stability_analysis/gnw/500/ecoli_transcriptional_network_regulonDB_6_7-6.tsv\n"
     ]
    },
    {
     "name": "stderr",
     "output_type": "stream",
     "text": [
      "\n",
      "100%|██████████| 1/1 [00:01<00:00,  1.33s/it]\n",
      "100%|██████████| 1/1 [00:00<00:00,  1.48it/s]\n",
      "100%|██████████| 1/1 [00:00<00:00,  1.53it/s]\n",
      "100%|██████████| 1/1 [00:00<00:00,  1.52it/s]\n",
      "100%|██████████| 1/1 [00:00<00:00,  1.49it/s]\n",
      "100%|██████████| 1/1 [00:00<00:00,  1.50it/s]\n",
      "100%|██████████| 1/1 [00:00<00:00,  1.58it/s]\n",
      "100%|██████████| 1/1 [00:00<00:00,  1.53it/s]\n",
      "100%|██████████| 1/1 [00:00<00:00,  1.56it/s]\n",
      "100%|██████████| 1/1 [00:00<00:00,  1.51it/s]"
     ]
    },
    {
     "name": "stdout",
     "output_type": "stream",
     "text": [
      "<class 'pandas.core.frame.DataFrame'>\n",
      "       N_real  mean(N_rand)  sd(N_rand)   Z-score  P-value network_label size\n",
      "021C    497.9       1256.62  154.916728 -5.324914     0.00           gnw  500\n",
      "021D  35107.8      35776.38  150.945251 -4.821187     0.00           gnw  500\n",
      "021U    492.2        585.50   26.269108 -4.997212     0.03           gnw  500\n",
      "030C      0.0          1.06    0.983978 -1.018617     0.51           gnw  500\n",
      "030T    166.6        193.73   26.910168 -0.238964     0.14           gnw  500\n",
      "/home/erik/sweden/sonnhammer/GeneSnake/generation/network_generation_algo/networks/old_stability_analysis/gnw/750\n",
      "0 /home/erik/sweden/sonnhammer/GeneSnake/generation/network_generation_algo/networks/old_stability_analysis/gnw/750/ecoli_transcriptional_network_regulonDB_6_7-7.tsv\n"
     ]
    },
    {
     "name": "stderr",
     "output_type": "stream",
     "text": [
      "\n",
      "100%|██████████| 1/1 [00:01<00:00,  1.56s/it]\n",
      "100%|██████████| 1/1 [00:01<00:00,  1.46s/it]\n",
      "100%|██████████| 1/1 [00:01<00:00,  1.44s/it]\n",
      "100%|██████████| 1/1 [00:01<00:00,  1.45s/it]\n",
      "100%|██████████| 1/1 [00:01<00:00,  1.44s/it]\n",
      "100%|██████████| 1/1 [00:01<00:00,  1.44s/it]\n",
      "100%|██████████| 1/1 [00:01<00:00,  1.47s/it]\n",
      "100%|██████████| 1/1 [00:01<00:00,  1.48s/it]\n",
      "100%|██████████| 1/1 [00:01<00:00,  1.46s/it]\n",
      "100%|██████████| 1/1 [00:01<00:00,  1.54s/it]"
     ]
    },
    {
     "name": "stdout",
     "output_type": "stream",
     "text": [
      "<class 'pandas.core.frame.DataFrame'>\n",
      "1 /home/erik/sweden/sonnhammer/GeneSnake/generation/network_generation_algo/networks/old_stability_analysis/gnw/750/ecoli_transcriptional_network_regulonDB_6_7-5.tsv\n"
     ]
    },
    {
     "name": "stderr",
     "output_type": "stream",
     "text": [
      "\n",
      "100%|██████████| 1/1 [00:01<00:00,  1.20s/it]\n",
      "100%|██████████| 1/1 [00:01<00:00,  1.24s/it]\n",
      "100%|██████████| 1/1 [00:01<00:00,  1.23s/it]\n",
      "100%|██████████| 1/1 [00:01<00:00,  1.33s/it]\n",
      "100%|██████████| 1/1 [00:01<00:00,  1.23s/it]\n",
      "100%|██████████| 1/1 [00:01<00:00,  1.32s/it]\n",
      "100%|██████████| 1/1 [00:01<00:00,  1.33s/it]\n",
      "100%|██████████| 1/1 [00:01<00:00,  1.24s/it]\n",
      "100%|██████████| 1/1 [00:01<00:00,  1.32s/it]\n",
      "100%|██████████| 1/1 [00:01<00:00,  1.24s/it]"
     ]
    },
    {
     "name": "stdout",
     "output_type": "stream",
     "text": [
      "<class 'pandas.core.frame.DataFrame'>\n",
      "2 /home/erik/sweden/sonnhammer/GeneSnake/generation/network_generation_algo/networks/old_stability_analysis/gnw/750/ecoli_transcriptional_network_regulonDB_6_7-8.tsv\n"
     ]
    },
    {
     "name": "stderr",
     "output_type": "stream",
     "text": [
      "\n",
      "100%|██████████| 1/1 [00:01<00:00,  1.44s/it]\n",
      "100%|██████████| 1/1 [00:01<00:00,  1.44s/it]\n",
      "100%|██████████| 1/1 [00:01<00:00,  1.45s/it]\n",
      "100%|██████████| 1/1 [00:01<00:00,  1.44s/it]\n",
      "100%|██████████| 1/1 [00:01<00:00,  1.45s/it]\n",
      "100%|██████████| 1/1 [00:01<00:00,  1.46s/it]\n",
      "100%|██████████| 1/1 [00:01<00:00,  1.44s/it]\n",
      "100%|██████████| 1/1 [00:01<00:00,  1.46s/it]\n",
      "100%|██████████| 1/1 [00:01<00:00,  1.44s/it]\n",
      "100%|██████████| 1/1 [00:01<00:00,  1.36s/it]"
     ]
    },
    {
     "name": "stdout",
     "output_type": "stream",
     "text": [
      "<class 'pandas.core.frame.DataFrame'>\n",
      "3 /home/erik/sweden/sonnhammer/GeneSnake/generation/network_generation_algo/networks/old_stability_analysis/gnw/750/ecoli_transcriptional_network_regulonDB_6_7-1.tsv\n"
     ]
    },
    {
     "name": "stderr",
     "output_type": "stream",
     "text": [
      "\n",
      "100%|██████████| 1/1 [00:00<00:00,  1.12it/s]\n",
      "100%|██████████| 1/1 [00:00<00:00,  1.10it/s]\n",
      "100%|██████████| 1/1 [00:00<00:00,  1.11it/s]\n",
      "100%|██████████| 1/1 [00:00<00:00,  1.11it/s]\n",
      "100%|██████████| 1/1 [00:00<00:00,  1.12it/s]\n",
      "100%|██████████| 1/1 [00:00<00:00,  1.11it/s]\n",
      "100%|██████████| 1/1 [00:00<00:00,  1.11it/s]\n",
      "100%|██████████| 1/1 [00:00<00:00,  1.12it/s]\n",
      "100%|██████████| 1/1 [00:00<00:00,  1.13it/s]\n",
      "100%|██████████| 1/1 [00:00<00:00,  1.11it/s]"
     ]
    },
    {
     "name": "stdout",
     "output_type": "stream",
     "text": [
      "<class 'pandas.core.frame.DataFrame'>\n",
      "4 /home/erik/sweden/sonnhammer/GeneSnake/generation/network_generation_algo/networks/old_stability_analysis/gnw/750/ecoli_transcriptional_network_regulonDB_6_7-3.tsv\n"
     ]
    },
    {
     "name": "stderr",
     "output_type": "stream",
     "text": [
      "\n",
      "100%|██████████| 1/1 [00:01<00:00,  1.32s/it]\n",
      "100%|██████████| 1/1 [00:01<00:00,  1.35s/it]\n",
      "100%|██████████| 1/1 [00:01<00:00,  1.26s/it]\n",
      "100%|██████████| 1/1 [00:01<00:00,  1.35s/it]\n",
      "100%|██████████| 1/1 [00:01<00:00,  1.33s/it]\n",
      "100%|██████████| 1/1 [00:01<00:00,  1.32s/it]\n",
      "100%|██████████| 1/1 [00:01<00:00,  1.33s/it]\n",
      "100%|██████████| 1/1 [00:01<00:00,  1.34s/it]\n",
      "100%|██████████| 1/1 [00:01<00:00,  1.34s/it]\n",
      "100%|██████████| 1/1 [00:01<00:00,  1.31s/it]"
     ]
    },
    {
     "name": "stdout",
     "output_type": "stream",
     "text": [
      "<class 'pandas.core.frame.DataFrame'>\n",
      "5 /home/erik/sweden/sonnhammer/GeneSnake/generation/network_generation_algo/networks/old_stability_analysis/gnw/750/ecoli_transcriptional_network_regulonDB_6_7-10.tsv\n"
     ]
    },
    {
     "name": "stderr",
     "output_type": "stream",
     "text": [
      "\n",
      "100%|██████████| 1/1 [00:01<00:00,  1.44s/it]\n",
      "100%|██████████| 1/1 [00:01<00:00,  1.46s/it]\n",
      "100%|██████████| 1/1 [00:01<00:00,  1.55s/it]\n",
      "100%|██████████| 1/1 [00:01<00:00,  1.44s/it]\n",
      "100%|██████████| 1/1 [00:01<00:00,  1.56s/it]\n",
      "100%|██████████| 1/1 [00:01<00:00,  1.45s/it]\n",
      "100%|██████████| 1/1 [00:01<00:00,  1.47s/it]\n",
      "100%|██████████| 1/1 [00:01<00:00,  1.45s/it]\n",
      "100%|██████████| 1/1 [00:01<00:00,  1.46s/it]\n",
      "100%|██████████| 1/1 [00:01<00:00,  1.47s/it]"
     ]
    },
    {
     "name": "stdout",
     "output_type": "stream",
     "text": [
      "<class 'pandas.core.frame.DataFrame'>\n",
      "6 /home/erik/sweden/sonnhammer/GeneSnake/generation/network_generation_algo/networks/old_stability_analysis/gnw/750/ecoli_transcriptional_network_regulonDB_6_7-4.tsv\n"
     ]
    },
    {
     "name": "stderr",
     "output_type": "stream",
     "text": [
      "\n",
      "100%|██████████| 1/1 [00:01<00:00,  1.52s/it]\n",
      "100%|██████████| 1/1 [00:01<00:00,  1.46s/it]\n",
      "100%|██████████| 1/1 [00:01<00:00,  1.45s/it]\n",
      "100%|██████████| 1/1 [00:01<00:00,  1.55s/it]\n",
      "100%|██████████| 1/1 [00:01<00:00,  1.57s/it]\n",
      "100%|██████████| 1/1 [00:01<00:00,  1.55s/it]\n",
      "100%|██████████| 1/1 [00:01<00:00,  1.45s/it]\n",
      "100%|██████████| 1/1 [00:01<00:00,  1.44s/it]\n",
      "100%|██████████| 1/1 [00:01<00:00,  1.45s/it]\n",
      "100%|██████████| 1/1 [00:01<00:00,  1.56s/it]"
     ]
    },
    {
     "name": "stdout",
     "output_type": "stream",
     "text": [
      "<class 'pandas.core.frame.DataFrame'>\n",
      "7 /home/erik/sweden/sonnhammer/GeneSnake/generation/network_generation_algo/networks/old_stability_analysis/gnw/750/ecoli_transcriptional_network_regulonDB_6_7-9.tsv\n"
     ]
    },
    {
     "name": "stderr",
     "output_type": "stream",
     "text": [
      "\n",
      "100%|██████████| 1/1 [00:01<00:00,  1.42s/it]\n",
      "100%|██████████| 1/1 [00:01<00:00,  1.58s/it]\n",
      "100%|██████████| 1/1 [00:01<00:00,  1.47s/it]\n",
      "100%|██████████| 1/1 [00:01<00:00,  1.44s/it]\n",
      "100%|██████████| 1/1 [00:01<00:00,  1.70s/it]\n",
      "100%|██████████| 1/1 [00:01<00:00,  1.48s/it]\n",
      "100%|██████████| 1/1 [00:01<00:00,  1.82s/it]\n",
      "100%|██████████| 1/1 [00:01<00:00,  1.64s/it]\n",
      "100%|██████████| 1/1 [00:01<00:00,  1.68s/it]\n",
      "100%|██████████| 1/1 [00:02<00:00,  2.32s/it]"
     ]
    },
    {
     "name": "stdout",
     "output_type": "stream",
     "text": [
      "<class 'pandas.core.frame.DataFrame'>\n",
      "8 /home/erik/sweden/sonnhammer/GeneSnake/generation/network_generation_algo/networks/old_stability_analysis/gnw/750/ecoli_transcriptional_network_regulonDB_6_7-2.tsv\n"
     ]
    },
    {
     "name": "stderr",
     "output_type": "stream",
     "text": [
      "\n",
      "100%|██████████| 1/1 [00:01<00:00,  1.21s/it]\n",
      "100%|██████████| 1/1 [00:01<00:00,  1.52s/it]\n",
      "100%|██████████| 1/1 [00:02<00:00,  2.18s/it]\n",
      "100%|██████████| 1/1 [00:01<00:00,  1.62s/it]\n",
      "100%|██████████| 1/1 [00:01<00:00,  1.44s/it]\n",
      "100%|██████████| 1/1 [00:01<00:00,  1.54s/it]\n",
      "100%|██████████| 1/1 [00:01<00:00,  1.38s/it]\n",
      "100%|██████████| 1/1 [00:01<00:00,  1.45s/it]\n",
      "100%|██████████| 1/1 [00:01<00:00,  1.49s/it]\n",
      "100%|██████████| 1/1 [00:01<00:00,  1.43s/it]"
     ]
    },
    {
     "name": "stdout",
     "output_type": "stream",
     "text": [
      "<class 'pandas.core.frame.DataFrame'>\n",
      "9 /home/erik/sweden/sonnhammer/GeneSnake/generation/network_generation_algo/networks/old_stability_analysis/gnw/750/ecoli_transcriptional_network_regulonDB_6_7-6.tsv\n"
     ]
    },
    {
     "name": "stderr",
     "output_type": "stream",
     "text": [
      "\n",
      "100%|██████████| 1/1 [00:01<00:00,  1.76s/it]\n",
      "100%|██████████| 1/1 [00:01<00:00,  1.97s/it]\n",
      "100%|██████████| 1/1 [00:01<00:00,  1.81s/it]\n",
      "100%|██████████| 1/1 [00:01<00:00,  1.87s/it]\n",
      "100%|██████████| 1/1 [00:01<00:00,  1.72s/it]\n",
      "100%|██████████| 1/1 [00:01<00:00,  1.77s/it]\n",
      "100%|██████████| 1/1 [00:01<00:00,  1.76s/it]\n",
      "100%|██████████| 1/1 [00:02<00:00,  2.02s/it]\n",
      "100%|██████████| 1/1 [00:02<00:00,  2.17s/it]\n",
      "100%|██████████| 1/1 [00:01<00:00,  1.85s/it]"
     ]
    },
    {
     "name": "stdout",
     "output_type": "stream",
     "text": [
      "<class 'pandas.core.frame.DataFrame'>\n",
      "       N_real  mean(N_rand)  sd(N_rand)   Z-score  P-value network_label size\n",
      "021C    904.3       2224.10  252.628305 -6.056332     0.00           gnw  750\n",
      "021D  92618.4      93825.91  247.908896 -5.604575     0.00           gnw  750\n",
      "021U   1232.5       1453.92   60.206575 -4.333207     0.02           gnw  750\n",
      "030C      0.0          1.16    1.131968 -1.009930     0.44           gnw  750\n",
      "030T    327.8        376.77   67.990484 -0.529168     0.20           gnw  750\n",
      "/home/erik/sweden/sonnhammer/GeneSnake/generation/network_generation_algo/networks/old_stability_analysis/gnw/1000\n",
      "0 /home/erik/sweden/sonnhammer/GeneSnake/generation/network_generation_algo/networks/old_stability_analysis/gnw/1000/ecoli_transcriptional_network_regulonDB_6_7-7.tsv\n"
     ]
    },
    {
     "name": "stderr",
     "output_type": "stream",
     "text": [
      "\n",
      "100%|██████████| 1/1 [00:02<00:00,  2.30s/it]\n",
      "100%|██████████| 1/1 [00:02<00:00,  2.19s/it]\n",
      "100%|██████████| 1/1 [00:02<00:00,  2.52s/it]\n",
      "100%|██████████| 1/1 [00:02<00:00,  2.21s/it]\n",
      "100%|██████████| 1/1 [00:02<00:00,  2.20s/it]\n",
      "100%|██████████| 1/1 [00:02<00:00,  2.12s/it]\n",
      "100%|██████████| 1/1 [00:02<00:00,  2.19s/it]\n",
      "100%|██████████| 1/1 [00:02<00:00,  2.22s/it]\n",
      "100%|██████████| 1/1 [00:02<00:00,  2.19s/it]\n",
      "100%|██████████| 1/1 [00:02<00:00,  2.21s/it]"
     ]
    },
    {
     "name": "stdout",
     "output_type": "stream",
     "text": [
      "<class 'pandas.core.frame.DataFrame'>\n",
      "1 /home/erik/sweden/sonnhammer/GeneSnake/generation/network_generation_algo/networks/old_stability_analysis/gnw/1000/ecoli_transcriptional_network_regulonDB_6_7-5.tsv\n"
     ]
    },
    {
     "name": "stderr",
     "output_type": "stream",
     "text": [
      "\n",
      "100%|██████████| 1/1 [00:02<00:00,  2.18s/it]\n",
      "100%|██████████| 1/1 [00:02<00:00,  2.20s/it]\n",
      "100%|██████████| 1/1 [00:02<00:00,  2.19s/it]\n",
      "100%|██████████| 1/1 [00:02<00:00,  2.21s/it]\n",
      "100%|██████████| 1/1 [00:02<00:00,  2.20s/it]\n",
      "100%|██████████| 1/1 [00:02<00:00,  2.42s/it]\n",
      "100%|██████████| 1/1 [00:02<00:00,  2.19s/it]\n",
      "100%|██████████| 1/1 [00:02<00:00,  2.22s/it]\n",
      "100%|██████████| 1/1 [00:02<00:00,  2.50s/it]\n",
      "100%|██████████| 1/1 [00:01<00:00,  1.78s/it]"
     ]
    },
    {
     "name": "stdout",
     "output_type": "stream",
     "text": [
      "<class 'pandas.core.frame.DataFrame'>\n",
      "2 /home/erik/sweden/sonnhammer/GeneSnake/generation/network_generation_algo/networks/old_stability_analysis/gnw/1000/ecoli_transcriptional_network_regulonDB_6_7-8.tsv\n"
     ]
    },
    {
     "name": "stderr",
     "output_type": "stream",
     "text": [
      "\n",
      "100%|██████████| 1/1 [00:02<00:00,  2.02s/it]\n",
      "100%|██████████| 1/1 [00:02<00:00,  2.11s/it]\n",
      "100%|██████████| 1/1 [00:02<00:00,  2.12s/it]\n",
      "100%|██████████| 1/1 [00:02<00:00,  2.26s/it]\n",
      "100%|██████████| 1/1 [00:02<00:00,  2.15s/it]\n",
      "100%|██████████| 1/1 [00:02<00:00,  2.22s/it]\n",
      "100%|██████████| 1/1 [00:02<00:00,  2.10s/it]\n",
      "100%|██████████| 1/1 [00:02<00:00,  2.10s/it]\n",
      "100%|██████████| 1/1 [00:02<00:00,  2.12s/it]\n",
      "100%|██████████| 1/1 [00:02<00:00,  2.13s/it]"
     ]
    },
    {
     "name": "stdout",
     "output_type": "stream",
     "text": [
      "<class 'pandas.core.frame.DataFrame'>\n",
      "3 /home/erik/sweden/sonnhammer/GeneSnake/generation/network_generation_algo/networks/old_stability_analysis/gnw/1000/ecoli_transcriptional_network_regulonDB_6_7-1.tsv\n"
     ]
    },
    {
     "name": "stderr",
     "output_type": "stream",
     "text": [
      "\n",
      "100%|██████████| 1/1 [00:01<00:00,  1.76s/it]\n",
      "100%|██████████| 1/1 [00:01<00:00,  1.81s/it]\n",
      "100%|██████████| 1/1 [00:01<00:00,  1.78s/it]\n",
      "100%|██████████| 1/1 [00:01<00:00,  1.78s/it]\n",
      "100%|██████████| 1/1 [00:01<00:00,  1.77s/it]\n",
      "100%|██████████| 1/1 [00:01<00:00,  1.79s/it]\n",
      "100%|██████████| 1/1 [00:01<00:00,  1.77s/it]\n",
      "100%|██████████| 1/1 [00:01<00:00,  1.64s/it]\n",
      "100%|██████████| 1/1 [00:01<00:00,  1.80s/it]\n",
      "100%|██████████| 1/1 [00:01<00:00,  1.80s/it]"
     ]
    },
    {
     "name": "stdout",
     "output_type": "stream",
     "text": [
      "<class 'pandas.core.frame.DataFrame'>\n",
      "4 /home/erik/sweden/sonnhammer/GeneSnake/generation/network_generation_algo/networks/old_stability_analysis/gnw/1000/ecoli_transcriptional_network_regulonDB_6_7-3.tsv\n"
     ]
    },
    {
     "name": "stderr",
     "output_type": "stream",
     "text": [
      "\n",
      "100%|██████████| 1/1 [00:01<00:00,  1.54s/it]\n",
      "100%|██████████| 1/1 [00:01<00:00,  1.54s/it]\n",
      "100%|██████████| 1/1 [00:01<00:00,  1.58s/it]\n",
      "100%|██████████| 1/1 [00:01<00:00,  1.56s/it]\n",
      "100%|██████████| 1/1 [00:01<00:00,  1.55s/it]\n",
      "100%|██████████| 1/1 [00:01<00:00,  1.56s/it]\n",
      "100%|██████████| 1/1 [00:01<00:00,  1.56s/it]\n",
      "100%|██████████| 1/1 [00:01<00:00,  1.57s/it]\n",
      "100%|██████████| 1/1 [00:01<00:00,  1.67s/it]\n",
      "100%|██████████| 1/1 [00:01<00:00,  1.61s/it]"
     ]
    },
    {
     "name": "stdout",
     "output_type": "stream",
     "text": [
      "<class 'pandas.core.frame.DataFrame'>\n",
      "5 /home/erik/sweden/sonnhammer/GeneSnake/generation/network_generation_algo/networks/old_stability_analysis/gnw/1000/ecoli_transcriptional_network_regulonDB_6_7-10.tsv\n"
     ]
    },
    {
     "name": "stderr",
     "output_type": "stream",
     "text": [
      "\n",
      "100%|██████████| 1/1 [00:01<00:00,  1.67s/it]\n",
      "100%|██████████| 1/1 [00:01<00:00,  1.65s/it]\n",
      "100%|██████████| 1/1 [00:01<00:00,  1.68s/it]\n",
      "100%|██████████| 1/1 [00:01<00:00,  1.67s/it]\n",
      "100%|██████████| 1/1 [00:01<00:00,  1.67s/it]\n",
      "100%|██████████| 1/1 [00:01<00:00,  1.55s/it]\n",
      "100%|██████████| 1/1 [00:01<00:00,  1.68s/it]\n",
      "100%|██████████| 1/1 [00:01<00:00,  1.66s/it]\n",
      "100%|██████████| 1/1 [00:01<00:00,  1.69s/it]\n",
      "100%|██████████| 1/1 [00:01<00:00,  1.79s/it]"
     ]
    },
    {
     "name": "stdout",
     "output_type": "stream",
     "text": [
      "<class 'pandas.core.frame.DataFrame'>\n",
      "6 /home/erik/sweden/sonnhammer/GeneSnake/generation/network_generation_algo/networks/old_stability_analysis/gnw/1000/ecoli_transcriptional_network_regulonDB_6_7-4.tsv\n"
     ]
    },
    {
     "name": "stderr",
     "output_type": "stream",
     "text": [
      "\n",
      "100%|██████████| 1/1 [00:01<00:00,  1.67s/it]\n",
      "100%|██████████| 1/1 [00:01<00:00,  1.82s/it]\n",
      "100%|██████████| 1/1 [00:01<00:00,  1.68s/it]\n",
      "100%|██████████| 1/1 [00:01<00:00,  1.70s/it]\n",
      "100%|██████████| 1/1 [00:01<00:00,  1.69s/it]\n",
      "100%|██████████| 1/1 [00:01<00:00,  1.66s/it]\n",
      "100%|██████████| 1/1 [00:01<00:00,  1.78s/it]\n",
      "100%|██████████| 1/1 [00:01<00:00,  1.69s/it]\n",
      "100%|██████████| 1/1 [00:01<00:00,  1.73s/it]\n",
      "100%|██████████| 1/1 [00:01<00:00,  1.83s/it]"
     ]
    },
    {
     "name": "stdout",
     "output_type": "stream",
     "text": [
      "<class 'pandas.core.frame.DataFrame'>\n",
      "7 /home/erik/sweden/sonnhammer/GeneSnake/generation/network_generation_algo/networks/old_stability_analysis/gnw/1000/ecoli_transcriptional_network_regulonDB_6_7-9.tsv\n"
     ]
    },
    {
     "name": "stderr",
     "output_type": "stream",
     "text": [
      "\n",
      "100%|██████████| 1/1 [00:01<00:00,  1.91s/it]\n",
      "100%|██████████| 1/1 [00:01<00:00,  1.69s/it]\n",
      "100%|██████████| 1/1 [00:01<00:00,  1.68s/it]\n",
      "100%|██████████| 1/1 [00:01<00:00,  1.56s/it]\n",
      "100%|██████████| 1/1 [00:01<00:00,  1.53s/it]\n",
      "100%|██████████| 1/1 [00:01<00:00,  1.69s/it]\n",
      "100%|██████████| 1/1 [00:01<00:00,  1.80s/it]\n",
      "100%|██████████| 1/1 [00:01<00:00,  1.58s/it]\n",
      "100%|██████████| 1/1 [00:01<00:00,  1.76s/it]\n",
      "100%|██████████| 1/1 [00:01<00:00,  1.69s/it]"
     ]
    },
    {
     "name": "stdout",
     "output_type": "stream",
     "text": [
      "<class 'pandas.core.frame.DataFrame'>\n",
      "8 /home/erik/sweden/sonnhammer/GeneSnake/generation/network_generation_algo/networks/old_stability_analysis/gnw/1000/ecoli_transcriptional_network_regulonDB_6_7-2.tsv\n"
     ]
    },
    {
     "name": "stderr",
     "output_type": "stream",
     "text": [
      "\n",
      "100%|██████████| 1/1 [00:01<00:00,  1.91s/it]\n",
      "100%|██████████| 1/1 [00:01<00:00,  1.88s/it]\n",
      "100%|██████████| 1/1 [00:01<00:00,  1.79s/it]\n",
      "100%|██████████| 1/1 [00:02<00:00,  2.04s/it]\n",
      "100%|██████████| 1/1 [00:02<00:00,  2.08s/it]\n",
      "100%|██████████| 1/1 [00:01<00:00,  1.92s/it]\n",
      "100%|██████████| 1/1 [00:01<00:00,  1.81s/it]\n",
      "100%|██████████| 1/1 [00:01<00:00,  1.84s/it]\n",
      "100%|██████████| 1/1 [00:01<00:00,  1.95s/it]\n",
      "100%|██████████| 1/1 [00:01<00:00,  1.64s/it]"
     ]
    },
    {
     "name": "stdout",
     "output_type": "stream",
     "text": [
      "<class 'pandas.core.frame.DataFrame'>\n",
      "9 /home/erik/sweden/sonnhammer/GeneSnake/generation/network_generation_algo/networks/old_stability_analysis/gnw/1000/ecoli_transcriptional_network_regulonDB_6_7-6.tsv\n"
     ]
    },
    {
     "name": "stderr",
     "output_type": "stream",
     "text": [
      "\n",
      "100%|██████████| 1/1 [00:01<00:00,  1.90s/it]\n",
      "100%|██████████| 1/1 [00:01<00:00,  1.83s/it]\n",
      "100%|██████████| 1/1 [00:01<00:00,  1.93s/it]\n",
      "100%|██████████| 1/1 [00:01<00:00,  1.83s/it]\n",
      "100%|██████████| 1/1 [00:01<00:00,  1.72s/it]\n",
      "100%|██████████| 1/1 [00:01<00:00,  1.90s/it]\n",
      "100%|██████████| 1/1 [00:01<00:00,  1.85s/it]\n",
      "100%|██████████| 1/1 [00:01<00:00,  1.72s/it]\n",
      "100%|██████████| 1/1 [00:01<00:00,  1.80s/it]\n",
      "100%|██████████| 1/1 [00:01<00:00,  1.89s/it]"
     ]
    },
    {
     "name": "stdout",
     "output_type": "stream",
     "text": [
      "<class 'pandas.core.frame.DataFrame'>\n",
      "        N_real  mean(N_rand)  sd(N_rand)   Z-score  P-value network_label  \\\n",
      "021C    1180.6       3398.87  314.638747 -7.182302     0.00           gnw   \n",
      "021D  141732.1     143780.72  310.749831 -6.712647     0.00           gnw   \n",
      "021U    1825.4       2248.70   63.774426 -7.232372     0.00           gnw   \n",
      "030C       0.0          1.74    1.257744 -1.373806     0.23           gnw   \n",
      "030T     489.1        485.56   68.414092  0.082258     0.29           gnw   \n",
      "\n",
      "      size  \n",
      "021C  1000  \n",
      "021D  1000  \n",
      "021U  1000  \n",
      "030C  1000  \n",
      "030T  1000  \n"
     ]
    },
    {
     "name": "stderr",
     "output_type": "stream",
     "text": [
      "\n"
     ]
    }
   ],
   "source": [
    "networks = ['gnw']\n",
    "\n",
    "for network in networks:\n",
    "    for size in sizes:\n",
    "        current_dir = os.path.join(stability_dir, network, size)\n",
    "        print(current_dir)\n",
    "        pandas_df_lst = []\n",
    "        for rep, file in enumerate(glob.glob(os.path.join(current_dir, '*.tsv'))):\n",
    "            print(rep, file)\n",
    "            report = f.analyze_exctracted_network(cfg, file, network, rep, size, stability_motifs=True)\n",
    "            print(type(report))\n",
    "            pandas_df_lst.append(report)\n",
    "        #enrichment_report = pd.concat(pandas_df_lst)\n",
    "        pandas_df_list = sum(pandas_df_lst)/len(pandas_df_lst)\n",
    "        pandas_df_list['network_label'] = network\n",
    "        pandas_df_list['size'] = size\n",
    "        print(pandas_df_list)                                     \n",
    "        pandas_df_list.to_csv(os.path.join(stability_dir, 'z-scores', network+'_'+str(size)+'_z_score.tsv'))\n",
    "                                                "
   ]
  },
  {
   "cell_type": "markdown",
   "metadata": {},
   "source": [
    "## FFLatt"
   ]
  },
  {
   "cell_type": "code",
   "execution_count": 55,
   "metadata": {},
   "outputs": [
    {
     "name": "stdout",
     "output_type": "stream",
     "text": [
      "/home/erik/sweden/sonnhammer/GeneSnake/generation/network_generation_algo/networks/old_stability_analysis/fflatt/250\n",
      "0 /home/erik/sweden/sonnhammer/GeneSnake/generation/network_generation_algo/networks/old_stability_analysis/fflatt/250/fflatt_transcriptional_network_7_nodes_250_ffl_perc_0.13.tsv\n"
     ]
    },
    {
     "name": "stderr",
     "output_type": "stream",
     "text": [
      "100%|██████████| 1/1 [00:00<00:00,  1.28it/s]\n",
      "100%|██████████| 1/1 [00:00<00:00,  1.34it/s]\n",
      "100%|██████████| 1/1 [00:00<00:00,  1.25it/s]\n",
      "100%|██████████| 1/1 [00:00<00:00,  1.46it/s]\n",
      "100%|██████████| 1/1 [00:00<00:00,  1.16it/s]\n",
      "100%|██████████| 1/1 [00:00<00:00,  1.12it/s]\n",
      "100%|██████████| 1/1 [00:00<00:00,  1.20it/s]\n",
      "100%|██████████| 1/1 [00:00<00:00,  1.15it/s]\n",
      "100%|██████████| 1/1 [00:01<00:00,  1.02s/it]\n",
      "100%|██████████| 1/1 [00:00<00:00,  1.01it/s]"
     ]
    },
    {
     "name": "stdout",
     "output_type": "stream",
     "text": [
      "<class 'pandas.core.frame.DataFrame'>\n",
      "1 /home/erik/sweden/sonnhammer/GeneSnake/generation/network_generation_algo/networks/old_stability_analysis/fflatt/250/fflatt_transcriptional_network_6_nodes_250_ffl_perc_0.13.tsv\n"
     ]
    },
    {
     "name": "stderr",
     "output_type": "stream",
     "text": [
      "\n",
      "100%|██████████| 1/1 [00:00<00:00,  1.27it/s]\n",
      "100%|██████████| 1/1 [00:00<00:00,  1.28it/s]\n",
      "100%|██████████| 1/1 [00:00<00:00,  1.31it/s]\n",
      "100%|██████████| 1/1 [00:00<00:00,  1.30it/s]\n",
      "100%|██████████| 1/1 [00:00<00:00,  1.29it/s]\n",
      "100%|██████████| 1/1 [00:01<00:00,  1.09s/it]\n",
      "100%|██████████| 1/1 [00:00<00:00,  1.30it/s]\n",
      "100%|██████████| 1/1 [00:00<00:00,  1.30it/s]\n",
      "100%|██████████| 1/1 [00:00<00:00,  1.30it/s]\n",
      "100%|██████████| 1/1 [00:00<00:00,  1.30it/s]"
     ]
    },
    {
     "name": "stdout",
     "output_type": "stream",
     "text": [
      "<class 'pandas.core.frame.DataFrame'>\n",
      "2 /home/erik/sweden/sonnhammer/GeneSnake/generation/network_generation_algo/networks/old_stability_analysis/fflatt/250/fflatt_transcriptional_network_8_nodes_250_ffl_perc_0.13.tsv\n"
     ]
    },
    {
     "name": "stderr",
     "output_type": "stream",
     "text": [
      "\n",
      "100%|██████████| 1/1 [00:00<00:00,  1.14it/s]\n",
      "100%|██████████| 1/1 [00:00<00:00,  1.13it/s]\n",
      "100%|██████████| 1/1 [00:00<00:00,  1.16it/s]\n",
      "100%|██████████| 1/1 [00:00<00:00,  1.13it/s]\n",
      "100%|██████████| 1/1 [00:00<00:00,  1.15it/s]\n",
      "100%|██████████| 1/1 [00:00<00:00,  1.15it/s]\n",
      "100%|██████████| 1/1 [00:00<00:00,  1.14it/s]\n",
      "100%|██████████| 1/1 [00:00<00:00,  1.17it/s]\n",
      "100%|██████████| 1/1 [00:00<00:00,  1.16it/s]\n",
      "100%|██████████| 1/1 [00:00<00:00,  1.14it/s]"
     ]
    },
    {
     "name": "stdout",
     "output_type": "stream",
     "text": [
      "<class 'pandas.core.frame.DataFrame'>\n",
      "3 /home/erik/sweden/sonnhammer/GeneSnake/generation/network_generation_algo/networks/old_stability_analysis/fflatt/250/fflatt_transcriptional_network_4_nodes_250_ffl_perc_0.13.tsv\n"
     ]
    },
    {
     "name": "stderr",
     "output_type": "stream",
     "text": [
      "\n",
      "100%|██████████| 1/1 [00:00<00:00,  1.27it/s]\n",
      "100%|██████████| 1/1 [00:00<00:00,  1.31it/s]\n",
      "100%|██████████| 1/1 [00:00<00:00,  1.31it/s]\n",
      "100%|██████████| 1/1 [00:00<00:00,  1.33it/s]\n",
      "100%|██████████| 1/1 [00:00<00:00,  1.31it/s]\n",
      "100%|██████████| 1/1 [00:00<00:00,  1.31it/s]\n",
      "100%|██████████| 1/1 [00:00<00:00,  1.28it/s]\n",
      "100%|██████████| 1/1 [00:00<00:00,  1.26it/s]\n",
      "100%|██████████| 1/1 [00:00<00:00,  1.32it/s]\n",
      "100%|██████████| 1/1 [00:00<00:00,  1.32it/s]"
     ]
    },
    {
     "name": "stdout",
     "output_type": "stream",
     "text": [
      "<class 'pandas.core.frame.DataFrame'>\n",
      "4 /home/erik/sweden/sonnhammer/GeneSnake/generation/network_generation_algo/networks/old_stability_analysis/fflatt/250/fflatt_transcriptional_network_1_nodes_250_ffl_perc_0.13.tsv\n"
     ]
    },
    {
     "name": "stderr",
     "output_type": "stream",
     "text": [
      "\n",
      "100%|██████████| 1/1 [00:00<00:00,  1.29it/s]\n",
      "100%|██████████| 1/1 [00:00<00:00,  1.31it/s]\n",
      "100%|██████████| 1/1 [00:00<00:00,  1.32it/s]\n",
      "100%|██████████| 1/1 [00:00<00:00,  1.32it/s]\n",
      "100%|██████████| 1/1 [00:00<00:00,  1.31it/s]\n",
      "100%|██████████| 1/1 [00:00<00:00,  1.42it/s]\n",
      "100%|██████████| 1/1 [00:00<00:00,  1.31it/s]\n",
      "100%|██████████| 1/1 [00:00<00:00,  1.30it/s]\n",
      "100%|██████████| 1/1 [00:00<00:00,  1.31it/s]\n",
      "100%|██████████| 1/1 [00:00<00:00,  1.31it/s]"
     ]
    },
    {
     "name": "stdout",
     "output_type": "stream",
     "text": [
      "<class 'pandas.core.frame.DataFrame'>\n",
      "5 /home/erik/sweden/sonnhammer/GeneSnake/generation/network_generation_algo/networks/old_stability_analysis/fflatt/250/fflatt_transcriptional_network_3_nodes_250_ffl_perc_0.13.tsv\n"
     ]
    },
    {
     "name": "stderr",
     "output_type": "stream",
     "text": [
      "\n",
      "100%|██████████| 1/1 [00:00<00:00,  1.31it/s]\n",
      "100%|██████████| 1/1 [00:00<00:00,  1.31it/s]\n",
      "100%|██████████| 1/1 [00:00<00:00,  1.26it/s]\n",
      "100%|██████████| 1/1 [00:00<00:00,  1.32it/s]\n",
      "100%|██████████| 1/1 [00:00<00:00,  1.31it/s]\n",
      "100%|██████████| 1/1 [00:00<00:00,  1.32it/s]\n",
      "100%|██████████| 1/1 [00:00<00:00,  1.39it/s]\n",
      "100%|██████████| 1/1 [00:00<00:00,  1.05it/s]\n",
      "100%|██████████| 1/1 [00:00<00:00,  1.26it/s]\n",
      "100%|██████████| 1/1 [00:00<00:00,  1.28it/s]"
     ]
    },
    {
     "name": "stdout",
     "output_type": "stream",
     "text": [
      "<class 'pandas.core.frame.DataFrame'>\n",
      "6 /home/erik/sweden/sonnhammer/GeneSnake/generation/network_generation_algo/networks/old_stability_analysis/fflatt/250/fflatt_transcriptional_network_5_nodes_250_ffl_perc_0.13.tsv\n"
     ]
    },
    {
     "name": "stderr",
     "output_type": "stream",
     "text": [
      "\n",
      "100%|██████████| 1/1 [00:01<00:00,  1.29s/it]\n",
      "100%|██████████| 1/1 [00:00<00:00,  1.92it/s]\n",
      "100%|██████████| 1/1 [00:00<00:00,  1.62it/s]\n",
      "100%|██████████| 1/1 [00:00<00:00,  1.96it/s]\n",
      "100%|██████████| 1/1 [00:00<00:00,  1.89it/s]\n",
      "100%|██████████| 1/1 [00:00<00:00,  1.95it/s]\n",
      "100%|██████████| 1/1 [00:00<00:00,  1.88it/s]\n",
      "100%|██████████| 1/1 [00:00<00:00,  1.95it/s]\n",
      "100%|██████████| 1/1 [00:00<00:00,  1.83it/s]\n",
      "100%|██████████| 1/1 [00:00<00:00,  1.83it/s]"
     ]
    },
    {
     "name": "stdout",
     "output_type": "stream",
     "text": [
      "<class 'pandas.core.frame.DataFrame'>\n",
      "7 /home/erik/sweden/sonnhammer/GeneSnake/generation/network_generation_algo/networks/old_stability_analysis/fflatt/250/fflatt_transcriptional_network_9_nodes_250_ffl_perc_0.13.tsv\n"
     ]
    },
    {
     "name": "stderr",
     "output_type": "stream",
     "text": [
      "\n",
      "100%|██████████| 1/1 [00:00<00:00,  1.58it/s]\n",
      "100%|██████████| 1/1 [00:00<00:00,  1.96it/s]\n",
      "100%|██████████| 1/1 [00:00<00:00,  1.88it/s]\n",
      "100%|██████████| 1/1 [00:00<00:00,  1.96it/s]\n",
      "100%|██████████| 1/1 [00:00<00:00,  1.88it/s]\n",
      "100%|██████████| 1/1 [00:00<00:00,  1.88it/s]\n",
      "100%|██████████| 1/1 [00:00<00:00,  1.95it/s]\n",
      "100%|██████████| 1/1 [00:00<00:00,  1.89it/s]\n",
      "100%|██████████| 1/1 [00:00<00:00,  1.96it/s]\n",
      "100%|██████████| 1/1 [00:00<00:00,  1.89it/s]"
     ]
    },
    {
     "name": "stdout",
     "output_type": "stream",
     "text": [
      "<class 'pandas.core.frame.DataFrame'>\n",
      "8 /home/erik/sweden/sonnhammer/GeneSnake/generation/network_generation_algo/networks/old_stability_analysis/fflatt/250/fflatt_transcriptional_network_2_nodes_250_ffl_perc_0.13.tsv\n"
     ]
    },
    {
     "name": "stderr",
     "output_type": "stream",
     "text": [
      "\n",
      "100%|██████████| 1/1 [00:00<00:00,  1.90it/s]\n",
      "100%|██████████| 1/1 [00:00<00:00,  1.95it/s]\n",
      "100%|██████████| 1/1 [00:00<00:00,  1.95it/s]\n",
      "100%|██████████| 1/1 [00:00<00:00,  1.95it/s]\n",
      "100%|██████████| 1/1 [00:00<00:00,  1.95it/s]\n",
      "100%|██████████| 1/1 [00:00<00:00,  1.97it/s]\n",
      "100%|██████████| 1/1 [00:00<00:00,  1.93it/s]\n",
      "100%|██████████| 1/1 [00:00<00:00,  1.96it/s]\n",
      "100%|██████████| 1/1 [00:00<00:00,  1.96it/s]\n",
      "100%|██████████| 1/1 [00:00<00:00,  1.89it/s]"
     ]
    },
    {
     "name": "stdout",
     "output_type": "stream",
     "text": [
      "<class 'pandas.core.frame.DataFrame'>\n",
      "9 /home/erik/sweden/sonnhammer/GeneSnake/generation/network_generation_algo/networks/old_stability_analysis/fflatt/250/fflatt_transcriptional_network_0_nodes_250_ffl_perc_0.13.tsv\n"
     ]
    },
    {
     "name": "stderr",
     "output_type": "stream",
     "text": [
      "\n",
      "100%|██████████| 1/1 [00:00<00:00,  1.63it/s]\n",
      "100%|██████████| 1/1 [00:00<00:00,  1.57it/s]\n",
      "100%|██████████| 1/1 [00:00<00:00,  1.63it/s]\n",
      "100%|██████████| 1/1 [00:00<00:00,  1.57it/s]\n",
      "100%|██████████| 1/1 [00:00<00:00,  1.58it/s]\n",
      "100%|██████████| 1/1 [00:00<00:00,  1.63it/s]\n",
      "100%|██████████| 1/1 [00:00<00:00,  1.60it/s]\n",
      "100%|██████████| 1/1 [00:00<00:00,  1.58it/s]\n",
      "100%|██████████| 1/1 [00:00<00:00,  1.59it/s]\n",
      "100%|██████████| 1/1 [00:00<00:00,  1.54it/s]"
     ]
    },
    {
     "name": "stdout",
     "output_type": "stream",
     "text": [
      "<class 'pandas.core.frame.DataFrame'>\n",
      "      N_real  mean(N_rand)  sd(N_rand)   Z-score  P-value network_label size\n",
      "021C  1484.2       1185.36  104.878885  2.910897     0.00        fflatt  250\n",
      "021D  6397.9       6157.13   95.417612  2.555931     0.02        fflatt  250\n",
      "021U   553.7        540.31   16.537450  0.960980     0.22        fflatt  250\n",
      "030C     0.0          4.62    2.176966 -2.219236     0.01        fflatt  250\n",
      "030T   135.5        110.65   13.847663  1.980403     0.10        fflatt  250\n",
      "/home/erik/sweden/sonnhammer/GeneSnake/generation/network_generation_algo/networks/old_stability_analysis/fflatt/500\n",
      "0 /home/erik/sweden/sonnhammer/GeneSnake/generation/network_generation_algo/networks/old_stability_analysis/fflatt/500/fflatt_transcriptional_network_0_nodes_500_ffl_perc_0.13.tsv\n"
     ]
    },
    {
     "name": "stderr",
     "output_type": "stream",
     "text": [
      "\n",
      "100%|██████████| 1/1 [00:00<00:00,  1.31it/s]\n",
      "100%|██████████| 1/1 [00:00<00:00,  1.31it/s]\n",
      "100%|██████████| 1/1 [00:00<00:00,  1.29it/s]\n",
      "100%|██████████| 1/1 [00:00<00:00,  1.31it/s]\n",
      "100%|██████████| 1/1 [00:00<00:00,  1.27it/s]\n",
      "100%|██████████| 1/1 [00:00<00:00,  1.28it/s]\n",
      "100%|██████████| 1/1 [00:00<00:00,  1.29it/s]\n",
      "100%|██████████| 1/1 [00:00<00:00,  1.29it/s]\n",
      "100%|██████████| 1/1 [00:00<00:00,  1.29it/s]\n",
      "100%|██████████| 1/1 [00:00<00:00,  1.30it/s]"
     ]
    },
    {
     "name": "stdout",
     "output_type": "stream",
     "text": [
      "<class 'pandas.core.frame.DataFrame'>\n",
      "1 /home/erik/sweden/sonnhammer/GeneSnake/generation/network_generation_algo/networks/old_stability_analysis/fflatt/500/fflatt_transcriptional_network_8_nodes_500_ffl_perc_0.13.tsv\n"
     ]
    },
    {
     "name": "stderr",
     "output_type": "stream",
     "text": [
      "\n",
      "100%|██████████| 1/1 [00:00<00:00,  1.28it/s]\n",
      "100%|██████████| 1/1 [00:00<00:00,  1.31it/s]\n",
      "100%|██████████| 1/1 [00:00<00:00,  1.30it/s]\n",
      "100%|██████████| 1/1 [00:00<00:00,  1.38it/s]\n",
      "100%|██████████| 1/1 [00:00<00:00,  1.30it/s]\n",
      "100%|██████████| 1/1 [00:00<00:00,  1.36it/s]\n",
      "100%|██████████| 1/1 [00:00<00:00,  1.32it/s]\n",
      "100%|██████████| 1/1 [00:00<00:00,  1.38it/s]\n",
      "100%|██████████| 1/1 [00:00<00:00,  1.33it/s]\n",
      "100%|██████████| 1/1 [00:00<00:00,  1.31it/s]"
     ]
    },
    {
     "name": "stdout",
     "output_type": "stream",
     "text": [
      "<class 'pandas.core.frame.DataFrame'>\n",
      "2 /home/erik/sweden/sonnhammer/GeneSnake/generation/network_generation_algo/networks/old_stability_analysis/fflatt/500/fflatt_transcriptional_network_2_nodes_500_ffl_perc_0.13.tsv\n"
     ]
    },
    {
     "name": "stderr",
     "output_type": "stream",
     "text": [
      "\n",
      "100%|██████████| 1/1 [00:00<00:00,  1.29it/s]\n",
      "100%|██████████| 1/1 [00:00<00:00,  1.27it/s]\n",
      "100%|██████████| 1/1 [00:00<00:00,  1.29it/s]\n",
      "100%|██████████| 1/1 [00:00<00:00,  1.27it/s]\n",
      "100%|██████████| 1/1 [00:00<00:00,  1.30it/s]\n",
      "100%|██████████| 1/1 [00:00<00:00,  1.28it/s]\n",
      "100%|██████████| 1/1 [00:00<00:00,  1.27it/s]\n",
      "100%|██████████| 1/1 [00:00<00:00,  1.25it/s]\n",
      "100%|██████████| 1/1 [00:00<00:00,  1.30it/s]\n",
      "100%|██████████| 1/1 [00:00<00:00,  1.28it/s]"
     ]
    },
    {
     "name": "stdout",
     "output_type": "stream",
     "text": [
      "<class 'pandas.core.frame.DataFrame'>\n",
      "3 /home/erik/sweden/sonnhammer/GeneSnake/generation/network_generation_algo/networks/old_stability_analysis/fflatt/500/fflatt_transcriptional_network_9_nodes_500_ffl_perc_0.13.tsv\n"
     ]
    },
    {
     "name": "stderr",
     "output_type": "stream",
     "text": [
      "\n",
      "100%|██████████| 1/1 [00:00<00:00,  1.30it/s]\n",
      "100%|██████████| 1/1 [00:00<00:00,  1.28it/s]\n",
      "100%|██████████| 1/1 [00:00<00:00,  1.27it/s]\n",
      "100%|██████████| 1/1 [00:00<00:00,  1.34it/s]\n",
      "100%|██████████| 1/1 [00:00<00:00,  1.28it/s]\n",
      "100%|██████████| 1/1 [00:00<00:00,  1.31it/s]\n",
      "100%|██████████| 1/1 [00:00<00:00,  1.35it/s]\n",
      "100%|██████████| 1/1 [00:00<00:00,  1.36it/s]\n",
      "100%|██████████| 1/1 [00:00<00:00,  1.29it/s]\n",
      "100%|██████████| 1/1 [00:00<00:00,  1.27it/s]"
     ]
    },
    {
     "name": "stdout",
     "output_type": "stream",
     "text": [
      "<class 'pandas.core.frame.DataFrame'>\n",
      "4 /home/erik/sweden/sonnhammer/GeneSnake/generation/network_generation_algo/networks/old_stability_analysis/fflatt/500/fflatt_transcriptional_network_3_nodes_500_ffl_perc_0.13.tsv\n"
     ]
    },
    {
     "name": "stderr",
     "output_type": "stream",
     "text": [
      "\n",
      "100%|██████████| 1/1 [00:00<00:00,  1.14it/s]\n",
      "100%|██████████| 1/1 [00:00<00:00,  1.02it/s]\n",
      "100%|██████████| 1/1 [00:01<00:00,  1.00s/it]\n",
      "100%|██████████| 1/1 [00:00<00:00,  1.12it/s]\n",
      "100%|██████████| 1/1 [00:00<00:00,  1.13it/s]\n",
      "100%|██████████| 1/1 [00:00<00:00,  1.00it/s]\n",
      "100%|██████████| 1/1 [00:00<00:00,  1.00it/s]\n",
      "100%|██████████| 1/1 [00:00<00:00,  1.01it/s]\n",
      "100%|██████████| 1/1 [00:01<00:00,  1.00s/it]\n",
      "100%|██████████| 1/1 [00:00<00:00,  1.00it/s]"
     ]
    },
    {
     "name": "stdout",
     "output_type": "stream",
     "text": [
      "<class 'pandas.core.frame.DataFrame'>\n",
      "5 /home/erik/sweden/sonnhammer/GeneSnake/generation/network_generation_algo/networks/old_stability_analysis/fflatt/500/fflatt_transcriptional_network_7_nodes_500_ffl_perc_0.13.tsv\n"
     ]
    },
    {
     "name": "stderr",
     "output_type": "stream",
     "text": [
      "\n",
      "100%|██████████| 1/1 [00:00<00:00,  1.29it/s]\n",
      "100%|██████████| 1/1 [00:00<00:00,  1.32it/s]\n",
      "100%|██████████| 1/1 [00:00<00:00,  1.28it/s]\n",
      "100%|██████████| 1/1 [00:00<00:00,  1.29it/s]\n",
      "100%|██████████| 1/1 [00:00<00:00,  1.27it/s]\n",
      "100%|██████████| 1/1 [00:00<00:00,  1.18it/s]\n",
      "100%|██████████| 1/1 [00:00<00:00,  1.29it/s]\n",
      "100%|██████████| 1/1 [00:00<00:00,  1.29it/s]\n",
      "100%|██████████| 1/1 [00:00<00:00,  1.31it/s]\n",
      "100%|██████████| 1/1 [00:00<00:00,  1.20it/s]"
     ]
    },
    {
     "name": "stdout",
     "output_type": "stream",
     "text": [
      "<class 'pandas.core.frame.DataFrame'>\n",
      "6 /home/erik/sweden/sonnhammer/GeneSnake/generation/network_generation_algo/networks/old_stability_analysis/fflatt/500/fflatt_transcriptional_network_6_nodes_500_ffl_perc_0.13.tsv\n"
     ]
    },
    {
     "name": "stderr",
     "output_type": "stream",
     "text": [
      "\n",
      "100%|██████████| 1/1 [00:00<00:00,  1.30it/s]\n",
      "100%|██████████| 1/1 [00:00<00:00,  1.23it/s]\n",
      "100%|██████████| 1/1 [00:00<00:00,  1.14it/s]\n",
      "100%|██████████| 1/1 [00:00<00:00,  1.29it/s]\n",
      "100%|██████████| 1/1 [00:00<00:00,  1.27it/s]\n",
      "100%|██████████| 1/1 [00:00<00:00,  1.31it/s]\n",
      "100%|██████████| 1/1 [00:00<00:00,  1.29it/s]\n",
      "100%|██████████| 1/1 [00:00<00:00,  1.30it/s]\n",
      "100%|██████████| 1/1 [00:00<00:00,  1.31it/s]\n",
      "100%|██████████| 1/1 [00:00<00:00,  1.29it/s]"
     ]
    },
    {
     "name": "stdout",
     "output_type": "stream",
     "text": [
      "<class 'pandas.core.frame.DataFrame'>\n",
      "7 /home/erik/sweden/sonnhammer/GeneSnake/generation/network_generation_algo/networks/old_stability_analysis/fflatt/500/fflatt_transcriptional_network_4_nodes_500_ffl_perc_0.13.tsv\n"
     ]
    },
    {
     "name": "stderr",
     "output_type": "stream",
     "text": [
      "\n",
      "100%|██████████| 1/1 [00:00<00:00,  1.16it/s]\n",
      "100%|██████████| 1/1 [00:01<00:00,  1.09s/it]\n",
      "100%|██████████| 1/1 [00:00<00:00,  1.01it/s]\n",
      "100%|██████████| 1/1 [00:00<00:00,  1.02it/s]\n",
      "100%|██████████| 1/1 [00:01<00:00,  1.12s/it]\n",
      "100%|██████████| 1/1 [00:00<00:00,  1.01it/s]\n",
      "100%|██████████| 1/1 [00:00<00:00,  1.06it/s]\n",
      "100%|██████████| 1/1 [00:01<00:00,  1.09s/it]\n",
      "100%|██████████| 1/1 [00:01<00:00,  1.10s/it]\n",
      "100%|██████████| 1/1 [00:01<00:00,  1.04s/it]"
     ]
    },
    {
     "name": "stdout",
     "output_type": "stream",
     "text": [
      "<class 'pandas.core.frame.DataFrame'>\n",
      "8 /home/erik/sweden/sonnhammer/GeneSnake/generation/network_generation_algo/networks/old_stability_analysis/fflatt/500/fflatt_transcriptional_network_5_nodes_500_ffl_perc_0.13.tsv\n"
     ]
    },
    {
     "name": "stderr",
     "output_type": "stream",
     "text": [
      "\n",
      "100%|██████████| 1/1 [00:01<00:00,  1.01s/it]\n",
      "100%|██████████| 1/1 [00:01<00:00,  1.08s/it]\n",
      "100%|██████████| 1/1 [00:01<00:00,  1.08s/it]\n",
      "100%|██████████| 1/1 [00:00<00:00,  1.01it/s]\n",
      "100%|██████████| 1/1 [00:00<00:00,  1.00it/s]\n",
      "100%|██████████| 1/1 [00:00<00:00,  1.06it/s]\n",
      "100%|██████████| 1/1 [00:01<00:00,  1.10s/it]\n",
      "100%|██████████| 1/1 [00:01<00:00,  1.09s/it]\n",
      "100%|██████████| 1/1 [00:01<00:00,  1.09s/it]\n",
      "100%|██████████| 1/1 [00:01<00:00,  1.19s/it]"
     ]
    },
    {
     "name": "stdout",
     "output_type": "stream",
     "text": [
      "<class 'pandas.core.frame.DataFrame'>\n",
      "9 /home/erik/sweden/sonnhammer/GeneSnake/generation/network_generation_algo/networks/old_stability_analysis/fflatt/500/fflatt_transcriptional_network_1_nodes_500_ffl_perc_0.13.tsv\n"
     ]
    },
    {
     "name": "stderr",
     "output_type": "stream",
     "text": [
      "\n",
      "100%|██████████| 1/1 [00:00<00:00,  1.01it/s]\n",
      "100%|██████████| 1/1 [00:01<00:00,  1.01s/it]\n",
      "100%|██████████| 1/1 [00:00<00:00,  1.01it/s]\n",
      "100%|██████████| 1/1 [00:00<00:00,  1.01it/s]\n",
      "100%|██████████| 1/1 [00:00<00:00,  1.02it/s]\n",
      "100%|██████████| 1/1 [00:00<00:00,  1.03it/s]\n",
      "100%|██████████| 1/1 [00:00<00:00,  1.01it/s]\n",
      "100%|██████████| 1/1 [00:01<00:00,  1.13s/it]\n",
      "100%|██████████| 1/1 [00:00<00:00,  1.01it/s]\n",
      "100%|██████████| 1/1 [00:00<00:00,  1.01it/s]"
     ]
    },
    {
     "name": "stdout",
     "output_type": "stream",
     "text": [
      "<class 'pandas.core.frame.DataFrame'>\n",
      "       N_real  mean(N_rand)  sd(N_rand)   Z-score  P-value network_label size\n",
      "021C   4344.0       3398.68  253.928019  4.070131     0.00        fflatt  500\n",
      "021D  28650.6      27814.89  239.862728  3.829343     0.01        fflatt  500\n",
      "021U   1228.0       1151.56   30.080504  2.595393     0.02        fflatt  500\n",
      "030C      0.0          8.87    3.569138 -2.533723     0.01        fflatt  500\n",
      "030T    267.1        252.40   29.699484  0.619605     0.24        fflatt  500\n",
      "/home/erik/sweden/sonnhammer/GeneSnake/generation/network_generation_algo/networks/old_stability_analysis/fflatt/750\n",
      "0 /home/erik/sweden/sonnhammer/GeneSnake/generation/network_generation_algo/networks/old_stability_analysis/fflatt/750/fflatt_transcriptional_network_4_nodes_750_ffl_perc_0.13.tsv\n"
     ]
    },
    {
     "name": "stderr",
     "output_type": "stream",
     "text": [
      "\n",
      "100%|██████████| 1/1 [00:01<00:00,  1.73s/it]\n",
      "100%|██████████| 1/1 [00:01<00:00,  1.75s/it]\n",
      "100%|██████████| 1/1 [00:01<00:00,  1.70s/it]\n",
      "100%|██████████| 1/1 [00:01<00:00,  1.74s/it]\n",
      "100%|██████████| 1/1 [00:01<00:00,  1.76s/it]\n",
      "100%|██████████| 1/1 [00:01<00:00,  1.85s/it]\n",
      "100%|██████████| 1/1 [00:01<00:00,  1.75s/it]\n",
      "100%|██████████| 1/1 [00:01<00:00,  1.69s/it]\n",
      "100%|██████████| 1/1 [00:01<00:00,  1.96s/it]\n",
      "100%|██████████| 1/1 [00:02<00:00,  2.04s/it]"
     ]
    },
    {
     "name": "stdout",
     "output_type": "stream",
     "text": [
      "<class 'pandas.core.frame.DataFrame'>\n",
      "1 /home/erik/sweden/sonnhammer/GeneSnake/generation/network_generation_algo/networks/old_stability_analysis/fflatt/750/fflatt_transcriptional_network_0_nodes_750_ffl_perc_0.13.tsv\n"
     ]
    },
    {
     "name": "stderr",
     "output_type": "stream",
     "text": [
      "\n",
      "100%|██████████| 1/1 [00:00<00:00,  1.14it/s]\n",
      "100%|██████████| 1/1 [00:00<00:00,  1.14it/s]\n",
      "100%|██████████| 1/1 [00:00<00:00,  1.18it/s]\n",
      "100%|██████████| 1/1 [00:00<00:00,  1.11it/s]\n",
      "100%|██████████| 1/1 [00:00<00:00,  1.13it/s]\n",
      "100%|██████████| 1/1 [00:00<00:00,  1.13it/s]\n",
      "100%|██████████| 1/1 [00:00<00:00,  1.10it/s]\n",
      "100%|██████████| 1/1 [00:01<00:00,  1.09s/it]\n",
      "100%|██████████| 1/1 [00:00<00:00,  1.17it/s]\n",
      "100%|██████████| 1/1 [00:01<00:00,  1.02s/it]"
     ]
    },
    {
     "name": "stdout",
     "output_type": "stream",
     "text": [
      "<class 'pandas.core.frame.DataFrame'>\n",
      "2 /home/erik/sweden/sonnhammer/GeneSnake/generation/network_generation_algo/networks/old_stability_analysis/fflatt/750/fflatt_transcriptional_network_7_nodes_750_ffl_perc_0.13.tsv\n"
     ]
    },
    {
     "name": "stderr",
     "output_type": "stream",
     "text": [
      "\n",
      "100%|██████████| 1/1 [00:01<00:00,  1.31s/it]\n",
      "100%|██████████| 1/1 [00:01<00:00,  1.24s/it]\n",
      "100%|██████████| 1/1 [00:01<00:00,  1.23s/it]\n",
      "100%|██████████| 1/1 [00:01<00:00,  1.23s/it]\n",
      "100%|██████████| 1/1 [00:01<00:00,  1.23s/it]\n",
      "100%|██████████| 1/1 [00:01<00:00,  1.33s/it]\n",
      "100%|██████████| 1/1 [00:01<00:00,  1.22s/it]\n",
      "100%|██████████| 1/1 [00:01<00:00,  1.23s/it]\n",
      "100%|██████████| 1/1 [00:01<00:00,  1.23s/it]\n",
      "100%|██████████| 1/1 [00:01<00:00,  1.35s/it]"
     ]
    },
    {
     "name": "stdout",
     "output_type": "stream",
     "text": [
      "<class 'pandas.core.frame.DataFrame'>\n",
      "3 /home/erik/sweden/sonnhammer/GeneSnake/generation/network_generation_algo/networks/old_stability_analysis/fflatt/750/fflatt_transcriptional_network_5_nodes_750_ffl_perc_0.13.tsv\n"
     ]
    },
    {
     "name": "stderr",
     "output_type": "stream",
     "text": [
      "\n",
      "100%|██████████| 1/1 [00:00<00:00,  1.02it/s]\n",
      "100%|██████████| 1/1 [00:00<00:00,  1.12it/s]\n",
      "100%|██████████| 1/1 [00:00<00:00,  1.13it/s]\n",
      "100%|██████████| 1/1 [00:00<00:00,  1.12it/s]\n",
      "100%|██████████| 1/1 [00:00<00:00,  1.11it/s]\n",
      "100%|██████████| 1/1 [00:00<00:00,  1.10it/s]\n",
      "100%|██████████| 1/1 [00:00<00:00,  1.03it/s]\n",
      "100%|██████████| 1/1 [00:00<00:00,  1.13it/s]\n",
      "100%|██████████| 1/1 [00:00<00:00,  1.12it/s]\n",
      "100%|██████████| 1/1 [00:00<00:00,  1.12it/s]"
     ]
    },
    {
     "name": "stdout",
     "output_type": "stream",
     "text": [
      "<class 'pandas.core.frame.DataFrame'>\n",
      "4 /home/erik/sweden/sonnhammer/GeneSnake/generation/network_generation_algo/networks/old_stability_analysis/fflatt/750/fflatt_transcriptional_network_6_nodes_750_ffl_perc_0.13.tsv\n"
     ]
    },
    {
     "name": "stderr",
     "output_type": "stream",
     "text": [
      "\n",
      "100%|██████████| 1/1 [00:01<00:00,  1.32s/it]\n",
      "100%|██████████| 1/1 [00:01<00:00,  1.34s/it]\n",
      "100%|██████████| 1/1 [00:01<00:00,  1.35s/it]\n",
      "100%|██████████| 1/1 [00:01<00:00,  1.35s/it]\n",
      "100%|██████████| 1/1 [00:01<00:00,  1.35s/it]\n",
      "100%|██████████| 1/1 [00:01<00:00,  1.35s/it]\n",
      "100%|██████████| 1/1 [00:01<00:00,  1.28s/it]\n",
      "100%|██████████| 1/1 [00:01<00:00,  1.34s/it]\n",
      "100%|██████████| 1/1 [00:01<00:00,  1.35s/it]\n",
      "100%|██████████| 1/1 [00:01<00:00,  1.35s/it]"
     ]
    },
    {
     "name": "stdout",
     "output_type": "stream",
     "text": [
      "<class 'pandas.core.frame.DataFrame'>\n",
      "5 /home/erik/sweden/sonnhammer/GeneSnake/generation/network_generation_algo/networks/old_stability_analysis/fflatt/750/fflatt_transcriptional_network_3_nodes_750_ffl_perc_0.13.tsv\n"
     ]
    },
    {
     "name": "stderr",
     "output_type": "stream",
     "text": [
      "\n",
      "100%|██████████| 1/1 [00:01<00:00,  1.35s/it]\n",
      "100%|██████████| 1/1 [00:01<00:00,  1.34s/it]\n",
      "100%|██████████| 1/1 [00:01<00:00,  1.38s/it]\n",
      "100%|██████████| 1/1 [00:01<00:00,  1.37s/it]\n",
      "100%|██████████| 1/1 [00:01<00:00,  1.46s/it]\n",
      "100%|██████████| 1/1 [00:01<00:00,  1.34s/it]\n",
      "100%|██████████| 1/1 [00:01<00:00,  1.33s/it]\n",
      "100%|██████████| 1/1 [00:01<00:00,  1.35s/it]\n",
      "100%|██████████| 1/1 [00:01<00:00,  1.34s/it]\n",
      "100%|██████████| 1/1 [00:01<00:00,  1.33s/it]"
     ]
    },
    {
     "name": "stdout",
     "output_type": "stream",
     "text": [
      "<class 'pandas.core.frame.DataFrame'>\n",
      "6 /home/erik/sweden/sonnhammer/GeneSnake/generation/network_generation_algo/networks/old_stability_analysis/fflatt/750/fflatt_transcriptional_network_1_nodes_750_ffl_perc_0.13.tsv\n"
     ]
    },
    {
     "name": "stderr",
     "output_type": "stream",
     "text": [
      "\n",
      "100%|██████████| 1/1 [00:01<00:00,  1.11s/it]\n",
      "100%|██████████| 1/1 [00:01<00:00,  1.22s/it]\n",
      "100%|██████████| 1/1 [00:01<00:00,  1.12s/it]\n",
      "100%|██████████| 1/1 [00:01<00:00,  1.13s/it]\n",
      "100%|██████████| 1/1 [00:01<00:00,  1.11s/it]\n",
      "100%|██████████| 1/1 [00:01<00:00,  1.12s/it]\n",
      "100%|██████████| 1/1 [00:01<00:00,  1.14s/it]\n",
      "100%|██████████| 1/1 [00:01<00:00,  1.13s/it]\n",
      "100%|██████████| 1/1 [00:01<00:00,  1.13s/it]\n",
      "100%|██████████| 1/1 [00:01<00:00,  1.24s/it]"
     ]
    },
    {
     "name": "stdout",
     "output_type": "stream",
     "text": [
      "<class 'pandas.core.frame.DataFrame'>\n",
      "7 /home/erik/sweden/sonnhammer/GeneSnake/generation/network_generation_algo/networks/old_stability_analysis/fflatt/750/fflatt_transcriptional_network_8_nodes_750_ffl_perc_0.13.tsv\n"
     ]
    },
    {
     "name": "stderr",
     "output_type": "stream",
     "text": [
      "\n",
      "100%|██████████| 1/1 [00:01<00:00,  1.10s/it]\n",
      "100%|██████████| 1/1 [00:00<00:00,  1.00it/s]\n",
      "100%|██████████| 1/1 [00:01<00:00,  1.11s/it]\n",
      "100%|██████████| 1/1 [00:01<00:00,  1.03s/it]\n",
      "100%|██████████| 1/1 [00:01<00:00,  1.02s/it]\n",
      "100%|██████████| 1/1 [00:01<00:00,  1.09s/it]\n",
      "100%|██████████| 1/1 [00:01<00:00,  1.03s/it]\n",
      "100%|██████████| 1/1 [00:01<00:00,  1.10s/it]\n",
      "100%|██████████| 1/1 [00:01<00:00,  1.21s/it]\n",
      "100%|██████████| 1/1 [00:01<00:00,  1.11s/it]"
     ]
    },
    {
     "name": "stdout",
     "output_type": "stream",
     "text": [
      "<class 'pandas.core.frame.DataFrame'>\n",
      "8 /home/erik/sweden/sonnhammer/GeneSnake/generation/network_generation_algo/networks/old_stability_analysis/fflatt/750/fflatt_transcriptional_network_2_nodes_750_ffl_perc_0.13.tsv\n"
     ]
    },
    {
     "name": "stderr",
     "output_type": "stream",
     "text": [
      "\n",
      "100%|██████████| 1/1 [00:00<00:00,  1.09it/s]\n",
      "100%|██████████| 1/1 [00:00<00:00,  1.09it/s]\n",
      "100%|██████████| 1/1 [00:00<00:00,  1.10it/s]\n",
      "100%|██████████| 1/1 [00:00<00:00,  1.12it/s]\n",
      "100%|██████████| 1/1 [00:00<00:00,  1.08it/s]\n",
      "100%|██████████| 1/1 [00:00<00:00,  1.14it/s]\n",
      "100%|██████████| 1/1 [00:00<00:00,  1.10it/s]\n",
      "100%|██████████| 1/1 [00:01<00:00,  1.00s/it]\n",
      "100%|██████████| 1/1 [00:00<00:00,  1.10it/s]\n",
      "100%|██████████| 1/1 [00:01<00:00,  1.41s/it]"
     ]
    },
    {
     "name": "stdout",
     "output_type": "stream",
     "text": [
      "<class 'pandas.core.frame.DataFrame'>\n",
      "9 /home/erik/sweden/sonnhammer/GeneSnake/generation/network_generation_algo/networks/old_stability_analysis/fflatt/750/fflatt_transcriptional_network_9_nodes_750_ffl_perc_0.13.tsv\n"
     ]
    },
    {
     "name": "stderr",
     "output_type": "stream",
     "text": [
      "\n",
      "100%|██████████| 1/1 [00:02<00:00,  2.06s/it]\n",
      "100%|██████████| 1/1 [00:02<00:00,  2.15s/it]\n",
      "100%|██████████| 1/1 [00:03<00:00,  3.04s/it]\n",
      "100%|██████████| 1/1 [00:02<00:00,  2.70s/it]\n",
      "100%|██████████| 1/1 [00:02<00:00,  2.81s/it]\n",
      "100%|██████████| 1/1 [00:02<00:00,  2.20s/it]\n",
      "100%|██████████| 1/1 [00:02<00:00,  2.15s/it]\n",
      "100%|██████████| 1/1 [00:01<00:00,  1.78s/it]\n",
      "100%|██████████| 1/1 [00:01<00:00,  1.78s/it]\n",
      "100%|██████████| 1/1 [00:01<00:00,  1.63s/it]"
     ]
    },
    {
     "name": "stdout",
     "output_type": "stream",
     "text": [
      "<class 'pandas.core.frame.DataFrame'>\n",
      "       N_real  mean(N_rand)  sd(N_rand)   Z-score  P-value network_label size\n",
      "021C   5635.6       4558.18  342.050724  3.129322     0.03        fflatt  750\n",
      "021D  65739.3      64749.03  334.438599  2.867622     0.03        fflatt  750\n",
      "021U   1864.8       1771.06   29.301550  3.199680     0.00        fflatt  750\n",
      "030C      0.0          7.78    3.540768 -2.221344     0.00        fflatt  750\n",
      "030T    301.4        322.25   30.064882 -0.615726     0.23        fflatt  750\n",
      "/home/erik/sweden/sonnhammer/GeneSnake/generation/network_generation_algo/networks/old_stability_analysis/fflatt/1000\n",
      "0 /home/erik/sweden/sonnhammer/GeneSnake/generation/network_generation_algo/networks/old_stability_analysis/fflatt/1000/fflatt_transcriptional_network_7_nodes_1000_ffl_perc_0.13.tsv\n"
     ]
    },
    {
     "name": "stderr",
     "output_type": "stream",
     "text": [
      "\n",
      "100%|██████████| 1/1 [00:02<00:00,  2.59s/it]\n",
      "100%|██████████| 1/1 [00:02<00:00,  2.00s/it]\n",
      "100%|██████████| 1/1 [00:02<00:00,  2.24s/it]\n",
      "100%|██████████| 1/1 [00:02<00:00,  2.03s/it]\n",
      "100%|██████████| 1/1 [00:02<00:00,  2.09s/it]\n",
      "100%|██████████| 1/1 [00:02<00:00,  2.09s/it]\n",
      "100%|██████████| 1/1 [00:02<00:00,  2.16s/it]\n",
      "100%|██████████| 1/1 [00:02<00:00,  2.19s/it]\n",
      "100%|██████████| 1/1 [00:02<00:00,  2.18s/it]\n",
      "100%|██████████| 1/1 [00:02<00:00,  2.37s/it]"
     ]
    },
    {
     "name": "stdout",
     "output_type": "stream",
     "text": [
      "<class 'pandas.core.frame.DataFrame'>\n",
      "1 /home/erik/sweden/sonnhammer/GeneSnake/generation/network_generation_algo/networks/old_stability_analysis/fflatt/1000/fflatt_transcriptional_network_2_nodes_1000_ffl_perc_0.13.tsv\n"
     ]
    },
    {
     "name": "stderr",
     "output_type": "stream",
     "text": [
      "\n",
      "100%|██████████| 1/1 [00:02<00:00,  2.12s/it]\n",
      "100%|██████████| 1/1 [00:01<00:00,  1.94s/it]\n",
      "100%|██████████| 1/1 [00:02<00:00,  2.18s/it]\n",
      "100%|██████████| 1/1 [00:02<00:00,  2.13s/it]\n",
      "100%|██████████| 1/1 [00:02<00:00,  2.09s/it]\n",
      "100%|██████████| 1/1 [00:02<00:00,  2.32s/it]\n",
      "100%|██████████| 1/1 [00:02<00:00,  2.32s/it]\n",
      "100%|██████████| 1/1 [00:02<00:00,  2.56s/it]\n",
      "100%|██████████| 1/1 [00:02<00:00,  2.24s/it]\n",
      "100%|██████████| 1/1 [00:02<00:00,  2.38s/it]"
     ]
    },
    {
     "name": "stdout",
     "output_type": "stream",
     "text": [
      "<class 'pandas.core.frame.DataFrame'>\n",
      "2 /home/erik/sweden/sonnhammer/GeneSnake/generation/network_generation_algo/networks/old_stability_analysis/fflatt/1000/fflatt_transcriptional_network_1_nodes_1000_ffl_perc_0.13.tsv\n"
     ]
    },
    {
     "name": "stderr",
     "output_type": "stream",
     "text": [
      "\n",
      "100%|██████████| 1/1 [00:01<00:00,  1.93s/it]\n",
      "100%|██████████| 1/1 [00:01<00:00,  2.00s/it]\n",
      "100%|██████████| 1/1 [00:02<00:00,  2.08s/it]\n",
      "100%|██████████| 1/1 [00:01<00:00,  1.95s/it]\n",
      "100%|██████████| 1/1 [00:02<00:00,  2.73s/it]\n",
      "100%|██████████| 1/1 [00:02<00:00,  2.21s/it]\n",
      "100%|██████████| 1/1 [00:02<00:00,  2.33s/it]\n",
      "100%|██████████| 1/1 [00:02<00:00,  2.11s/it]\n",
      "100%|██████████| 1/1 [00:02<00:00,  2.25s/it]\n",
      "100%|██████████| 1/1 [00:01<00:00,  1.96s/it]"
     ]
    },
    {
     "name": "stdout",
     "output_type": "stream",
     "text": [
      "<class 'pandas.core.frame.DataFrame'>\n",
      "3 /home/erik/sweden/sonnhammer/GeneSnake/generation/network_generation_algo/networks/old_stability_analysis/fflatt/1000/fflatt_transcriptional_network_9_nodes_1000_ffl_perc_0.13.tsv\n"
     ]
    },
    {
     "name": "stderr",
     "output_type": "stream",
     "text": [
      "\n",
      "100%|██████████| 1/1 [00:02<00:00,  2.59s/it]\n",
      "100%|██████████| 1/1 [00:02<00:00,  2.34s/it]\n",
      "100%|██████████| 1/1 [00:02<00:00,  2.28s/it]\n",
      "100%|██████████| 1/1 [00:02<00:00,  2.52s/it]\n",
      "100%|██████████| 1/1 [00:03<00:00,  3.11s/it]\n",
      "100%|██████████| 1/1 [00:03<00:00,  3.33s/it]\n",
      "100%|██████████| 1/1 [00:02<00:00,  2.68s/it]\n",
      "100%|██████████| 1/1 [00:02<00:00,  2.49s/it]\n",
      "100%|██████████| 1/1 [00:01<00:00,  1.98s/it]\n",
      "100%|██████████| 1/1 [00:01<00:00,  1.99s/it]"
     ]
    },
    {
     "name": "stdout",
     "output_type": "stream",
     "text": [
      "<class 'pandas.core.frame.DataFrame'>\n",
      "4 /home/erik/sweden/sonnhammer/GeneSnake/generation/network_generation_algo/networks/old_stability_analysis/fflatt/1000/fflatt_transcriptional_network_5_nodes_1000_ffl_perc_0.13.tsv\n"
     ]
    },
    {
     "name": "stderr",
     "output_type": "stream",
     "text": [
      "\n",
      "100%|██████████| 1/1 [00:01<00:00,  1.87s/it]\n",
      "100%|██████████| 1/1 [00:01<00:00,  1.92s/it]\n",
      "100%|██████████| 1/1 [00:01<00:00,  1.79s/it]\n",
      "100%|██████████| 1/1 [00:01<00:00,  1.91s/it]\n",
      "100%|██████████| 1/1 [00:01<00:00,  1.91s/it]\n",
      "100%|██████████| 1/1 [00:01<00:00,  1.60s/it]\n",
      "100%|██████████| 1/1 [00:01<00:00,  1.76s/it]\n",
      "100%|██████████| 1/1 [00:01<00:00,  1.79s/it]\n",
      "100%|██████████| 1/1 [00:01<00:00,  1.76s/it]\n",
      "100%|██████████| 1/1 [00:01<00:00,  1.79s/it]"
     ]
    },
    {
     "name": "stdout",
     "output_type": "stream",
     "text": [
      "<class 'pandas.core.frame.DataFrame'>\n",
      "5 /home/erik/sweden/sonnhammer/GeneSnake/generation/network_generation_algo/networks/old_stability_analysis/fflatt/1000/fflatt_transcriptional_network_6_nodes_1000_ffl_perc_0.13.tsv\n"
     ]
    },
    {
     "name": "stderr",
     "output_type": "stream",
     "text": [
      "\n",
      "100%|██████████| 1/1 [00:01<00:00,  1.58s/it]\n",
      "100%|██████████| 1/1 [00:01<00:00,  1.55s/it]\n",
      "100%|██████████| 1/1 [00:01<00:00,  1.77s/it]\n",
      "100%|██████████| 1/1 [00:01<00:00,  1.60s/it]\n",
      "100%|██████████| 1/1 [00:01<00:00,  1.57s/it]\n",
      "100%|██████████| 1/1 [00:01<00:00,  1.58s/it]\n",
      "100%|██████████| 1/1 [00:01<00:00,  1.61s/it]\n",
      "100%|██████████| 1/1 [00:01<00:00,  1.78s/it]\n",
      "100%|██████████| 1/1 [00:01<00:00,  1.80s/it]\n",
      "100%|██████████| 1/1 [00:01<00:00,  1.71s/it]"
     ]
    },
    {
     "name": "stdout",
     "output_type": "stream",
     "text": [
      "<class 'pandas.core.frame.DataFrame'>\n",
      "6 /home/erik/sweden/sonnhammer/GeneSnake/generation/network_generation_algo/networks/old_stability_analysis/fflatt/1000/fflatt_transcriptional_network_4_nodes_1000_ffl_perc_0.13.tsv\n"
     ]
    },
    {
     "name": "stderr",
     "output_type": "stream",
     "text": [
      "\n",
      "100%|██████████| 1/1 [00:02<00:00,  2.09s/it]\n",
      "100%|██████████| 1/1 [00:01<00:00,  1.82s/it]\n",
      "100%|██████████| 1/1 [00:02<00:00,  2.02s/it]\n",
      "100%|██████████| 1/1 [00:01<00:00,  1.90s/it]\n",
      "100%|██████████| 1/1 [00:01<00:00,  1.88s/it]\n",
      "100%|██████████| 1/1 [00:01<00:00,  1.92s/it]\n",
      "100%|██████████| 1/1 [00:01<00:00,  1.86s/it]\n",
      "100%|██████████| 1/1 [00:02<00:00,  2.00s/it]\n",
      "100%|██████████| 1/1 [00:01<00:00,  1.98s/it]\n",
      "100%|██████████| 1/1 [00:01<00:00,  1.99s/it]"
     ]
    },
    {
     "name": "stdout",
     "output_type": "stream",
     "text": [
      "<class 'pandas.core.frame.DataFrame'>\n",
      "7 /home/erik/sweden/sonnhammer/GeneSnake/generation/network_generation_algo/networks/old_stability_analysis/fflatt/1000/fflatt_transcriptional_network_8_nodes_1000_ffl_perc_0.13.tsv\n"
     ]
    },
    {
     "name": "stderr",
     "output_type": "stream",
     "text": [
      "\n",
      "100%|██████████| 1/1 [00:01<00:00,  1.80s/it]\n",
      "100%|██████████| 1/1 [00:01<00:00,  1.93s/it]\n",
      "100%|██████████| 1/1 [00:02<00:00,  2.36s/it]\n",
      "100%|██████████| 1/1 [00:01<00:00,  1.87s/it]\n",
      "100%|██████████| 1/1 [00:02<00:00,  2.38s/it]\n",
      "100%|██████████| 1/1 [00:01<00:00,  1.75s/it]\n",
      "100%|██████████| 1/1 [00:02<00:00,  2.61s/it]\n",
      "100%|██████████| 1/1 [00:02<00:00,  2.60s/it]\n",
      "100%|██████████| 1/1 [00:02<00:00,  2.81s/it]\n",
      "100%|██████████| 1/1 [00:01<00:00,  1.71s/it]"
     ]
    },
    {
     "name": "stdout",
     "output_type": "stream",
     "text": [
      "<class 'pandas.core.frame.DataFrame'>\n",
      "8 /home/erik/sweden/sonnhammer/GeneSnake/generation/network_generation_algo/networks/old_stability_analysis/fflatt/1000/fflatt_transcriptional_network_0_nodes_1000_ffl_perc_0.13.tsv\n"
     ]
    },
    {
     "name": "stderr",
     "output_type": "stream",
     "text": [
      "\n",
      "100%|██████████| 1/1 [00:01<00:00,  1.67s/it]\n",
      "100%|██████████| 1/1 [00:01<00:00,  1.52s/it]\n",
      "100%|██████████| 1/1 [00:01<00:00,  1.81s/it]\n",
      "100%|██████████| 1/1 [00:01<00:00,  1.69s/it]\n",
      "100%|██████████| 1/1 [00:01<00:00,  1.81s/it]\n",
      "100%|██████████| 1/1 [00:01<00:00,  1.77s/it]\n",
      "100%|██████████| 1/1 [00:01<00:00,  1.68s/it]\n",
      "100%|██████████| 1/1 [00:01<00:00,  1.68s/it]\n",
      "100%|██████████| 1/1 [00:01<00:00,  1.81s/it]\n",
      "100%|██████████| 1/1 [00:01<00:00,  1.60s/it]"
     ]
    },
    {
     "name": "stdout",
     "output_type": "stream",
     "text": [
      "<class 'pandas.core.frame.DataFrame'>\n",
      "9 /home/erik/sweden/sonnhammer/GeneSnake/generation/network_generation_algo/networks/old_stability_analysis/fflatt/1000/fflatt_transcriptional_network_3_nodes_1000_ffl_perc_0.13.tsv\n"
     ]
    },
    {
     "name": "stderr",
     "output_type": "stream",
     "text": [
      "\n",
      "100%|██████████| 1/1 [00:01<00:00,  1.92s/it]\n",
      "100%|██████████| 1/1 [00:01<00:00,  1.89s/it]\n",
      "100%|██████████| 1/1 [00:01<00:00,  1.90s/it]\n",
      "100%|██████████| 1/1 [00:01<00:00,  1.90s/it]\n",
      "100%|██████████| 1/1 [00:01<00:00,  1.90s/it]\n",
      "100%|██████████| 1/1 [00:01<00:00,  1.81s/it]\n",
      "100%|██████████| 1/1 [00:01<00:00,  1.91s/it]\n",
      "100%|██████████| 1/1 [00:02<00:00,  2.02s/it]\n",
      "100%|██████████| 1/1 [00:01<00:00,  1.90s/it]\n",
      "100%|██████████| 1/1 [00:01<00:00,  1.92s/it]"
     ]
    },
    {
     "name": "stdout",
     "output_type": "stream",
     "text": [
      "<class 'pandas.core.frame.DataFrame'>\n",
      "        N_real  mean(N_rand)  sd(N_rand)   Z-score  P-value network_label  \\\n",
      "021C   10734.8       8190.82  791.426591  3.294647     0.00        fflatt   \n",
      "021D  139878.2     137492.75  774.100519  3.153551     0.00        fflatt   \n",
      "021U    2747.5       2573.26   44.367732  4.302365     0.00        fflatt   \n",
      "030C       0.0         10.94    4.205364 -2.741040     0.00        fflatt   \n",
      "030T     525.5        533.93   54.777589 -0.174570     0.38        fflatt   \n",
      "\n",
      "      size  \n",
      "021C  1000  \n",
      "021D  1000  \n",
      "021U  1000  \n",
      "030C  1000  \n",
      "030T  1000  \n"
     ]
    },
    {
     "name": "stderr",
     "output_type": "stream",
     "text": [
      "\n"
     ]
    }
   ],
   "source": [
    "networks = ['fflatt']\n",
    "\n",
    "for network in networks:\n",
    "    for size in sizes:\n",
    "        current_dir = os.path.join(stability_dir, network, size)\n",
    "        print(current_dir)\n",
    "        pandas_df_lst = []\n",
    "        for rep, file in enumerate(glob.glob(os.path.join(current_dir, '*.tsv'))):\n",
    "            print(rep, file)\n",
    "            report = f.analyze_exctracted_network(cfg, file, network, rep, size, stability_motifs=True)\n",
    "            print(type(report))\n",
    "            pandas_df_lst.append(report)\n",
    "        #enrichment_report = pd.concat(pandas_df_lst)\n",
    "        pandas_df_list = sum(pandas_df_lst)/len(pandas_df_lst)\n",
    "        pandas_df_list['network_label'] = network\n",
    "        pandas_df_list['size'] = size\n",
    "        print(pandas_df_list)                                     \n",
    "        pandas_df_list.to_csv(os.path.join(stability_dir, 'z-scores', network+'_'+str(size)+'_z_score.tsv'))"
   ]
  },
  {
   "cell_type": "markdown",
   "metadata": {},
   "source": [
    "## FFLatt 037"
   ]
  },
  {
   "cell_type": "code",
   "execution_count": 135,
   "metadata": {},
   "outputs": [
    {
     "name": "stdout",
     "output_type": "stream",
     "text": [
      "/home/erik/sweden/sonnhammer/GeneSnake/generation/network_generation_algo/networks/old_stability_analysis/fflatt-037/250\n",
      "0 /home/erik/sweden/sonnhammer/GeneSnake/generation/network_generation_algo/networks/old_stability_analysis/fflatt-037/250/fflatt_transcriptional_network_7_nodes_250_ffl_perc_0.13.tsv\n"
     ]
    },
    {
     "name": "stderr",
     "output_type": "stream",
     "text": [
      "100%|██████████| 1/1 [00:00<00:00,  1.24it/s]\n",
      "100%|██████████| 1/1 [00:00<00:00,  1.38it/s]\n",
      "100%|██████████| 1/1 [00:00<00:00,  1.66it/s]\n",
      "100%|██████████| 1/1 [00:00<00:00,  1.65it/s]\n",
      "100%|██████████| 1/1 [00:00<00:00,  1.20it/s]\n",
      "100%|██████████| 1/1 [00:00<00:00,  1.16it/s]\n",
      "100%|██████████| 1/1 [00:00<00:00,  1.05it/s]\n",
      "100%|██████████| 1/1 [00:00<00:00,  1.06it/s]\n",
      "100%|██████████| 1/1 [00:00<00:00,  1.07it/s]\n",
      "100%|██████████| 1/1 [00:00<00:00,  1.56it/s]"
     ]
    },
    {
     "name": "stdout",
     "output_type": "stream",
     "text": [
      "<class 'pandas.core.frame.DataFrame'>\n",
      "1 /home/erik/sweden/sonnhammer/GeneSnake/generation/network_generation_algo/networks/old_stability_analysis/fflatt-037/250/fflatt_transcriptional_network_6_nodes_250_ffl_perc_0.13.tsv\n"
     ]
    },
    {
     "name": "stderr",
     "output_type": "stream",
     "text": [
      "\n",
      "100%|██████████| 1/1 [00:00<00:00,  1.16it/s]\n",
      "100%|██████████| 1/1 [00:00<00:00,  1.35it/s]\n",
      "100%|██████████| 1/1 [00:00<00:00,  1.61it/s]\n",
      "100%|██████████| 1/1 [00:00<00:00,  1.39it/s]\n",
      "100%|██████████| 1/1 [00:00<00:00,  1.60it/s]\n",
      "100%|██████████| 1/1 [00:00<00:00,  1.41it/s]\n",
      "100%|██████████| 1/1 [00:00<00:00,  1.37it/s]\n",
      "100%|██████████| 1/1 [00:00<00:00,  1.64it/s]\n",
      "100%|██████████| 1/1 [00:00<00:00,  1.63it/s]\n",
      "100%|██████████| 1/1 [00:00<00:00,  1.41it/s]"
     ]
    },
    {
     "name": "stdout",
     "output_type": "stream",
     "text": [
      "<class 'pandas.core.frame.DataFrame'>\n",
      "2 /home/erik/sweden/sonnhammer/GeneSnake/generation/network_generation_algo/networks/old_stability_analysis/fflatt-037/250/fflatt_transcriptional_network_8_nodes_250_ffl_perc_0.13.tsv\n"
     ]
    },
    {
     "name": "stderr",
     "output_type": "stream",
     "text": [
      "\n",
      "100%|██████████| 1/1 [00:00<00:00,  1.65it/s]\n",
      "100%|██████████| 1/1 [00:00<00:00,  1.66it/s]\n",
      "100%|██████████| 1/1 [00:00<00:00,  1.23it/s]\n",
      "100%|██████████| 1/1 [00:00<00:00,  1.21it/s]\n",
      "100%|██████████| 1/1 [00:00<00:00,  1.64it/s]\n",
      "100%|██████████| 1/1 [00:00<00:00,  1.23it/s]\n",
      "100%|██████████| 1/1 [00:00<00:00,  1.64it/s]\n",
      "100%|██████████| 1/1 [00:00<00:00,  1.06it/s]\n",
      "100%|██████████| 1/1 [00:00<00:00,  1.06it/s]\n",
      "100%|██████████| 1/1 [00:00<00:00,  1.62it/s]"
     ]
    },
    {
     "name": "stdout",
     "output_type": "stream",
     "text": [
      "<class 'pandas.core.frame.DataFrame'>\n",
      "3 /home/erik/sweden/sonnhammer/GeneSnake/generation/network_generation_algo/networks/old_stability_analysis/fflatt-037/250/fflatt_transcriptional_network_4_nodes_250_ffl_perc_0.13.tsv\n"
     ]
    },
    {
     "name": "stderr",
     "output_type": "stream",
     "text": [
      "\n",
      "100%|██████████| 1/1 [00:00<00:00,  1.95it/s]\n",
      "100%|██████████| 1/1 [00:00<00:00,  1.58it/s]\n",
      "100%|██████████| 1/1 [00:00<00:00,  1.41it/s]\n",
      "100%|██████████| 1/1 [00:00<00:00,  1.37it/s]\n",
      "100%|██████████| 1/1 [00:00<00:00,  1.96it/s]\n",
      "100%|██████████| 1/1 [00:00<00:00,  1.96it/s]\n",
      "100%|██████████| 1/1 [00:00<00:00,  1.95it/s]\n",
      "100%|██████████| 1/1 [00:00<00:00,  1.42it/s]\n",
      "100%|██████████| 1/1 [00:00<00:00,  1.40it/s]\n",
      "100%|██████████| 1/1 [00:00<00:00,  1.86it/s]"
     ]
    },
    {
     "name": "stdout",
     "output_type": "stream",
     "text": [
      "<class 'pandas.core.frame.DataFrame'>\n",
      "4 /home/erik/sweden/sonnhammer/GeneSnake/generation/network_generation_algo/networks/old_stability_analysis/fflatt-037/250/fflatt_transcriptional_network_1_nodes_250_ffl_perc_0.13.tsv\n"
     ]
    },
    {
     "name": "stderr",
     "output_type": "stream",
     "text": [
      "\n",
      "100%|██████████| 1/1 [00:00<00:00,  1.41it/s]\n",
      "100%|██████████| 1/1 [00:00<00:00,  1.65it/s]\n",
      "100%|██████████| 1/1 [00:00<00:00,  1.42it/s]\n",
      "100%|██████████| 1/1 [00:00<00:00,  1.56it/s]\n",
      "100%|██████████| 1/1 [00:00<00:00,  1.65it/s]\n",
      "100%|██████████| 1/1 [00:00<00:00,  1.18it/s]\n",
      "100%|██████████| 1/1 [00:00<00:00,  1.36it/s]\n",
      "100%|██████████| 1/1 [00:00<00:00,  1.16it/s]\n",
      "100%|██████████| 1/1 [00:00<00:00,  1.38it/s]\n",
      "100%|██████████| 1/1 [00:00<00:00,  1.40it/s]"
     ]
    },
    {
     "name": "stdout",
     "output_type": "stream",
     "text": [
      "<class 'pandas.core.frame.DataFrame'>\n",
      "5 /home/erik/sweden/sonnhammer/GeneSnake/generation/network_generation_algo/networks/old_stability_analysis/fflatt-037/250/fflatt_transcriptional_network_3_nodes_250_ffl_perc_0.13.tsv\n"
     ]
    },
    {
     "name": "stderr",
     "output_type": "stream",
     "text": [
      "\n",
      "100%|██████████| 1/1 [00:00<00:00,  1.40it/s]\n",
      "100%|██████████| 1/1 [00:00<00:00,  1.41it/s]\n",
      "100%|██████████| 1/1 [00:00<00:00,  1.42it/s]\n",
      "100%|██████████| 1/1 [00:00<00:00,  1.42it/s]\n",
      "100%|██████████| 1/1 [00:00<00:00,  1.38it/s]\n",
      "100%|██████████| 1/1 [00:00<00:00,  1.56it/s]\n",
      "100%|██████████| 1/1 [00:00<00:00,  1.57it/s]\n",
      "100%|██████████| 1/1 [00:00<00:00,  1.65it/s]\n",
      "100%|██████████| 1/1 [00:00<00:00,  1.65it/s]\n",
      "100%|██████████| 1/1 [00:00<00:00,  1.64it/s]"
     ]
    },
    {
     "name": "stdout",
     "output_type": "stream",
     "text": [
      "<class 'pandas.core.frame.DataFrame'>\n",
      "6 /home/erik/sweden/sonnhammer/GeneSnake/generation/network_generation_algo/networks/old_stability_analysis/fflatt-037/250/fflatt_transcriptional_network_5_nodes_250_ffl_perc_0.13.tsv\n"
     ]
    },
    {
     "name": "stderr",
     "output_type": "stream",
     "text": [
      "\n",
      "100%|██████████| 1/1 [00:00<00:00,  1.41it/s]\n",
      "100%|██████████| 1/1 [00:00<00:00,  1.42it/s]\n",
      "100%|██████████| 1/1 [00:00<00:00,  1.41it/s]\n",
      "100%|██████████| 1/1 [00:00<00:00,  1.59it/s]\n",
      "100%|██████████| 1/1 [00:00<00:00,  1.64it/s]\n",
      "100%|██████████| 1/1 [00:00<00:00,  1.61it/s]\n",
      "100%|██████████| 1/1 [00:00<00:00,  1.59it/s]\n",
      "100%|██████████| 1/1 [00:00<00:00,  1.60it/s]\n",
      "100%|██████████| 1/1 [00:00<00:00,  1.63it/s]\n",
      "100%|██████████| 1/1 [00:00<00:00,  1.38it/s]"
     ]
    },
    {
     "name": "stdout",
     "output_type": "stream",
     "text": [
      "<class 'pandas.core.frame.DataFrame'>\n",
      "7 /home/erik/sweden/sonnhammer/GeneSnake/generation/network_generation_algo/networks/old_stability_analysis/fflatt-037/250/fflatt_transcriptional_network_9_nodes_250_ffl_perc_0.13.tsv\n"
     ]
    },
    {
     "name": "stderr",
     "output_type": "stream",
     "text": [
      "\n",
      "100%|██████████| 1/1 [00:00<00:00,  1.63it/s]\n",
      "100%|██████████| 1/1 [00:00<00:00,  1.62it/s]\n",
      "100%|██████████| 1/1 [00:00<00:00,  1.38it/s]\n",
      "100%|██████████| 1/1 [00:00<00:00,  1.40it/s]\n",
      "100%|██████████| 1/1 [00:00<00:00,  1.41it/s]\n",
      "100%|██████████| 1/1 [00:00<00:00,  1.41it/s]\n",
      "100%|██████████| 1/1 [00:00<00:00,  1.39it/s]\n",
      "100%|██████████| 1/1 [00:00<00:00,  1.66it/s]\n",
      "100%|██████████| 1/1 [00:00<00:00,  1.40it/s]\n",
      "100%|██████████| 1/1 [00:00<00:00,  1.37it/s]"
     ]
    },
    {
     "name": "stdout",
     "output_type": "stream",
     "text": [
      "<class 'pandas.core.frame.DataFrame'>\n",
      "8 /home/erik/sweden/sonnhammer/GeneSnake/generation/network_generation_algo/networks/old_stability_analysis/fflatt-037/250/fflatt_transcriptional_network_2_nodes_250_ffl_perc_0.13.tsv\n"
     ]
    },
    {
     "name": "stderr",
     "output_type": "stream",
     "text": [
      "\n",
      "100%|██████████| 1/1 [00:00<00:00,  1.61it/s]\n",
      "100%|██████████| 1/1 [00:00<00:00,  1.39it/s]\n",
      "100%|██████████| 1/1 [00:00<00:00,  1.41it/s]\n",
      "100%|██████████| 1/1 [00:00<00:00,  1.41it/s]\n",
      "100%|██████████| 1/1 [00:00<00:00,  1.36it/s]\n",
      "100%|██████████| 1/1 [00:00<00:00,  1.38it/s]\n",
      "100%|██████████| 1/1 [00:00<00:00,  1.42it/s]\n",
      "100%|██████████| 1/1 [00:00<00:00,  1.41it/s]\n",
      "100%|██████████| 1/1 [00:00<00:00,  1.41it/s]\n",
      "100%|██████████| 1/1 [00:01<00:00,  1.23s/it]"
     ]
    },
    {
     "name": "stdout",
     "output_type": "stream",
     "text": [
      "<class 'pandas.core.frame.DataFrame'>\n",
      "9 /home/erik/sweden/sonnhammer/GeneSnake/generation/network_generation_algo/networks/old_stability_analysis/fflatt-037/250/fflatt_transcriptional_network_0_nodes_250_ffl_perc_0.13.tsv\n"
     ]
    },
    {
     "name": "stderr",
     "output_type": "stream",
     "text": [
      "\n",
      "100%|██████████| 1/1 [00:01<00:00,  1.13s/it]\n",
      "100%|██████████| 1/1 [00:01<00:00,  1.11s/it]\n",
      "100%|██████████| 1/1 [00:01<00:00,  1.21s/it]\n",
      "100%|██████████| 1/1 [00:01<00:00,  1.24s/it]\n",
      "100%|██████████| 1/1 [00:01<00:00,  1.11s/it]\n",
      "100%|██████████| 1/1 [00:01<00:00,  1.42s/it]\n",
      "100%|██████████| 1/1 [00:01<00:00,  1.44s/it]\n",
      "100%|██████████| 1/1 [00:01<00:00,  1.22s/it]\n",
      "100%|██████████| 1/1 [00:01<00:00,  1.22s/it]\n",
      "100%|██████████| 1/1 [00:01<00:00,  1.23s/it]"
     ]
    },
    {
     "name": "stdout",
     "output_type": "stream",
     "text": [
      "<class 'pandas.core.frame.DataFrame'>\n",
      "      N_real  mean(N_rand)  sd(N_rand)   Z-score  P-value network_label size\n",
      "021C  1484.2       1178.53   96.166325  3.268009     0.00    fflatt-037  250\n",
      "021D  6397.9       6147.74   87.049217  2.924774     0.01    fflatt-037  250\n",
      "021U   553.7        541.24   15.615087  0.740865     0.18    fflatt-037  250\n",
      "030C     0.0          4.10    2.144695 -2.124003     0.03    fflatt-037  250\n",
      "030T   135.5        109.63   14.213893  1.791890     0.12    fflatt-037  250\n",
      "/home/erik/sweden/sonnhammer/GeneSnake/generation/network_generation_algo/networks/old_stability_analysis/fflatt-037/500\n",
      "0 /home/erik/sweden/sonnhammer/GeneSnake/generation/network_generation_algo/networks/old_stability_analysis/fflatt-037/500/fflatt_transcriptional_network_4_nodes_500_ffl_perc_0.374.tsv\n"
     ]
    },
    {
     "name": "stderr",
     "output_type": "stream",
     "text": [
      "\n",
      "100%|██████████| 1/1 [00:02<00:00,  2.65s/it]\n",
      "100%|██████████| 1/1 [00:02<00:00,  2.83s/it]\n",
      "100%|██████████| 1/1 [00:02<00:00,  2.89s/it]\n",
      "100%|██████████| 1/1 [00:02<00:00,  2.79s/it]\n",
      "100%|██████████| 1/1 [00:02<00:00,  2.87s/it]\n",
      "100%|██████████| 1/1 [00:03<00:00,  3.06s/it]\n",
      "100%|██████████| 1/1 [00:02<00:00,  2.74s/it]\n",
      "100%|██████████| 1/1 [00:02<00:00,  2.90s/it]\n",
      "100%|██████████| 1/1 [00:02<00:00,  2.90s/it]\n",
      "100%|██████████| 1/1 [00:02<00:00,  2.90s/it]"
     ]
    },
    {
     "name": "stdout",
     "output_type": "stream",
     "text": [
      "<class 'pandas.core.frame.DataFrame'>\n",
      "1 /home/erik/sweden/sonnhammer/GeneSnake/generation/network_generation_algo/networks/old_stability_analysis/fflatt-037/500/fflatt_transcriptional_network_0_nodes_500_ffl_perc_0.374.tsv\n"
     ]
    },
    {
     "name": "stderr",
     "output_type": "stream",
     "text": [
      "\n",
      "100%|██████████| 1/1 [00:02<00:00,  2.85s/it]\n",
      "100%|██████████| 1/1 [00:02<00:00,  2.73s/it]\n",
      "100%|██████████| 1/1 [00:02<00:00,  2.57s/it]\n",
      "100%|██████████| 1/1 [00:02<00:00,  2.78s/it]\n",
      "100%|██████████| 1/1 [00:02<00:00,  2.85s/it]\n",
      "100%|██████████| 1/1 [00:02<00:00,  2.70s/it]\n",
      "100%|██████████| 1/1 [00:02<00:00,  2.74s/it]\n",
      "100%|██████████| 1/1 [00:02<00:00,  2.72s/it]\n",
      "100%|██████████| 1/1 [00:02<00:00,  2.63s/it]\n",
      "100%|██████████| 1/1 [00:02<00:00,  2.65s/it]"
     ]
    },
    {
     "name": "stdout",
     "output_type": "stream",
     "text": [
      "<class 'pandas.core.frame.DataFrame'>\n",
      "2 /home/erik/sweden/sonnhammer/GeneSnake/generation/network_generation_algo/networks/old_stability_analysis/fflatt-037/500/fflatt_transcriptional_network_9_nodes_500_ffl_perc_0.374.tsv\n"
     ]
    },
    {
     "name": "stderr",
     "output_type": "stream",
     "text": [
      "\n",
      "100%|██████████| 1/1 [00:02<00:00,  2.21s/it]\n",
      "100%|██████████| 1/1 [00:02<00:00,  2.09s/it]\n",
      "100%|██████████| 1/1 [00:02<00:00,  2.26s/it]\n",
      "100%|██████████| 1/1 [00:02<00:00,  2.35s/it]\n",
      "100%|██████████| 1/1 [00:02<00:00,  2.36s/it]\n",
      "100%|██████████| 1/1 [00:02<00:00,  2.24s/it]\n",
      "100%|██████████| 1/1 [00:02<00:00,  2.92s/it]\n",
      "100%|██████████| 1/1 [00:03<00:00,  3.15s/it]\n",
      "100%|██████████| 1/1 [00:01<00:00,  1.45s/it]\n",
      "100%|██████████| 1/1 [00:01<00:00,  1.41s/it]"
     ]
    },
    {
     "name": "stdout",
     "output_type": "stream",
     "text": [
      "<class 'pandas.core.frame.DataFrame'>\n",
      "3 /home/erik/sweden/sonnhammer/GeneSnake/generation/network_generation_algo/networks/old_stability_analysis/fflatt-037/500/fflatt_transcriptional_network_1_nodes_500_ffl_perc_0.374.tsv\n"
     ]
    },
    {
     "name": "stderr",
     "output_type": "stream",
     "text": [
      "\n",
      "100%|██████████| 1/1 [00:01<00:00,  1.10s/it]\n",
      "100%|██████████| 1/1 [00:00<00:00,  1.07it/s]\n",
      "100%|██████████| 1/1 [00:00<00:00,  1.06it/s]\n",
      "100%|██████████| 1/1 [00:01<00:00,  1.22s/it]\n",
      "100%|██████████| 1/1 [00:01<00:00,  1.35s/it]\n",
      "100%|██████████| 1/1 [00:00<00:00,  1.06it/s]\n",
      "100%|██████████| 1/1 [00:01<00:00,  1.08s/it]\n",
      "100%|██████████| 1/1 [00:01<00:00,  1.24s/it]\n",
      "100%|██████████| 1/1 [00:01<00:00,  1.43s/it]\n",
      "100%|██████████| 1/1 [00:01<00:00,  1.22s/it]"
     ]
    },
    {
     "name": "stdout",
     "output_type": "stream",
     "text": [
      "<class 'pandas.core.frame.DataFrame'>\n",
      "4 /home/erik/sweden/sonnhammer/GeneSnake/generation/network_generation_algo/networks/old_stability_analysis/fflatt-037/500/fflatt_transcriptional_network_6_nodes_500_ffl_perc_0.374.tsv\n"
     ]
    },
    {
     "name": "stderr",
     "output_type": "stream",
     "text": [
      "\n",
      "100%|██████████| 1/1 [00:01<00:00,  1.60s/it]\n",
      "100%|██████████| 1/1 [00:01<00:00,  1.66s/it]\n",
      "100%|██████████| 1/1 [00:01<00:00,  1.65s/it]\n",
      "100%|██████████| 1/1 [00:01<00:00,  1.53s/it]\n",
      "100%|██████████| 1/1 [00:01<00:00,  1.28s/it]\n",
      "100%|██████████| 1/1 [00:01<00:00,  1.45s/it]\n",
      "100%|██████████| 1/1 [00:01<00:00,  1.27s/it]\n",
      "100%|██████████| 1/1 [00:01<00:00,  1.19s/it]\n",
      "100%|██████████| 1/1 [00:01<00:00,  1.05s/it]\n",
      "100%|██████████| 1/1 [00:00<00:00,  1.10it/s]"
     ]
    },
    {
     "name": "stdout",
     "output_type": "stream",
     "text": [
      "<class 'pandas.core.frame.DataFrame'>\n",
      "5 /home/erik/sweden/sonnhammer/GeneSnake/generation/network_generation_algo/networks/old_stability_analysis/fflatt-037/500/fflatt_transcriptional_network_7_nodes_500_ffl_perc_0.374.tsv\n"
     ]
    },
    {
     "name": "stderr",
     "output_type": "stream",
     "text": [
      "\n",
      "100%|██████████| 1/1 [00:01<00:00,  1.49s/it]\n",
      "100%|██████████| 1/1 [00:01<00:00,  1.80s/it]\n",
      "100%|██████████| 1/1 [00:01<00:00,  1.58s/it]\n",
      "100%|██████████| 1/1 [00:01<00:00,  1.92s/it]\n",
      "100%|██████████| 1/1 [00:01<00:00,  1.78s/it]\n",
      "100%|██████████| 1/1 [00:01<00:00,  1.43s/it]\n",
      "100%|██████████| 1/1 [00:01<00:00,  1.61s/it]\n",
      "100%|██████████| 1/1 [00:01<00:00,  1.71s/it]\n",
      "100%|██████████| 1/1 [00:01<00:00,  1.61s/it]\n",
      "100%|██████████| 1/1 [00:01<00:00,  1.51s/it]"
     ]
    },
    {
     "name": "stdout",
     "output_type": "stream",
     "text": [
      "<class 'pandas.core.frame.DataFrame'>\n",
      "6 /home/erik/sweden/sonnhammer/GeneSnake/generation/network_generation_algo/networks/old_stability_analysis/fflatt-037/500/fflatt_transcriptional_network_2_nodes_500_ffl_perc_0.374.tsv\n"
     ]
    },
    {
     "name": "stderr",
     "output_type": "stream",
     "text": [
      "\n",
      "100%|██████████| 1/1 [00:01<00:00,  1.71s/it]\n",
      "100%|██████████| 1/1 [00:01<00:00,  1.36s/it]\n",
      "100%|██████████| 1/1 [00:01<00:00,  1.54s/it]\n",
      "100%|██████████| 1/1 [00:01<00:00,  1.60s/it]\n",
      "100%|██████████| 1/1 [00:01<00:00,  1.35s/it]\n",
      "100%|██████████| 1/1 [00:01<00:00,  1.54s/it]\n",
      "100%|██████████| 1/1 [00:01<00:00,  1.62s/it]\n",
      "100%|██████████| 1/1 [00:01<00:00,  1.46s/it]\n",
      "100%|██████████| 1/1 [00:01<00:00,  1.49s/it]\n",
      "100%|██████████| 1/1 [00:01<00:00,  1.47s/it]"
     ]
    },
    {
     "name": "stdout",
     "output_type": "stream",
     "text": [
      "<class 'pandas.core.frame.DataFrame'>\n",
      "7 /home/erik/sweden/sonnhammer/GeneSnake/generation/network_generation_algo/networks/old_stability_analysis/fflatt-037/500/fflatt_transcriptional_network_3_nodes_500_ffl_perc_0.374.tsv\n"
     ]
    },
    {
     "name": "stderr",
     "output_type": "stream",
     "text": [
      "\n",
      "100%|██████████| 1/1 [00:01<00:00,  1.37s/it]\n",
      "100%|██████████| 1/1 [00:01<00:00,  1.53s/it]\n",
      "100%|██████████| 1/1 [00:01<00:00,  1.61s/it]\n",
      "100%|██████████| 1/1 [00:01<00:00,  1.59s/it]\n",
      "100%|██████████| 1/1 [00:01<00:00,  1.65s/it]\n",
      "100%|██████████| 1/1 [00:01<00:00,  1.51s/it]\n",
      "100%|██████████| 1/1 [00:01<00:00,  1.48s/it]\n",
      "100%|██████████| 1/1 [00:01<00:00,  1.45s/it]\n",
      "100%|██████████| 1/1 [00:01<00:00,  1.70s/it]\n",
      "100%|██████████| 1/1 [00:01<00:00,  1.44s/it]"
     ]
    },
    {
     "name": "stdout",
     "output_type": "stream",
     "text": [
      "<class 'pandas.core.frame.DataFrame'>\n",
      "8 /home/erik/sweden/sonnhammer/GeneSnake/generation/network_generation_algo/networks/old_stability_analysis/fflatt-037/500/fflatt_transcriptional_network_8_nodes_500_ffl_perc_0.374.tsv\n"
     ]
    },
    {
     "name": "stderr",
     "output_type": "stream",
     "text": [
      "\n",
      "100%|██████████| 1/1 [00:01<00:00,  1.39s/it]\n",
      "100%|██████████| 1/1 [00:01<00:00,  1.39s/it]\n",
      "100%|██████████| 1/1 [00:01<00:00,  1.39s/it]\n",
      "100%|██████████| 1/1 [00:01<00:00,  1.38s/it]\n",
      "100%|██████████| 1/1 [00:01<00:00,  1.30s/it]\n",
      "100%|██████████| 1/1 [00:01<00:00,  1.26s/it]\n",
      "100%|██████████| 1/1 [00:01<00:00,  1.39s/it]\n",
      "100%|██████████| 1/1 [00:01<00:00,  1.44s/it]\n",
      "100%|██████████| 1/1 [00:01<00:00,  1.34s/it]\n",
      "100%|██████████| 1/1 [00:01<00:00,  1.30s/it]"
     ]
    },
    {
     "name": "stdout",
     "output_type": "stream",
     "text": [
      "<class 'pandas.core.frame.DataFrame'>\n",
      "9 /home/erik/sweden/sonnhammer/GeneSnake/generation/network_generation_algo/networks/old_stability_analysis/fflatt-037/500/fflatt_transcriptional_network_5_nodes_500_ffl_perc_0.374.tsv\n"
     ]
    },
    {
     "name": "stderr",
     "output_type": "stream",
     "text": [
      "\n",
      "100%|██████████| 1/1 [00:01<00:00,  1.42s/it]\n",
      "100%|██████████| 1/1 [00:01<00:00,  1.38s/it]\n",
      "100%|██████████| 1/1 [00:01<00:00,  1.26s/it]\n",
      "100%|██████████| 1/1 [00:01<00:00,  1.25s/it]\n",
      "100%|██████████| 1/1 [00:01<00:00,  1.40s/it]\n",
      "100%|██████████| 1/1 [00:01<00:00,  1.24s/it]\n",
      "100%|██████████| 1/1 [00:01<00:00,  1.23s/it]\n",
      "100%|██████████| 1/1 [00:01<00:00,  1.24s/it]\n",
      "100%|██████████| 1/1 [00:01<00:00,  1.23s/it]\n",
      "100%|██████████| 1/1 [00:01<00:00,  1.24s/it]"
     ]
    },
    {
     "name": "stdout",
     "output_type": "stream",
     "text": [
      "<class 'pandas.core.frame.DataFrame'>\n",
      "       N_real  mean(N_rand)  sd(N_rand)   Z-score  P-value network_label size\n",
      "021C   9454.0       5927.68  558.480378  6.278235     0.00    fflatt-037  500\n",
      "021D  46303.2      43159.08  527.155603  5.921679     0.00    fflatt-037  500\n",
      "021U   1466.5       1170.03   34.678435  8.741382     0.00    fflatt-037  500\n",
      "030C      0.0         13.56    4.028125 -3.555947     0.01    fflatt-037  500\n",
      "030T    383.5        286.61   35.009386  3.042815     0.07    fflatt-037  500\n",
      "/home/erik/sweden/sonnhammer/GeneSnake/generation/network_generation_algo/networks/old_stability_analysis/fflatt-037/750\n",
      "0 /home/erik/sweden/sonnhammer/GeneSnake/generation/network_generation_algo/networks/old_stability_analysis/fflatt-037/750/fflatt_transcriptional_network_0_nodes_750_ffl_perc_0.374.tsv\n"
     ]
    },
    {
     "name": "stderr",
     "output_type": "stream",
     "text": [
      "\n",
      "100%|██████████| 1/1 [00:01<00:00,  1.63s/it]\n",
      "100%|██████████| 1/1 [00:01<00:00,  1.46s/it]\n",
      "100%|██████████| 1/1 [00:01<00:00,  1.35s/it]\n",
      "100%|██████████| 1/1 [00:01<00:00,  1.44s/it]\n",
      "100%|██████████| 1/1 [00:01<00:00,  1.57s/it]\n",
      "100%|██████████| 1/1 [00:01<00:00,  1.45s/it]\n",
      "100%|██████████| 1/1 [00:01<00:00,  1.35s/it]\n",
      "100%|██████████| 1/1 [00:01<00:00,  1.51s/it]\n",
      "100%|██████████| 1/1 [00:01<00:00,  1.62s/it]\n",
      "100%|██████████| 1/1 [00:01<00:00,  1.45s/it]"
     ]
    },
    {
     "name": "stdout",
     "output_type": "stream",
     "text": [
      "<class 'pandas.core.frame.DataFrame'>\n",
      "1 /home/erik/sweden/sonnhammer/GeneSnake/generation/network_generation_algo/networks/old_stability_analysis/fflatt-037/750/fflatt_transcriptional_network_8_nodes_750_ffl_perc_0.374.tsv\n"
     ]
    },
    {
     "name": "stderr",
     "output_type": "stream",
     "text": [
      "\n",
      "100%|██████████| 1/1 [00:02<00:00,  2.26s/it]\n",
      "100%|██████████| 1/1 [00:02<00:00,  2.12s/it]\n",
      "100%|██████████| 1/1 [00:02<00:00,  2.41s/it]\n",
      "100%|██████████| 1/1 [00:02<00:00,  2.19s/it]\n",
      "100%|██████████| 1/1 [00:02<00:00,  2.28s/it]\n",
      "100%|██████████| 1/1 [00:02<00:00,  2.15s/it]\n",
      "100%|██████████| 1/1 [00:02<00:00,  2.31s/it]\n",
      "100%|██████████| 1/1 [00:02<00:00,  2.26s/it]\n",
      "100%|██████████| 1/1 [00:02<00:00,  2.40s/it]\n",
      "100%|██████████| 1/1 [00:02<00:00,  2.81s/it]"
     ]
    },
    {
     "name": "stdout",
     "output_type": "stream",
     "text": [
      "<class 'pandas.core.frame.DataFrame'>\n",
      "2 /home/erik/sweden/sonnhammer/GeneSnake/generation/network_generation_algo/networks/old_stability_analysis/fflatt-037/750/fflatt_transcriptional_network_6_nodes_750_ffl_perc_0.374.tsv\n"
     ]
    },
    {
     "name": "stderr",
     "output_type": "stream",
     "text": [
      "\n",
      "100%|██████████| 1/1 [00:02<00:00,  2.38s/it]\n",
      "100%|██████████| 1/1 [00:02<00:00,  2.51s/it]\n",
      "100%|██████████| 1/1 [00:02<00:00,  2.50s/it]\n",
      "100%|██████████| 1/1 [00:02<00:00,  2.48s/it]\n",
      "100%|██████████| 1/1 [00:02<00:00,  2.55s/it]\n",
      "100%|██████████| 1/1 [00:02<00:00,  2.90s/it]\n",
      "100%|██████████| 1/1 [00:02<00:00,  2.33s/it]\n",
      "100%|██████████| 1/1 [00:02<00:00,  2.26s/it]\n",
      "100%|██████████| 1/1 [00:02<00:00,  2.23s/it]\n",
      "100%|██████████| 1/1 [00:02<00:00,  2.23s/it]"
     ]
    },
    {
     "name": "stdout",
     "output_type": "stream",
     "text": [
      "<class 'pandas.core.frame.DataFrame'>\n",
      "3 /home/erik/sweden/sonnhammer/GeneSnake/generation/network_generation_algo/networks/old_stability_analysis/fflatt-037/750/fflatt_transcriptional_network_2_nodes_750_ffl_perc_0.374.tsv\n"
     ]
    },
    {
     "name": "stderr",
     "output_type": "stream",
     "text": [
      "\n",
      "100%|██████████| 1/1 [00:02<00:00,  2.77s/it]\n",
      "100%|██████████| 1/1 [00:02<00:00,  2.47s/it]\n",
      "100%|██████████| 1/1 [00:02<00:00,  2.44s/it]\n",
      "100%|██████████| 1/1 [00:02<00:00,  2.50s/it]\n",
      "100%|██████████| 1/1 [00:02<00:00,  2.60s/it]\n",
      "100%|██████████| 1/1 [00:02<00:00,  2.33s/it]\n",
      "100%|██████████| 1/1 [00:02<00:00,  2.42s/it]\n",
      "100%|██████████| 1/1 [00:02<00:00,  2.56s/it]\n",
      "100%|██████████| 1/1 [00:02<00:00,  2.31s/it]\n",
      "100%|██████████| 1/1 [00:02<00:00,  2.58s/it]"
     ]
    },
    {
     "name": "stdout",
     "output_type": "stream",
     "text": [
      "<class 'pandas.core.frame.DataFrame'>\n",
      "4 /home/erik/sweden/sonnhammer/GeneSnake/generation/network_generation_algo/networks/old_stability_analysis/fflatt-037/750/fflatt_transcriptional_network_5_nodes_750_ffl_perc_0.374.tsv\n"
     ]
    },
    {
     "name": "stderr",
     "output_type": "stream",
     "text": [
      "\n",
      "100%|██████████| 1/1 [00:02<00:00,  2.28s/it]\n",
      "100%|██████████| 1/1 [00:02<00:00,  2.30s/it]\n",
      "100%|██████████| 1/1 [00:02<00:00,  2.26s/it]\n",
      "100%|██████████| 1/1 [00:02<00:00,  2.27s/it]\n",
      "100%|██████████| 1/1 [00:02<00:00,  2.12s/it]\n",
      "100%|██████████| 1/1 [00:02<00:00,  2.21s/it]\n",
      "100%|██████████| 1/1 [00:02<00:00,  2.47s/it]\n",
      "100%|██████████| 1/1 [00:02<00:00,  2.89s/it]\n",
      "100%|██████████| 1/1 [00:02<00:00,  2.51s/it]\n",
      "100%|██████████| 1/1 [00:02<00:00,  2.34s/it]"
     ]
    },
    {
     "name": "stdout",
     "output_type": "stream",
     "text": [
      "<class 'pandas.core.frame.DataFrame'>\n",
      "5 /home/erik/sweden/sonnhammer/GeneSnake/generation/network_generation_algo/networks/old_stability_analysis/fflatt-037/750/fflatt_transcriptional_network_7_nodes_750_ffl_perc_0.374.tsv\n"
     ]
    },
    {
     "name": "stderr",
     "output_type": "stream",
     "text": [
      "\n",
      "100%|██████████| 1/1 [00:02<00:00,  2.76s/it]\n",
      "100%|██████████| 1/1 [00:03<00:00,  3.21s/it]\n",
      "100%|██████████| 1/1 [00:02<00:00,  2.58s/it]\n",
      "100%|██████████| 1/1 [00:02<00:00,  2.72s/it]\n",
      "100%|██████████| 1/1 [00:02<00:00,  2.60s/it]\n",
      "100%|██████████| 1/1 [00:02<00:00,  2.69s/it]\n",
      "100%|██████████| 1/1 [00:02<00:00,  2.49s/it]\n",
      "100%|██████████| 1/1 [00:02<00:00,  2.21s/it]\n",
      "100%|██████████| 1/1 [00:03<00:00,  3.72s/it]\n",
      "100%|██████████| 1/1 [00:03<00:00,  3.06s/it]"
     ]
    },
    {
     "name": "stdout",
     "output_type": "stream",
     "text": [
      "<class 'pandas.core.frame.DataFrame'>\n",
      "6 /home/erik/sweden/sonnhammer/GeneSnake/generation/network_generation_algo/networks/old_stability_analysis/fflatt-037/750/fflatt_transcriptional_network_1_nodes_750_ffl_perc_0.374.tsv\n"
     ]
    },
    {
     "name": "stderr",
     "output_type": "stream",
     "text": [
      "\n",
      "100%|██████████| 1/1 [00:02<00:00,  2.71s/it]\n",
      "100%|██████████| 1/1 [00:02<00:00,  2.61s/it]\n",
      "100%|██████████| 1/1 [00:02<00:00,  2.55s/it]\n",
      "100%|██████████| 1/1 [00:02<00:00,  2.57s/it]\n",
      "100%|██████████| 1/1 [00:02<00:00,  2.34s/it]\n",
      "100%|██████████| 1/1 [00:02<00:00,  2.40s/it]\n",
      "100%|██████████| 1/1 [00:02<00:00,  2.51s/it]\n",
      "100%|██████████| 1/1 [00:02<00:00,  2.41s/it]\n",
      "100%|██████████| 1/1 [00:02<00:00,  2.58s/it]\n",
      "100%|██████████| 1/1 [00:02<00:00,  2.58s/it]"
     ]
    },
    {
     "name": "stdout",
     "output_type": "stream",
     "text": [
      "<class 'pandas.core.frame.DataFrame'>\n",
      "7 /home/erik/sweden/sonnhammer/GeneSnake/generation/network_generation_algo/networks/old_stability_analysis/fflatt-037/750/fflatt_transcriptional_network_3_nodes_750_ffl_perc_0.374.tsv\n"
     ]
    },
    {
     "name": "stderr",
     "output_type": "stream",
     "text": [
      "\n",
      "100%|██████████| 1/1 [00:03<00:00,  3.06s/it]\n",
      "100%|██████████| 1/1 [00:03<00:00,  3.86s/it]\n",
      "100%|██████████| 1/1 [00:02<00:00,  2.43s/it]\n",
      "100%|██████████| 1/1 [00:02<00:00,  2.89s/it]\n",
      "100%|██████████| 1/1 [00:02<00:00,  2.60s/it]\n",
      "100%|██████████| 1/1 [00:02<00:00,  2.43s/it]\n",
      "100%|██████████| 1/1 [00:02<00:00,  2.38s/it]\n",
      "100%|██████████| 1/1 [00:02<00:00,  2.30s/it]\n",
      "100%|██████████| 1/1 [00:02<00:00,  2.29s/it]\n",
      "100%|██████████| 1/1 [00:02<00:00,  2.57s/it]"
     ]
    },
    {
     "name": "stdout",
     "output_type": "stream",
     "text": [
      "<class 'pandas.core.frame.DataFrame'>\n",
      "8 /home/erik/sweden/sonnhammer/GeneSnake/generation/network_generation_algo/networks/old_stability_analysis/fflatt-037/750/fflatt_transcriptional_network_4_nodes_750_ffl_perc_0.374.tsv\n"
     ]
    },
    {
     "name": "stderr",
     "output_type": "stream",
     "text": [
      "\n",
      "100%|██████████| 1/1 [00:03<00:00,  3.08s/it]\n",
      "100%|██████████| 1/1 [00:02<00:00,  2.97s/it]\n",
      "100%|██████████| 1/1 [00:02<00:00,  2.88s/it]\n",
      "100%|██████████| 1/1 [00:03<00:00,  3.14s/it]\n",
      "100%|██████████| 1/1 [00:02<00:00,  2.83s/it]\n",
      "100%|██████████| 1/1 [00:02<00:00,  2.88s/it]\n",
      "100%|██████████| 1/1 [00:03<00:00,  3.63s/it]\n",
      "100%|██████████| 1/1 [00:03<00:00,  3.49s/it]\n",
      "100%|██████████| 1/1 [00:03<00:00,  3.88s/it]\n",
      "100%|██████████| 1/1 [00:03<00:00,  3.58s/it]"
     ]
    },
    {
     "name": "stdout",
     "output_type": "stream",
     "text": [
      "<class 'pandas.core.frame.DataFrame'>\n",
      "9 /home/erik/sweden/sonnhammer/GeneSnake/generation/network_generation_algo/networks/old_stability_analysis/fflatt-037/750/fflatt_transcriptional_network_9_nodes_750_ffl_perc_0.374.tsv\n"
     ]
    },
    {
     "name": "stderr",
     "output_type": "stream",
     "text": [
      "\n",
      "100%|██████████| 1/1 [00:03<00:00,  3.13s/it]\n",
      "100%|██████████| 1/1 [00:02<00:00,  2.97s/it]\n",
      "100%|██████████| 1/1 [00:03<00:00,  3.12s/it]\n",
      "100%|██████████| 1/1 [00:02<00:00,  2.84s/it]\n",
      "100%|██████████| 1/1 [00:03<00:00,  3.04s/it]\n",
      "100%|██████████| 1/1 [00:02<00:00,  2.63s/it]\n",
      "100%|██████████| 1/1 [00:02<00:00,  2.28s/it]\n",
      "100%|██████████| 1/1 [00:02<00:00,  2.48s/it]\n",
      "100%|██████████| 1/1 [00:02<00:00,  2.37s/it]\n",
      "100%|██████████| 1/1 [00:02<00:00,  2.38s/it]"
     ]
    },
    {
     "name": "stdout",
     "output_type": "stream",
     "text": [
      "<class 'pandas.core.frame.DataFrame'>\n",
      "        N_real  mean(N_rand)   sd(N_rand)   Z-score  P-value network_label  \\\n",
      "021C   17380.2      11624.38  1004.527559  5.560943     0.00    fflatt-037   \n",
      "021D  111486.9     106236.71   959.587167  5.290116     0.01    fflatt-037   \n",
      "021U    2352.9       1979.25    60.330629  6.626938     0.00    fflatt-037   \n",
      "030C       0.0         18.87     5.505248 -3.688963     0.00    fflatt-037   \n",
      "030T     634.4        466.92    46.660061  3.989369     0.05    fflatt-037   \n",
      "\n",
      "     size  \n",
      "021C  750  \n",
      "021D  750  \n",
      "021U  750  \n",
      "030C  750  \n",
      "030T  750  \n",
      "/home/erik/sweden/sonnhammer/GeneSnake/generation/network_generation_algo/networks/old_stability_analysis/fflatt-037/1000\n",
      "0 /home/erik/sweden/sonnhammer/GeneSnake/generation/network_generation_algo/networks/old_stability_analysis/fflatt-037/1000/fflatt_transcriptional_network_0_nodes_1000_ffl_perc_0.374.tsv\n"
     ]
    },
    {
     "name": "stderr",
     "output_type": "stream",
     "text": [
      "\n",
      "100%|██████████| 1/1 [00:04<00:00,  4.02s/it]\n",
      "100%|██████████| 1/1 [00:03<00:00,  3.88s/it]\n",
      "100%|██████████| 1/1 [00:03<00:00,  3.61s/it]\n",
      "100%|██████████| 1/1 [00:04<00:00,  4.13s/it]\n",
      "100%|██████████| 1/1 [00:03<00:00,  3.48s/it]\n",
      "100%|██████████| 1/1 [00:04<00:00,  4.48s/it]\n",
      "100%|██████████| 1/1 [00:03<00:00,  3.58s/it]\n",
      "100%|██████████| 1/1 [00:03<00:00,  3.79s/it]\n",
      "100%|██████████| 1/1 [00:03<00:00,  3.80s/it]\n",
      "100%|██████████| 1/1 [00:04<00:00,  4.18s/it]"
     ]
    },
    {
     "name": "stdout",
     "output_type": "stream",
     "text": [
      "<class 'pandas.core.frame.DataFrame'>\n",
      "1 /home/erik/sweden/sonnhammer/GeneSnake/generation/network_generation_algo/networks/old_stability_analysis/fflatt-037/1000/fflatt_transcriptional_network_5_nodes_1000_ffl_perc_0.374.tsv\n"
     ]
    },
    {
     "name": "stderr",
     "output_type": "stream",
     "text": [
      "\n",
      "100%|██████████| 1/1 [00:03<00:00,  3.32s/it]\n",
      "100%|██████████| 1/1 [00:03<00:00,  3.34s/it]\n",
      "100%|██████████| 1/1 [00:03<00:00,  3.28s/it]\n",
      "100%|██████████| 1/1 [00:03<00:00,  3.51s/it]\n",
      "100%|██████████| 1/1 [00:03<00:00,  3.62s/it]\n",
      "100%|██████████| 1/1 [00:03<00:00,  3.43s/it]\n",
      "100%|██████████| 1/1 [00:03<00:00,  3.82s/it]\n",
      "100%|██████████| 1/1 [00:05<00:00,  5.31s/it]\n",
      "100%|██████████| 1/1 [00:03<00:00,  3.88s/it]\n",
      "100%|██████████| 1/1 [00:04<00:00,  4.36s/it]"
     ]
    },
    {
     "name": "stdout",
     "output_type": "stream",
     "text": [
      "<class 'pandas.core.frame.DataFrame'>\n",
      "2 /home/erik/sweden/sonnhammer/GeneSnake/generation/network_generation_algo/networks/old_stability_analysis/fflatt-037/1000/fflatt_transcriptional_network_6_nodes_1000_ffl_perc_0.374.tsv\n"
     ]
    },
    {
     "name": "stderr",
     "output_type": "stream",
     "text": [
      "\n",
      "100%|██████████| 1/1 [00:03<00:00,  3.52s/it]\n",
      "100%|██████████| 1/1 [00:03<00:00,  3.26s/it]\n",
      "100%|██████████| 1/1 [00:03<00:00,  3.14s/it]\n",
      "100%|██████████| 1/1 [00:04<00:00,  4.41s/it]\n",
      "100%|██████████| 1/1 [00:03<00:00,  3.09s/it]\n",
      "100%|██████████| 1/1 [00:03<00:00,  3.56s/it]\n",
      "100%|██████████| 1/1 [00:03<00:00,  3.59s/it]\n",
      "100%|██████████| 1/1 [00:03<00:00,  3.50s/it]\n",
      "100%|██████████| 1/1 [00:03<00:00,  3.46s/it]\n",
      "100%|██████████| 1/1 [00:03<00:00,  3.82s/it]"
     ]
    },
    {
     "name": "stdout",
     "output_type": "stream",
     "text": [
      "<class 'pandas.core.frame.DataFrame'>\n",
      "3 /home/erik/sweden/sonnhammer/GeneSnake/generation/network_generation_algo/networks/old_stability_analysis/fflatt-037/1000/fflatt_transcriptional_network_2_nodes_1000_ffl_perc_0.374.tsv\n"
     ]
    },
    {
     "name": "stderr",
     "output_type": "stream",
     "text": [
      "\n",
      "100%|██████████| 1/1 [00:03<00:00,  3.68s/it]\n",
      "100%|██████████| 1/1 [00:03<00:00,  3.76s/it]\n",
      "100%|██████████| 1/1 [00:04<00:00,  4.65s/it]\n",
      "100%|██████████| 1/1 [00:03<00:00,  3.72s/it]\n",
      "100%|██████████| 1/1 [00:05<00:00,  5.39s/it]\n",
      "100%|██████████| 1/1 [00:04<00:00,  4.03s/it]\n",
      "100%|██████████| 1/1 [00:03<00:00,  3.73s/it]\n",
      "100%|██████████| 1/1 [00:03<00:00,  3.74s/it]\n",
      "100%|██████████| 1/1 [00:03<00:00,  3.81s/it]\n",
      "100%|██████████| 1/1 [00:03<00:00,  3.51s/it]"
     ]
    },
    {
     "name": "stdout",
     "output_type": "stream",
     "text": [
      "<class 'pandas.core.frame.DataFrame'>\n",
      "4 /home/erik/sweden/sonnhammer/GeneSnake/generation/network_generation_algo/networks/old_stability_analysis/fflatt-037/1000/fflatt_transcriptional_network_1_nodes_1000_ffl_perc_0.374.tsv\n"
     ]
    },
    {
     "name": "stderr",
     "output_type": "stream",
     "text": [
      "\n",
      "100%|██████████| 1/1 [00:03<00:00,  3.10s/it]\n",
      "100%|██████████| 1/1 [00:03<00:00,  3.41s/it]\n",
      "100%|██████████| 1/1 [00:03<00:00,  3.43s/it]\n",
      "100%|██████████| 1/1 [00:03<00:00,  3.03s/it]\n",
      "100%|██████████| 1/1 [00:02<00:00,  2.86s/it]\n",
      "100%|██████████| 1/1 [00:02<00:00,  2.89s/it]\n",
      "100%|██████████| 1/1 [00:02<00:00,  2.80s/it]\n",
      "100%|██████████| 1/1 [00:02<00:00,  2.90s/it]\n",
      "100%|██████████| 1/1 [00:02<00:00,  2.89s/it]\n",
      "100%|██████████| 1/1 [00:02<00:00,  2.84s/it]"
     ]
    },
    {
     "name": "stdout",
     "output_type": "stream",
     "text": [
      "<class 'pandas.core.frame.DataFrame'>\n",
      "5 /home/erik/sweden/sonnhammer/GeneSnake/generation/network_generation_algo/networks/old_stability_analysis/fflatt-037/1000/fflatt_transcriptional_network_4_nodes_1000_ffl_perc_0.374.tsv\n"
     ]
    },
    {
     "name": "stderr",
     "output_type": "stream",
     "text": [
      "\n",
      "100%|██████████| 1/1 [00:02<00:00,  2.33s/it]\n",
      "100%|██████████| 1/1 [00:02<00:00,  2.57s/it]\n",
      "100%|██████████| 1/1 [00:03<00:00,  3.02s/it]\n",
      "100%|██████████| 1/1 [00:02<00:00,  2.92s/it]\n",
      "100%|██████████| 1/1 [00:02<00:00,  2.62s/it]\n",
      "100%|██████████| 1/1 [00:02<00:00,  2.80s/it]\n",
      "100%|██████████| 1/1 [00:02<00:00,  2.22s/it]\n",
      "100%|██████████| 1/1 [00:02<00:00,  2.84s/it]\n",
      "100%|██████████| 1/1 [00:02<00:00,  2.67s/it]\n",
      "100%|██████████| 1/1 [00:02<00:00,  2.30s/it]"
     ]
    },
    {
     "name": "stdout",
     "output_type": "stream",
     "text": [
      "<class 'pandas.core.frame.DataFrame'>\n",
      "6 /home/erik/sweden/sonnhammer/GeneSnake/generation/network_generation_algo/networks/old_stability_analysis/fflatt-037/1000/fflatt_transcriptional_network_7_nodes_1000_ffl_perc_0.374.tsv\n"
     ]
    },
    {
     "name": "stderr",
     "output_type": "stream",
     "text": [
      "\n",
      "100%|██████████| 1/1 [00:03<00:00,  3.99s/it]\n",
      "100%|██████████| 1/1 [00:03<00:00,  3.90s/it]\n",
      "100%|██████████| 1/1 [00:03<00:00,  3.65s/it]\n",
      "100%|██████████| 1/1 [00:04<00:00,  4.51s/it]\n",
      "100%|██████████| 1/1 [00:04<00:00,  4.62s/it]\n",
      "100%|██████████| 1/1 [00:04<00:00,  4.89s/it]\n",
      "100%|██████████| 1/1 [00:04<00:00,  4.29s/it]\n",
      "100%|██████████| 1/1 [00:04<00:00,  4.29s/it]\n",
      "100%|██████████| 1/1 [00:04<00:00,  4.29s/it]\n",
      "100%|██████████| 1/1 [00:04<00:00,  4.82s/it]"
     ]
    },
    {
     "name": "stdout",
     "output_type": "stream",
     "text": [
      "<class 'pandas.core.frame.DataFrame'>\n",
      "7 /home/erik/sweden/sonnhammer/GeneSnake/generation/network_generation_algo/networks/old_stability_analysis/fflatt-037/1000/fflatt_transcriptional_network_9_nodes_1000_ffl_perc_0.374.tsv\n"
     ]
    },
    {
     "name": "stderr",
     "output_type": "stream",
     "text": [
      "\n",
      "100%|██████████| 1/1 [00:03<00:00,  3.66s/it]\n",
      "100%|██████████| 1/1 [00:03<00:00,  3.52s/it]\n",
      "100%|██████████| 1/1 [00:02<00:00,  2.87s/it]\n",
      "100%|██████████| 1/1 [00:02<00:00,  2.90s/it]\n",
      "100%|██████████| 1/1 [00:03<00:00,  3.47s/it]\n",
      "100%|██████████| 1/1 [00:02<00:00,  2.74s/it]\n",
      "100%|██████████| 1/1 [00:03<00:00,  3.22s/it]\n",
      "100%|██████████| 1/1 [00:03<00:00,  3.71s/it]\n",
      "100%|██████████| 1/1 [00:03<00:00,  3.43s/it]\n",
      "100%|██████████| 1/1 [00:03<00:00,  3.09s/it]"
     ]
    },
    {
     "name": "stdout",
     "output_type": "stream",
     "text": [
      "<class 'pandas.core.frame.DataFrame'>\n",
      "8 /home/erik/sweden/sonnhammer/GeneSnake/generation/network_generation_algo/networks/old_stability_analysis/fflatt-037/1000/fflatt_transcriptional_network_3_nodes_1000_ffl_perc_0.374.tsv\n"
     ]
    },
    {
     "name": "stderr",
     "output_type": "stream",
     "text": [
      "\n",
      "100%|██████████| 1/1 [00:02<00:00,  2.93s/it]\n",
      "100%|██████████| 1/1 [00:03<00:00,  3.24s/it]\n",
      "100%|██████████| 1/1 [00:03<00:00,  3.49s/it]\n",
      "100%|██████████| 1/1 [00:03<00:00,  3.31s/it]\n",
      "100%|██████████| 1/1 [00:02<00:00,  2.44s/it]\n",
      "100%|██████████| 1/1 [00:02<00:00,  2.35s/it]\n",
      "100%|██████████| 1/1 [00:02<00:00,  2.29s/it]\n",
      "100%|██████████| 1/1 [00:02<00:00,  2.37s/it]\n",
      "100%|██████████| 1/1 [00:02<00:00,  2.37s/it]\n",
      "100%|██████████| 1/1 [00:02<00:00,  2.33s/it]"
     ]
    },
    {
     "name": "stdout",
     "output_type": "stream",
     "text": [
      "<class 'pandas.core.frame.DataFrame'>\n",
      "9 /home/erik/sweden/sonnhammer/GeneSnake/generation/network_generation_algo/networks/old_stability_analysis/fflatt-037/1000/fflatt_transcriptional_network_8_nodes_1000_ffl_perc_0.374.tsv\n"
     ]
    },
    {
     "name": "stderr",
     "output_type": "stream",
     "text": [
      "\n",
      "100%|██████████| 1/1 [00:04<00:00,  4.09s/it]\n",
      "100%|██████████| 1/1 [00:04<00:00,  4.54s/it]\n",
      "100%|██████████| 1/1 [00:04<00:00,  4.58s/it]\n",
      "100%|██████████| 1/1 [00:04<00:00,  4.23s/it]\n",
      "100%|██████████| 1/1 [00:04<00:00,  4.59s/it]\n",
      "100%|██████████| 1/1 [00:04<00:00,  4.71s/it]\n",
      "100%|██████████| 1/1 [00:04<00:00,  4.32s/it]\n",
      "100%|██████████| 1/1 [00:04<00:00,  4.34s/it]\n",
      "100%|██████████| 1/1 [00:04<00:00,  4.43s/it]\n",
      "100%|██████████| 1/1 [00:04<00:00,  4.53s/it]"
     ]
    },
    {
     "name": "stdout",
     "output_type": "stream",
     "text": [
      "<class 'pandas.core.frame.DataFrame'>\n",
      "        N_real  mean(N_rand)   sd(N_rand)   Z-score  P-value network_label  \\\n",
      "021C   24053.7      18130.91  1350.493470  4.434865     0.00    fflatt-037   \n",
      "021D  167337.2     161937.59  1285.055258  4.256892     0.00    fflatt-037   \n",
      "021U    3146.4       2716.36    73.378430  5.818181     0.00    fflatt-037   \n",
      "030C       0.0         23.27     5.912121 -4.031085     0.00    fflatt-037   \n",
      "030T     720.6        562.88    59.886113  2.704070     0.08    fflatt-037   \n",
      "\n",
      "      size  \n",
      "021C  1000  \n",
      "021D  1000  \n",
      "021U  1000  \n",
      "030C  1000  \n",
      "030T  1000  \n"
     ]
    },
    {
     "name": "stderr",
     "output_type": "stream",
     "text": [
      "\n"
     ]
    }
   ],
   "source": [
    "networks = ['fflatt-037']\n",
    "\n",
    "for network in networks:\n",
    "    for size in sizes:\n",
    "        current_dir = os.path.join(stability_dir, network, size)\n",
    "        print(current_dir)\n",
    "        pandas_df_lst = []\n",
    "        for rep, file in enumerate(glob.glob(os.path.join(current_dir, '*.tsv'))):\n",
    "            print(rep, file)\n",
    "            report = f.analyze_exctracted_network(cfg, file, network, rep, size, stability_motifs=True)\n",
    "            print(type(report))\n",
    "            pandas_df_lst.append(report)\n",
    "        #enrichment_report = pd.concat(pandas_df_lst)\n",
    "        pandas_df_list = sum(pandas_df_lst)/len(pandas_df_lst)\n",
    "        pandas_df_list['network_label'] = network\n",
    "        pandas_df_list['size'] = size\n",
    "        print(pandas_df_list)                                     \n",
    "        pandas_df_list.to_csv(os.path.join(stability_dir, 'z-scores', network+'_'+str(size)+'_z_score.tsv'))"
   ]
  },
  {
   "cell_type": "markdown",
   "metadata": {},
   "source": [
    "## Collect stats"
   ]
  },
  {
   "cell_type": "code",
   "execution_count": 5,
   "metadata": {},
   "outputs": [],
   "source": [
    "zscore_stats_lst = []\n",
    "for rep, file in enumerate(glob.glob(os.path.join(stability_dir, 'z-scores', '*.tsv'))):\n",
    "    #print(file)\n",
    "    zscore_stats_df = pd.io.parsers.read_csv(file, sep=\",\", index_col=0, header=None, skiprows=1)\n",
    "    zscore_stats_df['motif'] = zscore_stats_df.index\n",
    "    zscore_stats_df.reset_index()\n",
    "    zscore_stats_df.columns = ['counts_ori', 'counts_rand', 'sd_rand',\\\n",
    "                                'z-score', 'p-val', 'label', 'size', 'motif']\n",
    "    #print(zscore_stats_df)\n",
    "    zscore_stats_lst.append(zscore_stats_df)"
   ]
  },
  {
   "cell_type": "markdown",
   "metadata": {},
   "source": [
    "## Plot z-scores"
   ]
  },
  {
   "cell_type": "code",
   "execution_count": 6,
   "metadata": {},
   "outputs": [
    {
     "data": {
      "text/html": [
       "<div>\n",
       "<style scoped>\n",
       "    .dataframe tbody tr th:only-of-type {\n",
       "        vertical-align: middle;\n",
       "    }\n",
       "\n",
       "    .dataframe tbody tr th {\n",
       "        vertical-align: top;\n",
       "    }\n",
       "\n",
       "    .dataframe thead th {\n",
       "        text-align: right;\n",
       "    }\n",
       "</style>\n",
       "<table border=\"1\" class=\"dataframe\">\n",
       "  <thead>\n",
       "    <tr style=\"text-align: right;\">\n",
       "      <th></th>\n",
       "      <th>counts_ori</th>\n",
       "      <th>counts_rand</th>\n",
       "      <th>sd_rand</th>\n",
       "      <th>z-score</th>\n",
       "      <th>p-val</th>\n",
       "      <th>label</th>\n",
       "      <th>size</th>\n",
       "      <th>motif</th>\n",
       "    </tr>\n",
       "    <tr>\n",
       "      <th>0</th>\n",
       "      <th></th>\n",
       "      <th></th>\n",
       "      <th></th>\n",
       "      <th></th>\n",
       "      <th></th>\n",
       "      <th></th>\n",
       "      <th></th>\n",
       "      <th></th>\n",
       "    </tr>\n",
       "  </thead>\n",
       "  <tbody>\n",
       "    <tr>\n",
       "      <th>021C</th>\n",
       "      <td>1484.2</td>\n",
       "      <td>1185.36</td>\n",
       "      <td>104.878885</td>\n",
       "      <td>2.910897</td>\n",
       "      <td>0.00</td>\n",
       "      <td>fflatt</td>\n",
       "      <td>250</td>\n",
       "      <td>021C</td>\n",
       "    </tr>\n",
       "    <tr>\n",
       "      <th>021D</th>\n",
       "      <td>6397.9</td>\n",
       "      <td>6157.13</td>\n",
       "      <td>95.417612</td>\n",
       "      <td>2.555931</td>\n",
       "      <td>0.02</td>\n",
       "      <td>fflatt</td>\n",
       "      <td>250</td>\n",
       "      <td>021D</td>\n",
       "    </tr>\n",
       "    <tr>\n",
       "      <th>021U</th>\n",
       "      <td>553.7</td>\n",
       "      <td>540.31</td>\n",
       "      <td>16.537450</td>\n",
       "      <td>0.960980</td>\n",
       "      <td>0.22</td>\n",
       "      <td>fflatt</td>\n",
       "      <td>250</td>\n",
       "      <td>021U</td>\n",
       "    </tr>\n",
       "    <tr>\n",
       "      <th>030C</th>\n",
       "      <td>0.0</td>\n",
       "      <td>4.62</td>\n",
       "      <td>2.176966</td>\n",
       "      <td>-2.219236</td>\n",
       "      <td>0.01</td>\n",
       "      <td>fflatt</td>\n",
       "      <td>250</td>\n",
       "      <td>030C</td>\n",
       "    </tr>\n",
       "    <tr>\n",
       "      <th>030T</th>\n",
       "      <td>135.5</td>\n",
       "      <td>110.65</td>\n",
       "      <td>13.847663</td>\n",
       "      <td>1.980403</td>\n",
       "      <td>0.10</td>\n",
       "      <td>fflatt</td>\n",
       "      <td>250</td>\n",
       "      <td>030T</td>\n",
       "    </tr>\n",
       "    <tr>\n",
       "      <th>...</th>\n",
       "      <td>...</td>\n",
       "      <td>...</td>\n",
       "      <td>...</td>\n",
       "      <td>...</td>\n",
       "      <td>...</td>\n",
       "      <td>...</td>\n",
       "      <td>...</td>\n",
       "      <td>...</td>\n",
       "    </tr>\n",
       "    <tr>\n",
       "      <th>021C</th>\n",
       "      <td>24053.7</td>\n",
       "      <td>18130.91</td>\n",
       "      <td>1350.493470</td>\n",
       "      <td>4.434865</td>\n",
       "      <td>0.00</td>\n",
       "      <td>fflatt-037</td>\n",
       "      <td>1000</td>\n",
       "      <td>021C</td>\n",
       "    </tr>\n",
       "    <tr>\n",
       "      <th>021D</th>\n",
       "      <td>167337.2</td>\n",
       "      <td>161937.59</td>\n",
       "      <td>1285.055258</td>\n",
       "      <td>4.256892</td>\n",
       "      <td>0.00</td>\n",
       "      <td>fflatt-037</td>\n",
       "      <td>1000</td>\n",
       "      <td>021D</td>\n",
       "    </tr>\n",
       "    <tr>\n",
       "      <th>021U</th>\n",
       "      <td>3146.4</td>\n",
       "      <td>2716.36</td>\n",
       "      <td>73.378430</td>\n",
       "      <td>5.818181</td>\n",
       "      <td>0.00</td>\n",
       "      <td>fflatt-037</td>\n",
       "      <td>1000</td>\n",
       "      <td>021U</td>\n",
       "    </tr>\n",
       "    <tr>\n",
       "      <th>030C</th>\n",
       "      <td>0.0</td>\n",
       "      <td>23.27</td>\n",
       "      <td>5.912121</td>\n",
       "      <td>-4.031085</td>\n",
       "      <td>0.00</td>\n",
       "      <td>fflatt-037</td>\n",
       "      <td>1000</td>\n",
       "      <td>030C</td>\n",
       "    </tr>\n",
       "    <tr>\n",
       "      <th>030T</th>\n",
       "      <td>720.6</td>\n",
       "      <td>562.88</td>\n",
       "      <td>59.886113</td>\n",
       "      <td>2.704070</td>\n",
       "      <td>0.08</td>\n",
       "      <td>fflatt-037</td>\n",
       "      <td>1000</td>\n",
       "      <td>030T</td>\n",
       "    </tr>\n",
       "  </tbody>\n",
       "</table>\n",
       "<p>100 rows × 8 columns</p>\n",
       "</div>"
      ],
      "text/plain": [
       "      counts_ori  counts_rand      sd_rand   z-score  p-val       label  size  \\\n",
       "0                                                                               \n",
       "021C      1484.2      1185.36   104.878885  2.910897   0.00      fflatt   250   \n",
       "021D      6397.9      6157.13    95.417612  2.555931   0.02      fflatt   250   \n",
       "021U       553.7       540.31    16.537450  0.960980   0.22      fflatt   250   \n",
       "030C         0.0         4.62     2.176966 -2.219236   0.01      fflatt   250   \n",
       "030T       135.5       110.65    13.847663  1.980403   0.10      fflatt   250   \n",
       "...          ...          ...          ...       ...    ...         ...   ...   \n",
       "021C     24053.7     18130.91  1350.493470  4.434865   0.00  fflatt-037  1000   \n",
       "021D    167337.2    161937.59  1285.055258  4.256892   0.00  fflatt-037  1000   \n",
       "021U      3146.4      2716.36    73.378430  5.818181   0.00  fflatt-037  1000   \n",
       "030C         0.0        23.27     5.912121 -4.031085   0.00  fflatt-037  1000   \n",
       "030T       720.6       562.88    59.886113  2.704070   0.08  fflatt-037  1000   \n",
       "\n",
       "     motif  \n",
       "0           \n",
       "021C  021C  \n",
       "021D  021D  \n",
       "021U  021U  \n",
       "030C  030C  \n",
       "030T  030T  \n",
       "...    ...  \n",
       "021C  021C  \n",
       "021D  021D  \n",
       "021U  021U  \n",
       "030C  030C  \n",
       "030T  030T  \n",
       "\n",
       "[100 rows x 8 columns]"
      ]
     },
     "execution_count": 6,
     "metadata": {},
     "output_type": "execute_result"
    }
   ],
   "source": [
    "zscore_stats_df = pd.concat(zscore_stats_lst)\n",
    "zscore_stats_df"
   ]
  },
  {
   "cell_type": "code",
   "execution_count": 75,
   "metadata": {},
   "outputs": [],
   "source": [
    "zscore_stats_df[zscore_stats_df['label']=='fflatt']"
   ]
  },
  {
   "cell_type": "code",
   "execution_count": 79,
   "metadata": {},
   "outputs": [],
   "source": [
    "# aa.plot?"
   ]
  },
  {
   "cell_type": "code",
   "execution_count": 128,
   "metadata": {},
   "outputs": [
    {
     "data": {
      "text/html": [
       "<div>\n",
       "<style scoped>\n",
       "    .dataframe tbody tr th:only-of-type {\n",
       "        vertical-align: middle;\n",
       "    }\n",
       "\n",
       "    .dataframe tbody tr th {\n",
       "        vertical-align: top;\n",
       "    }\n",
       "\n",
       "    .dataframe thead th {\n",
       "        text-align: right;\n",
       "    }\n",
       "</style>\n",
       "<table border=\"1\" class=\"dataframe\">\n",
       "  <thead>\n",
       "    <tr style=\"text-align: right;\">\n",
       "      <th></th>\n",
       "      <th>counts_ori</th>\n",
       "      <th>counts_rand</th>\n",
       "      <th>sd_rand</th>\n",
       "      <th>z-score</th>\n",
       "      <th>p-val</th>\n",
       "      <th>label</th>\n",
       "      <th>size</th>\n",
       "      <th>motif</th>\n",
       "    </tr>\n",
       "    <tr>\n",
       "      <th>0</th>\n",
       "      <th></th>\n",
       "      <th></th>\n",
       "      <th></th>\n",
       "      <th></th>\n",
       "      <th></th>\n",
       "      <th></th>\n",
       "      <th></th>\n",
       "      <th></th>\n",
       "    </tr>\n",
       "  </thead>\n",
       "  <tbody>\n",
       "    <tr>\n",
       "      <th>021C</th>\n",
       "      <td>904.3</td>\n",
       "      <td>2224.10</td>\n",
       "      <td>252.628305</td>\n",
       "      <td>-6.056332</td>\n",
       "      <td>0.00</td>\n",
       "      <td>gnw</td>\n",
       "      <td>750</td>\n",
       "      <td>021C</td>\n",
       "    </tr>\n",
       "    <tr>\n",
       "      <th>021D</th>\n",
       "      <td>92618.4</td>\n",
       "      <td>93825.91</td>\n",
       "      <td>247.908896</td>\n",
       "      <td>-5.604575</td>\n",
       "      <td>0.00</td>\n",
       "      <td>gnw</td>\n",
       "      <td>750</td>\n",
       "      <td>021D</td>\n",
       "    </tr>\n",
       "    <tr>\n",
       "      <th>021U</th>\n",
       "      <td>1232.5</td>\n",
       "      <td>1453.92</td>\n",
       "      <td>60.206575</td>\n",
       "      <td>-4.333207</td>\n",
       "      <td>0.02</td>\n",
       "      <td>gnw</td>\n",
       "      <td>750</td>\n",
       "      <td>021U</td>\n",
       "    </tr>\n",
       "    <tr>\n",
       "      <th>030C</th>\n",
       "      <td>0.0</td>\n",
       "      <td>1.16</td>\n",
       "      <td>1.131968</td>\n",
       "      <td>-1.009930</td>\n",
       "      <td>0.44</td>\n",
       "      <td>gnw</td>\n",
       "      <td>750</td>\n",
       "      <td>030C</td>\n",
       "    </tr>\n",
       "    <tr>\n",
       "      <th>030T</th>\n",
       "      <td>327.8</td>\n",
       "      <td>376.77</td>\n",
       "      <td>67.990484</td>\n",
       "      <td>-0.529168</td>\n",
       "      <td>0.20</td>\n",
       "      <td>gnw</td>\n",
       "      <td>750</td>\n",
       "      <td>030T</td>\n",
       "    </tr>\n",
       "    <tr>\n",
       "      <th>021C</th>\n",
       "      <td>281.2</td>\n",
       "      <td>506.08</td>\n",
       "      <td>74.239454</td>\n",
       "      <td>-4.031699</td>\n",
       "      <td>0.05</td>\n",
       "      <td>gnw</td>\n",
       "      <td>250</td>\n",
       "      <td>021C</td>\n",
       "    </tr>\n",
       "    <tr>\n",
       "      <th>021D</th>\n",
       "      <td>13091.4</td>\n",
       "      <td>13278.90</td>\n",
       "      <td>71.115843</td>\n",
       "      <td>-3.368283</td>\n",
       "      <td>0.05</td>\n",
       "      <td>gnw</td>\n",
       "      <td>250</td>\n",
       "      <td>021D</td>\n",
       "    </tr>\n",
       "    <tr>\n",
       "      <th>021U</th>\n",
       "      <td>282.3</td>\n",
       "      <td>285.93</td>\n",
       "      <td>18.699871</td>\n",
       "      <td>-0.975294</td>\n",
       "      <td>0.13</td>\n",
       "      <td>gnw</td>\n",
       "      <td>250</td>\n",
       "      <td>021U</td>\n",
       "    </tr>\n",
       "    <tr>\n",
       "      <th>030C</th>\n",
       "      <td>0.0</td>\n",
       "      <td>0.81</td>\n",
       "      <td>0.865244</td>\n",
       "      <td>NaN</td>\n",
       "      <td>0.71</td>\n",
       "      <td>gnw</td>\n",
       "      <td>250</td>\n",
       "      <td>030C</td>\n",
       "    </tr>\n",
       "    <tr>\n",
       "      <th>030T</th>\n",
       "      <td>93.8</td>\n",
       "      <td>129.13</td>\n",
       "      <td>23.953743</td>\n",
       "      <td>-1.030131</td>\n",
       "      <td>0.12</td>\n",
       "      <td>gnw</td>\n",
       "      <td>250</td>\n",
       "      <td>030T</td>\n",
       "    </tr>\n",
       "    <tr>\n",
       "      <th>021C</th>\n",
       "      <td>1180.6</td>\n",
       "      <td>3398.87</td>\n",
       "      <td>314.638747</td>\n",
       "      <td>-7.182302</td>\n",
       "      <td>0.00</td>\n",
       "      <td>gnw</td>\n",
       "      <td>1000</td>\n",
       "      <td>021C</td>\n",
       "    </tr>\n",
       "    <tr>\n",
       "      <th>021D</th>\n",
       "      <td>141732.1</td>\n",
       "      <td>143780.72</td>\n",
       "      <td>310.749831</td>\n",
       "      <td>-6.712647</td>\n",
       "      <td>0.00</td>\n",
       "      <td>gnw</td>\n",
       "      <td>1000</td>\n",
       "      <td>021D</td>\n",
       "    </tr>\n",
       "    <tr>\n",
       "      <th>021U</th>\n",
       "      <td>1825.4</td>\n",
       "      <td>2248.70</td>\n",
       "      <td>63.774426</td>\n",
       "      <td>-7.232372</td>\n",
       "      <td>0.00</td>\n",
       "      <td>gnw</td>\n",
       "      <td>1000</td>\n",
       "      <td>021U</td>\n",
       "    </tr>\n",
       "    <tr>\n",
       "      <th>030C</th>\n",
       "      <td>0.0</td>\n",
       "      <td>1.74</td>\n",
       "      <td>1.257744</td>\n",
       "      <td>-1.373806</td>\n",
       "      <td>0.23</td>\n",
       "      <td>gnw</td>\n",
       "      <td>1000</td>\n",
       "      <td>030C</td>\n",
       "    </tr>\n",
       "    <tr>\n",
       "      <th>030T</th>\n",
       "      <td>489.1</td>\n",
       "      <td>485.56</td>\n",
       "      <td>68.414092</td>\n",
       "      <td>0.082258</td>\n",
       "      <td>0.29</td>\n",
       "      <td>gnw</td>\n",
       "      <td>1000</td>\n",
       "      <td>030T</td>\n",
       "    </tr>\n",
       "    <tr>\n",
       "      <th>021C</th>\n",
       "      <td>497.9</td>\n",
       "      <td>1256.62</td>\n",
       "      <td>154.916728</td>\n",
       "      <td>-5.324914</td>\n",
       "      <td>0.00</td>\n",
       "      <td>gnw</td>\n",
       "      <td>500</td>\n",
       "      <td>021C</td>\n",
       "    </tr>\n",
       "    <tr>\n",
       "      <th>021D</th>\n",
       "      <td>35107.8</td>\n",
       "      <td>35776.38</td>\n",
       "      <td>150.945251</td>\n",
       "      <td>-4.821187</td>\n",
       "      <td>0.00</td>\n",
       "      <td>gnw</td>\n",
       "      <td>500</td>\n",
       "      <td>021D</td>\n",
       "    </tr>\n",
       "    <tr>\n",
       "      <th>021U</th>\n",
       "      <td>492.2</td>\n",
       "      <td>585.50</td>\n",
       "      <td>26.269108</td>\n",
       "      <td>-4.997212</td>\n",
       "      <td>0.03</td>\n",
       "      <td>gnw</td>\n",
       "      <td>500</td>\n",
       "      <td>021U</td>\n",
       "    </tr>\n",
       "    <tr>\n",
       "      <th>030C</th>\n",
       "      <td>0.0</td>\n",
       "      <td>1.06</td>\n",
       "      <td>0.983978</td>\n",
       "      <td>-1.018617</td>\n",
       "      <td>0.51</td>\n",
       "      <td>gnw</td>\n",
       "      <td>500</td>\n",
       "      <td>030C</td>\n",
       "    </tr>\n",
       "    <tr>\n",
       "      <th>030T</th>\n",
       "      <td>166.6</td>\n",
       "      <td>193.73</td>\n",
       "      <td>26.910168</td>\n",
       "      <td>-0.238964</td>\n",
       "      <td>0.14</td>\n",
       "      <td>gnw</td>\n",
       "      <td>500</td>\n",
       "      <td>030T</td>\n",
       "    </tr>\n",
       "  </tbody>\n",
       "</table>\n",
       "</div>"
      ],
      "text/plain": [
       "      counts_ori  counts_rand     sd_rand   z-score  p-val label  size motif\n",
       "0                                                                           \n",
       "021C       904.3      2224.10  252.628305 -6.056332   0.00   gnw   750  021C\n",
       "021D     92618.4     93825.91  247.908896 -5.604575   0.00   gnw   750  021D\n",
       "021U      1232.5      1453.92   60.206575 -4.333207   0.02   gnw   750  021U\n",
       "030C         0.0         1.16    1.131968 -1.009930   0.44   gnw   750  030C\n",
       "030T       327.8       376.77   67.990484 -0.529168   0.20   gnw   750  030T\n",
       "021C       281.2       506.08   74.239454 -4.031699   0.05   gnw   250  021C\n",
       "021D     13091.4     13278.90   71.115843 -3.368283   0.05   gnw   250  021D\n",
       "021U       282.3       285.93   18.699871 -0.975294   0.13   gnw   250  021U\n",
       "030C         0.0         0.81    0.865244       NaN   0.71   gnw   250  030C\n",
       "030T        93.8       129.13   23.953743 -1.030131   0.12   gnw   250  030T\n",
       "021C      1180.6      3398.87  314.638747 -7.182302   0.00   gnw  1000  021C\n",
       "021D    141732.1    143780.72  310.749831 -6.712647   0.00   gnw  1000  021D\n",
       "021U      1825.4      2248.70   63.774426 -7.232372   0.00   gnw  1000  021U\n",
       "030C         0.0         1.74    1.257744 -1.373806   0.23   gnw  1000  030C\n",
       "030T       489.1       485.56   68.414092  0.082258   0.29   gnw  1000  030T\n",
       "021C       497.9      1256.62  154.916728 -5.324914   0.00   gnw   500  021C\n",
       "021D     35107.8     35776.38  150.945251 -4.821187   0.00   gnw   500  021D\n",
       "021U       492.2       585.50   26.269108 -4.997212   0.03   gnw   500  021U\n",
       "030C         0.0         1.06    0.983978 -1.018617   0.51   gnw   500  030C\n",
       "030T       166.6       193.73   26.910168 -0.238964   0.14   gnw   500  030T"
      ]
     },
     "execution_count": 128,
     "metadata": {},
     "output_type": "execute_result"
    }
   ],
   "source": [
    "zscore_stats_df[zscore_stats_df['label']=='gnw']"
   ]
  },
  {
   "cell_type": "code",
   "execution_count": null,
   "metadata": {},
   "outputs": [],
   "source": [
    "'Accent', 'Accent_r', 'Blues', 'Blues_r', 'BrBG', 'BrBG_r', 'BuGn', 'BuGn_r', 'BuPu', 'BuPu_r',\\\n",
    "'CMRmap', 'CMRmap_r', 'Dark2', 'Dark2_r', 'GnBu', 'GnBu_r', 'Greens', 'Greens_r', 'Greys', 'Greys_r',\\\n",
    "'OrRd', 'OrRd_r', 'Oranges', 'Oranges_r', 'PRGn', 'PRGn_r', 'Paired', 'Paired_r', 'Pastel1', 'Pastel1_r',\\\n",
    "'Pastel2', 'Pastel2_r', 'PiYG', 'PiYG_r', 'PuBu', 'PuBuGn', 'PuBuGn_r', 'PuBu_r', 'PuOr', 'PuOr_r', 'PuRd',\\\n",
    "'PuRd_r', 'Purples', 'Purples_r', 'RdBu', 'RdBu_r', 'RdGy', 'RdGy_r', 'RdPu', 'RdPu_r', 'RdYlBu', 'RdYlBu_r',\\\n",
    "'RdYlGn', 'RdYlGn_r', 'Reds', 'Reds_r', 'Set1', 'Set1_r', 'Set2', 'Set2_r', 'Set3', 'Set3_r', 'Spectral',\\\n",
    "'Spectral_r', 'Wistia', 'Wistia_r', 'YlGn', 'YlGnBu', 'YlGnBu_r', 'YlGn_r', 'YlOrBr', 'YlOrBr_r', 'YlOrRd',\\\n",
    "'YlOrRd_r', 'afmhot', 'afmhot_r', 'autumn', 'autumn_r', 'binary', 'binary_r', 'bone', 'bone_r', 'brg', 'brg_r',\\\n",
    "'bwr', 'bwr_r', 'cividis', 'cividis_r', 'cool', 'cool_r', 'coolwarm', 'coolwarm_r', 'copper', 'copper_r', 'crest',\\\n",
    "'crest_r', 'cubehelix', 'cubehelix_r', 'flag', 'flag_r', 'flare', 'flare_r', 'gist_earth', 'gist_earth_r',\\\n",
    "'gist_gray', 'gist_gray_r', 'gist_heat', 'gist_heat_r', 'gist_ncar', 'gist_ncar_r', 'gist_rainbow',\\\n",
    "'gist_rainbow_r', 'gist_stern', 'gist_stern_r', 'gist_yarg', 'gist_yarg_r', 'gnuplot', 'gnuplot2',\\\n",
    "'gnuplot2_r', 'gnuplot_r', 'gray', 'gray_r', 'hot', 'hot_r', 'hsv', 'hsv_r', 'icefire', 'icefire_r',\\\n",
    "'inferno', 'inferno_r', 'jet', 'jet_r', 'magma', 'magma_r', 'mako', 'mako_r', 'nipy_spectral',\\\n",
    "'nipy_spectral_r', 'ocean', 'ocean_r', 'pink', 'pink_r', 'plasma', 'plasma_r', 'prism', 'prism_r',\\\n",
    "'rainbow', 'rainbow_r', 'rocket', 'rocket_r', 'seismic', 'seismic_r', 'spring', 'spring_r', 'summer',\\\n",
    "'summer_r', 'tab10', 'tab10_r', 'tab20', 'tab20_r', 'tab20b', 'tab20b_r', 'tab20c', 'tab20c_r', 'terrain',\\\n",
    "'terrain_r', 'turbo', 'turbo_r', 'twilight', 'twilight_r', 'twilight_shifted',\\\n",
    "'twilight_shifted_r', 'viridis', 'viridis_r', 'vlag', 'vlag_r', 'winter', 'winter_r'"
   ]
  },
  {
   "cell_type": "code",
   "execution_count": 12,
   "metadata": {},
   "outputs": [
    {
     "data": {
      "text/plain": [
       "<matplotlib.legend.Legend at 0x7f489fb89a10>"
      ]
     },
     "execution_count": 12,
     "metadata": {},
     "output_type": "execute_result"
    },
    {
     "data": {
      "image/png": "[encoded data removed]",
      "text/plain": [
       "<Figure size 864x2448 with 4 Axes>"
      ]
     },
     "metadata": {
      "needs_background": "light"
     },
     "output_type": "display_data"
    }
   ],
   "source": [
    "plt.rcParams.update({'font.size': 22})\n",
    "fig, ((ax1, ax2, ax3, ax4)) = plt.subplots(4,1)\n",
    "fig.tight_layout()\n",
    "\n",
    "plot_style = 'ocean_r'\n",
    "zscore_stats_df[zscore_stats_df['label']=='randg'].groupby([\"motif\", \"size\"]).agg(np.mean).unstack(0).\\\n",
    "    plot(kind = \"bar\", y = \"z-score\", legend = False,\\\n",
    "         ax=ax1, cmap=plot_style, figsize = (12,34), ylim=(-5,3))\n",
    "\n",
    "zscore_stats_df[zscore_stats_df['label']=='dag'].groupby([\"motif\", \"size\"]).agg(np.mean).unstack(0).\\\n",
    "    plot(kind = \"bar\", y = \"z-score\", legend = False,\\\n",
    "         ax=ax2, cmap=plot_style, figsize = (12,34), ylim=(-5,3))\n",
    "\n",
    "zscore_stats_df[zscore_stats_df['label']=='gnw'].groupby([\"motif\", \"size\"]).agg(np.mean).unstack(0).\\\n",
    "    plot(kind = \"bar\", y = \"z-score\", legend = False,\\\n",
    "         ax=ax3, cmap=plot_style, figsize = (12,34), ylim=(-5,3))\n",
    "\n",
    "zscore_stats_df[zscore_stats_df['label']=='fflatt-037'].groupby([\"motif\", \"size\"]).agg(np.mean).unstack(0).\\\n",
    "    plot(kind = \"bar\", y = \"z-score\", legend = False,\\\n",
    "         ax=ax4, cmap=plot_style, figsize = (12,34), ylim=(-5,3))\n",
    "\n",
    "\n",
    "fig.legend([\"cascades\", \"downlinks\", \"uplinks\", \"cycles\", \"FFLs\"], loc=\"center\")"
   ]
  },
  {
   "cell_type": "code",
   "execution_count": 119,
   "metadata": {},
   "outputs": [
    {
     "data": {
      "image/png": "[encoded data removed]",
      "text/plain": [
       "<Figure size 720x504 with 1 Axes>"
      ]
     },
     "metadata": {
      "needs_background": "light"
     },
     "output_type": "display_data"
    }
   ],
   "source": [
    "runtime_df_binned.groupby([\"FFL-nodes-perc\", \"network_size\"]).agg(np.mean).unstack(0).\\\n",
    "    plot(kind = \"bar\", y = \"time\", style='s:', lw=2, legend = True,\n",
    "         cmap='Accent', figsize = (10,7),\\\n",
    "         xlabel=\"network size\", ylabel=\"runtime; log2(sec)\")\n",
    "\n",
    "L=plt.legend(prop={'size': 15})\n",
    "L.get_texts()[0].set_text('30-40% FFL nodes')\n",
    "L.get_texts()[1].set_text('20-30% FFL nodes')\n",
    "L.get_texts()[2].set_text('10-20% FFL nodes')\n",
    "\n",
    "plt.rcParams.update({'font.size': 20})\n",
    "plt.savefig(\"figure5B.png\")\n",
    "plt.show()"
   ]
  },
  {
   "cell_type": "code",
   "execution_count": null,
   "metadata": {},
   "outputs": [],
   "source": []
  }
 ],
 "metadata": {
  "kernelspec": {
   "display_name": "Python 3",
   "language": "python",
   "name": "python3"
  },
  "language_info": {
   "codemirror_mode": {
    "name": "ipython",
    "version": 3
   },
   "file_extension": ".py",
   "mimetype": "text/x-python",
   "name": "python",
   "nbconvert_exporter": "python",
   "pygments_lexer": "ipython3",
   "version": "3.7.10"
  }
 },
 "nbformat": 4,
 "nbformat_minor": 4
}
