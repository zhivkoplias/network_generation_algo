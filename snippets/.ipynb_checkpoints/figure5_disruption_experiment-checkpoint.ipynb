{
 "cells": [
  {
   "cell_type": "markdown",
   "metadata": {},
   "source": [
    "## Import libs, set paths and load params"
   ]
  },
  {
   "cell_type": "code",
   "execution_count": 1,
   "metadata": {},
   "outputs": [],
   "source": [
    "import os, glob\n",
    "import numpy as np\n",
    "import pandas as pd\n",
    "import sys\n",
    "sys.path.insert(0, \"../src\")\n",
    "import auxilary_functions as f\n",
    "import subprocess\n",
    "import csv\n",
    "import matplotlib.pyplot as plt\n",
    "\n",
    "cfg_file = \"../src/config-ecoli.json\"\n",
    "cfg = f.get_actual_parametrization(\"../src/config-ecoli.json\")\n",
    "networks = ['fflatt']\n",
    "organisms = ['ecoli']\n",
    "sizes = ['500']\n",
    "n_trials = 3\n",
    "\n",
    "cascades=['1','3','10'] #1 3 10\n",
    "p2=['0.5','0.7','0.9'] #0.2, 0.5, 0.8 (and 0.3?)\n",
    "p4=['0.5','0.7','0.9'] #0.2, 0.5, 0.8 (and 0.3?)\n",
    "\n",
    "os.chdir('../networks/')\n",
    "fflattdir = '../snippets/'\n",
    "topology_dir = os.path.join(os.getcwd(), 'topology_experiment')"
   ]
  },
  {
   "cell_type": "code",
   "execution_count": null,
   "metadata": {},
   "outputs": [
    {
     "name": "stdout",
     "output_type": "stream",
     "text": [
      "making dirs...\n",
      "running fflatt...\n"
     ]
    }
   ],
   "source": [
    "#collect data\n",
    "for size in sizes:\n",
    "    for cascade in cascades:\n",
    "        for network in p2:\n",
    "            for organism in p4:\n",
    "                current_dir = os.path.join(topology_dir, size, cascade, network, organism)\n",
    "            \n",
    "                if not os.path.exists(os.path.abspath(current_dir)):\n",
    "                    print('making dirs...')\n",
    "                    os.makedirs(os.path.abspath(current_dir), exist_ok=True)\n",
    "                \n",
    "                    print('running fflatt...')\n",
    "                    subprocess.call(['python3', fflattdir+'parameter_space_exploration.py',\\\n",
    "                                     cfg_file, size, str(n_trials), current_dir, network, organism, cascade])"
   ]
  },
  {
   "cell_type": "markdown",
   "metadata": {},
   "source": [
    "## Display and save z-scores"
   ]
  },
  {
   "cell_type": "code",
   "execution_count": 5,
   "metadata": {},
   "outputs": [
    {
     "name": "stdout",
     "output_type": "stream",
     "text": [
      "0 /home/erik/sweden/sonnhammer/GeneSnake/generation/network_generation_algo/networks/topology_experiment/500/3/0.5/0.8/fflatt_transcriptional_network_1_nodes_500.tsv\n"
     ]
    },
    {
     "name": "stderr",
     "output_type": "stream",
     "text": [
      "100%|██████████| 10/10 [00:09<00:00,  1.00it/s]\n",
      "100%|██████████| 10/10 [00:10<00:00,  1.02s/it]\n",
      "100%|██████████| 10/10 [00:10<00:00,  1.06s/it]\n",
      "100%|██████████| 10/10 [00:10<00:00,  1.01s/it]\n",
      "100%|██████████| 10/10 [00:09<00:00,  1.03it/s]\n",
      "100%|██████████| 10/10 [00:09<00:00,  1.05it/s]\n",
      "100%|██████████| 10/10 [00:09<00:00,  1.04it/s]\n",
      "100%|██████████| 10/10 [00:09<00:00,  1.05it/s]\n",
      "100%|██████████| 10/10 [00:10<00:00,  1.04s/it]\n",
      "100%|██████████| 10/10 [00:10<00:00,  1.07s/it]"
     ]
    },
    {
     "name": "stdout",
     "output_type": "stream",
     "text": [
      "       N_real  mean(N_rand)  sd(N_rand)   Z-score  P-value\n",
      "021C   5409.0       5506.47  400.651830 -0.243279     0.37\n",
      "021D  30197.0      30505.83  367.844615 -0.839566     0.18\n",
      "021U    609.0        902.25   52.830933 -5.550725     0.00\n",
      "030C      8.0         41.64   11.621979 -2.894516     0.00\n",
      "030T    916.0        599.28   53.504968  5.919450     0.00\n",
      "       N_real  mean(N_rand)  sd(N_rand)   Z-score  P-value size p2_value  \\\n",
      "021C   5409.0       5506.47  400.651830 -0.243279     0.37  500      0.5   \n",
      "021D  30197.0      30505.83  367.844615 -0.839566     0.18  500      0.5   \n",
      "021U    609.0        902.25   52.830933 -5.550725     0.00  500      0.5   \n",
      "030C      8.0         41.64   11.621979 -2.894516     0.00  500      0.5   \n",
      "030T    916.0        599.28   53.504968  5.919450     0.00  500      0.5   \n",
      "\n",
      "     p4_value cascade_value  \n",
      "021C      0.8             3  \n",
      "021D      0.8             3  \n",
      "021U      0.8             3  \n",
      "030C      0.8             3  \n",
      "030T      0.8             3  \n",
      "1 /home/erik/sweden/sonnhammer/GeneSnake/generation/network_generation_algo/networks/topology_experiment/500/3/0.5/0.8/fflatt_transcriptional_network_0_nodes_500.tsv\n"
     ]
    },
    {
     "name": "stderr",
     "output_type": "stream",
     "text": [
      "\n",
      "100%|██████████| 10/10 [00:12<00:00,  1.23s/it]\n",
      "100%|██████████| 10/10 [00:12<00:00,  1.24s/it]\n",
      "100%|██████████| 10/10 [00:12<00:00,  1.29s/it]\n",
      "100%|██████████| 10/10 [00:11<00:00,  1.18s/it]\n",
      "100%|██████████| 10/10 [00:10<00:00,  1.07s/it]\n",
      "100%|██████████| 10/10 [00:10<00:00,  1.08s/it]\n",
      "100%|██████████| 10/10 [00:11<00:00,  1.10s/it]\n",
      "100%|██████████| 10/10 [00:10<00:00,  1.06s/it]\n",
      "100%|██████████| 10/10 [00:12<00:00,  1.27s/it]\n",
      "100%|██████████| 10/10 [00:12<00:00,  1.26s/it]"
     ]
    },
    {
     "name": "stdout",
     "output_type": "stream",
     "text": [
      "       N_real  mean(N_rand)  sd(N_rand)   Z-score  P-value\n",
      "021C   4133.0       4820.90  483.328801 -1.423255     0.07\n",
      "021D  46393.0      47345.03  451.494395 -2.108620     0.02\n",
      "021U    664.0        902.02   46.621879 -5.105328     0.00\n",
      "030C      2.0         29.04    8.306528 -3.255271     0.00\n",
      "030T    966.0        599.05   59.919509  6.124049     0.00\n",
      "       N_real  mean(N_rand)  sd(N_rand)   Z-score  P-value size p2_value  \\\n",
      "021C   4133.0       4820.90  483.328801 -1.423255     0.07  500      0.5   \n",
      "021D  46393.0      47345.03  451.494395 -2.108620     0.02  500      0.5   \n",
      "021U    664.0        902.02   46.621879 -5.105328     0.00  500      0.5   \n",
      "030C      2.0         29.04    8.306528 -3.255271     0.00  500      0.5   \n",
      "030T    966.0        599.05   59.919509  6.124049     0.00  500      0.5   \n",
      "\n",
      "     p4_value cascade_value  \n",
      "021C      0.8             3  \n",
      "021D      0.8             3  \n",
      "021U      0.8             3  \n",
      "030C      0.8             3  \n",
      "030T      0.8             3  \n",
      "2 /home/erik/sweden/sonnhammer/GeneSnake/generation/network_generation_algo/networks/topology_experiment/500/3/0.5/0.8/fflatt_transcriptional_network_2_nodes_500.tsv\n"
     ]
    },
    {
     "name": "stderr",
     "output_type": "stream",
     "text": [
      "\n",
      "100%|██████████| 10/10 [00:13<00:00,  1.40s/it]\n",
      "100%|██████████| 10/10 [00:13<00:00,  1.38s/it]\n",
      "100%|██████████| 10/10 [00:14<00:00,  1.41s/it]\n",
      "100%|██████████| 10/10 [00:13<00:00,  1.33s/it]\n",
      "100%|██████████| 10/10 [00:11<00:00,  1.18s/it]\n",
      "100%|██████████| 10/10 [00:12<00:00,  1.28s/it]\n",
      "100%|██████████| 10/10 [00:12<00:00,  1.21s/it]\n",
      "100%|██████████| 10/10 [00:12<00:00,  1.23s/it]\n",
      "100%|██████████| 10/10 [00:13<00:00,  1.37s/it]\n",
      "100%|██████████| 10/10 [00:13<00:00,  1.34s/it]"
     ]
    },
    {
     "name": "stdout",
     "output_type": "stream",
     "text": [
      "       N_real  mean(N_rand)  sd(N_rand)   Z-score  P-value\n",
      "021C   4053.0       5444.35  560.713106 -2.481394     0.01\n",
      "021D  51603.0      53074.96  531.308082 -2.770445     0.00\n",
      "021U    719.0        841.90   44.952308 -2.734009     0.00\n",
      "030C     13.0         23.54    6.263258 -1.682830     0.06\n",
      "030T    642.0        413.73   49.787118  4.584921     0.00\n",
      "       N_real  mean(N_rand)  sd(N_rand)   Z-score  P-value size p2_value  \\\n",
      "021C   4053.0       5444.35  560.713106 -2.481394     0.01  500      0.5   \n",
      "021D  51603.0      53074.96  531.308082 -2.770445     0.00  500      0.5   \n",
      "021U    719.0        841.90   44.952308 -2.734009     0.00  500      0.5   \n",
      "030C     13.0         23.54    6.263258 -1.682830     0.06  500      0.5   \n",
      "030T    642.0        413.73   49.787118  4.584921     0.00  500      0.5   \n",
      "\n",
      "     p4_value cascade_value  \n",
      "021C      0.8             3  \n",
      "021D      0.8             3  \n",
      "021U      0.8             3  \n",
      "030C      0.8             3  \n",
      "030T      0.8             3  \n"
     ]
    },
    {
     "name": "stderr",
     "output_type": "stream",
     "text": [
      "\n"
     ]
    }
   ],
   "source": [
    "for size in sizes:\n",
    "    for cascade in cascades:\n",
    "        for network in p2:\n",
    "            for organism in p4:\n",
    "                current_dir = os.path.join(topology_dir, size, cascade, network, organism)\n",
    "                for rep, file in enumerate(glob.glob(os.path.join(current_dir, '*sv'))):\n",
    "                    if not os.path.exists(os.path.join(topology_dir, 'z-scores', size+'_'+cascade+'_'+network+'_'+organism+'_'+str(rep)+'_z_score.tsv')):\n",
    "                        pandas_df_lst = []\n",
    "                        print(rep, file)\n",
    "                        report = f.analyze_exctracted_network(cfg, file, network, rep, size, stability_motifs=True)\n",
    "                        print(report)\n",
    "                        pandas_df_lst.append(report)\n",
    "                        pandas_df_list = sum(pandas_df_lst)/len(pandas_df_lst)\n",
    "                        pandas_df_list['size'] = size\n",
    "                        pandas_df_list['p2_value'] = network\n",
    "                        pandas_df_list['p4_value'] = organism\n",
    "                        pandas_df_list['cascade_value'] = cascade\n",
    "                        pandas_df_list['rep_num'] = rep\n",
    "                        print(pandas_df_list)                                     \n",
    "                        pandas_df_list.to_csv(os.path.join(topology_dir, 'z-scores', size+'_'+cascade+'_'+network+'_'+organism+'_'+str(rep)+'_z_score.tsv'))"
   ]
  },
  {
   "cell_type": "code",
   "execution_count": 5,
   "metadata": {},
   "outputs": [
    {
     "data": {
      "text/html": [
       "<div>\n",
       "<style scoped>\n",
       "    .dataframe tbody tr th:only-of-type {\n",
       "        vertical-align: middle;\n",
       "    }\n",
       "\n",
       "    .dataframe tbody tr th {\n",
       "        vertical-align: top;\n",
       "    }\n",
       "\n",
       "    .dataframe thead th {\n",
       "        text-align: right;\n",
       "    }\n",
       "</style>\n",
       "<table border=\"1\" class=\"dataframe\">\n",
       "  <thead>\n",
       "    <tr style=\"text-align: right;\">\n",
       "      <th></th>\n",
       "      <th>ffl-nodes</th>\n",
       "      <th>sparsity</th>\n",
       "      <th>in-degree</th>\n",
       "      <th>out-degree</th>\n",
       "      <th>network</th>\n",
       "      <th>size</th>\n",
       "      <th>rep</th>\n",
       "    </tr>\n",
       "  </thead>\n",
       "  <tbody>\n",
       "    <tr>\n",
       "      <th>0</th>\n",
       "      <td>431</td>\n",
       "      <td>2.350</td>\n",
       "      <td>0.965</td>\n",
       "      <td>1.385</td>\n",
       "      <td>fflatt</td>\n",
       "      <td>500</td>\n",
       "      <td>0</td>\n",
       "    </tr>\n",
       "    <tr>\n",
       "      <th>1</th>\n",
       "      <td>656</td>\n",
       "      <td>2.396</td>\n",
       "      <td>0.945</td>\n",
       "      <td>1.451</td>\n",
       "      <td>fflatt</td>\n",
       "      <td>750</td>\n",
       "      <td>0</td>\n",
       "    </tr>\n",
       "    <tr>\n",
       "      <th>2</th>\n",
       "      <td>757</td>\n",
       "      <td>2.305</td>\n",
       "      <td>0.976</td>\n",
       "      <td>1.329</td>\n",
       "      <td>fflatt</td>\n",
       "      <td>1000</td>\n",
       "      <td>0</td>\n",
       "    </tr>\n",
       "  </tbody>\n",
       "</table>\n",
       "</div>"
      ],
      "text/plain": [
       "   ffl-nodes  sparsity  in-degree  out-degree network  size  rep\n",
       "0        431     2.350      0.965       1.385  fflatt   500    0\n",
       "1        656     2.396      0.945       1.451  fflatt   750    0\n",
       "2        757     2.305      0.976       1.329  fflatt  1000    0"
      ]
     },
     "execution_count": 5,
     "metadata": {},
     "output_type": "execute_result"
    }
   ],
   "source": [
    "df_topo"
   ]
  }
 ],
 "metadata": {
  "kernelspec": {
   "display_name": "Python 3",
   "language": "python",
   "name": "python3"
  },
  "language_info": {
   "codemirror_mode": {
    "name": "ipython",
    "version": 3
   },
   "file_extension": ".py",
   "mimetype": "text/x-python",
   "name": "python",
   "nbconvert_exporter": "python",
   "pygments_lexer": "ipython3",
   "version": "3.7.10"
  }
 },
 "nbformat": 4,
 "nbformat_minor": 4
}
