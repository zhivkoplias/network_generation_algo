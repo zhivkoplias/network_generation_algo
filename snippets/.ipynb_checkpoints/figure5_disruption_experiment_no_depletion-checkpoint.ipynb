{
 "cells": [
  {
   "cell_type": "markdown",
   "metadata": {},
   "source": [
    "## Import libs, set paths and load params"
   ]
  },
  {
   "cell_type": "code",
   "execution_count": 1,
   "metadata": {},
   "outputs": [],
   "source": [
    "import os, glob\n",
    "import numpy as np\n",
    "import pandas as pd\n",
    "import sys\n",
    "sys.path.insert(0, \"../src\")\n",
    "import auxilary_functions as f\n",
    "import subprocess\n",
    "import csv\n",
    "import matplotlib.pyplot as plt\n",
    "\n",
    "cfg_file = \"../src/config-ecoli.json\"\n",
    "cfg = f.get_actual_parametrization(\"../src/config-ecoli.json\")\n",
    "networks = ['fflatt']\n",
    "organisms = ['ecoli']\n",
    "sizes = ['750']\n",
    "n_trials = 10\n",
    "\n",
    "cascades=['1','3','10'] #1 3 10\n",
    "cascades=['1']\n",
    "p2=['0.5','0.7','0.9'] #0.2, 0.5, 0.8 (and 0.3?)\n",
    "p4=['0.5','0.7','0.9'] #0.2, 0.5, 0.8 (and 0.3?)\n",
    "\n",
    "os.chdir('../networks/')\n",
    "fflattdir = '../snippets/'\n",
    "topology_dir = os.path.join(os.getcwd(), 'topology_experiment', 'no_depletion')"
   ]
  },
  {
   "cell_type": "code",
   "execution_count": 2,
   "metadata": {},
   "outputs": [
    {
     "data": {
      "text/plain": [
       "'/home/erikz/sonnhammer/network_generation_algo/networks/topology_experiment/no_depletion'"
      ]
     },
     "execution_count": 2,
     "metadata": {},
     "output_type": "execute_result"
    }
   ],
   "source": [
    "topology_dir"
   ]
  },
  {
   "cell_type": "code",
   "execution_count": 4,
   "metadata": {},
   "outputs": [
    {
     "name": "stdout",
     "output_type": "stream",
     "text": [
      "making dirs...\n",
      "running fflatt...\n"
     ]
    }
   ],
   "source": [
    "#collect data\n",
    "for size in sizes:\n",
    "    for cascade in cascades:\n",
    "        for network in p2:\n",
    "            for organism in p4:\n",
    "                current_dir = os.path.join(topology_dir, size, cascade, network, organism)\n",
    "            \n",
    "                if not os.path.exists(os.path.abspath(current_dir)):\n",
    "                    print('making dirs...')\n",
    "                    os.makedirs(os.path.abspath(current_dir), exist_ok=True)\n",
    "                \n",
    "                    print('running fflatt...')\n",
    "                    subprocess.call(['python3', fflattdir+'parameter_space_exploration.py',\\\n",
    "                                     cfg_file, size, str(n_trials), current_dir, network, organism, cascade])"
   ]
  },
  {
   "cell_type": "markdown",
   "metadata": {},
   "source": [
    "## Display and save z-scores"
   ]
  },
  {
   "cell_type": "code",
   "execution_count": null,
   "metadata": {},
   "outputs": [
    {
     "name": "stdout",
     "output_type": "stream",
     "text": [
      "0 /home/erikz/sonnhammer/network_generation_algo/networks/topology_experiment/750/1/0.5/0.5/fflatt_transcriptional_network_0_nodes_750.tsv\n"
     ]
    },
    {
     "name": "stderr",
     "output_type": "stream",
     "text": [
      "100%|██████████| 10/10 [00:11<00:00,  1.16s/it]\n",
      "100%|██████████| 10/10 [00:10<00:00,  1.04s/it]\n",
      "100%|██████████| 10/10 [00:08<00:00,  1.15it/s]\n",
      "100%|██████████| 10/10 [00:09<00:00,  1.06it/s]\n",
      "100%|██████████| 10/10 [00:09<00:00,  1.06it/s]\n",
      "100%|██████████| 10/10 [00:11<00:00,  1.12s/it]\n",
      "100%|██████████| 10/10 [00:12<00:00,  1.21s/it]\n",
      "100%|██████████| 10/10 [00:12<00:00,  1.26s/it]\n",
      "100%|██████████| 10/10 [00:12<00:00,  1.27s/it]\n",
      "100%|██████████| 10/10 [00:12<00:00,  1.26s/it]"
     ]
    },
    {
     "name": "stdout",
     "output_type": "stream",
     "text": [
      "       N_real  mean(N_rand)  sd(N_rand)   Z-score  P-value\n",
      "021C  11374.0      13100.21  730.468580 -2.363154     0.01\n",
      "021D  69714.0      71882.03  659.399370 -3.287886     0.00\n",
      "021U   2054.0       2848.20  107.871034 -7.362495     0.00\n",
      "030C     37.0         86.58   12.744552 -3.890290     0.00\n",
      "030T   2178.0       1314.72   99.400109  8.684900     0.00\n",
      "       N_real  mean(N_rand)  sd(N_rand)   Z-score  P-value size p2_value  \\\n",
      "021C  11374.0      13100.21  730.468580 -2.363154     0.01  750      0.5   \n",
      "021D  69714.0      71882.03  659.399370 -3.287886     0.00  750      0.5   \n",
      "021U   2054.0       2848.20  107.871034 -7.362495     0.00  750      0.5   \n",
      "030C     37.0         86.58   12.744552 -3.890290     0.00  750      0.5   \n",
      "030T   2178.0       1314.72   99.400109  8.684900     0.00  750      0.5   \n",
      "\n",
      "     p4_value cascade_value  rep_num  \n",
      "021C      0.5             1        0  \n",
      "021D      0.5             1        0  \n",
      "021U      0.5             1        0  \n",
      "030C      0.5             1        0  \n",
      "030T      0.5             1        0  \n",
      "1 /home/erikz/sonnhammer/network_generation_algo/networks/topology_experiment/750/1/0.5/0.5/fflatt_transcriptional_network_1_nodes_750.tsv\n"
     ]
    },
    {
     "name": "stderr",
     "output_type": "stream",
     "text": [
      "\n",
      "100%|██████████| 10/10 [00:10<00:00,  1.03s/it]\n",
      "100%|██████████| 10/10 [00:09<00:00,  1.09it/s]\n",
      "100%|██████████| 10/10 [00:09<00:00,  1.08it/s]\n",
      "100%|██████████| 10/10 [00:09<00:00,  1.07it/s]\n",
      "100%|██████████| 10/10 [00:10<00:00,  1.09s/it]\n",
      "100%|██████████| 10/10 [00:12<00:00,  1.23s/it]\n",
      "100%|██████████| 10/10 [00:12<00:00,  1.23s/it]\n",
      "100%|██████████| 10/10 [00:12<00:00,  1.24s/it]\n",
      "100%|██████████| 10/10 [00:12<00:00,  1.20s/it]\n",
      "100%|██████████| 10/10 [00:10<00:00,  1.10s/it]"
     ]
    },
    {
     "name": "stdout",
     "output_type": "stream",
     "text": [
      "       N_real  mean(N_rand)  sd(N_rand)   Z-score  P-value\n",
      "021C   9380.0      11369.65  806.964527 -2.465598      0.0\n",
      "021D  71874.0      74185.06  748.167719 -3.088960      0.0\n",
      "021U   1534.0       2201.86   81.202589 -8.224615      0.0\n",
      "030C     33.0         64.67   12.062384 -2.625518      0.0\n",
      "030T   1810.0       1089.11   93.750615  7.689443      0.0\n",
      "       N_real  mean(N_rand)  sd(N_rand)   Z-score  P-value size p2_value  \\\n",
      "021C   9380.0      11369.65  806.964527 -2.465598      0.0  750      0.5   \n",
      "021D  71874.0      74185.06  748.167719 -3.088960      0.0  750      0.5   \n",
      "021U   1534.0       2201.86   81.202589 -8.224615      0.0  750      0.5   \n",
      "030C     33.0         64.67   12.062384 -2.625518      0.0  750      0.5   \n",
      "030T   1810.0       1089.11   93.750615  7.689443      0.0  750      0.5   \n",
      "\n",
      "     p4_value cascade_value  rep_num  \n",
      "021C      0.5             1        1  \n",
      "021D      0.5             1        1  \n",
      "021U      0.5             1        1  \n",
      "030C      0.5             1        1  \n",
      "030T      0.5             1        1  \n",
      "2 /home/erikz/sonnhammer/network_generation_algo/networks/topology_experiment/750/1/0.5/0.5/fflatt_transcriptional_network_2_nodes_750.tsv\n"
     ]
    },
    {
     "name": "stderr",
     "output_type": "stream",
     "text": [
      "\n",
      "100%|██████████| 10/10 [00:08<00:00,  1.16it/s]\n",
      "100%|██████████| 10/10 [00:08<00:00,  1.11it/s]\n",
      "100%|██████████| 10/10 [00:08<00:00,  1.18it/s]\n",
      "100%|██████████| 10/10 [00:10<00:00,  1.10s/it]\n",
      "100%|██████████| 10/10 [00:11<00:00,  1.16s/it]\n",
      "100%|██████████| 10/10 [00:11<00:00,  1.17s/it]\n",
      "100%|██████████| 10/10 [00:11<00:00,  1.14s/it]\n",
      "100%|██████████| 10/10 [00:11<00:00,  1.16s/it]\n",
      "100%|██████████| 10/10 [00:10<00:00,  1.01s/it]\n",
      "100%|██████████| 10/10 [00:08<00:00,  1.14it/s]"
     ]
    },
    {
     "name": "stdout",
     "output_type": "stream",
     "text": [
      "       N_real  mean(N_rand)  sd(N_rand)   Z-score  P-value\n",
      "021C   8640.0      10023.32  663.917568 -2.083572      0.0\n",
      "021D  70430.0      72317.81  605.963872 -3.115384      0.0\n",
      "021U   1266.0       1943.86   87.626711 -7.735769      0.0\n",
      "030C     13.0         63.45   14.403732 -3.502564      0.0\n",
      "030T   2074.0       1203.09  105.955094  8.219614      0.0\n",
      "       N_real  mean(N_rand)  sd(N_rand)   Z-score  P-value size p2_value  \\\n",
      "021C   8640.0      10023.32  663.917568 -2.083572      0.0  750      0.5   \n",
      "021D  70430.0      72317.81  605.963872 -3.115384      0.0  750      0.5   \n",
      "021U   1266.0       1943.86   87.626711 -7.735769      0.0  750      0.5   \n",
      "030C     13.0         63.45   14.403732 -3.502564      0.0  750      0.5   \n",
      "030T   2074.0       1203.09  105.955094  8.219614      0.0  750      0.5   \n",
      "\n",
      "     p4_value cascade_value  rep_num  \n",
      "021C      0.5             1        2  \n",
      "021D      0.5             1        2  \n",
      "021U      0.5             1        2  \n",
      "030C      0.5             1        2  \n",
      "030T      0.5             1        2  \n",
      "3 /home/erikz/sonnhammer/network_generation_algo/networks/topology_experiment/750/1/0.5/0.5/fflatt_transcriptional_network_3_nodes_750.tsv\n"
     ]
    },
    {
     "name": "stderr",
     "output_type": "stream",
     "text": [
      "\n",
      "100%|██████████| 10/10 [00:08<00:00,  1.13it/s]\n",
      "100%|██████████| 10/10 [00:08<00:00,  1.12it/s]\n",
      "100%|██████████| 10/10 [00:10<00:00,  1.05s/it]\n",
      "100%|██████████| 10/10 [00:11<00:00,  1.13s/it]\n",
      "100%|██████████| 10/10 [00:11<00:00,  1.16s/it]\n",
      "100%|██████████| 10/10 [00:11<00:00,  1.18s/it]\n",
      "100%|██████████| 10/10 [00:11<00:00,  1.17s/it]\n",
      "100%|██████████| 10/10 [00:10<00:00,  1.05s/it]\n",
      "100%|██████████| 10/10 [00:08<00:00,  1.17it/s]\n",
      "100%|██████████| 10/10 [00:08<00:00,  1.16it/s]"
     ]
    },
    {
     "name": "stdout",
     "output_type": "stream",
     "text": [
      "       N_real  mean(N_rand)  sd(N_rand)   Z-score  P-value\n",
      "021C   8755.0      10420.33  603.655979 -2.758740      0.0\n",
      "021D  67055.0      69247.79  554.567458 -3.954055      0.0\n",
      "021U   1436.0       1881.63   93.317700 -4.775407      0.0\n",
      "030C      8.0         67.03   14.276172 -4.134862      0.0\n",
      "030T   1681.0       1066.81   93.299056  6.583025      0.0\n",
      "       N_real  mean(N_rand)  sd(N_rand)   Z-score  P-value size p2_value  \\\n",
      "021C   8755.0      10420.33  603.655979 -2.758740      0.0  750      0.5   \n",
      "021D  67055.0      69247.79  554.567458 -3.954055      0.0  750      0.5   \n",
      "021U   1436.0       1881.63   93.317700 -4.775407      0.0  750      0.5   \n",
      "030C      8.0         67.03   14.276172 -4.134862      0.0  750      0.5   \n",
      "030T   1681.0       1066.81   93.299056  6.583025      0.0  750      0.5   \n",
      "\n",
      "     p4_value cascade_value  rep_num  \n",
      "021C      0.5             1        3  \n",
      "021D      0.5             1        3  \n",
      "021U      0.5             1        3  \n",
      "030C      0.5             1        3  \n",
      "030T      0.5             1        3  \n",
      "4 /home/erikz/sonnhammer/network_generation_algo/networks/topology_experiment/750/1/0.5/0.5/fflatt_transcriptional_network_4_nodes_750.tsv\n"
     ]
    },
    {
     "name": "stderr",
     "output_type": "stream",
     "text": [
      "\n",
      "100%|██████████| 10/10 [00:08<00:00,  1.12it/s]\n",
      "100%|██████████| 10/10 [00:09<00:00,  1.02it/s]\n",
      "100%|██████████| 10/10 [00:11<00:00,  1.11s/it]\n",
      "100%|██████████| 10/10 [00:11<00:00,  1.14s/it]\n",
      "100%|██████████| 10/10 [00:11<00:00,  1.13s/it]\n",
      "100%|██████████| 10/10 [00:11<00:00,  1.14s/it]\n",
      "100%|██████████| 10/10 [00:11<00:00,  1.16s/it]\n",
      "100%|██████████| 10/10 [00:08<00:00,  1.17it/s]\n",
      "100%|██████████| 10/10 [00:08<00:00,  1.19it/s]\n",
      "100%|██████████| 10/10 [00:08<00:00,  1.17it/s]"
     ]
    },
    {
     "name": "stdout",
     "output_type": "stream",
     "text": [
      "       N_real  mean(N_rand)  sd(N_rand)   Z-score  P-value\n",
      "021C  10351.0      11342.99  729.455790 -1.359904     0.09\n",
      "021D  65099.0      66644.82  662.339013 -2.333880     0.01\n",
      "021U   1591.0       2212.43   88.943269 -6.986813     0.00\n",
      "030C     14.0         72.61   15.405775 -3.804418     0.00\n",
      "030T   2033.0       1118.76   96.439320  9.479951     0.00\n",
      "       N_real  mean(N_rand)  sd(N_rand)   Z-score  P-value size p2_value  \\\n",
      "021C  10351.0      11342.99  729.455790 -1.359904     0.09  750      0.5   \n",
      "021D  65099.0      66644.82  662.339013 -2.333880     0.01  750      0.5   \n",
      "021U   1591.0       2212.43   88.943269 -6.986813     0.00  750      0.5   \n",
      "030C     14.0         72.61   15.405775 -3.804418     0.00  750      0.5   \n",
      "030T   2033.0       1118.76   96.439320  9.479951     0.00  750      0.5   \n",
      "\n",
      "     p4_value cascade_value  rep_num  \n",
      "021C      0.5             1        4  \n",
      "021D      0.5             1        4  \n",
      "021U      0.5             1        4  \n",
      "030C      0.5             1        4  \n",
      "030T      0.5             1        4  \n",
      "5 /home/erikz/sonnhammer/network_generation_algo/networks/topology_experiment/750/1/0.5/0.5/fflatt_transcriptional_network_5_nodes_750.tsv\n"
     ]
    },
    {
     "name": "stderr",
     "output_type": "stream",
     "text": [
      "\n",
      "100%|██████████| 10/10 [00:10<00:00,  1.03s/it]\n",
      "100%|██████████| 10/10 [00:11<00:00,  1.15s/it]\n",
      "100%|██████████| 10/10 [00:11<00:00,  1.16s/it]\n",
      "100%|██████████| 10/10 [00:11<00:00,  1.18s/it]\n",
      "100%|██████████| 10/10 [00:11<00:00,  1.19s/it]\n",
      "100%|██████████| 10/10 [00:10<00:00,  1.07s/it]\n",
      "100%|██████████| 10/10 [00:09<00:00,  1.09it/s]\n",
      "100%|██████████| 10/10 [00:09<00:00,  1.10it/s]\n",
      "100%|██████████| 10/10 [00:09<00:00,  1.11it/s]\n",
      "100%|██████████| 10/10 [00:09<00:00,  1.06it/s]"
     ]
    },
    {
     "name": "stdout",
     "output_type": "stream",
     "text": [
      "       N_real  mean(N_rand)  sd(N_rand)   Z-score  P-value\n",
      "021C  10161.0      11570.28  775.607479 -1.817002     0.03\n",
      "021D  75567.0      77387.01  723.080182 -2.517024     0.01\n",
      "021U   1920.0       2613.13   96.983365 -7.146896     0.00\n",
      "030C     20.0         63.59   15.541618 -2.804727     0.00\n",
      "030T   2061.0       1227.05  104.032723  8.016228     0.00\n",
      "       N_real  mean(N_rand)  sd(N_rand)   Z-score  P-value size p2_value  \\\n",
      "021C  10161.0      11570.28  775.607479 -1.817002     0.03  750      0.5   \n",
      "021D  75567.0      77387.01  723.080182 -2.517024     0.01  750      0.5   \n",
      "021U   1920.0       2613.13   96.983365 -7.146896     0.00  750      0.5   \n",
      "030C     20.0         63.59   15.541618 -2.804727     0.00  750      0.5   \n",
      "030T   2061.0       1227.05  104.032723  8.016228     0.00  750      0.5   \n",
      "\n",
      "     p4_value cascade_value  rep_num  \n",
      "021C      0.5             1        5  \n",
      "021D      0.5             1        5  \n",
      "021U      0.5             1        5  \n",
      "030C      0.5             1        5  \n",
      "030T      0.5             1        5  \n",
      "6 /home/erikz/sonnhammer/network_generation_algo/networks/topology_experiment/750/1/0.5/0.5/fflatt_transcriptional_network_6_nodes_750.tsv\n"
     ]
    },
    {
     "name": "stderr",
     "output_type": "stream",
     "text": [
      "\n",
      "100%|██████████| 10/10 [00:11<00:00,  1.11s/it]\n",
      "100%|██████████| 10/10 [00:11<00:00,  1.16s/it]\n",
      "100%|██████████| 10/10 [00:11<00:00,  1.15s/it]\n",
      "100%|██████████| 10/10 [00:11<00:00,  1.12s/it]\n",
      "100%|██████████| 10/10 [00:10<00:00,  1.09s/it]\n",
      "100%|██████████| 10/10 [00:08<00:00,  1.16it/s]\n",
      "100%|██████████| 10/10 [00:08<00:00,  1.20it/s]\n",
      "100%|██████████| 10/10 [00:08<00:00,  1.20it/s]\n",
      "100%|██████████| 10/10 [00:09<00:00,  1.07it/s]\n",
      "100%|██████████| 10/10 [00:11<00:00,  1.10s/it]"
     ]
    },
    {
     "name": "stdout",
     "output_type": "stream",
     "text": [
      "       N_real  mean(N_rand)  sd(N_rand)   Z-score  P-value\n",
      "021C   8629.0       9809.88  707.614701 -1.668818     0.03\n",
      "021D  73685.0      75341.65  654.539019 -2.531018     0.00\n",
      "021U   1185.0       1847.04   75.748257 -8.740003     0.00\n",
      "030C      7.0         56.14   10.997291 -4.468373     0.00\n",
      "030T   2033.0       1153.65   89.398364  9.836310     0.00\n",
      "       N_real  mean(N_rand)  sd(N_rand)   Z-score  P-value size p2_value  \\\n",
      "021C   8629.0       9809.88  707.614701 -1.668818     0.03  750      0.5   \n",
      "021D  73685.0      75341.65  654.539019 -2.531018     0.00  750      0.5   \n",
      "021U   1185.0       1847.04   75.748257 -8.740003     0.00  750      0.5   \n",
      "030C      7.0         56.14   10.997291 -4.468373     0.00  750      0.5   \n",
      "030T   2033.0       1153.65   89.398364  9.836310     0.00  750      0.5   \n",
      "\n",
      "     p4_value cascade_value  rep_num  \n",
      "021C      0.5             1        6  \n",
      "021D      0.5             1        6  \n",
      "021U      0.5             1        6  \n",
      "030C      0.5             1        6  \n",
      "030T      0.5             1        6  \n",
      "7 /home/erikz/sonnhammer/network_generation_algo/networks/topology_experiment/750/1/0.5/0.5/fflatt_transcriptional_network_7_nodes_750.tsv\n"
     ]
    },
    {
     "name": "stderr",
     "output_type": "stream",
     "text": [
      "\n",
      "100%|██████████| 10/10 [00:11<00:00,  1.15s/it]\n",
      "100%|██████████| 10/10 [00:11<00:00,  1.15s/it]\n",
      "100%|██████████| 10/10 [00:11<00:00,  1.18s/it]\n",
      "100%|██████████| 10/10 [00:11<00:00,  1.19s/it]\n",
      "100%|██████████| 10/10 [00:09<00:00,  1.09it/s]\n",
      "100%|██████████| 10/10 [00:08<00:00,  1.15it/s]\n",
      "100%|██████████| 10/10 [00:08<00:00,  1.14it/s]\n",
      "100%|██████████| 10/10 [00:08<00:00,  1.12it/s]\n",
      "100%|██████████| 10/10 [00:11<00:00,  1.10s/it]\n",
      "100%|██████████| 10/10 [00:12<00:00,  1.24s/it]"
     ]
    },
    {
     "name": "stdout",
     "output_type": "stream",
     "text": [
      "       N_real  mean(N_rand)  sd(N_rand)    Z-score  P-value\n",
      "021C  10099.0      11719.89  623.372199  -2.600196     0.01\n",
      "021D  68876.0      71088.47  569.003523  -3.888324     0.00\n",
      "021U   1534.0       2146.65   87.341557  -7.014416     0.00\n",
      "030C     13.0         67.34   13.415081  -4.050665     0.00\n",
      "030T   1959.0       1081.77   85.745654  10.230606     0.00\n",
      "       N_real  mean(N_rand)  sd(N_rand)    Z-score  P-value size p2_value  \\\n",
      "021C  10099.0      11719.89  623.372199  -2.600196     0.01  750      0.5   \n",
      "021D  68876.0      71088.47  569.003523  -3.888324     0.00  750      0.5   \n",
      "021U   1534.0       2146.65   87.341557  -7.014416     0.00  750      0.5   \n",
      "030C     13.0         67.34   13.415081  -4.050665     0.00  750      0.5   \n",
      "030T   1959.0       1081.77   85.745654  10.230606     0.00  750      0.5   \n",
      "\n",
      "     p4_value cascade_value  rep_num  \n",
      "021C      0.5             1        7  \n",
      "021D      0.5             1        7  \n",
      "021U      0.5             1        7  \n",
      "030C      0.5             1        7  \n",
      "030T      0.5             1        7  \n",
      "8 /home/erikz/sonnhammer/network_generation_algo/networks/topology_experiment/750/1/0.5/0.5/fflatt_transcriptional_network_8_nodes_750.tsv\n"
     ]
    },
    {
     "name": "stderr",
     "output_type": "stream",
     "text": [
      "\n",
      "100%|██████████| 10/10 [00:11<00:00,  1.12s/it]\n",
      "100%|██████████| 10/10 [00:11<00:00,  1.15s/it]\n",
      "100%|██████████| 10/10 [00:11<00:00,  1.15s/it]\n",
      "100%|██████████| 10/10 [00:08<00:00,  1.18it/s]\n",
      "100%|██████████| 10/10 [00:08<00:00,  1.17it/s]\n",
      "100%|██████████| 10/10 [00:08<00:00,  1.12it/s]\n",
      "100%|██████████| 10/10 [00:08<00:00,  1.16it/s]\n",
      "100%|██████████| 10/10 [00:10<00:00,  1.10s/it]\n",
      "100%|██████████| 10/10 [00:11<00:00,  1.15s/it]\n",
      "100%|██████████| 10/10 [00:11<00:00,  1.16s/it]"
     ]
    },
    {
     "name": "stdout",
     "output_type": "stream",
     "text": [
      "       N_real  mean(N_rand)  sd(N_rand)   Z-score  P-value\n",
      "021C   9045.0       9904.59  707.028049 -1.215779     0.10\n",
      "021D  68611.0      69999.03  643.470271 -2.157100     0.01\n",
      "021U   1144.0       1580.92   81.574712 -5.356072     0.00\n",
      "030C     16.0         58.15   12.085011 -3.487792     0.00\n",
      "030T   1702.0        984.49   91.794607  7.816472     0.00\n",
      "       N_real  mean(N_rand)  sd(N_rand)   Z-score  P-value size p2_value  \\\n",
      "021C   9045.0       9904.59  707.028049 -1.215779     0.10  750      0.5   \n",
      "021D  68611.0      69999.03  643.470271 -2.157100     0.01  750      0.5   \n",
      "021U   1144.0       1580.92   81.574712 -5.356072     0.00  750      0.5   \n",
      "030C     16.0         58.15   12.085011 -3.487792     0.00  750      0.5   \n",
      "030T   1702.0        984.49   91.794607  7.816472     0.00  750      0.5   \n",
      "\n",
      "     p4_value cascade_value  rep_num  \n",
      "021C      0.5             1        8  \n",
      "021D      0.5             1        8  \n",
      "021U      0.5             1        8  \n",
      "030C      0.5             1        8  \n",
      "030T      0.5             1        8  \n",
      "9 /home/erikz/sonnhammer/network_generation_algo/networks/topology_experiment/750/1/0.5/0.5/fflatt_transcriptional_network_9_nodes_750.tsv\n"
     ]
    },
    {
     "name": "stderr",
     "output_type": "stream",
     "text": [
      "\n",
      "100%|██████████| 10/10 [00:12<00:00,  1.21s/it]\n",
      "100%|██████████| 10/10 [00:11<00:00,  1.18s/it]\n",
      "100%|██████████| 10/10 [00:09<00:00,  1.06it/s]\n",
      "100%|██████████| 10/10 [00:09<00:00,  1.09it/s]\n",
      "100%|██████████| 10/10 [00:09<00:00,  1.09it/s]\n",
      "100%|██████████| 10/10 [00:09<00:00,  1.07it/s]\n",
      "100%|██████████| 10/10 [00:11<00:00,  1.11s/it]\n",
      "100%|██████████| 10/10 [00:11<00:00,  1.18s/it]\n",
      "100%|██████████| 10/10 [00:11<00:00,  1.12s/it]\n",
      "100%|██████████| 10/10 [00:11<00:00,  1.15s/it]"
     ]
    },
    {
     "name": "stdout",
     "output_type": "stream",
     "text": [
      "       N_real  mean(N_rand)  sd(N_rand)   Z-score  P-value\n",
      "021C  10499.0      11807.56  713.320311 -1.834463     0.04\n",
      "021D  66028.0      67887.27  632.433978 -2.939864     0.01\n",
      "021U   1743.0       2331.56   91.807333 -6.410817     0.00\n",
      "030C     13.0         73.25   13.670680 -4.407242     0.00\n",
      "030T   1869.0       1117.67   94.682317  7.935273     0.00\n",
      "       N_real  mean(N_rand)  sd(N_rand)   Z-score  P-value size p2_value  \\\n",
      "021C  10499.0      11807.56  713.320311 -1.834463     0.04  750      0.5   \n",
      "021D  66028.0      67887.27  632.433978 -2.939864     0.01  750      0.5   \n",
      "021U   1743.0       2331.56   91.807333 -6.410817     0.00  750      0.5   \n",
      "030C     13.0         73.25   13.670680 -4.407242     0.00  750      0.5   \n",
      "030T   1869.0       1117.67   94.682317  7.935273     0.00  750      0.5   \n",
      "\n",
      "     p4_value cascade_value  rep_num  \n",
      "021C      0.5             1        9  \n",
      "021D      0.5             1        9  \n",
      "021U      0.5             1        9  \n",
      "030C      0.5             1        9  \n",
      "030T      0.5             1        9  \n",
      "0 /home/erikz/sonnhammer/network_generation_algo/networks/topology_experiment/750/1/0.5/0.7/fflatt_transcriptional_network_0_nodes_750.tsv\n"
     ]
    },
    {
     "name": "stderr",
     "output_type": "stream",
     "text": [
      "\n",
      " 60%|██████    | 6/10 [00:06<00:04,  1.11s/it]"
     ]
    }
   ],
   "source": [
    "for size in sizes:\n",
    "    for cascade in cascades:\n",
    "        for network in p2:\n",
    "            for organism in p4:\n",
    "                current_dir = os.path.join(topology_dir, size, cascade, network, organism)\n",
    "                for rep, file in enumerate(glob.glob(os.path.join(current_dir, '*sv'))):\n",
    "                    if not os.path.exists(os.path.join(topology_dir, 'z-scores', size+'_'+cascade+'_'+network+'_'+organism+'_'+str(rep)+'_z_score.tsv')):\n",
    "                        pandas_df_lst = []\n",
    "                        print(rep, file)\n",
    "                        report = f.analyze_exctracted_network(cfg, file, network, rep, size, stability_motifs=True)\n",
    "                        print(report)\n",
    "                        pandas_df_lst.append(report)\n",
    "                        pandas_df_list = sum(pandas_df_lst)/len(pandas_df_lst)\n",
    "                        pandas_df_list['size'] = size\n",
    "                        pandas_df_list['p2_value'] = network\n",
    "                        pandas_df_list['p4_value'] = organism\n",
    "                        pandas_df_list['cascade_value'] = cascade\n",
    "                        pandas_df_list['rep_num'] = rep\n",
    "                        print(pandas_df_list)                                     \n",
    "                        pandas_df_list.to_csv(os.path.join(topology_dir, 'z-scores', size+'_'+cascade+'_'+network+'_'+organism+'_'+str(rep)+'_z_score.tsv'))"
   ]
  },
  {
   "cell_type": "code",
   "execution_count": null,
   "metadata": {},
   "outputs": [],
   "source": [
    "#df_topo"
   ]
  },
  {
   "cell_type": "markdown",
   "metadata": {},
   "source": [
    "## Group-by z-scores and save as table"
   ]
  },
  {
   "cell_type": "code",
   "execution_count": null,
   "metadata": {},
   "outputs": [],
   "source": [
    "zscore_stats_lst = []\n",
    "zscore_stats_lst = []\n",
    "for rep, file in enumerate(glob.glob(os.path.join(topology_dir, 'z-scores', '*.tsv'))):\n",
    "    zscore_stats_df = pd.io.parsers.read_csv(file, sep=\",\", index_col=0, header=None, skiprows=1)\n",
    "    zscore_stats_df['motif'] = zscore_stats_df.index\n",
    "    zscore_stats_df.reset_index()\n",
    "    zscore_stats_df.columns = ['counts_ori', 'counts_rand', 'sd_rand',\\\n",
    "                'z-score', 'p-val', 'size', 'p2', 'p4', 'cascades', 'rep_num', 'motif']\n",
    "    print(zscore_stats_df)\n",
    "    zscore_stats_lst.append(zscore_stats_df)"
   ]
  },
  {
   "cell_type": "code",
   "execution_count": null,
   "metadata": {},
   "outputs": [],
   "source": [
    "zscore_stats_df = pd.concat(zscore_stats_lst)\n",
    "zscore_stats_df.reset_index(drop=True, inplace=True)\n",
    "zscore_stats_df = zscore_stats_df[zscore_stats_df['cascades']==1]\n",
    "zscore_stats_df = zscore_stats_df.drop('cascades', 1)\n",
    "zscore_stats_df"
   ]
  },
  {
   "cell_type": "code",
   "execution_count": null,
   "metadata": {},
   "outputs": [],
   "source": [
    "zscore_stats_df_mean = zscore_stats_df.groupby(['p2', 'p4', 'motif']).mean()\n",
    "zscore_stats_df_mean = zscore_stats_df_mean['z-score'].unstack()\n",
    "zscore_stats_df_mean = zscore_stats_df_mean.round(3)\n",
    "zscore_stats_df_mean"
   ]
  },
  {
   "cell_type": "code",
   "execution_count": null,
   "metadata": {},
   "outputs": [],
   "source": [
    "zscore_stats_df_std = zscore_stats_df.groupby(['p2', 'p4', 'motif']).std()\n",
    "zscore_stats_df_std = zscore_stats_df_std['z-score'].unstack()\n",
    "zscore_stats_df_std = zscore_stats_df_std.pow(2, axis = 1).div(n_trials).round(3)\n",
    "zscore_stats_df_std"
   ]
  },
  {
   "cell_type": "code",
   "execution_count": null,
   "metadata": {},
   "outputs": [],
   "source": [
    "final_table_s2 = zscore_stats_df_mean.astype(str) + u\"\\u00B1\" + zscore_stats_df_std.astype(str)"
   ]
  },
  {
   "cell_type": "code",
   "execution_count": null,
   "metadata": {},
   "outputs": [],
   "source": [
    "final_table_s2"
   ]
  },
  {
   "cell_type": "code",
   "execution_count": null,
   "metadata": {},
   "outputs": [],
   "source": [
    "final_table_s2.to_csv(\"s2_table_no_motif_depletion_750.csv\", sep=\"\\t\")"
   ]
  },
  {
   "cell_type": "code",
   "execution_count": null,
   "metadata": {},
   "outputs": [],
   "source": []
  }
 ],
 "metadata": {
  "kernelspec": {
   "display_name": "Python 3",
   "language": "python",
   "name": "python3"
  },
  "language_info": {
   "codemirror_mode": {
    "name": "ipython",
    "version": 3
   },
   "file_extension": ".py",
   "mimetype": "text/x-python",
   "name": "python",
   "nbconvert_exporter": "python",
   "pygments_lexer": "ipython3",
   "version": "3.7.10"
  }
 },
 "nbformat": 4,
 "nbformat_minor": 4
}
