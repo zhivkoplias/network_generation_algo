{
 "cells": [
  {
   "cell_type": "code",
   "execution_count": 1,
   "id": "vulnerable-driver",
   "metadata": {},
   "outputs": [],
   "source": [
    "import os, glob\n",
    "import numpy as np\n",
    "import pandas as pd\n",
    "import sys\n",
    "sys.path.insert(0, \"../src\")\n",
    "import auxilary_functions as f\n",
    "from generation_algorithm import *\n",
    "import subprocess\n",
    "import csv\n",
    "import matplotlib.pyplot as plt\n",
    "import json\n",
    "import networkx as nx\n",
    "\n",
    "cfg_file = \"../src/config-ecoli.json\""
   ]
  },
  {
   "cell_type": "code",
   "execution_count": 2,
   "id": "laden-tenant",
   "metadata": {},
   "outputs": [],
   "source": [
    "def load_ffl_based_component():\n",
    "    with open(cfg_file, 'r') as j:\n",
    "        config_file = json.loads(j.read())\n",
    "            \n",
    "        interaction_matrix = f.get_interaction_matrix(config_file)\n",
    "        motifs, counter = f.motif_search(config_file, interaction_matrix, batch_size=10000)\n",
    "        motifs_orig = motifs[\"030T\"]\n",
    "\n",
    "        ffl_nodes = list(set(sum([list(map(int, x.split(\"_\"))) for x in motifs_orig], [])))\n",
    "        interaction_matrix_ffl = np.zeros((len(ffl_nodes), len(ffl_nodes)))\n",
    "        for motif in motifs_orig:\n",
    "            motif = f.split_motif(motif)\n",
    "            motif_new = list(ffl_nodes.index(x) for x in motif)\n",
    "            interaction_matrix_ffl[np.ix_(motif_new, motif_new)] = \\\n",
    "            interaction_matrix[np.ix_(motif, motif)]\n",
    "        interaction_matrix_ffl.shape, interaction_matrix_ffl.sum()\n",
    "\n",
    "        # Vertex-based motif network on FFL\n",
    "        motifs_network = f.build_vmn(motifs_orig, verbose=True)\n",
    "        V = nx.Graph(motifs_network)\n",
    "        nx.is_connected(V)\n",
    "        return interaction_matrix, motifs_orig, motifs_network, interaction_matrix_ffl"
   ]
  },
  {
   "cell_type": "code",
   "execution_count": 3,
   "id": "residential-youth",
   "metadata": {},
   "outputs": [
    {
     "ename": "NameError",
     "evalue": "name 'yeast_matrix' is not defined",
     "output_type": "error",
     "traceback": [
      "\u001b[0;31m---------------------------------------------------------------------------\u001b[0m",
      "\u001b[0;31mNameError\u001b[0m                                 Traceback (most recent call last)",
      "\u001b[0;32m<ipython-input-3-36a1ae26ce02>\u001b[0m in \u001b[0;36m<module>\u001b[0;34m\u001b[0m\n\u001b[1;32m      3\u001b[0m \u001b[0;32mfor\u001b[0m \u001b[0mi\u001b[0m \u001b[0;32min\u001b[0m \u001b[0mrange\u001b[0m\u001b[0;34m(\u001b[0m\u001b[0;36m10\u001b[0m\u001b[0;34m)\u001b[0m\u001b[0;34m:\u001b[0m\u001b[0;34m\u001b[0m\u001b[0;34m\u001b[0m\u001b[0m\n\u001b[1;32m      4\u001b[0m     substrate_matrix = load_ffl_based_component(\n\u001b[0;32m----> 5\u001b[0;31m             yeast_matrix, ffl_motif, ffl_component, min_size=20, random_seed=np.random.randint(1,100))\n\u001b[0m\u001b[1;32m      6\u001b[0m \u001b[0;34m\u001b[0m\u001b[0m\n\u001b[1;32m      7\u001b[0m     \u001b[0mout_degree\u001b[0m \u001b[0;34m=\u001b[0m \u001b[0;34m[\u001b[0m\u001b[0;34m]\u001b[0m\u001b[0;34m\u001b[0m\u001b[0;34m\u001b[0m\u001b[0m\n",
      "\u001b[0;31mNameError\u001b[0m: name 'yeast_matrix' is not defined"
     ]
    }
   ],
   "source": [
    "out_degrees = []\n",
    "\n",
    "for i in range(10):\n",
    "    \n",
    "    yeast_matrix, ffl_motif, ffl_component, ffl_matrix = load_ffl_based_component()\n",
    "    \n",
    "    substrate_matrix = get_network_nucleus(\n",
    "        interaction_matrix, motifs, motifs_network, min_size=20, random_seed=np.random.randint(1,100)\n",
    "    )\n",
    "    \n",
    "    out_degree = []\n",
    "    \n",
    "    for i in range(substrate_matrix.shape[0]):\n",
    "        out_degree.append(substrate_matrix[:i].sum()/substrate_matrix.shape[0])\n",
    "        \n",
    "    out_degrees.append(out_degree)"
   ]
  },
  {
   "cell_type": "code",
   "execution_count": null,
   "id": "adverse-return",
   "metadata": {},
   "outputs": [],
   "source": []
  }
 ],
 "metadata": {
  "kernelspec": {
   "display_name": "Python 3",
   "language": "python",
   "name": "python3"
  },
  "language_info": {
   "codemirror_mode": {
    "name": "ipython",
    "version": 3
   },
   "file_extension": ".py",
   "mimetype": "text/x-python",
   "name": "python",
   "nbconvert_exporter": "python",
   "pygments_lexer": "ipython3",
   "version": "3.7.10"
  }
 },
 "nbformat": 4,
 "nbformat_minor": 5
}
