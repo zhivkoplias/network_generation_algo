{
 "cells": [
  {
   "cell_type": "markdown",
   "metadata": {},
   "source": [
    "## Import libs, set paths and load params"
   ]
  },
  {
   "cell_type": "code",
   "execution_count": 13,
   "metadata": {},
   "outputs": [],
   "source": [
    "import os, glob\n",
    "import numpy as np\n",
    "import pandas as pd\n",
    "import sys\n",
    "sys.path.insert(0, \"../src\")\n",
    "import auxilary_functions as f\n",
    "import subprocess\n",
    "import csv\n",
    "import matplotlib.pyplot as plt\n",
    "\n",
    "cfg = f.get_actual_parametrization(\"../src/config.json\")\n",
    "networks = ['gnw','networkx','fflatt']\n",
    "#networks = ['gnw']\n",
    "organisms = ['ecoli','yeast','mouse','human']\n",
    "organisms = ['ecoli']\n",
    "#ffl_percentages = ['0.374', '0.270', '0.315', '0.347']\n",
    "ffl_percentages = ['0.13'] #use 0.13\n",
    "ffl_percentages = ['0.374']\n",
    "#sizes = ['250','500','750', '999']\n",
    "sizes = ['500', '750', '1000', '1500']\n",
    "#sizes = ['250']\n",
    "n_trials = 10\n",
    "\n",
    "os.chdir('../networks/')\n",
    "gnwdir = '/home/erik/sweden/sonnhammer/gnw/'\n",
    "fflattdir = '../snippets/'"
   ]
  },
  {
   "cell_type": "code",
   "execution_count": 14,
   "metadata": {},
   "outputs": [
    {
     "name": "stdout",
     "output_type": "stream",
     "text": [
      "/home/erik/sweden/sonnhammer/GeneSnake/generation/network_generation_algo/networks\n"
     ]
    }
   ],
   "source": [
    "print(os.getcwd())\n",
    "current_dir = os.path.join(os.getcwd())"
   ]
  },
  {
   "cell_type": "code",
   "execution_count": 15,
   "metadata": {},
   "outputs": [],
   "source": [
    "# for rep, file in enumerate(glob.glob(os.path.join(current_dir, '*.tsv'))):\n",
    "#     print(rep, file)\n",
    "#     print(f.analyze_exctracted_network(cfg, file, 'networkx', rep, str(1500)))"
   ]
  },
  {
   "cell_type": "code",
   "execution_count": 16,
   "metadata": {},
   "outputs": [],
   "source": [
    "#collect data\n",
    "topo_list = []\n",
    "for network in networks:\n",
    "    for number, organism in enumerate(organisms):\n",
    "        for size in sizes:\n",
    "            current_dir = os.path.join(os.getcwd(), network, organism, size)\n",
    "            #create networks if don't exist\n",
    "            if not os.path.exists(os.path.abspath(current_dir)):\n",
    "                \n",
    "                try:\n",
    "                    print('making dirs...')\n",
    "                    os.mkdir(os.path.abspath(current_dir))\n",
    "                        \n",
    "                except FileExistsError:\n",
    "                    pass\n",
    "                \n",
    "                if network == 'gnw':\n",
    "                    \n",
    "                    print('running gnw...')\n",
    "                    subprocess.call(['java', '-jar', gnwdir+'gnw-3.1.2b.jar', '--extract', '--input-net',\\\n",
    "                         gnwdir+'sandbox/ecoli_transcriptional_network_regulonDB_6_7.tsv',\\\n",
    "                        '--random-seed', '--greedy-selection', '--subnet-size='+str(size),\\\n",
    "                        '--num-subnets='+str(n_trials), '--output-net-format=0', '--keep-self-interactions',\\\n",
    "                        '-c', 'sandbox/settings.txt', '--output-path',\\\n",
    "                        str(current_dir)])\n",
    "                 \n",
    "                elif network == 'networkx':\n",
    "                    \n",
    "                    print('creating scale-free networkx graphs...')       \n",
    "                    f.create_nx_network(n_trials,cfg['SPARSITY'],size,current_dir)\n",
    "                \n",
    "                elif network == 'fflatt':\n",
    "                    \n",
    "                    print('running fflatt...')\n",
    "                    #python3 test.py 103 0.4 test_networks/\n",
    "                    subprocess.call(['python3', fflattdir+'test.py', size, ffl_percentages[number],\\\n",
    "                        str(n_trials), str(current_dir)])\n",
    "                \n",
    "                \n",
    "                for rep, file in enumerate(glob.glob(os.path.join(current_dir, '*.tsv'))):\n",
    "                    topo_list.append(f.analyze_exctracted_network(cfg, file, network, rep, size))\n",
    "            \n",
    "            #collect data otherwise\n",
    "            else:\n",
    "                for rep, file in enumerate(glob.glob(os.path.join(current_dir, '*.tsv'))):\n",
    "                    topo_list.append(f.analyze_exctracted_network(cfg, file, network, rep, size))\n",
    "\n"
   ]
  },
  {
   "cell_type": "code",
   "execution_count": 17,
   "metadata": {},
   "outputs": [],
   "source": [
    "# import pandas as pd\n",
    "\n",
    "# edges = pd.read_csv(\"/home/erik/sweden/sonnhammer/GeneSnake/generation/network_generation_algo/networks/gnw/ecoli/1500/ecoli_transcriptional_network_regulonDB_6_7-5.tsv\", sep='\\t') \n",
    "# edges.columns = [\"tf\", \"tg\", \"strength\"]\n",
    "# edges = edges[[\"tf\", \"tg\"]]\n",
    "\n",
    "# edges['tf'].astype(str)\n",
    "# edges['tg'].astype(str)\n",
    "# edges.columns = [\"tf\", \"tg\"]\n",
    "    \n",
    "# nodes = sorted(np.unique(np.concatenate((edges.tf.unique(), edges.tg.unique()))))\n",
    "# nodes = pd.DataFrame(data=range(len(nodes)), index=nodes, columns=[\"idx\"])\n",
    "# edges_ = edges.join(nodes, on=\"tf\").join(nodes, on=\"tg\", lsuffix=\"_tf\", rsuffix=\"_tg\")\n",
    "# np_edges = edges_[[\"idx_tg\", \"idx_tf\"]].values\n",
    "# interaction_matrix = f.build_Tnet(np_edges, len(nodes))\n",
    "#interaction_matrix.shape"
   ]
  },
  {
   "cell_type": "code",
   "execution_count": 18,
   "metadata": {},
   "outputs": [
    {
     "data": {
      "text/plain": [
       "[[119, 1.716, 0.851, 0.865, 'gnw', '500', 0],\n",
       " [287, 2.634, 1.288, 1.346, 'gnw', '500', 1],\n",
       " [119, 1.716, 0.85, 0.866, 'gnw', '500', 2],\n",
       " [75, 1.77, 0.873, 0.897, 'gnw', '500', 3],\n",
       " [297, 2.508, 1.229, 1.279, 'gnw', '500', 4],\n",
       " [191, 1.717, 0.859, 0.858, 'gnw', '500', 5],\n",
       " [75, 1.77, 0.872, 0.898, 'gnw', '500', 6],\n",
       " [119, 1.716, 0.849, 0.867, 'gnw', '500', 7],\n",
       " [75, 1.77, 0.872, 0.898, 'gnw', '500', 8],\n",
       " [116, 1.71, 0.841, 0.869, 'gnw', '500', 9],\n",
       " [309, 2.097, 1.046, 1.051, 'gnw', '750', 0],\n",
       " [187, 1.799, 0.874, 0.925, 'gnw', '750', 1],\n",
       " [169, 1.685, 0.818, 0.868, 'gnw', '750', 2],\n",
       " [362, 2.463, 1.239, 1.224, 'gnw', '750', 3],\n",
       " [311, 1.979, 0.949, 1.029, 'gnw', '750', 4],\n",
       " [263, 1.937, 0.943, 0.995, 'gnw', '750', 5],\n",
       " [302, 1.996, 0.971, 1.025, 'gnw', '750', 6],\n",
       " [373, 2.479, 1.247, 1.232, 'gnw', '750', 7],\n",
       " [263, 2.043, 0.999, 1.044, 'gnw', '750', 8],\n",
       " [169, 1.847, 0.902, 0.945, 'gnw', '750', 9],\n",
       " [441, 2.311, 1.148, 1.163, 'gnw', '1000', 0],\n",
       " [590, 2.522, 1.265, 1.257, 'gnw', '1000', 1],\n",
       " [537, 2.403, 1.211, 1.192, 'gnw', '1000', 2],\n",
       " [447, 2.266, 1.123, 1.143, 'gnw', '1000', 3],\n",
       " [441, 2.261, 1.121, 1.14, 'gnw', '1000', 4],\n",
       " [497, 2.377, 1.166, 1.211, 'gnw', '1000', 5],\n",
       " [507, 2.367, 1.164, 1.203, 'gnw', '1000', 6],\n",
       " [441, 2.311, 1.148, 1.163, 'gnw', '1000', 7],\n",
       " [436, 2.264, 1.127, 1.137, 'gnw', '1000', 8],\n",
       " [507, 2.397, 1.182, 1.215, 'gnw', '1000', 9],\n",
       " [956, 2.462, 1.199, 1.263, 'gnw', '1500', 0],\n",
       " [956, 2.461, 1.194, 1.267, 'gnw', '1500', 1],\n",
       " [956, 2.461, 1.201, 1.26, 'gnw', '1500', 2],\n",
       " [956, 2.461, 1.199, 1.262, 'gnw', '1500', 3],\n",
       " [956, 2.46, 1.201, 1.259, 'gnw', '1500', 4],\n",
       " [956, 2.461, 1.196, 1.264, 'gnw', '1500', 5],\n",
       " [956, 2.461, 1.196, 1.265, 'gnw', '1500', 6],\n",
       " [956, 2.46, 1.194, 1.266, 'gnw', '1500', 7],\n",
       " [956, 2.461, 1.193, 1.268, 'gnw', '1500', 8],\n",
       " [956, 2.461, 1.194, 1.267, 'gnw', '1500', 9],\n",
       " [158, 2.326, 1.102, 1.224, 'networkx', '500', 0],\n",
       " [130, 2.326, 1.084, 1.242, 'networkx', '500', 1],\n",
       " [87, 2.326, 1.081, 1.245, 'networkx', '500', 2],\n",
       " [113, 2.326, 1.079, 1.247, 'networkx', '500', 3],\n",
       " [70, 2.326, 1.051, 1.275, 'networkx', '500', 4],\n",
       " [113, 2.326, 1.082, 1.244, 'networkx', '500', 5],\n",
       " [109, 2.326, 1.093, 1.233, 'networkx', '500', 6],\n",
       " [104, 2.326, 1.084, 1.242, 'networkx', '500', 7],\n",
       " [141, 2.326, 1.079, 1.247, 'networkx', '500', 8],\n",
       " [78, 2.326, 1.124, 1.202, 'networkx', '500', 9],\n",
       " [146, 2.327, 1.107, 1.22, 'networkx', '750', 0],\n",
       " [261, 2.327, 1.082, 1.245, 'networkx', '750', 1],\n",
       " [141, 2.327, 1.071, 1.255, 'networkx', '750', 2],\n",
       " [120, 2.327, 1.034, 1.293, 'networkx', '750', 3],\n",
       " [223, 2.327, 1.049, 1.278, 'networkx', '750', 4],\n",
       " [108, 2.327, 1.065, 1.261, 'networkx', '750', 5],\n",
       " [138, 2.327, 1.09, 1.237, 'networkx', '750', 6],\n",
       " [163, 2.327, 1.087, 1.239, 'networkx', '750', 7],\n",
       " [107, 2.327, 1.082, 1.245, 'networkx', '750', 8],\n",
       " [166, 2.327, 1.079, 1.248, 'networkx', '750', 9],\n",
       " [211, 2.327, 1.079, 1.248, 'networkx', '1000', 0],\n",
       " [227, 2.327, 1.075, 1.252, 'networkx', '1000', 1],\n",
       " [265, 2.327, 1.06, 1.267, 'networkx', '1000', 2],\n",
       " [177, 2.327, 1.068, 1.259, 'networkx', '1000', 3],\n",
       " [216, 2.327, 1.109, 1.218, 'networkx', '1000', 4],\n",
       " [127, 2.327, 1.078, 1.249, 'networkx', '1000', 5],\n",
       " [165, 2.327, 1.081, 1.246, 'networkx', '1000', 6],\n",
       " [217, 2.327, 1.105, 1.222, 'networkx', '1000', 7],\n",
       " [167, 2.327, 1.067, 1.26, 'networkx', '1000', 8],\n",
       " [176, 2.327, 1.069, 1.258, 'networkx', '1000', 9],\n",
       " [289, 2.327, 1.061, 1.266, 'networkx', '1500', 0],\n",
       " [159, 2.327, 1.075, 1.253, 'networkx', '1500', 1],\n",
       " [273, 2.327, 1.08, 1.248, 'networkx', '1500', 2],\n",
       " [268, 2.327, 1.078, 1.249, 'networkx', '1500', 3],\n",
       " [155, 2.327, 1.073, 1.255, 'networkx', '1500', 4],\n",
       " [294, 2.327, 1.083, 1.245, 'networkx', '1500', 5],\n",
       " [288, 2.327, 1.097, 1.231, 'networkx', '1500', 6],\n",
       " [208, 2.327, 1.075, 1.253, 'networkx', '1500', 7],\n",
       " [236, 2.327, 1.068, 1.259, 'networkx', '1500', 8],\n",
       " [296, 2.327, 1.084, 1.243, 'networkx', '1500', 9],\n",
       " [483, 2.386, 0.944, 1.442, 'fflatt', '500', 0],\n",
       " [399, 2.27, 0.925, 1.345, 'fflatt', '500', 1],\n",
       " [357, 2.316, 0.902, 1.414, 'fflatt', '500', 2],\n",
       " [297, 2.276, 0.942, 1.334, 'fflatt', '500', 3],\n",
       " [196, 2.262, 0.937, 1.325, 'fflatt', '500', 4],\n",
       " [428, 2.254, 0.952, 1.302, 'fflatt', '500', 5],\n",
       " [376, 2.3, 0.988, 1.312, 'fflatt', '500', 6],\n",
       " [457, 2.286, 0.942, 1.344, 'fflatt', '500', 7],\n",
       " [431, 2.354, 0.925, 1.429, 'fflatt', '500', 8],\n",
       " [411, 2.354, 0.954, 1.4, 'fflatt', '500', 9],\n",
       " [436, 2.239, 0.907, 1.332, 'fflatt', '750', 0],\n",
       " [608, 2.309, 0.941, 1.368, 'fflatt', '750', 1],\n",
       " [656, 2.396, 0.984, 1.412, 'fflatt', '750', 2],\n",
       " [707, 2.324, 0.951, 1.373, 'fflatt', '750', 3],\n",
       " [637, 2.397, 0.983, 1.415, 'fflatt', '750', 4],\n",
       " [612, 2.255, 0.944, 1.311, 'fflatt', '750', 5],\n",
       " [597, 2.389, 0.964, 1.425, 'fflatt', '750', 6],\n",
       " [662, 2.377, 0.967, 1.41, 'fflatt', '750', 7],\n",
       " [712, 2.328, 1.023, 1.305, 'fflatt', '750', 8],\n",
       " [717, 2.413, 0.953, 1.46, 'fflatt', '750', 9],\n",
       " [823, 2.333, 0.96, 1.373, 'fflatt', '1000', 0],\n",
       " [718, 2.334, 0.982, 1.352, 'fflatt', '1000', 1],\n",
       " [733, 2.426, 0.992, 1.434, 'fflatt', '1000', 2],\n",
       " [811, 2.311, 0.914, 1.397, 'fflatt', '1000', 3],\n",
       " [834, 2.388, 0.968, 1.42, 'fflatt', '1000', 4],\n",
       " [475, 2.326, 0.964, 1.362, 'fflatt', '1000', 5],\n",
       " [824, 2.288, 0.93, 1.358, 'fflatt', '1000', 6],\n",
       " [645, 2.427, 1.034, 1.393, 'fflatt', '1000', 7],\n",
       " [463, 2.266, 0.971, 1.295, 'fflatt', '1000', 8],\n",
       " [880, 2.329, 0.963, 1.366, 'fflatt', '1000', 9],\n",
       " [939, 2.283, 0.975, 1.309, 'fflatt', '1500', 0],\n",
       " [1474, 2.375, 0.946, 1.43, 'fflatt', '1500', 1],\n",
       " [1154, 2.425, 1.013, 1.412, 'fflatt', '1500', 2],\n",
       " [1214, 2.306, 0.936, 1.37, 'fflatt', '1500', 3],\n",
       " [1038, 2.424, 1.009, 1.415, 'fflatt', '1500', 4],\n",
       " [1054, 2.303, 0.958, 1.344, 'fflatt', '1500', 5],\n",
       " [1292, 2.272, 0.935, 1.337, 'fflatt', '1500', 6],\n",
       " [1050, 2.247, 0.911, 1.336, 'fflatt', '1500', 7],\n",
       " [1038, 2.295, 0.939, 1.357, 'fflatt', '1500', 8],\n",
       " [1059, 2.251, 0.918, 1.333, 'fflatt', '1500', 9]]"
      ]
     },
     "execution_count": 18,
     "metadata": {},
     "output_type": "execute_result"
    }
   ],
   "source": [
    "topo_list"
   ]
  },
  {
   "cell_type": "markdown",
   "metadata": {},
   "source": [
    "## Plot for E.coli"
   ]
  },
  {
   "cell_type": "code",
   "execution_count": 19,
   "metadata": {},
   "outputs": [],
   "source": [
    "df_topo = pd.DataFrame(topo_list, columns = ['ffl-nodes', 'sparsity', 'in-degree',\\\n",
    "                                             'out-degree', 'network', 'size', 'rep'])\n",
    "df_topo[\"size\"] = pd.to_numeric(df_topo[\"size\"])"
   ]
  },
  {
   "cell_type": "code",
   "execution_count": 20,
   "metadata": {},
   "outputs": [
    {
     "data": {
      "text/plain": [
       "<matplotlib.legend.Legend at 0x7f995d612050>"
      ]
     },
     "execution_count": 20,
     "metadata": {},
     "output_type": "execute_result"
    },
    {
     "data": {
      "image/png": "[encoded data removed]",
      "text/plain": [
       "<Figure size 1224x864 with 4 Axes>"
      ]
     },
     "metadata": {
      "needs_background": "light"
     },
     "output_type": "display_data"
    }
   ],
   "source": [
    "plt.rcParams.update({'font.size': 18})\n",
    "fig, ((ax1, ax2), (ax3, ax4)) = plt.subplots(2,2)\n",
    "fig.tight_layout()\n",
    "\n",
    "in_degree = df_topo[['size','in-degree', 'network']]\n",
    "in_degree.groupby([\"network\", \"size\"]).agg(np.mean).unstack(0).\\\n",
    "    plot(kind = \"bar\", y = \"in-degree\", legend = False,\\\n",
    "         yerr = np.ravel(in_degree.groupby([\"network\", \"size\"]).agg(np.std)).reshape(len(networks),len(sizes)),\\\n",
    "         ax=ax3, cmap='Dark2', figsize = (17,12), title = 'In-degree')\n",
    "\n",
    "out_degree = df_topo[['out-degree', 'network', 'size']]\n",
    "out_degree.groupby([\"network\", \"size\"]).agg(np.mean).unstack(0).\\\n",
    "    plot(kind = \"bar\", y = \"out-degree\", legend = False,\\\n",
    "         yerr = np.ravel(out_degree.groupby([\"network\", \"size\"]).agg(np.std)).reshape(len(networks),len(sizes)),\\\n",
    "         ax=ax4, cmap='Dark2', figsize = (17,12), title = 'Out-degree')\n",
    "\n",
    "sparsity = df_topo[['sparsity', 'network', 'size']]\n",
    "sparsity.groupby([\"network\", \"size\"]).agg(np.mean).unstack(0).\\\n",
    "    plot(kind = \"bar\", y = \"sparsity\", legend = False,\\\n",
    "         yerr = np.ravel(sparsity.groupby([\"network\", \"size\"]).agg(np.std)).reshape(len(networks),len(sizes)),\\\n",
    "         ax=ax2, cmap='Dark2', figsize = (17,12), title = 'Sparsity')\n",
    "\n",
    "ffl_nodes = df_topo[['ffl-nodes', 'network', 'size']]\n",
    "ffl_nodes.groupby([\"network\", \"size\"]).agg(np.mean).unstack(0).\\\n",
    "    plot(kind = \"bar\", y = \"ffl-nodes\", legend = False,\\\n",
    "         yerr = np.ravel(ffl_nodes.groupby([\"network\", \"size\"]).agg(np.std)).reshape(len(networks),len(sizes)),\\\n",
    "         ax=ax1, cmap='Dark2', figsize = (17,12), title = 'FFL-nodes counts')\n",
    "\n",
    "ax1.legend([\"FFLatt\", \"GNW\", \"NetworkX graph\"])\n"
   ]
  },
  {
   "cell_type": "code",
   "execution_count": 212,
   "metadata": {},
   "outputs": [
    {
     "data": {
      "text/html": [
       "<div>\n",
       "<style scoped>\n",
       "    .dataframe tbody tr th:only-of-type {\n",
       "        vertical-align: middle;\n",
       "    }\n",
       "\n",
       "    .dataframe tbody tr th {\n",
       "        vertical-align: top;\n",
       "    }\n",
       "\n",
       "    .dataframe thead th {\n",
       "        text-align: right;\n",
       "    }\n",
       "</style>\n",
       "<table border=\"1\" class=\"dataframe\">\n",
       "  <thead>\n",
       "    <tr style=\"text-align: right;\">\n",
       "      <th></th>\n",
       "      <th></th>\n",
       "      <th>sparsity</th>\n",
       "    </tr>\n",
       "    <tr>\n",
       "      <th>network</th>\n",
       "      <th>size</th>\n",
       "      <th></th>\n",
       "    </tr>\n",
       "  </thead>\n",
       "  <tbody>\n",
       "    <tr>\n",
       "      <th rowspan=\"3\" valign=\"top\">fflatt</th>\n",
       "      <th>100</th>\n",
       "      <td>2.388536</td>\n",
       "    </tr>\n",
       "    <tr>\n",
       "      <th>250</th>\n",
       "      <td>2.396756</td>\n",
       "    </tr>\n",
       "    <tr>\n",
       "      <th>500</th>\n",
       "      <td>2.398000</td>\n",
       "    </tr>\n",
       "    <tr>\n",
       "      <th rowspan=\"3\" valign=\"top\">gnw</th>\n",
       "      <th>100</th>\n",
       "      <td>1.213026</td>\n",
       "    </tr>\n",
       "    <tr>\n",
       "      <th>250</th>\n",
       "      <td>1.828446</td>\n",
       "    </tr>\n",
       "    <tr>\n",
       "      <th>500</th>\n",
       "      <td>1.796740</td>\n",
       "    </tr>\n",
       "  </tbody>\n",
       "</table>\n",
       "</div>"
      ],
      "text/plain": [
       "              sparsity\n",
       "network size          \n",
       "fflatt  100   2.388536\n",
       "        250   2.396756\n",
       "        500   2.398000\n",
       "gnw     100   1.213026\n",
       "        250   1.828446\n",
       "        500   1.796740"
      ]
     },
     "execution_count": 212,
     "metadata": {},
     "output_type": "execute_result"
    }
   ],
   "source": [
    "# sparsity.groupby([\"network\", \"size\"]).agg(np.mean) - sparsity.groupby([\"network\", \"size\"]).agg(np.std)"
   ]
  },
  {
   "cell_type": "code",
   "execution_count": 208,
   "metadata": {},
   "outputs": [
    {
     "data": {
      "text/html": [
       "<div>\n",
       "<style scoped>\n",
       "    .dataframe tbody tr th:only-of-type {\n",
       "        vertical-align: middle;\n",
       "    }\n",
       "\n",
       "    .dataframe tbody tr th {\n",
       "        vertical-align: top;\n",
       "    }\n",
       "\n",
       "    .dataframe thead th {\n",
       "        text-align: right;\n",
       "    }\n",
       "</style>\n",
       "<table border=\"1\" class=\"dataframe\">\n",
       "  <thead>\n",
       "    <tr style=\"text-align: right;\">\n",
       "      <th></th>\n",
       "      <th></th>\n",
       "      <th>sparsity</th>\n",
       "    </tr>\n",
       "    <tr>\n",
       "      <th>network</th>\n",
       "      <th>size</th>\n",
       "      <th></th>\n",
       "    </tr>\n",
       "  </thead>\n",
       "  <tbody>\n",
       "    <tr>\n",
       "      <th rowspan=\"3\" valign=\"top\">fflatt</th>\n",
       "      <th>100</th>\n",
       "      <td>2.395464</td>\n",
       "    </tr>\n",
       "    <tr>\n",
       "      <th>250</th>\n",
       "      <td>2.397911</td>\n",
       "    </tr>\n",
       "    <tr>\n",
       "      <th>500</th>\n",
       "      <td>2.398000</td>\n",
       "    </tr>\n",
       "    <tr>\n",
       "      <th rowspan=\"3\" valign=\"top\">gnw</th>\n",
       "      <th>100</th>\n",
       "      <td>2.316974</td>\n",
       "    </tr>\n",
       "    <tr>\n",
       "      <th>250</th>\n",
       "      <td>2.743554</td>\n",
       "    </tr>\n",
       "    <tr>\n",
       "      <th>500</th>\n",
       "      <td>2.887927</td>\n",
       "    </tr>\n",
       "  </tbody>\n",
       "</table>\n",
       "</div>"
      ],
      "text/plain": [
       "              sparsity\n",
       "network size          \n",
       "fflatt  100   2.395464\n",
       "        250   2.397911\n",
       "        500   2.398000\n",
       "gnw     100   2.316974\n",
       "        250   2.743554\n",
       "        500   2.887927"
      ]
     },
     "execution_count": 208,
     "metadata": {},
     "output_type": "execute_result"
    }
   ],
   "source": [
    "# sparsity.groupby([\"network\", \"size\"]).agg(np.mean) + sparsity.groupby([\"network\", \"size\"]).agg(np.std)"
   ]
  },
  {
   "cell_type": "markdown",
   "metadata": {},
   "source": [
    "## Plot for Yeast"
   ]
  },
  {
   "cell_type": "code",
   "execution_count": null,
   "metadata": {},
   "outputs": [],
   "source": []
  },
  {
   "cell_type": "code",
   "execution_count": null,
   "metadata": {},
   "outputs": [],
   "source": []
  },
  {
   "cell_type": "markdown",
   "metadata": {},
   "source": [
    "## Plot for Mouse"
   ]
  },
  {
   "cell_type": "code",
   "execution_count": null,
   "metadata": {},
   "outputs": [],
   "source": []
  },
  {
   "cell_type": "code",
   "execution_count": null,
   "metadata": {},
   "outputs": [],
   "source": []
  },
  {
   "cell_type": "markdown",
   "metadata": {},
   "source": [
    "## Plot for Human"
   ]
  },
  {
   "cell_type": "code",
   "execution_count": null,
   "metadata": {},
   "outputs": [],
   "source": []
  }
 ],
 "metadata": {
  "kernelspec": {
   "display_name": "Python 3",
   "language": "python",
   "name": "python3"
  },
  "language_info": {
   "codemirror_mode": {
    "name": "ipython",
    "version": 3
   },
   "file_extension": ".py",
   "mimetype": "text/x-python",
   "name": "python",
   "nbconvert_exporter": "python",
   "pygments_lexer": "ipython3",
   "version": "3.7.10"
  }
 },
 "nbformat": 4,
 "nbformat_minor": 4
}
