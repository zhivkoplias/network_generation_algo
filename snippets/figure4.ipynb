{
 "cells": [
  {
   "cell_type": "markdown",
   "metadata": {},
   "source": [
    "## Import libs, set paths and load params"
   ]
  },
  {
   "cell_type": "code",
   "execution_count": 1,
   "metadata": {},
   "outputs": [],
   "source": [
    "import os, glob\n",
    "import numpy as np\n",
    "import pandas as pd\n",
    "import sys\n",
    "sys.path.insert(0, \"../src\")\n",
    "import auxilary_functions as f\n",
    "import subprocess\n",
    "import csv\n",
    "import matplotlib.pyplot as plt\n",
    "\n",
    "cfg = f.get_actual_parametrization(\"../src/config.json\")\n",
    "networks = ['gnw','fflatt']\n",
    "organisms = ['ecoli','yeast','mouse','human']\n",
    "organisms = ['ecoli']\n",
    "#ffl_percentages = ['0.374', '0.270', '0.315', '0.347']\n",
    "ffl_percentages = ['0.13'] #use 0.13\n",
    "sizes = ['250','500','750', '999']\n",
    "sizes = ['250','500', '750', '1000']\n",
    "n_trials = 10\n",
    "\n",
    "os.chdir('../networks')\n",
    "gnwdir = '/home/erik/sweden/sonnhammer/gnw/'\n",
    "fflattdir = '../snippets/'"
   ]
  },
  {
   "cell_type": "code",
   "execution_count": 2,
   "metadata": {},
   "outputs": [
    {
     "name": "stdout",
     "output_type": "stream",
     "text": [
      "/home/erik/sweden/sonnhammer/GeneSnake/generation/network_generation_algo/networks\n"
     ]
    }
   ],
   "source": [
    "print(os.getcwd())"
   ]
  },
  {
   "cell_type": "code",
   "execution_count": 3,
   "metadata": {},
   "outputs": [
    {
     "name": "stdout",
     "output_type": "stream",
     "text": [
      "making dirs...\n",
      "running gnw...\n",
      "making dirs...\n",
      "running gnw...\n",
      "making dirs...\n",
      "running gnw...\n",
      "making dirs...\n",
      "running gnw...\n",
      "making dirs...\n",
      "running fflatt...\n",
      "making dirs...\n",
      "running fflatt...\n",
      "making dirs...\n",
      "running fflatt...\n",
      "making dirs...\n",
      "running fflatt...\n"
     ]
    }
   ],
   "source": [
    "#collect data\n",
    "topo_list = []\n",
    "for network in networks:\n",
    "    for number, organism in enumerate(organisms):\n",
    "        for size in sizes:\n",
    "            current_dir = os.path.join(os.getcwd(), network, organism, size)\n",
    "            #create networks if don't exist\n",
    "            if not os.path.exists(os.path.abspath(current_dir)):\n",
    "                \n",
    "                try:\n",
    "                    print('making dirs...')\n",
    "                    os.mkdir(os.path.abspath(current_dir))\n",
    "                        \n",
    "                except FileExistsError:\n",
    "                    pass\n",
    "                \n",
    "                if network == 'gnw':\n",
    "                    \n",
    "                    print('running gnw...')\n",
    "                    subprocess.call(['java', '-jar', gnwdir+'gnw-3.1.2b.jar', '--extract', '--input-net',\\\n",
    "                         gnwdir+'sandbox/ecoli_transcriptional_network_regulonDB_6_7.tsv',\\\n",
    "                        '--random-seed', '--greedy-selection', '--subnet-size='+str(size),\\\n",
    "                        '--num-subnets='+str(n_trials), '--output-net-format=0', '--keep-self-interactions',\\\n",
    "                        '-c', 'sandbox/settings.txt', '--output-path',\\\n",
    "                        str(current_dir)])\n",
    "                    \n",
    "                else:\n",
    "                    print('running fflatt...')\n",
    "                    #python3 test.py 103 0.4 test_networks/\n",
    "                    subprocess.call(['python3', fflattdir+'test.py', size, ffl_percentages[number],\\\n",
    "                        str(n_trials), str(current_dir)])\n",
    "                    \n",
    "                for rep, file in enumerate(glob.glob(os.path.join(current_dir, '*.tsv'))):\n",
    "                    topo_list.append(f.analyze_exctracted_network(cfg, file, network, rep, size))\n",
    "            \n",
    "            #collect data otherwise\n",
    "            else:\n",
    "                for rep, file in enumerate(glob.glob(os.path.join(current_dir, '*.tsv'))):\n",
    "                    topo_list.append(f.analyze_exctracted_network(cfg, file, network, rep, size))\n",
    "                    \n",
    "    "
   ]
  },
  {
   "cell_type": "markdown",
   "metadata": {},
   "source": [
    "## Plot for E.coli"
   ]
  },
  {
   "cell_type": "code",
   "execution_count": 4,
   "metadata": {},
   "outputs": [
    {
     "data": {
      "text/html": [
       "<div>\n",
       "<style scoped>\n",
       "    .dataframe tbody tr th:only-of-type {\n",
       "        vertical-align: middle;\n",
       "    }\n",
       "\n",
       "    .dataframe tbody tr th {\n",
       "        vertical-align: top;\n",
       "    }\n",
       "\n",
       "    .dataframe thead th {\n",
       "        text-align: right;\n",
       "    }\n",
       "</style>\n",
       "<table border=\"1\" class=\"dataframe\">\n",
       "  <thead>\n",
       "    <tr style=\"text-align: right;\">\n",
       "      <th></th>\n",
       "      <th>ffl-nodes</th>\n",
       "      <th>sparsity</th>\n",
       "      <th>in-degree</th>\n",
       "      <th>out-degree</th>\n",
       "      <th>network</th>\n",
       "      <th>size</th>\n",
       "      <th>rep</th>\n",
       "    </tr>\n",
       "  </thead>\n",
       "  <tbody>\n",
       "    <tr>\n",
       "      <th>0</th>\n",
       "      <td>103</td>\n",
       "      <td>2.386</td>\n",
       "      <td>1.151</td>\n",
       "      <td>1.234</td>\n",
       "      <td>gnw</td>\n",
       "      <td>250</td>\n",
       "      <td>0</td>\n",
       "    </tr>\n",
       "    <tr>\n",
       "      <th>1</th>\n",
       "      <td>99</td>\n",
       "      <td>2.168</td>\n",
       "      <td>1.063</td>\n",
       "      <td>1.105</td>\n",
       "      <td>gnw</td>\n",
       "      <td>250</td>\n",
       "      <td>1</td>\n",
       "    </tr>\n",
       "    <tr>\n",
       "      <th>2</th>\n",
       "      <td>71</td>\n",
       "      <td>1.804</td>\n",
       "      <td>0.858</td>\n",
       "      <td>0.946</td>\n",
       "      <td>gnw</td>\n",
       "      <td>250</td>\n",
       "      <td>2</td>\n",
       "    </tr>\n",
       "    <tr>\n",
       "      <th>3</th>\n",
       "      <td>126</td>\n",
       "      <td>1.796</td>\n",
       "      <td>0.899</td>\n",
       "      <td>0.897</td>\n",
       "      <td>gnw</td>\n",
       "      <td>250</td>\n",
       "      <td>3</td>\n",
       "    </tr>\n",
       "    <tr>\n",
       "      <th>4</th>\n",
       "      <td>78</td>\n",
       "      <td>1.652</td>\n",
       "      <td>0.765</td>\n",
       "      <td>0.887</td>\n",
       "      <td>gnw</td>\n",
       "      <td>250</td>\n",
       "      <td>4</td>\n",
       "    </tr>\n",
       "    <tr>\n",
       "      <th>...</th>\n",
       "      <td>...</td>\n",
       "      <td>...</td>\n",
       "      <td>...</td>\n",
       "      <td>...</td>\n",
       "      <td>...</td>\n",
       "      <td>...</td>\n",
       "      <td>...</td>\n",
       "    </tr>\n",
       "    <tr>\n",
       "      <th>75</th>\n",
       "      <td>436</td>\n",
       "      <td>2.129</td>\n",
       "      <td>0.931</td>\n",
       "      <td>1.198</td>\n",
       "      <td>fflatt</td>\n",
       "      <td>1000</td>\n",
       "      <td>5</td>\n",
       "    </tr>\n",
       "    <tr>\n",
       "      <th>76</th>\n",
       "      <td>597</td>\n",
       "      <td>2.427</td>\n",
       "      <td>1.091</td>\n",
       "      <td>1.336</td>\n",
       "      <td>fflatt</td>\n",
       "      <td>1000</td>\n",
       "      <td>6</td>\n",
       "    </tr>\n",
       "    <tr>\n",
       "      <th>77</th>\n",
       "      <td>452</td>\n",
       "      <td>2.228</td>\n",
       "      <td>0.978</td>\n",
       "      <td>1.250</td>\n",
       "      <td>fflatt</td>\n",
       "      <td>1000</td>\n",
       "      <td>7</td>\n",
       "    </tr>\n",
       "    <tr>\n",
       "      <th>78</th>\n",
       "      <td>529</td>\n",
       "      <td>2.227</td>\n",
       "      <td>0.980</td>\n",
       "      <td>1.247</td>\n",
       "      <td>fflatt</td>\n",
       "      <td>1000</td>\n",
       "      <td>8</td>\n",
       "    </tr>\n",
       "    <tr>\n",
       "      <th>79</th>\n",
       "      <td>597</td>\n",
       "      <td>2.427</td>\n",
       "      <td>1.091</td>\n",
       "      <td>1.336</td>\n",
       "      <td>fflatt</td>\n",
       "      <td>1000</td>\n",
       "      <td>9</td>\n",
       "    </tr>\n",
       "  </tbody>\n",
       "</table>\n",
       "<p>80 rows × 7 columns</p>\n",
       "</div>"
      ],
      "text/plain": [
       "    ffl-nodes  sparsity  in-degree  out-degree network  size  rep\n",
       "0         103     2.386      1.151       1.234     gnw   250    0\n",
       "1          99     2.168      1.063       1.105     gnw   250    1\n",
       "2          71     1.804      0.858       0.946     gnw   250    2\n",
       "3         126     1.796      0.899       0.897     gnw   250    3\n",
       "4          78     1.652      0.765       0.887     gnw   250    4\n",
       "..        ...       ...        ...         ...     ...   ...  ...\n",
       "75        436     2.129      0.931       1.198  fflatt  1000    5\n",
       "76        597     2.427      1.091       1.336  fflatt  1000    6\n",
       "77        452     2.228      0.978       1.250  fflatt  1000    7\n",
       "78        529     2.227      0.980       1.247  fflatt  1000    8\n",
       "79        597     2.427      1.091       1.336  fflatt  1000    9\n",
       "\n",
       "[80 rows x 7 columns]"
      ]
     },
     "execution_count": 4,
     "metadata": {},
     "output_type": "execute_result"
    }
   ],
   "source": [
    "df_topo = pd.DataFrame(topo_list, columns = ['ffl-nodes', 'sparsity', 'in-degree',\\\n",
    "                                             'out-degree', 'network', 'size', 'rep'])\n",
    "df_topo"
   ]
  },
  {
   "cell_type": "code",
   "execution_count": 5,
   "metadata": {},
   "outputs": [
    {
     "data": {
      "text/plain": [
       "<AxesSubplot:title={'center':'Out-degree'}, xlabel='size'>"
      ]
     },
     "execution_count": 5,
     "metadata": {},
     "output_type": "execute_result"
    },
    {
     "data": {
      "image/png": "[encoded data removed]",
      "text/plain": [
       "<Figure size 1224x864 with 4 Axes>"
      ]
     },
     "metadata": {
      "needs_background": "light"
     },
     "output_type": "display_data"
    }
   ],
   "source": [
    "fig, ((ax1, ax2), (ax3, ax4)) = plt.subplots(2,2)\n",
    "\n",
    "ffl_nodes = df_topo[['ffl-nodes', 'network', 'size']]\n",
    "ffl_nodes.groupby([\"network\", \"size\"]).agg(np.mean).unstack(0).\\\n",
    "    plot(kind = \"bar\", y = \"ffl-nodes\", legend = False,\\\n",
    "         yerr = np.ravel(ffl_nodes.groupby([\"network\", \"size\"]).agg(np.std)).reshape(2,len(sizes)),\\\n",
    "         ax=ax1, cmap='Dark2', figsize = (17,12), title = 'FFL-nodes perc')\n",
    "\n",
    "sparsity = df_topo[['sparsity', 'network', 'size']]\n",
    "sparsity.groupby([\"network\", \"size\"]).agg(np.mean).unstack(0).\\\n",
    "    plot(kind = \"bar\", y = \"sparsity\", legend = False,\\\n",
    "         yerr = np.ravel(sparsity.groupby([\"network\", \"size\"]).agg(np.std)).reshape(2,len(sizes)),\\\n",
    "         ax=ax2, cmap='Dark2', figsize = (17,12), title = 'Sparsity')\n",
    "\n",
    "in_degree = df_topo[['in-degree', 'network', 'size']]\n",
    "in_degree.groupby([\"network\", \"size\"]).agg(np.mean).unstack(0).\\\n",
    "    plot(kind = \"bar\", y = \"in-degree\", legend = False,\\\n",
    "         yerr = np.ravel(in_degree.groupby([\"network\", \"size\"]).agg(np.std)).reshape(2,len(sizes)),\\\n",
    "         ax=ax3, cmap='Dark2', figsize = (17,12), title = 'In-degree')\n",
    "\n",
    "out_degree = df_topo[['out-degree', 'network', 'size']]\n",
    "out_degree.groupby([\"network\", \"size\"]).agg(np.mean).unstack(0).\\\n",
    "    plot(kind = \"bar\", y = \"out-degree\", legend = False,\\\n",
    "         yerr = np.ravel(out_degree.groupby([\"network\", \"size\"]).agg(np.std)).reshape(2,len(sizes)),\\\n",
    "         ax=ax4, cmap='Dark2', figsize = (17,12), title = 'Out-degree')\n"
   ]
  },
  {
   "cell_type": "code",
   "execution_count": null,
   "metadata": {},
   "outputs": [],
   "source": []
  },
  {
   "cell_type": "code",
   "execution_count": null,
   "metadata": {},
   "outputs": [],
   "source": []
  },
  {
   "cell_type": "code",
   "execution_count": 212,
   "metadata": {},
   "outputs": [
    {
     "data": {
      "text/html": [
       "<div>\n",
       "<style scoped>\n",
       "    .dataframe tbody tr th:only-of-type {\n",
       "        vertical-align: middle;\n",
       "    }\n",
       "\n",
       "    .dataframe tbody tr th {\n",
       "        vertical-align: top;\n",
       "    }\n",
       "\n",
       "    .dataframe thead th {\n",
       "        text-align: right;\n",
       "    }\n",
       "</style>\n",
       "<table border=\"1\" class=\"dataframe\">\n",
       "  <thead>\n",
       "    <tr style=\"text-align: right;\">\n",
       "      <th></th>\n",
       "      <th></th>\n",
       "      <th>sparsity</th>\n",
       "    </tr>\n",
       "    <tr>\n",
       "      <th>network</th>\n",
       "      <th>size</th>\n",
       "      <th></th>\n",
       "    </tr>\n",
       "  </thead>\n",
       "  <tbody>\n",
       "    <tr>\n",
       "      <th rowspan=\"3\" valign=\"top\">fflatt</th>\n",
       "      <th>100</th>\n",
       "      <td>2.388536</td>\n",
       "    </tr>\n",
       "    <tr>\n",
       "      <th>250</th>\n",
       "      <td>2.396756</td>\n",
       "    </tr>\n",
       "    <tr>\n",
       "      <th>500</th>\n",
       "      <td>2.398000</td>\n",
       "    </tr>\n",
       "    <tr>\n",
       "      <th rowspan=\"3\" valign=\"top\">gnw</th>\n",
       "      <th>100</th>\n",
       "      <td>1.213026</td>\n",
       "    </tr>\n",
       "    <tr>\n",
       "      <th>250</th>\n",
       "      <td>1.828446</td>\n",
       "    </tr>\n",
       "    <tr>\n",
       "      <th>500</th>\n",
       "      <td>1.796740</td>\n",
       "    </tr>\n",
       "  </tbody>\n",
       "</table>\n",
       "</div>"
      ],
      "text/plain": [
       "              sparsity\n",
       "network size          \n",
       "fflatt  100   2.388536\n",
       "        250   2.396756\n",
       "        500   2.398000\n",
       "gnw     100   1.213026\n",
       "        250   1.828446\n",
       "        500   1.796740"
      ]
     },
     "execution_count": 212,
     "metadata": {},
     "output_type": "execute_result"
    }
   ],
   "source": [
    "sparsity.groupby([\"network\", \"size\"]).agg(np.mean) - sparsity.groupby([\"network\", \"size\"]).agg(np.std)"
   ]
  },
  {
   "cell_type": "code",
   "execution_count": 208,
   "metadata": {},
   "outputs": [
    {
     "data": {
      "text/html": [
       "<div>\n",
       "<style scoped>\n",
       "    .dataframe tbody tr th:only-of-type {\n",
       "        vertical-align: middle;\n",
       "    }\n",
       "\n",
       "    .dataframe tbody tr th {\n",
       "        vertical-align: top;\n",
       "    }\n",
       "\n",
       "    .dataframe thead th {\n",
       "        text-align: right;\n",
       "    }\n",
       "</style>\n",
       "<table border=\"1\" class=\"dataframe\">\n",
       "  <thead>\n",
       "    <tr style=\"text-align: right;\">\n",
       "      <th></th>\n",
       "      <th></th>\n",
       "      <th>sparsity</th>\n",
       "    </tr>\n",
       "    <tr>\n",
       "      <th>network</th>\n",
       "      <th>size</th>\n",
       "      <th></th>\n",
       "    </tr>\n",
       "  </thead>\n",
       "  <tbody>\n",
       "    <tr>\n",
       "      <th rowspan=\"3\" valign=\"top\">fflatt</th>\n",
       "      <th>100</th>\n",
       "      <td>2.395464</td>\n",
       "    </tr>\n",
       "    <tr>\n",
       "      <th>250</th>\n",
       "      <td>2.397911</td>\n",
       "    </tr>\n",
       "    <tr>\n",
       "      <th>500</th>\n",
       "      <td>2.398000</td>\n",
       "    </tr>\n",
       "    <tr>\n",
       "      <th rowspan=\"3\" valign=\"top\">gnw</th>\n",
       "      <th>100</th>\n",
       "      <td>2.316974</td>\n",
       "    </tr>\n",
       "    <tr>\n",
       "      <th>250</th>\n",
       "      <td>2.743554</td>\n",
       "    </tr>\n",
       "    <tr>\n",
       "      <th>500</th>\n",
       "      <td>2.887927</td>\n",
       "    </tr>\n",
       "  </tbody>\n",
       "</table>\n",
       "</div>"
      ],
      "text/plain": [
       "              sparsity\n",
       "network size          \n",
       "fflatt  100   2.395464\n",
       "        250   2.397911\n",
       "        500   2.398000\n",
       "gnw     100   2.316974\n",
       "        250   2.743554\n",
       "        500   2.887927"
      ]
     },
     "execution_count": 208,
     "metadata": {},
     "output_type": "execute_result"
    }
   ],
   "source": [
    "sparsity.groupby([\"network\", \"size\"]).agg(np.mean) + sparsity.groupby([\"network\", \"size\"]).agg(np.std)"
   ]
  },
  {
   "cell_type": "markdown",
   "metadata": {},
   "source": [
    "## Plot for Yeast"
   ]
  },
  {
   "cell_type": "code",
   "execution_count": null,
   "metadata": {},
   "outputs": [],
   "source": []
  },
  {
   "cell_type": "code",
   "execution_count": null,
   "metadata": {},
   "outputs": [],
   "source": []
  },
  {
   "cell_type": "markdown",
   "metadata": {},
   "source": [
    "## Plot for Mouse"
   ]
  },
  {
   "cell_type": "code",
   "execution_count": null,
   "metadata": {},
   "outputs": [],
   "source": []
  },
  {
   "cell_type": "code",
   "execution_count": null,
   "metadata": {},
   "outputs": [],
   "source": []
  },
  {
   "cell_type": "markdown",
   "metadata": {},
   "source": [
    "## Plot for Human"
   ]
  },
  {
   "cell_type": "code",
   "execution_count": null,
   "metadata": {},
   "outputs": [],
   "source": []
  }
 ],
 "metadata": {
  "kernelspec": {
   "display_name": "Python 3",
   "language": "python",
   "name": "python3"
  },
  "language_info": {
   "codemirror_mode": {
    "name": "ipython",
    "version": 3
   },
   "file_extension": ".py",
   "mimetype": "text/x-python",
   "name": "python",
   "nbconvert_exporter": "python",
   "pygments_lexer": "ipython3",
   "version": "3.7.10"
  }
 },
 "nbformat": 4,
 "nbformat_minor": 4
}
