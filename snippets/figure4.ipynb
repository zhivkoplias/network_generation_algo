{
 "cells": [
  {
   "cell_type": "markdown",
   "metadata": {},
   "source": [
    "## Import libs, set paths and load params"
   ]
  },
  {
   "cell_type": "code",
   "execution_count": 1,
   "metadata": {},
   "outputs": [],
   "source": [
    "import os, glob\n",
    "import numpy as np\n",
    "import pandas as pd\n",
    "import sys\n",
    "sys.path.insert(0, \"../src\")\n",
    "import auxilary_functions as f\n",
    "import subprocess\n",
    "import csv\n",
    "import matplotlib.pyplot as plt\n",
    "\n",
    "cfg = f.get_actual_parametrization(\"../src/config.json\")\n",
    "networks = ['gnw','networkx','fflatt']\n",
    "organisms = ['ecoli','yeast','mouse','human']\n",
    "organisms = ['ecoli']\n",
    "#ffl_percentages = ['0.374', '0.270', '0.315', '0.347']\n",
    "ffl_percentages = ['0.13'] #use 0.13\n",
    "ffl_percentages = ['0.374']\n",
    "#sizes = ['250','500','750', '999']\n",
    "sizes = ['500', '750', '1000', '1500']\n",
    "#sizes = ['250']\n",
    "n_trials = 10\n",
    "\n",
    "os.chdir('../networks/')\n",
    "gnwdir = '/home/erik/sweden/sonnhammer/gnw/'\n",
    "fflattdir = '../snippets/'"
   ]
  },
  {
   "cell_type": "code",
   "execution_count": 2,
   "metadata": {},
   "outputs": [
    {
     "name": "stdout",
     "output_type": "stream",
     "text": [
      "/home/erik/sweden/sonnhammer/GeneSnake/generation/network_generation_algo/networks\n"
     ]
    }
   ],
   "source": [
    "print(os.getcwd())\n",
    "current_dir = os.path.join(os.getcwd())"
   ]
  },
  {
   "cell_type": "code",
   "execution_count": 3,
   "metadata": {},
   "outputs": [],
   "source": [
    "# for rep, file in enumerate(glob.glob(os.path.join(current_dir, '*.tsv'))):\n",
    "#     print(rep, file)\n",
    "#     print(f.analyze_exctracted_network(cfg, file, 'networkx', rep, str(1500)))"
   ]
  },
  {
   "cell_type": "code",
   "execution_count": 4,
   "metadata": {},
   "outputs": [
    {
     "ename": "TypeError",
     "evalue": "'>' not supported between instances of 'numpy.ndarray' and 'int'",
     "output_type": "error",
     "traceback": [
      "\u001b[0;31m---------------------------------------------------------------------------\u001b[0m",
      "\u001b[0;31mTypeError\u001b[0m                                 Traceback (most recent call last)",
      "\u001b[0;32m<ipython-input-4-e94f9399a041>\u001b[0m in \u001b[0;36m<module>\u001b[0;34m\u001b[0m\n\u001b[1;32m     44\u001b[0m             \u001b[0;32melse\u001b[0m\u001b[0;34m:\u001b[0m\u001b[0;34m\u001b[0m\u001b[0;34m\u001b[0m\u001b[0m\n\u001b[1;32m     45\u001b[0m                 \u001b[0;32mfor\u001b[0m \u001b[0mrep\u001b[0m\u001b[0;34m,\u001b[0m \u001b[0mfile\u001b[0m \u001b[0;32min\u001b[0m \u001b[0menumerate\u001b[0m\u001b[0;34m(\u001b[0m\u001b[0mglob\u001b[0m\u001b[0;34m.\u001b[0m\u001b[0mglob\u001b[0m\u001b[0;34m(\u001b[0m\u001b[0mos\u001b[0m\u001b[0;34m.\u001b[0m\u001b[0mpath\u001b[0m\u001b[0;34m.\u001b[0m\u001b[0mjoin\u001b[0m\u001b[0;34m(\u001b[0m\u001b[0mcurrent_dir\u001b[0m\u001b[0;34m,\u001b[0m \u001b[0;34m'*.tsv'\u001b[0m\u001b[0;34m)\u001b[0m\u001b[0;34m)\u001b[0m\u001b[0;34m)\u001b[0m\u001b[0;34m:\u001b[0m\u001b[0;34m\u001b[0m\u001b[0;34m\u001b[0m\u001b[0m\n\u001b[0;32m---> 46\u001b[0;31m                     \u001b[0mtopo_list\u001b[0m\u001b[0;34m.\u001b[0m\u001b[0mappend\u001b[0m\u001b[0;34m(\u001b[0m\u001b[0mf\u001b[0m\u001b[0;34m.\u001b[0m\u001b[0manalyze_exctracted_network\u001b[0m\u001b[0;34m(\u001b[0m\u001b[0mcfg\u001b[0m\u001b[0;34m,\u001b[0m \u001b[0mfile\u001b[0m\u001b[0;34m,\u001b[0m \u001b[0mnetwork\u001b[0m\u001b[0;34m,\u001b[0m \u001b[0mrep\u001b[0m\u001b[0;34m,\u001b[0m \u001b[0msize\u001b[0m\u001b[0;34m)\u001b[0m\u001b[0;34m)\u001b[0m\u001b[0;34m\u001b[0m\u001b[0;34m\u001b[0m\u001b[0m\n\u001b[0m\u001b[1;32m     47\u001b[0m \u001b[0;34m\u001b[0m\u001b[0m\n",
      "\u001b[0;32m~/sweden/sonnhammer/GeneSnake/generation/network_generation_algo/src/auxilary_functions.py\u001b[0m in \u001b[0;36manalyze_exctracted_network\u001b[0;34m(cfg, path_to_tsv, network_label, network_rep, size, stability_motifs)\u001b[0m\n\u001b[1;32m    588\u001b[0m         \u001b[0minteraction_matrix\u001b[0m \u001b[0;34m=\u001b[0m \u001b[0mnp\u001b[0m\u001b[0;34m.\u001b[0m\u001b[0marray\u001b[0m\u001b[0;34m(\u001b[0m\u001b[0mpd\u001b[0m\u001b[0;34m.\u001b[0m\u001b[0mread_csv\u001b[0m\u001b[0;34m(\u001b[0m\u001b[0mpath_to_tsv\u001b[0m\u001b[0;34m,\u001b[0m \u001b[0mheader\u001b[0m \u001b[0;34m=\u001b[0m \u001b[0;32mNone\u001b[0m\u001b[0;34m,\u001b[0m \u001b[0msep\u001b[0m\u001b[0;34m=\u001b[0m\u001b[0;34m','\u001b[0m\u001b[0;34m)\u001b[0m\u001b[0;34m)\u001b[0m\u001b[0;34m\u001b[0m\u001b[0;34m\u001b[0m\u001b[0m\n\u001b[1;32m    589\u001b[0m         \u001b[0minteraction_matrix\u001b[0m \u001b[0;34m=\u001b[0m \u001b[0mnp\u001b[0m\u001b[0;34m.\u001b[0m\u001b[0mapply_along_axis\u001b[0m\u001b[0;34m(\u001b[0m\u001b[0mlist\u001b[0m\u001b[0;34m,\u001b[0m \u001b[0;36m1\u001b[0m\u001b[0;34m,\u001b[0m \u001b[0minteraction_matrix\u001b[0m\u001b[0;34m)\u001b[0m\u001b[0;34m\u001b[0m\u001b[0;34m\u001b[0m\u001b[0m\n\u001b[0;32m--> 590\u001b[0;31m         \u001b[0minteraction_matrix\u001b[0m \u001b[0;34m=\u001b[0m \u001b[0;34m(\u001b[0m\u001b[0minteraction_matrix\u001b[0m \u001b[0;34m>\u001b[0m \u001b[0;36m0\u001b[0m\u001b[0;34m)\u001b[0m\u001b[0;34m.\u001b[0m\u001b[0mastype\u001b[0m\u001b[0;34m(\u001b[0m\u001b[0mnp\u001b[0m\u001b[0;34m.\u001b[0m\u001b[0mint_\u001b[0m\u001b[0;34m)\u001b[0m\u001b[0;34m\u001b[0m\u001b[0;34m\u001b[0m\u001b[0m\n\u001b[0m\u001b[1;32m    591\u001b[0m         \u001b[0minteraction_matrix\u001b[0m \u001b[0;34m=\u001b[0m \u001b[0minteraction_matrix\u001b[0m\u001b[0;34m.\u001b[0m\u001b[0mT\u001b[0m\u001b[0;34m\u001b[0m\u001b[0;34m\u001b[0m\u001b[0m\n\u001b[1;32m    592\u001b[0m         \u001b[0mprint\u001b[0m\u001b[0;34m(\u001b[0m\u001b[0minteraction_matrix\u001b[0m\u001b[0;34m)\u001b[0m\u001b[0;34m\u001b[0m\u001b[0;34m\u001b[0m\u001b[0m\n",
      "\u001b[0;31mTypeError\u001b[0m: '>' not supported between instances of 'numpy.ndarray' and 'int'"
     ]
    }
   ],
   "source": [
    "#collect data\n",
    "topo_list = []\n",
    "for network in networks:\n",
    "    for number, organism in enumerate(organisms):\n",
    "        for size in sizes:\n",
    "            current_dir = os.path.join(os.getcwd(), network, organism, size)\n",
    "            #create networks if don't exist\n",
    "            if not os.path.exists(os.path.abspath(current_dir)):\n",
    "                \n",
    "                try:\n",
    "                    print('making dirs...')\n",
    "                    os.mkdir(os.path.abspath(current_dir))\n",
    "                        \n",
    "                except FileExistsError:\n",
    "                    pass\n",
    "                \n",
    "                if network == 'gnw':\n",
    "                    \n",
    "                    print('running gnw...')\n",
    "                    subprocess.call(['java', '-jar', gnwdir+'gnw-3.1.2b.jar', '--extract', '--input-net',\\\n",
    "                         gnwdir+'sandbox/ecoli_transcriptional_network_regulonDB_6_7.tsv',\\\n",
    "                        '--random-seed', '--greedy-selection', '--subnet-size='+str(size),\\\n",
    "                        '--num-subnets='+str(n_trials), '--output-net-format=0', '--keep-self-interactions',\\\n",
    "                        '-c', 'sandbox/settings.txt', '--output-path',\\\n",
    "                        str(current_dir)])\n",
    "                 \n",
    "                elif network == 'networkx':\n",
    "                    \n",
    "                    print('creating scale-free networkx graphs...')       \n",
    "                    f.create_nx_network(n_trials,cfg['SPARSITY'],size,current_dir)\n",
    "                \n",
    "                elif network == 'fflatt':\n",
    "                    \n",
    "                    print('running fflatt...')\n",
    "                    #python3 test.py 103 0.4 test_networks/\n",
    "                    subprocess.call(['python3', fflattdir+'test.py', size, ffl_percentages[number],\\\n",
    "                        str(n_trials), str(current_dir)])\n",
    "                \n",
    "                \n",
    "                for rep, file in enumerate(glob.glob(os.path.join(current_dir, '*.tsv'))):\n",
    "                    topo_list.append(f.analyze_exctracted_network(cfg, file, network, rep, size))\n",
    "            \n",
    "            #collect data otherwise\n",
    "            else:\n",
    "                for rep, file in enumerate(glob.glob(os.path.join(current_dir, '*.tsv'))):\n",
    "                    topo_list.append(f.analyze_exctracted_network(cfg, file, network, rep, size))\n",
    "\n"
   ]
  },
  {
   "cell_type": "markdown",
   "metadata": {},
   "source": [
    "## Plot for E.coli"
   ]
  },
  {
   "cell_type": "code",
   "execution_count": null,
   "metadata": {},
   "outputs": [],
   "source": [
    "df_topo = pd.DataFrame(topo_list, columns = ['ffl-nodes', 'sparsity', 'in-degree',\\\n",
    "                                             'out-degree', 'network', 'size', 'rep'])\n",
    "df_topo[\"size\"] = pd.to_numeric(df_topo[\"size\"])"
   ]
  },
  {
   "cell_type": "code",
   "execution_count": null,
   "metadata": {},
   "outputs": [],
   "source": [
    "fig, ((ax1, ax2), (ax3, ax4)) = plt.subplots(2,2)\n",
    "\n",
    "\n",
    "in_degree = df_topo[['size','in-degree', 'network']]\n",
    "in_degree.groupby([\"network\", \"size\"]).agg(np.mean).unstack(0).\\\n",
    "    plot(kind = \"bar\", y = \"in-degree\", legend = False,\\\n",
    "         yerr = np.ravel(in_degree.groupby([\"network\", \"size\"]).agg(np.std)).reshape(len(networks),len(sizes)),\\\n",
    "         ax=ax3, cmap='Dark2', figsize = (17,12), title = 'In-degree', fontsize='large')\n",
    "\n",
    "out_degree = df_topo[['out-degree', 'network', 'size']]\n",
    "out_degree.groupby([\"network\", \"size\"]).agg(np.mean).unstack(0).\\\n",
    "    plot(kind = \"bar\", y = \"out-degree\", legend = False,\\\n",
    "         yerr = np.ravel(out_degree.groupby([\"network\", \"size\"]).agg(np.std)).reshape(len(networks),len(sizes)),\\\n",
    "         ax=ax4, cmap='Dark2', figsize = (17,12), title = 'Out-degree', fontsize='large')\n",
    "\n",
    "sparsity = df_topo[['sparsity', 'network', 'size']]\n",
    "sparsity.groupby([\"network\", \"size\"]).agg(np.mean).unstack(0).\\\n",
    "    plot(kind = \"bar\", y = \"sparsity\", legend = False,\\\n",
    "         yerr = np.ravel(sparsity.groupby([\"network\", \"size\"]).agg(np.std)).reshape(len(networks),len(sizes)),\\\n",
    "         ax=ax2, cmap='Dark2', figsize = (17,12), title = 'Sparsity', fontsize='large')\n",
    "\n",
    "ffl_nodes = df_topo[['ffl-nodes', 'network', 'size']]\n",
    "ffl_nodes.groupby([\"network\", \"size\"]).agg(np.mean).unstack(0).\\\n",
    "    plot(kind = \"bar\", y = \"ffl-nodes\", legend = False,\\\n",
    "         yerr = np.ravel(ffl_nodes.groupby([\"network\", \"size\"]).agg(np.std)).reshape(len(networks),len(sizes)),\\\n",
    "         ax=ax1, cmap='Dark2', figsize = (17,12), title = 'FFL-nodes perc', fontsize='large')\n",
    "\n",
    "ax1.legend([\"FFLatt\", \"GNW\", \"NetworkX graph\"], fontsize='xx-large')\n"
   ]
  },
  {
   "cell_type": "code",
   "execution_count": 212,
   "metadata": {},
   "outputs": [
    {
     "data": {
      "text/html": [
       "<div>\n",
       "<style scoped>\n",
       "    .dataframe tbody tr th:only-of-type {\n",
       "        vertical-align: middle;\n",
       "    }\n",
       "\n",
       "    .dataframe tbody tr th {\n",
       "        vertical-align: top;\n",
       "    }\n",
       "\n",
       "    .dataframe thead th {\n",
       "        text-align: right;\n",
       "    }\n",
       "</style>\n",
       "<table border=\"1\" class=\"dataframe\">\n",
       "  <thead>\n",
       "    <tr style=\"text-align: right;\">\n",
       "      <th></th>\n",
       "      <th></th>\n",
       "      <th>sparsity</th>\n",
       "    </tr>\n",
       "    <tr>\n",
       "      <th>network</th>\n",
       "      <th>size</th>\n",
       "      <th></th>\n",
       "    </tr>\n",
       "  </thead>\n",
       "  <tbody>\n",
       "    <tr>\n",
       "      <th rowspan=\"3\" valign=\"top\">fflatt</th>\n",
       "      <th>100</th>\n",
       "      <td>2.388536</td>\n",
       "    </tr>\n",
       "    <tr>\n",
       "      <th>250</th>\n",
       "      <td>2.396756</td>\n",
       "    </tr>\n",
       "    <tr>\n",
       "      <th>500</th>\n",
       "      <td>2.398000</td>\n",
       "    </tr>\n",
       "    <tr>\n",
       "      <th rowspan=\"3\" valign=\"top\">gnw</th>\n",
       "      <th>100</th>\n",
       "      <td>1.213026</td>\n",
       "    </tr>\n",
       "    <tr>\n",
       "      <th>250</th>\n",
       "      <td>1.828446</td>\n",
       "    </tr>\n",
       "    <tr>\n",
       "      <th>500</th>\n",
       "      <td>1.796740</td>\n",
       "    </tr>\n",
       "  </tbody>\n",
       "</table>\n",
       "</div>"
      ],
      "text/plain": [
       "              sparsity\n",
       "network size          \n",
       "fflatt  100   2.388536\n",
       "        250   2.396756\n",
       "        500   2.398000\n",
       "gnw     100   1.213026\n",
       "        250   1.828446\n",
       "        500   1.796740"
      ]
     },
     "execution_count": 212,
     "metadata": {},
     "output_type": "execute_result"
    }
   ],
   "source": [
    "# sparsity.groupby([\"network\", \"size\"]).agg(np.mean) - sparsity.groupby([\"network\", \"size\"]).agg(np.std)"
   ]
  },
  {
   "cell_type": "code",
   "execution_count": 208,
   "metadata": {},
   "outputs": [
    {
     "data": {
      "text/html": [
       "<div>\n",
       "<style scoped>\n",
       "    .dataframe tbody tr th:only-of-type {\n",
       "        vertical-align: middle;\n",
       "    }\n",
       "\n",
       "    .dataframe tbody tr th {\n",
       "        vertical-align: top;\n",
       "    }\n",
       "\n",
       "    .dataframe thead th {\n",
       "        text-align: right;\n",
       "    }\n",
       "</style>\n",
       "<table border=\"1\" class=\"dataframe\">\n",
       "  <thead>\n",
       "    <tr style=\"text-align: right;\">\n",
       "      <th></th>\n",
       "      <th></th>\n",
       "      <th>sparsity</th>\n",
       "    </tr>\n",
       "    <tr>\n",
       "      <th>network</th>\n",
       "      <th>size</th>\n",
       "      <th></th>\n",
       "    </tr>\n",
       "  </thead>\n",
       "  <tbody>\n",
       "    <tr>\n",
       "      <th rowspan=\"3\" valign=\"top\">fflatt</th>\n",
       "      <th>100</th>\n",
       "      <td>2.395464</td>\n",
       "    </tr>\n",
       "    <tr>\n",
       "      <th>250</th>\n",
       "      <td>2.397911</td>\n",
       "    </tr>\n",
       "    <tr>\n",
       "      <th>500</th>\n",
       "      <td>2.398000</td>\n",
       "    </tr>\n",
       "    <tr>\n",
       "      <th rowspan=\"3\" valign=\"top\">gnw</th>\n",
       "      <th>100</th>\n",
       "      <td>2.316974</td>\n",
       "    </tr>\n",
       "    <tr>\n",
       "      <th>250</th>\n",
       "      <td>2.743554</td>\n",
       "    </tr>\n",
       "    <tr>\n",
       "      <th>500</th>\n",
       "      <td>2.887927</td>\n",
       "    </tr>\n",
       "  </tbody>\n",
       "</table>\n",
       "</div>"
      ],
      "text/plain": [
       "              sparsity\n",
       "network size          \n",
       "fflatt  100   2.395464\n",
       "        250   2.397911\n",
       "        500   2.398000\n",
       "gnw     100   2.316974\n",
       "        250   2.743554\n",
       "        500   2.887927"
      ]
     },
     "execution_count": 208,
     "metadata": {},
     "output_type": "execute_result"
    }
   ],
   "source": [
    "# sparsity.groupby([\"network\", \"size\"]).agg(np.mean) + sparsity.groupby([\"network\", \"size\"]).agg(np.std)"
   ]
  },
  {
   "cell_type": "markdown",
   "metadata": {},
   "source": [
    "## Plot for Yeast"
   ]
  },
  {
   "cell_type": "code",
   "execution_count": null,
   "metadata": {},
   "outputs": [],
   "source": []
  },
  {
   "cell_type": "code",
   "execution_count": null,
   "metadata": {},
   "outputs": [],
   "source": []
  },
  {
   "cell_type": "markdown",
   "metadata": {},
   "source": [
    "## Plot for Mouse"
   ]
  },
  {
   "cell_type": "code",
   "execution_count": null,
   "metadata": {},
   "outputs": [],
   "source": []
  },
  {
   "cell_type": "code",
   "execution_count": null,
   "metadata": {},
   "outputs": [],
   "source": []
  },
  {
   "cell_type": "markdown",
   "metadata": {},
   "source": [
    "## Plot for Human"
   ]
  },
  {
   "cell_type": "code",
   "execution_count": null,
   "metadata": {},
   "outputs": [],
   "source": []
  }
 ],
 "metadata": {
  "kernelspec": {
   "display_name": "Python 3",
   "language": "python",
   "name": "python3"
  },
  "language_info": {
   "codemirror_mode": {
    "name": "ipython",
    "version": 3
   },
   "file_extension": ".py",
   "mimetype": "text/x-python",
   "name": "python",
   "nbconvert_exporter": "python",
   "pygments_lexer": "ipython3",
   "version": "3.7.10"
  }
 },
 "nbformat": 4,
 "nbformat_minor": 4
}
