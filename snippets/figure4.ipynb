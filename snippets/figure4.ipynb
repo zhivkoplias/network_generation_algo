{
 "cells": [
  {
   "cell_type": "markdown",
   "metadata": {},
   "source": [
    "## Import libs, set paths and load params"
   ]
  },
  {
   "cell_type": "code",
   "execution_count": 1,
   "metadata": {},
   "outputs": [],
   "source": [
    "import os, glob\n",
    "import numpy as np\n",
    "import pandas as pd\n",
    "import sys\n",
    "sys.path.insert(0, \"../src\")\n",
    "import auxilary_functions as f\n",
    "import subprocess\n",
    "import csv\n",
    "import matplotlib.pyplot as plt\n",
    "\n",
    "cfg = f.get_actual_parametrization(\"../src/config.json\")\n",
    "networks = ['gnw','networkx','fflatt']\n",
    "networks = ['gnw']\n",
    "organisms = ['ecoli','yeast','mouse','human']\n",
    "organisms = ['ecoli']\n",
    "#ffl_percentages = ['0.374', '0.270', '0.315', '0.347']\n",
    "ffl_percentages = ['0.13'] #use 0.13\n",
    "ffl_percentages = ['0.374']\n",
    "#sizes = ['250','500','750', '999']\n",
    "sizes = ['500', '750', '1000', '1500']\n",
    "#sizes = ['250']\n",
    "n_trials = 10\n",
    "\n",
    "os.chdir('../networks/')\n",
    "gnwdir = '/home/erik/sweden/sonnhammer/gnw/'\n",
    "fflattdir = '../snippets/'"
   ]
  },
  {
   "cell_type": "code",
   "execution_count": 2,
   "metadata": {},
   "outputs": [
    {
     "name": "stdout",
     "output_type": "stream",
     "text": [
      "/home/erik/sweden/sonnhammer/GeneSnake/generation/network_generation_algo/networks\n"
     ]
    }
   ],
   "source": [
    "print(os.getcwd())\n",
    "current_dir = os.path.join(os.getcwd())"
   ]
  },
  {
   "cell_type": "code",
   "execution_count": 3,
   "metadata": {},
   "outputs": [],
   "source": [
    "# for rep, file in enumerate(glob.glob(os.path.join(current_dir, '*.tsv'))):\n",
    "#     print(rep, file)\n",
    "#     print(f.analyze_exctracted_network(cfg, file, 'networkx', rep, str(1500)))"
   ]
  },
  {
   "cell_type": "code",
   "execution_count": 4,
   "metadata": {},
   "outputs": [],
   "source": [
    "#collect data\n",
    "topo_list = []\n",
    "for network in networks:\n",
    "    for number, organism in enumerate(organisms):\n",
    "        for size in sizes:\n",
    "            current_dir = os.path.join(os.getcwd(), network, organism, size)\n",
    "            #create networks if don't exist\n",
    "            if not os.path.exists(os.path.abspath(current_dir)):\n",
    "                \n",
    "                try:\n",
    "                    print('making dirs...')\n",
    "                    os.mkdir(os.path.abspath(current_dir))\n",
    "                        \n",
    "                except FileExistsError:\n",
    "                    pass\n",
    "                \n",
    "                if network == 'gnw':\n",
    "                    \n",
    "                    print('running gnw...')\n",
    "                    subprocess.call(['java', '-jar', gnwdir+'gnw-3.1.2b.jar', '--extract', '--input-net',\\\n",
    "                         gnwdir+'sandbox/ecoli_transcriptional_network_regulonDB_6_7.tsv',\\\n",
    "                        '--random-seed', '--greedy-selection', '--subnet-size='+str(size),\\\n",
    "                        '--num-subnets='+str(n_trials), '--output-net-format=0', '--keep-self-interactions',\\\n",
    "                        '-c', 'sandbox/settings.txt', '--output-path',\\\n",
    "                        str(current_dir)])\n",
    "                 \n",
    "                elif network == 'networkx':\n",
    "                    \n",
    "                    print('creating scale-free networkx graphs...')       \n",
    "                    f.create_nx_network(n_trials,cfg['SPARSITY'],size,current_dir)\n",
    "                \n",
    "                elif network == 'fflatt':\n",
    "                    \n",
    "                    print('running fflatt...')\n",
    "                    #python3 test.py 103 0.4 test_networks/\n",
    "                    subprocess.call(['python3', fflattdir+'test.py', size, ffl_percentages[number],\\\n",
    "                        str(n_trials), str(current_dir)])\n",
    "                \n",
    "                \n",
    "                for rep, file in enumerate(glob.glob(os.path.join(current_dir, '*.tsv'))):\n",
    "                    topo_list.append(f.analyze_exctracted_network(cfg, file, network, rep, size))\n",
    "            \n",
    "            #collect data otherwise\n",
    "            else:\n",
    "                for rep, file in enumerate(glob.glob(os.path.join(current_dir, '*.tsv'))):\n",
    "                    topo_list.append(f.analyze_exctracted_network(cfg, file, network, rep, size))\n",
    "\n"
   ]
  },
  {
   "cell_type": "code",
   "execution_count": 5,
   "metadata": {},
   "outputs": [],
   "source": [
    "# import pandas as pd\n",
    "\n",
    "# edges = pd.read_csv(\"/home/erik/sweden/sonnhammer/GeneSnake/generation/network_generation_algo/networks/gnw/ecoli/1500/ecoli_transcriptional_network_regulonDB_6_7-5.tsv\", sep='\\t') \n",
    "# edges.columns = [\"tf\", \"tg\", \"strength\"]\n",
    "# edges = edges[[\"tf\", \"tg\"]]\n",
    "\n",
    "# edges['tf'].astype(str)\n",
    "# edges['tg'].astype(str)\n",
    "# edges.columns = [\"tf\", \"tg\"]\n",
    "    \n",
    "# nodes = sorted(np.unique(np.concatenate((edges.tf.unique(), edges.tg.unique()))))\n",
    "# nodes = pd.DataFrame(data=range(len(nodes)), index=nodes, columns=[\"idx\"])\n",
    "# edges_ = edges.join(nodes, on=\"tf\").join(nodes, on=\"tg\", lsuffix=\"_tf\", rsuffix=\"_tg\")\n",
    "# np_edges = edges_[[\"idx_tg\", \"idx_tf\"]].values\n",
    "# interaction_matrix = f.build_Tnet(np_edges, len(nodes))\n",
    "#interaction_matrix.shape"
   ]
  },
  {
   "cell_type": "code",
   "execution_count": 6,
   "metadata": {},
   "outputs": [
    {
     "data": {
      "text/plain": [
       "[[119, 1.716, 0.851, 0.865, 'gnw', '500', 0],\n",
       " [287, 2.634, 1.288, 1.346, 'gnw', '500', 1],\n",
       " [119, 1.716, 0.85, 0.866, 'gnw', '500', 2],\n",
       " [75, 1.77, 0.873, 0.897, 'gnw', '500', 3],\n",
       " [297, 2.508, 1.229, 1.279, 'gnw', '500', 4],\n",
       " [191, 1.717, 0.859, 0.858, 'gnw', '500', 5],\n",
       " [75, 1.77, 0.872, 0.898, 'gnw', '500', 6],\n",
       " [119, 1.716, 0.849, 0.867, 'gnw', '500', 7],\n",
       " [75, 1.77, 0.872, 0.898, 'gnw', '500', 8],\n",
       " [116, 1.71, 0.841, 0.869, 'gnw', '500', 9],\n",
       " [309, 2.097, 1.046, 1.051, 'gnw', '750', 0],\n",
       " [187, 1.799, 0.874, 0.925, 'gnw', '750', 1],\n",
       " [169, 1.685, 0.818, 0.868, 'gnw', '750', 2],\n",
       " [362, 2.463, 1.239, 1.224, 'gnw', '750', 3],\n",
       " [311, 1.979, 0.949, 1.029, 'gnw', '750', 4],\n",
       " [263, 1.937, 0.943, 0.995, 'gnw', '750', 5],\n",
       " [302, 1.996, 0.971, 1.025, 'gnw', '750', 6],\n",
       " [373, 2.479, 1.247, 1.232, 'gnw', '750', 7],\n",
       " [263, 2.043, 0.999, 1.044, 'gnw', '750', 8],\n",
       " [169, 1.847, 0.902, 0.945, 'gnw', '750', 9],\n",
       " [441, 2.311, 1.148, 1.163, 'gnw', '1000', 0],\n",
       " [590, 2.522, 1.265, 1.257, 'gnw', '1000', 1],\n",
       " [537, 2.403, 1.211, 1.192, 'gnw', '1000', 2],\n",
       " [447, 2.266, 1.123, 1.143, 'gnw', '1000', 3],\n",
       " [441, 2.261, 1.121, 1.14, 'gnw', '1000', 4],\n",
       " [497, 2.377, 1.166, 1.211, 'gnw', '1000', 5],\n",
       " [507, 2.367, 1.164, 1.203, 'gnw', '1000', 6],\n",
       " [441, 2.311, 1.148, 1.163, 'gnw', '1000', 7],\n",
       " [436, 2.264, 1.127, 1.137, 'gnw', '1000', 8],\n",
       " [507, 2.397, 1.182, 1.215, 'gnw', '1000', 9],\n",
       " [956, 2.462, 1.199, 1.263, 'gnw', '1500', 0],\n",
       " [956, 2.461, 1.194, 1.267, 'gnw', '1500', 1],\n",
       " [956, 2.461, 1.201, 1.26, 'gnw', '1500', 2],\n",
       " [956, 2.461, 1.199, 1.262, 'gnw', '1500', 3],\n",
       " [956, 2.46, 1.201, 1.259, 'gnw', '1500', 4],\n",
       " [956, 2.461, 1.196, 1.264, 'gnw', '1500', 5],\n",
       " [956, 2.461, 1.196, 1.265, 'gnw', '1500', 6],\n",
       " [956, 2.46, 1.194, 1.266, 'gnw', '1500', 7],\n",
       " [956, 2.461, 1.193, 1.268, 'gnw', '1500', 8],\n",
       " [956, 2.461, 1.194, 1.267, 'gnw', '1500', 9]]"
      ]
     },
     "execution_count": 6,
     "metadata": {},
     "output_type": "execute_result"
    }
   ],
   "source": [
    "topo_list"
   ]
  },
  {
   "cell_type": "markdown",
   "metadata": {},
   "source": [
    "## Plot for E.coli"
   ]
  },
  {
   "cell_type": "code",
   "execution_count": 5,
   "metadata": {},
   "outputs": [],
   "source": [
    "df_topo = pd.DataFrame(topo_list, columns = ['ffl-nodes', 'sparsity', 'in-degree',\\\n",
    "                                             'out-degree', 'network', 'size', 'rep'])\n",
    "df_topo[\"size\"] = pd.to_numeric(df_topo[\"size\"])"
   ]
  },
  {
   "cell_type": "code",
   "execution_count": 7,
   "metadata": {},
   "outputs": [
    {
     "ename": "NameError",
     "evalue": "name 'df_topo' is not defined",
     "output_type": "error",
     "traceback": [
      "\u001b[0;31m---------------------------------------------------------------------------\u001b[0m",
      "\u001b[0;31mNameError\u001b[0m                                 Traceback (most recent call last)",
      "\u001b[0;32m<ipython-input-7-eae94bd87922>\u001b[0m in \u001b[0;36m<module>\u001b[0;34m\u001b[0m\n\u001b[1;32m      3\u001b[0m \u001b[0mfig\u001b[0m\u001b[0;34m.\u001b[0m\u001b[0mtight_layout\u001b[0m\u001b[0;34m(\u001b[0m\u001b[0;34m)\u001b[0m\u001b[0;34m\u001b[0m\u001b[0;34m\u001b[0m\u001b[0m\n\u001b[1;32m      4\u001b[0m \u001b[0;34m\u001b[0m\u001b[0m\n\u001b[0;32m----> 5\u001b[0;31m \u001b[0min_degree\u001b[0m \u001b[0;34m=\u001b[0m \u001b[0mdf_topo\u001b[0m\u001b[0;34m[\u001b[0m\u001b[0;34m[\u001b[0m\u001b[0;34m'size'\u001b[0m\u001b[0;34m,\u001b[0m\u001b[0;34m'in-degree'\u001b[0m\u001b[0;34m,\u001b[0m \u001b[0;34m'network'\u001b[0m\u001b[0;34m]\u001b[0m\u001b[0;34m]\u001b[0m\u001b[0;34m\u001b[0m\u001b[0;34m\u001b[0m\u001b[0m\n\u001b[0m\u001b[1;32m      6\u001b[0m \u001b[0min_degree\u001b[0m\u001b[0;34m.\u001b[0m\u001b[0mgroupby\u001b[0m\u001b[0;34m(\u001b[0m\u001b[0;34m[\u001b[0m\u001b[0;34m\"network\"\u001b[0m\u001b[0;34m,\u001b[0m \u001b[0;34m\"size\"\u001b[0m\u001b[0;34m]\u001b[0m\u001b[0;34m)\u001b[0m\u001b[0;34m.\u001b[0m\u001b[0magg\u001b[0m\u001b[0;34m(\u001b[0m\u001b[0mnp\u001b[0m\u001b[0;34m.\u001b[0m\u001b[0mmean\u001b[0m\u001b[0;34m)\u001b[0m\u001b[0;34m.\u001b[0m\u001b[0munstack\u001b[0m\u001b[0;34m(\u001b[0m\u001b[0;36m0\u001b[0m\u001b[0;34m)\u001b[0m\u001b[0;34m.\u001b[0m\u001b[0;31m\\\u001b[0m\u001b[0;34m\u001b[0m\u001b[0;34m\u001b[0m\u001b[0m\n\u001b[1;32m      7\u001b[0m     plot(kind = \"bar\", y = \"in-degree\", legend = False,\\\n",
      "\u001b[0;31mNameError\u001b[0m: name 'df_topo' is not defined"
     ]
    },
    {
     "data": {
      "image/png": "[encoded data removed]",
      "text/plain": [
       "<Figure size 432x288 with 4 Axes>"
      ]
     },
     "metadata": {
      "needs_background": "light"
     },
     "output_type": "display_data"
    }
   ],
   "source": [
    "plt.rcParams.update({'font.size': 18})\n",
    "fig, ((ax1, ax2), (ax3, ax4)) = plt.subplots(2,2)\n",
    "fig.tight_layout()\n",
    "\n",
    "in_degree = df_topo[['size','in-degree', 'network']]\n",
    "in_degree.groupby([\"network\", \"size\"]).agg(np.mean).unstack(0).\\\n",
    "    plot(kind = \"bar\", y = \"in-degree\", legend = False,\\\n",
    "         yerr = np.ravel(in_degree.groupby([\"network\", \"size\"]).agg(np.std)).reshape(len(networks),len(sizes)),\\\n",
    "         ax=ax3, cmap='Dark2', figsize = (17,12), title = 'In-degree')\n",
    "\n",
    "out_degree = df_topo[['out-degree', 'network', 'size']]\n",
    "out_degree.groupby([\"network\", \"size\"]).agg(np.mean).unstack(0).\\\n",
    "    plot(kind = \"bar\", y = \"out-degree\", legend = False,\\\n",
    "         yerr = np.ravel(out_degree.groupby([\"network\", \"size\"]).agg(np.std)).reshape(len(networks),len(sizes)),\\\n",
    "         ax=ax4, cmap='Dark2', figsize = (17,12), title = 'Out-degree')\n",
    "\n",
    "sparsity = df_topo[['sparsity', 'network', 'size']]\n",
    "sparsity.groupby([\"network\", \"size\"]).agg(np.mean).unstack(0).\\\n",
    "    plot(kind = \"bar\", y = \"sparsity\", legend = False,\\\n",
    "         yerr = np.ravel(sparsity.groupby([\"network\", \"size\"]).agg(np.std)).reshape(len(networks),len(sizes)),\\\n",
    "         ax=ax2, cmap='Dark2', figsize = (17,12), title = 'Sparsity')\n",
    "\n",
    "ffl_nodes = df_topo[['ffl-nodes', 'network', 'size']]\n",
    "ffl_nodes.groupby([\"network\", \"size\"]).agg(np.mean).unstack(0).\\\n",
    "    plot(kind = \"bar\", y = \"ffl-nodes\", legend = False,\\\n",
    "         yerr = np.ravel(ffl_nodes.groupby([\"network\", \"size\"]).agg(np.std)).reshape(len(networks),len(sizes)),\\\n",
    "         ax=ax1, cmap='Dark2', figsize = (17,12), title = 'FFL-nodes perc')\n",
    "\n",
    "ax1.legend([\"FFLatt\", \"GNW\", \"NetworkX graph\"])\n"
   ]
  },
  {
   "cell_type": "code",
   "execution_count": 212,
   "metadata": {},
   "outputs": [
    {
     "data": {
      "text/html": [
       "<div>\n",
       "<style scoped>\n",
       "    .dataframe tbody tr th:only-of-type {\n",
       "        vertical-align: middle;\n",
       "    }\n",
       "\n",
       "    .dataframe tbody tr th {\n",
       "        vertical-align: top;\n",
       "    }\n",
       "\n",
       "    .dataframe thead th {\n",
       "        text-align: right;\n",
       "    }\n",
       "</style>\n",
       "<table border=\"1\" class=\"dataframe\">\n",
       "  <thead>\n",
       "    <tr style=\"text-align: right;\">\n",
       "      <th></th>\n",
       "      <th></th>\n",
       "      <th>sparsity</th>\n",
       "    </tr>\n",
       "    <tr>\n",
       "      <th>network</th>\n",
       "      <th>size</th>\n",
       "      <th></th>\n",
       "    </tr>\n",
       "  </thead>\n",
       "  <tbody>\n",
       "    <tr>\n",
       "      <th rowspan=\"3\" valign=\"top\">fflatt</th>\n",
       "      <th>100</th>\n",
       "      <td>2.388536</td>\n",
       "    </tr>\n",
       "    <tr>\n",
       "      <th>250</th>\n",
       "      <td>2.396756</td>\n",
       "    </tr>\n",
       "    <tr>\n",
       "      <th>500</th>\n",
       "      <td>2.398000</td>\n",
       "    </tr>\n",
       "    <tr>\n",
       "      <th rowspan=\"3\" valign=\"top\">gnw</th>\n",
       "      <th>100</th>\n",
       "      <td>1.213026</td>\n",
       "    </tr>\n",
       "    <tr>\n",
       "      <th>250</th>\n",
       "      <td>1.828446</td>\n",
       "    </tr>\n",
       "    <tr>\n",
       "      <th>500</th>\n",
       "      <td>1.796740</td>\n",
       "    </tr>\n",
       "  </tbody>\n",
       "</table>\n",
       "</div>"
      ],
      "text/plain": [
       "              sparsity\n",
       "network size          \n",
       "fflatt  100   2.388536\n",
       "        250   2.396756\n",
       "        500   2.398000\n",
       "gnw     100   1.213026\n",
       "        250   1.828446\n",
       "        500   1.796740"
      ]
     },
     "execution_count": 212,
     "metadata": {},
     "output_type": "execute_result"
    }
   ],
   "source": [
    "# sparsity.groupby([\"network\", \"size\"]).agg(np.mean) - sparsity.groupby([\"network\", \"size\"]).agg(np.std)"
   ]
  },
  {
   "cell_type": "code",
   "execution_count": 208,
   "metadata": {},
   "outputs": [
    {
     "data": {
      "text/html": [
       "<div>\n",
       "<style scoped>\n",
       "    .dataframe tbody tr th:only-of-type {\n",
       "        vertical-align: middle;\n",
       "    }\n",
       "\n",
       "    .dataframe tbody tr th {\n",
       "        vertical-align: top;\n",
       "    }\n",
       "\n",
       "    .dataframe thead th {\n",
       "        text-align: right;\n",
       "    }\n",
       "</style>\n",
       "<table border=\"1\" class=\"dataframe\">\n",
       "  <thead>\n",
       "    <tr style=\"text-align: right;\">\n",
       "      <th></th>\n",
       "      <th></th>\n",
       "      <th>sparsity</th>\n",
       "    </tr>\n",
       "    <tr>\n",
       "      <th>network</th>\n",
       "      <th>size</th>\n",
       "      <th></th>\n",
       "    </tr>\n",
       "  </thead>\n",
       "  <tbody>\n",
       "    <tr>\n",
       "      <th rowspan=\"3\" valign=\"top\">fflatt</th>\n",
       "      <th>100</th>\n",
       "      <td>2.395464</td>\n",
       "    </tr>\n",
       "    <tr>\n",
       "      <th>250</th>\n",
       "      <td>2.397911</td>\n",
       "    </tr>\n",
       "    <tr>\n",
       "      <th>500</th>\n",
       "      <td>2.398000</td>\n",
       "    </tr>\n",
       "    <tr>\n",
       "      <th rowspan=\"3\" valign=\"top\">gnw</th>\n",
       "      <th>100</th>\n",
       "      <td>2.316974</td>\n",
       "    </tr>\n",
       "    <tr>\n",
       "      <th>250</th>\n",
       "      <td>2.743554</td>\n",
       "    </tr>\n",
       "    <tr>\n",
       "      <th>500</th>\n",
       "      <td>2.887927</td>\n",
       "    </tr>\n",
       "  </tbody>\n",
       "</table>\n",
       "</div>"
      ],
      "text/plain": [
       "              sparsity\n",
       "network size          \n",
       "fflatt  100   2.395464\n",
       "        250   2.397911\n",
       "        500   2.398000\n",
       "gnw     100   2.316974\n",
       "        250   2.743554\n",
       "        500   2.887927"
      ]
     },
     "execution_count": 208,
     "metadata": {},
     "output_type": "execute_result"
    }
   ],
   "source": [
    "# sparsity.groupby([\"network\", \"size\"]).agg(np.mean) + sparsity.groupby([\"network\", \"size\"]).agg(np.std)"
   ]
  },
  {
   "cell_type": "markdown",
   "metadata": {},
   "source": [
    "## Plot for Yeast"
   ]
  },
  {
   "cell_type": "code",
   "execution_count": null,
   "metadata": {},
   "outputs": [],
   "source": []
  },
  {
   "cell_type": "code",
   "execution_count": null,
   "metadata": {},
   "outputs": [],
   "source": []
  },
  {
   "cell_type": "markdown",
   "metadata": {},
   "source": [
    "## Plot for Mouse"
   ]
  },
  {
   "cell_type": "code",
   "execution_count": null,
   "metadata": {},
   "outputs": [],
   "source": []
  },
  {
   "cell_type": "code",
   "execution_count": null,
   "metadata": {},
   "outputs": [],
   "source": []
  },
  {
   "cell_type": "markdown",
   "metadata": {},
   "source": [
    "## Plot for Human"
   ]
  },
  {
   "cell_type": "code",
   "execution_count": null,
   "metadata": {},
   "outputs": [],
   "source": []
  }
 ],
 "metadata": {
  "kernelspec": {
   "display_name": "Python 3",
   "language": "python",
   "name": "python3"
  },
  "language_info": {
   "codemirror_mode": {
    "name": "ipython",
    "version": 3
   },
   "file_extension": ".py",
   "mimetype": "text/x-python",
   "name": "python",
   "nbconvert_exporter": "python",
   "pygments_lexer": "ipython3",
   "version": "3.7.10"
  }
 },
 "nbformat": 4,
 "nbformat_minor": 4
}
