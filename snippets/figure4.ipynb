{
 "cells": [
  {
   "cell_type": "markdown",
   "metadata": {},
   "source": [
    "## Import libs, set paths and load params"
   ]
  },
  {
   "cell_type": "code",
   "execution_count": 62,
   "metadata": {},
   "outputs": [],
   "source": [
    "import os\n",
    "import numpy as np\n",
    "import pandas as pd\n",
    "import sys\n",
    "sys.path.insert(0, \"../src\")\n",
    "import auxilary_functions as f\n",
    "import subprocess\n",
    "import csv\n",
    "\n",
    "networks = ['gnw','fflatt']\n",
    "organisms = ['ecoli','yeast','mouse','human']\n",
    "ffl_percentages = ['0.374', '0.270', '0.315', '0.347']\n",
    "sizes = ['100','250','500']\n",
    "n_trials = 1\n",
    "\n",
    "os.chdir('../networks')\n",
    "gnwdir = '/home/erik/sweden/sonnhammer/gnw/'\n",
    "fflattdir = '../snippets/'"
   ]
  },
  {
   "cell_type": "code",
   "execution_count": 63,
   "metadata": {},
   "outputs": [
    {
     "name": "stdout",
     "output_type": "stream",
     "text": [
      "/home/erik/sweden/sonnhammer/GeneSnake/generation/network_generation_algo/networks\n"
     ]
    }
   ],
   "source": [
    "print(os.getcwd())"
   ]
  },
  {
   "cell_type": "code",
   "execution_count": 64,
   "metadata": {},
   "outputs": [
    {
     "name": "stdout",
     "output_type": "stream",
     "text": [
      "making dirs...\n",
      "running fflatt...\n",
      "making dirs...\n",
      "running fflatt...\n",
      "making dirs...\n",
      "running fflatt...\n"
     ]
    }
   ],
   "source": [
    "#collect data\n",
    "\n",
    "for network in networks:\n",
    "    for number, organism in enumerate(organisms):\n",
    "        for size in sizes:\n",
    "            \n",
    "            #create networks if don't exist\n",
    "            if not os.path.exists(os.path.abspath(os.path.join(os.getcwd(), network, organism, size))):\n",
    "                \n",
    "                try:\n",
    "                    print('making dirs...')\n",
    "                    os.mkdir(os.path.abspath(os.path.join(os.getcwd(), network, organism, size)))\n",
    "                        \n",
    "                except FileExistsError:\n",
    "                    pass\n",
    "                \n",
    "                if network == 'gnw':\n",
    "                    \n",
    "                    print('running gnw...')\n",
    "                    subprocess.call(['java', '-jar', gnwdir+'gnw-3.1.2b.jar', '--extract', '--input-net',\\\n",
    "                         gnwdir+'sandbox/ecoli_transcriptional_network_regulonDB_6_7.tsv',\\\n",
    "                        '--random-seed', '--greedy-selection', '--subnet-size='+str(size),\\\n",
    "                        '--num-subnets='+str(n_trials), '--output-net-format=0', '--keep-self-interactions',\\\n",
    "                        '-c', 'sandbox/settings.txt', '--output-path',\\\n",
    "                        str(os.path.join(os.getcwd(), network, organism, size))])\n",
    "                    \n",
    "                else:\n",
    "                    print('running fflatt...')\n",
    "                    #python3 test.py 103 0.4 test_networks/\n",
    "                    subprocess.call(['python3', fflattdir+'test.py', size, ffl_percentages[number],\\\n",
    "                        str(n_trials), str(os.path.join(os.getcwd(), network, organism, size))])\n",
    "            \n",
    "            #collect data otherwise\n",
    "        \n",
    "                    \n",
    "    "
   ]
  },
  {
   "cell_type": "code",
   "execution_count": 44,
   "metadata": {},
   "outputs": [
    {
     "name": "stdout",
     "output_type": "stream",
     "text": [
      "/home/erik/sweden/sonnhammer/gnw\n"
     ]
    }
   ],
   "source": [
    "# for size in sizes:\n",
    "#     if not os.path.exists(os.path.abspath(os.path.join(os.getcwd(), network))):\n",
    "#         os.mkdir(size)\n",
    "#     subprocess.call(['java', '-jar', gnwdir+'gnw-3.1.2b.jar', '--extract', '--input-net',\\\n",
    "#                  gnwdir+'sandbox/ecoli_transcriptional_network_regulonDB_6_7.tsv',\\\n",
    "#                 '--random-seed', '--greedy-selection', '--subnet-size=100',\\\n",
    "#                 '--num-subnets=10', '--output-net-format=0', '--keep-self-interactions',\\\n",
    "#                 '-c', 'sandbox/settings.txt', '--output-path', size])\n",
    "\n",
    "#java -jar gnw-3.1.2b.jar --extract --input-net sandbox/ecoli_transcriptional_network_regulonDB_6_7.tsv\n",
    "#--random-seed --greedy-selection --subnet-size=100 --num-subnets=3 --output-net-format=0\n",
    "#--keep-self-interactions -c sandbox/settings.txt --output-path test_networks/"
   ]
  },
  {
   "cell_type": "markdown",
   "metadata": {},
   "source": [
    "## Plot for E.coli"
   ]
  },
  {
   "cell_type": "code",
   "execution_count": null,
   "metadata": {},
   "outputs": [],
   "source": []
  },
  {
   "cell_type": "code",
   "execution_count": null,
   "metadata": {},
   "outputs": [],
   "source": []
  },
  {
   "cell_type": "markdown",
   "metadata": {},
   "source": [
    "## Plot for Yeast"
   ]
  },
  {
   "cell_type": "code",
   "execution_count": null,
   "metadata": {},
   "outputs": [],
   "source": []
  },
  {
   "cell_type": "code",
   "execution_count": null,
   "metadata": {},
   "outputs": [],
   "source": []
  },
  {
   "cell_type": "markdown",
   "metadata": {},
   "source": [
    "## Plot for Mouse"
   ]
  },
  {
   "cell_type": "code",
   "execution_count": null,
   "metadata": {},
   "outputs": [],
   "source": []
  },
  {
   "cell_type": "code",
   "execution_count": null,
   "metadata": {},
   "outputs": [],
   "source": []
  },
  {
   "cell_type": "markdown",
   "metadata": {},
   "source": [
    "## Plot for Human"
   ]
  },
  {
   "cell_type": "code",
   "execution_count": null,
   "metadata": {},
   "outputs": [],
   "source": []
  }
 ],
 "metadata": {
  "kernelspec": {
   "display_name": "Python 3",
   "language": "python",
   "name": "python3"
  },
  "language_info": {
   "codemirror_mode": {
    "name": "ipython",
    "version": 3
   },
   "file_extension": ".py",
   "mimetype": "text/x-python",
   "name": "python",
   "nbconvert_exporter": "python",
   "pygments_lexer": "ipython3",
   "version": "3.7.10"
  }
 },
 "nbformat": 4,
 "nbformat_minor": 4
}
